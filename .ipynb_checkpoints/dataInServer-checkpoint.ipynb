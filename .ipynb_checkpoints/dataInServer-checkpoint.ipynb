{
 "metadata": {
  "name": "",
  "signature": "sha256:8848f7b6f1a8e252054ba56451c87d109258297bec34922b3afb09db40b94315"
 },
 "nbformat": 3,
 "nbformat_minor": 0,
 "worksheets": [
  {
   "cells": [
    {
     "cell_type": "code",
     "collapsed": false,
     "input": [
      "import paramiko\n",
      "import matplotlib.pyplot as plt\n",
      "import numpy as np"
     ],
     "language": "python",
     "metadata": {},
     "outputs": [],
     "prompt_number": 64
    },
    {
     "cell_type": "code",
     "collapsed": false,
     "input": [
      "ssh = paramiko.SSHClient()\n",
      "# automatically add keys without requiring human intervention\n",
      "ssh.set_missing_host_key_policy( paramiko.AutoAddPolicy() )\n",
      "ssh.connect('193.134.218.36', username='smartroot', password='dexterDEXTER0')"
     ],
     "language": "python",
     "metadata": {},
     "outputs": [],
     "prompt_number": 11
    },
    {
     "cell_type": "code",
     "collapsed": false,
     "input": [
      "stdin, stdout, stderr = ssh.exec_command('cd smartdays/server/uploads; ls')\n",
      "\n",
      "phones = [p[:-1] for p in stdout.readlines()]\n",
      "#print phones\n",
      "\n",
      "all_file_names = []\n",
      "all_file_sizes = []\n",
      "base_command = 'cd smartdays/server/uploads'\n",
      "for dir_name in phones:\n",
      "    print 'Reading ', dir_name\n",
      "    stdin, stdout, stderr = ssh.exec_command(base_command + '/'+ dir_name + '; du *')\n",
      "    size_name = stdout.readlines();\n",
      "    this_sizes = [f.split('\\t')[0] for f in size_name]\n",
      "    this_names = [f.split('\\t')[1][:-1] for f in size_name]\n",
      "    all_file_names.append(this_names)\n",
      "    all_file_sizes.append(this_sizes)\n",
      "\n",
      "ssh.close()\n"
     ],
     "language": "python",
     "metadata": {},
     "outputs": [
      {
       "output_type": "stream",
       "stream": "stdout",
       "text": [
        "Reading  20b2af98477dc7a1\n",
        "Reading  223d8f34240c67e0\n",
        "Reading "
       ]
      },
      {
       "output_type": "stream",
       "stream": "stdout",
       "text": [
        " 2383a1b45e10ecb\n",
        "Reading "
       ]
      },
      {
       "output_type": "stream",
       "stream": "stdout",
       "text": [
        " 2e9baa3fe8702ce3\n",
        "Reading "
       ]
      },
      {
       "output_type": "stream",
       "stream": "stdout",
       "text": [
        " 33756e3de8d6690e\n",
        "Reading "
       ]
      },
      {
       "output_type": "stream",
       "stream": "stdout",
       "text": [
        " 34e5d517866b1004\n",
        "Reading "
       ]
      },
      {
       "output_type": "stream",
       "stream": "stdout",
       "text": [
        " 3648602b30e40667\n",
        "Reading "
       ]
      },
      {
       "output_type": "stream",
       "stream": "stdout",
       "text": [
        " 46f5942fc61e93dc\n",
        "Reading "
       ]
      },
      {
       "output_type": "stream",
       "stream": "stdout",
       "text": [
        " 4a45a037e6a87209\n",
        "Reading "
       ]
      },
      {
       "output_type": "stream",
       "stream": "stdout",
       "text": [
        " 4e4fc28417eadb49\n",
        "Reading "
       ]
      },
      {
       "output_type": "stream",
       "stream": "stdout",
       "text": [
        " 53dc7f6c9f0fc792\n",
        "Reading "
       ]
      },
      {
       "output_type": "stream",
       "stream": "stdout",
       "text": [
        " 54f7691a26745bd7\n",
        "Reading "
       ]
      },
      {
       "output_type": "stream",
       "stream": "stdout",
       "text": [
        " 5ad2bee3997bcc4d\n",
        "Reading "
       ]
      },
      {
       "output_type": "stream",
       "stream": "stdout",
       "text": [
        " 5dc70d535b0bb4c5\n",
        "Reading "
       ]
      },
      {
       "output_type": "stream",
       "stream": "stdout",
       "text": [
        " 5dcdd302b589c29f\n",
        "Reading "
       ]
      },
      {
       "output_type": "stream",
       "stream": "stdout",
       "text": [
        " 6223dcc05d2e6655\n",
        "Reading "
       ]
      },
      {
       "output_type": "stream",
       "stream": "stdout",
       "text": [
        " 744f72ff4619656\n",
        "Reading "
       ]
      },
      {
       "output_type": "stream",
       "stream": "stdout",
       "text": [
        " 7b759a73bea25f22\n",
        "Reading "
       ]
      },
      {
       "output_type": "stream",
       "stream": "stdout",
       "text": [
        " 7c6e750cb40f101\n",
        "Reading "
       ]
      },
      {
       "output_type": "stream",
       "stream": "stdout",
       "text": [
        " 7dca35734822aba2\n",
        "Reading "
       ]
      },
      {
       "output_type": "stream",
       "stream": "stdout",
       "text": [
        " 88566682409f1025\n",
        "Reading "
       ]
      },
      {
       "output_type": "stream",
       "stream": "stdout",
       "text": [
        " 8f9d1996453656e4\n",
        "Reading "
       ]
      },
      {
       "output_type": "stream",
       "stream": "stdout",
       "text": [
        " 9d2179107a964559\n",
        "Reading "
       ]
      },
      {
       "output_type": "stream",
       "stream": "stdout",
       "text": [
        " a111f6616d3cb84b\n",
        "Reading "
       ]
      },
      {
       "output_type": "stream",
       "stream": "stdout",
       "text": [
        " a700acdc9a75594b\n",
        "Reading "
       ]
      },
      {
       "output_type": "stream",
       "stream": "stdout",
       "text": [
        " a8e4aa083f07b360\n",
        "Reading "
       ]
      },
      {
       "output_type": "stream",
       "stream": "stdout",
       "text": [
        " bd56c867677d8070\n",
        "Reading "
       ]
      },
      {
       "output_type": "stream",
       "stream": "stdout",
       "text": [
        " bd7c8eac8758138e\n",
        "Reading "
       ]
      },
      {
       "output_type": "stream",
       "stream": "stdout",
       "text": [
        " c0d45390285e2da\n",
        "Reading "
       ]
      },
      {
       "output_type": "stream",
       "stream": "stdout",
       "text": [
        " c9b4c0dec0ad97f6\n",
        "Reading "
       ]
      },
      {
       "output_type": "stream",
       "stream": "stdout",
       "text": [
        " d1b8e2fc6b082745\n",
        "Reading "
       ]
      },
      {
       "output_type": "stream",
       "stream": "stdout",
       "text": [
        " d1b9564bc3b4584\n",
        "Reading "
       ]
      },
      {
       "output_type": "stream",
       "stream": "stdout",
       "text": [
        " e1c2ab45f1dbab82\n",
        "Reading "
       ]
      },
      {
       "output_type": "stream",
       "stream": "stdout",
       "text": [
        " e958028a51db1978\n",
        "Reading "
       ]
      },
      {
       "output_type": "stream",
       "stream": "stdout",
       "text": [
        " ec542176a4a5e5bd\n",
        "Reading "
       ]
      },
      {
       "output_type": "stream",
       "stream": "stdout",
       "text": [
        " ed1fc89e636f2f49\n",
        "Reading "
       ]
      },
      {
       "output_type": "stream",
       "stream": "stdout",
       "text": [
        " f74615faaa14ed72\n",
        "Reading  fb6ee421ea820e32\n"
       ]
      }
     ],
     "prompt_number": 43
    },
    {
     "cell_type": "code",
     "collapsed": false,
     "input": [
      "file_counter= [len(f) for f in all_file_names]\n",
      "\n",
      "x = np.arange(len(file_counter))\n",
      "plt.bar(x, file_counter)\n",
      "plt.ylabel('Number of files')\n",
      "plt.title('User statistics')\n",
      "plt.xticks(x + 0.6, phones, rotation = 'vertical')\n",
      "fig = plt.gcf()\n",
      "fig.subplots_adjust(bottom=0.3)\n",
      "plt.show()"
     ],
     "language": "python",
     "metadata": {},
     "outputs": [],
     "prompt_number": 75
    },
    {
     "cell_type": "code",
     "collapsed": false,
     "input": [
      "file_size = [sum([int(size) for size in file_sizes]) for file_sizes in all_file_sizes]\n",
      "\n",
      "x = np.arange(len(file_size))\n",
      "plt.bar(x, file_size)\n",
      "plt.ylabel('Size of files [Bytes]')\n",
      "plt.title('User statistics')\n",
      "plt.xticks(x + 0.6, phones, rotation = 'vertical')\n",
      "fig = plt.gcf()\n",
      "fig.subplots_adjust(bottom=0.3)\n",
      "plt.show()"
     ],
     "language": "python",
     "metadata": {},
     "outputs": [],
     "prompt_number": 86
    },
    {
     "cell_type": "code",
     "collapsed": false,
     "input": [],
     "language": "python",
     "metadata": {},
     "outputs": []
    }
   ],
   "metadata": {}
  }
 ]
}