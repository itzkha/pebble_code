{
 "metadata": {
  "name": "",
  "signature": "sha256:ca0d5b062da6c983147b9474f533892e999f0042967b1d8019ad05d64c7e0872"
 },
 "nbformat": 3,
 "nbformat_minor": 0,
 "worksheets": [
  {
   "cells": [
    {
     "cell_type": "code",
     "collapsed": false,
     "input": [
      "import pandas as pd\n",
      "\n",
      "print \"pandas version : \", pd.__version__\n",
      "\n",
      "series = pd.to_datetime([1426374000000, 1426415697429], unit='ms').tz_localize('UTC').tz_convert('Europe/Berlin')\n",
      "print '-- Printing series --'\n",
      "print series\n",
      "df = pd.DataFrame(series)\n",
      "print '-- Printing df --'\n",
      "print df\n",
      "print '-- Printing df.values --'\n",
      "print df.values"
     ],
     "language": "python",
     "metadata": {},
     "outputs": [
      {
       "output_type": "stream",
       "stream": "stdout",
       "text": [
        "pandas version :  0.16.0\n",
        "-- Printing series --\n",
        "<class 'pandas.tseries.index.DatetimeIndex'>\n",
        "[2015-03-15 00:00:00+01:00, 2015-03-15 11:34:57.429000+01:00]\n",
        "Length: 2, Freq: None, Timezone: Europe/Berlin\n",
        "-- Printing df --\n",
        "                           0\n",
        "0        2015-03-14 23:00:00\n",
        "1 2015-03-15 10:34:57.429000\n",
        "-- Printing df.values --\n",
        "[['2015-03-15T00:00:00.000000000+0100']\n",
        " ['2015-03-15T11:34:57.429000000+0100']]\n"
       ]
      }
     ],
     "prompt_number": 1
    }
   ],
   "metadata": {}
  }
 ]
}