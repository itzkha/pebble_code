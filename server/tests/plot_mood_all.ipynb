{
 "metadata": {
  "name": "",
  "signature": "sha256:dd38e3998a6bcd513904db1c71ffa626e75013ed8250fcfb2f18a74f60365563"
 },
 "nbformat": 3,
 "nbformat_minor": 0,
 "worksheets": [
  {
   "cells": [
    {
     "cell_type": "code",
     "collapsed": false,
     "input": [
      "%matplotlib inline\n",
      "import matplotlib.pyplot as plt\n",
      "import matplotlib.cm as cm\n",
      "import numpy as np\n",
      "import normalizing_tools as tools\n",
      "import os\n",
      "import datetime\n",
      "import pandas as pd\n",
      "\n",
      "#users = os.listdir('/media/hector/DATA/articleMoodZackData/')\n",
      "users = os.listdir(\"/media/hector/LaCie/backup/articleMoodZackData/\")"
     ],
     "language": "python",
     "metadata": {},
     "outputs": [],
     "prompt_number": 1
    },
    {
     "cell_type": "code",
     "collapsed": false,
     "input": [
      "#read all the files\n",
      "mood_all_users = {}\n",
      "for this_user in users:\n",
      "    print \"processing \", this_user\n",
      "    mood_all = tools.read_user_mood(this_user)\n",
      "    if len(mood_all) > 0:\n",
      "        if len(mood_all[\"label\"].value_counts()) > 1:\n",
      "            mood_all_users[this_user] = mood_all"
     ],
     "language": "python",
     "metadata": {},
     "outputs": [
      {
       "output_type": "stream",
       "stream": "stdout",
       "text": [
        "processing  5dcdd302b589c29f\n",
        "---> reading  mood_5dcdd302b589c29f_20150202151336.csv\n",
        "---> reading  mood_5dcdd302b589c29f_20150202151532.csv\n",
        "---> reading  mood_5dcdd302b589c29f_20150202153051.csv\n",
        "---> reading  mood_5dcdd302b589c29f_20150202183102.csv\n",
        "---> reading  mood_5dcdd302b589c29f_20150202183225.csv\n",
        "---> reading  mood_5dcdd302b589c29f_20150202183934.csv\n",
        "---> reading  mood_5dcdd302b589c29f_20150204124926.csv\n",
        "---> reading "
       ]
      },
      {
       "output_type": "stream",
       "stream": "stdout",
       "text": [
        " mood_5dcdd302b589c29f_20150205101238.csv\n",
        "---> reading  mood_5dcdd302b589c29f_20150206075636.csv\n",
        "---> reading "
       ]
      },
      {
       "output_type": "stream",
       "stream": "stdout",
       "text": [
        " mood_5dcdd302b589c29f_20150209151601.csv\n",
        "---> reading  mood_5dcdd302b589c29f_20150209153555.csv\n",
        "---> reading  mood_5dcdd302b589c29f_20150210082717.csv\n",
        "---> reading "
       ]
      },
      {
       "output_type": "stream",
       "stream": "stdout",
       "text": [
        " mood_5dcdd302b589c29f_20150211090427.csv\n",
        "---> reading  mood_5dcdd302b589c29f_20150211090447.csv\n",
        "---> reading "
       ]
      },
      {
       "output_type": "stream",
       "stream": "stdout",
       "text": [
        " mood_5dcdd302b589c29f_20150212091715.csv\n",
        "---> reading "
       ]
      },
      {
       "output_type": "stream",
       "stream": "stdout",
       "text": [
        " mood_5dcdd302b589c29f_20150213080331.csv\n",
        "---> reading  mood_5dcdd302b589c29f_20150223095537.csv\n",
        "---> reading "
       ]
      },
      {
       "output_type": "stream",
       "stream": "stdout",
       "text": [
        " mood_5dcdd302b589c29f_20150223105221.csv\n",
        "---> reading  mood_5dcdd302b589c29f_20150223105239.csv\n",
        "---> reading  mood_5dcdd302b589c29f_20150223110455.csv\n",
        "---> reading  mood_5dcdd302b589c29f_20150223111437.csv\n",
        "---> reading  mood_5dcdd302b589c29f_20150224131419.csv\n",
        "---> reading  mood_5dcdd302b589c29f_20150225230044.csv\n",
        "---> reading  mood_5dcdd302b589c29f_20150225230833.csv\n",
        "---> reading "
       ]
      },
      {
       "output_type": "stream",
       "stream": "stdout",
       "text": [
        " mood_5dcdd302b589c29f_20150225234043.csv\n",
        "---> reading  mood_5dcdd302b589c29f_20150226112643.csv\n",
        "---> reading  mood_5dcdd302b589c29f_20150226114016.csv\n",
        "---> reading  mood_5dcdd302b589c29f_20150226141311.csv\n",
        "---> reading  mood_5dcdd302b589c29f_20150226143753.csv\n",
        "---> reading "
       ]
      },
      {
       "output_type": "stream",
       "stream": "stdout",
       "text": [
        " mood_5dcdd302b589c29f_20150226150906.csv\n",
        "---> reading  mood_5dcdd302b589c29f_20150226151357.csv\n",
        "---> reading  mood_5dcdd302b589c29f_20150226151745.csv\n",
        "---> reading  mood_5dcdd302b589c29f_20150226152224.csv\n",
        "---> reading  mood_5dcdd302b589c29f_20150226155758.csv\n",
        "---> reading  mood_5dcdd302b589c29f_20150227071046.csv\n",
        "---> reading "
       ]
      },
      {
       "output_type": "stream",
       "stream": "stdout",
       "text": [
        " mood_5dcdd302b589c29f_20150227080302.csv\n",
        "ignoring mood_5dcdd302b589c29f_20150227080302.csv (empty)\n",
        "---> reading  mood_5dcdd302b589c29f_20150227101925.csv\n",
        "ignoring mood_5dcdd302b589c29f_20150227101925.csv (empty)\n",
        "---> reading  mood_5dcdd302b589c29f_20150227102556.csv\n",
        "ignoring mood_5dcdd302b589c29f_20150227102556.csv (empty)\n",
        "---> reading  mood_5dcdd302b589c29f_20150227125757.csv\n",
        "ignoring mood_5dcdd302b589c29f_20150227125757.csv (empty)\n",
        "---> reading  mood_5dcdd302b589c29f_20150227130825.csv\n",
        "ignoring mood_5dcdd302b589c29f_20150227130825.csv (empty)\n",
        "---> reading  mood_5dcdd302b589c29f_20150227203613.csv\n",
        "ignoring mood_5dcdd302b589c29f_20150227203613.csv (empty)\n",
        "---> reading  mood_5dcdd302b589c29f_20150227203906.csv\n",
        "ignoring mood_5dcdd302b589c29f_20150227203906.csv (empty)\n",
        "---> reading  mood_5dcdd302b589c29f_20150227204343.csv\n",
        "ignoring mood_5dcdd302b589c29f_20150227204343.csv (empty)\n",
        "---> reading  mood_5dcdd302b589c29f_20150302104442.csv\n",
        "---> reading  mood_5dcdd302b589c29f_20150305092602.csv\n",
        "ignoring mood_5dcdd302b589c29f_20150305092602.csv (empty)\n",
        "---> reading  mood_5dcdd302b589c29f_20150305093908.csv\n",
        "ignoring mood_5dcdd302b589c29f_20150305093908.csv (empty)\n",
        "---> reading  mood_5dcdd302b589c29f_20150305154118.csv\n",
        "ignoring mood_5dcdd302b589c29f_20150305154118.csv (empty)\n",
        "---> reading  mood_5dcdd302b589c29f_20150305154200.csv\n",
        "ignoring mood_5dcdd302b589c29f_20150305154200.csv (empty)\n",
        "---> reading  mood_5dcdd302b589c29f_20150305154713.csv\n",
        "ignoring mood_5dcdd302b589c29f_20150305154713.csv (empty)\n",
        "---> reading  mood_5dcdd302b589c29f_20150305181253.csv\n",
        "ignoring mood_5dcdd302b589c29f_20150305181253.csv (empty)\n",
        "---> reading  mood_5dcdd302b589c29f_20150305184752.csv\n",
        "ignoring mood_5dcdd302b589c29f_20150305184752.csv (empty)\n",
        "---> reading  mood_5dcdd302b589c29f_20150305185316.csv\n",
        "ignoring mood_5dcdd302b589c29f_20150305185316.csv (empty)\n",
        "---> reading  mood_5dcdd302b589c29f_20150305190529.csv\n",
        "ignoring mood_5dcdd302b589c29f_20150305190529.csv (empty)"
       ]
      },
      {
       "output_type": "stream",
       "stream": "stdout",
       "text": [
        "\n",
        "---> reading  mood_5dcdd302b589c29f_20150305190806.csv\n",
        "ignoring mood_5dcdd302b589c29f_20150305190806.csv (empty)\n",
        "---> reading  mood_5dcdd302b589c29f_20150306113218.csv\n",
        "ignoring mood_5dcdd302b589c29f_20150306113218.csv (empty)\n",
        "---> reading  mood_5dcdd302b589c29f_20150306113951.csv\n",
        "ignoring mood_5dcdd302b589c29f_20150306113951.csv (empty)\n",
        "---> reading  mood_5dcdd302b589c29f_20150306114319.csv\n",
        "ignoring mood_5dcdd302b589c29f_20150306114319.csv (empty)\n",
        "---> reading  mood_5dcdd302b589c29f_20150306125725.csv\n",
        "ignoring mood_5dcdd302b589c29f_20150306125725.csv (empty)\n",
        "---> reading  mood_5dcdd302b589c29f_20150306125909.csv\n",
        "ignoring mood_5dcdd302b589c29f_20150306125909.csv (empty)\n",
        "---> reading  mood_5dcdd302b589c29f_20150306130156.csv\n",
        "ignoring mood_5dcdd302b589c29f_20150306130156.csv (empty)\n",
        "---> reading  mood_5dcdd302b589c29f_20150306132211.csv\n",
        "ignoring mood_5dcdd302b589c29f_20150306132211.csv (empty)\n",
        "---> reading  mood_5dcdd302b589c29f_20150306132416.csv\n",
        "ignoring mood_5dcdd302b589c29f_20150306132416.csv (empty)\n",
        "---> reading  mood_5dcdd302b589c29f_20150306132951.csv\n",
        "ignoring mood_5dcdd302b589c29f_20150306132951.csv (empty)\n",
        "---> reading  mood_5dcdd302b589c29f_20150306134039.csv\n",
        "ignoring mood_5dcdd302b589c29f_20150306134039.csv (empty)\n",
        "---> reading  mood_5dcdd302b589c29f_20150306134900.csv\n",
        "ignoring mood_5dcdd302b589c29f_20150306134900.csv (empty)\n",
        "---> reading  mood_5dcdd302b589c29f_20150306135032.csv\n",
        "ignoring mood_5dcdd302b589c29f_20150306135032.csv (empty)\n",
        "---> reading  mood_5dcdd302b589c29f_20150306135131.csv\n",
        "ignoring mood_5dcdd302b589c29f_20150306135131.csv (empty)\n",
        "---> reading  mood_5dcdd302b589c29f_20150306135504.csv\n",
        "ignoring mood_5dcdd302b589c29f_20150306135504.csv (empty)\n",
        "---> reading  mood_5dcdd302b589c29f_20150306135632.csv\n",
        "ignoring mood_5dcdd302b589c29f_20150306135632.csv (empty)\n",
        "---> reading  mood_5dcdd302b589c29f_20150306135654.csv\n",
        "ignoring mood_5dcdd302b589c29f_20150306135654.csv (empty)\n",
        "---> reading  mood_5dcdd302b589c29f_20150306135906.csv\n",
        "ignoring mood_5dcdd302b589c29f_20150306135906.csv (empty)\n",
        "---> reading  mood_5dcdd302b589c29f_20150306185637.csv\n",
        "ignoring mood_5dcdd302b589c29f_20150306185637.csv (empty)\n",
        "---> reading  mood_5dcdd302b589c29f_20150306193227.csv\n",
        "ignoring mood_5dcdd302b589c29f_20150306193227.csv (empty)\n",
        "---> reading  mood_5dcdd302b589c29f_20150306193626.csv\n",
        "ignoring mood_5dcdd302b589c29f_20150306193626.csv (empty)\n",
        "---> reading  mood_5dcdd302b589c29f_20150306194855.csv\n",
        "ignoring mood_5dcdd302b589c29f_20150306194855.csv (empty)\n",
        "---> reading  mood_5dcdd302b589c29f_20150306195251.csv\n",
        "ignoring mood_5dcdd302b589c29f_20150306195251.csv (empty)\n",
        "---> reading  mood_5dcdd302b589c29f_20150306235804.csv\n",
        "---> reading  mood_5dcdd302b589c29f_20150306235959.csv\n",
        "ignoring mood_5dcdd302b589c29f_20150306235959.csv (empty)\n",
        "---> reading  mood_5dcdd302b589c29f_20150307000005.csv\n",
        "ignoring mood_5dcdd302b589c29f_20150307000005.csv (empty)\n",
        "---> reading  mood_5dcdd302b589c29f_20150307235845.csv\n",
        "---> reading  mood_5dcdd302b589c29f_20150308000037.csv\n",
        "ignoring mood_5dcdd302b589c29f_20150308000037.csv (empty)\n",
        "---> reading  mood_5dcdd302b589c29f_20150308000040.csv\n",
        "ignoring mood_5dcdd302b589c29f_20150308000040.csv (empty)\n",
        "---> reading  mood_5dcdd302b589c29f_20150308235804.csv\n",
        "---> reading  mood_5dcdd302b589c29f_20150309000001.csv\n",
        "ignoring mood_5dcdd302b589c29f_20150309000001.csv (empty)\n",
        "---> reading  mood_5dcdd302b589c29f_20150309000007.csv\n",
        "ignoring mood_5dcdd302b589c29f_20150309000007.csv (empty)\n",
        "---> reading  mood_5dcdd302b589c29f_20150309092937.csv\n",
        "ignoring mood_5dcdd302b589c29f_20150309092937.csv (empty)\n",
        "---> reading  mood_5dcdd302b589c29f_20150309094332.csv\n",
        "ignoring mood_5dcdd302b589c29f_20150309094332.csv (empty)\n",
        "---> reading  mood_5dcdd302b589c29f_20150309094409.csv\n",
        "ignoring mood_5dcdd302b589c29f_20150309094409.csv (empty)\n",
        "---> reading  mood_5dcdd302b589c29f_20150309101627.csv\n",
        "ignoring mood_5dcdd302b589c29f_20150309101627.csv (empty)\n",
        "---> reading  mood_5dcdd302b589c29f_20150309102422.csv\n",
        "ignoring mood_5dcdd302b589c29f_20150309102422.csv (empty)\n",
        "---> reading  mood_5dcdd302b589c29f_20150309104755.csv\n",
        "ignoring mood_5dcdd302b589c29f_20150309104755.csv (empty)\n",
        "---> reading  mood_5dcdd302b589c29f_20150309121211.csv\n",
        "ignoring mood_5dcdd302b589c29f_20150309121211.csv (empty)\n",
        "---> reading  mood_5dcdd302b589c29f_20150309140103.csv\n",
        "ignoring mood_5dcdd302b589c29f_20150309140103.csv (empty)\n",
        "---> reading  mood_5dcdd302b589c29f_20150309141050.csv\n",
        "ignoring mood_5dcdd302b589c29f_20150309141050.csv (empty)\n",
        "---> reading  mood_5dcdd302b589c29f_20150309142549.csv\n",
        "ignoring mood_5dcdd302b589c29f_20150309142549.csv (empty)\n",
        "---> reading  mood_5dcdd302b589c29f_20150309180559.csv\n",
        "ignoring mood_5dcdd302b589c29f_20150309180559.csv (empty)\n",
        "---> reading  mood_5dcdd302b589c29f_20150309183533.csv\n",
        "ignoring mood_5dcdd302b589c29f_20150309183533.csv (empty)\n",
        "---> reading  mood_5dcdd302b589c29f_20150309183829.csv\n",
        "ignoring mood_5dcdd302b589c29f_20150309183829.csv (empty)\n",
        "---> reading  mood_5dcdd302b589c29f_20150309185039.csv\n",
        "ignoring mood_5dcdd302b589c29f_20150309185039.csv (empty)\n",
        "---> reading  mood_5dcdd302b589c29f_20150309185758.csv\n",
        "ignoring mood_5dcdd302b589c29f_20150309185758.csv (empty)\n",
        "---> reading  mood_5dcdd302b589c29f_20150309190801.csv\n",
        "ignoring mood_5dcdd302b589c29f_20150309190801.csv (empty)\n",
        "---> reading  mood_5dcdd302b589c29f_20150309190805.csv\n",
        "ignoring mood_5dcdd302b589c29f_20150309190805.csv (empty)\n",
        "---> reading  mood_5dcdd302b589c29f_20150309190933.csv\n",
        "ignoring mood_5dcdd302b589c29f_20150309190933.csv (empty)\n",
        "---> reading  mood_5dcdd302b589c29f_20150309191314.csv\n",
        "ignoring mood_5dcdd302b589c29f_20150309191314.csv (empty)\n",
        "---> reading  mood_5dcdd302b589c29f_20150309191407.csv\n",
        "ignoring mood_5dcdd302b589c29f_20150309191407.csv (empty)\n",
        "---> reading  mood_5dcdd302b589c29f_20150309191915.csv\n",
        "ignoring mood_5dcdd302b589c29f_20150309191915.csv (empty)\n",
        "---> reading  mood_5dcdd302b589c29f_20150309235828.csv\n",
        "---> reading "
       ]
      },
      {
       "output_type": "stream",
       "stream": "stdout",
       "text": [
        " mood_5dcdd302b589c29f_20150310000005.csv\n",
        "ignoring mood_5dcdd302b589c29f_20150310000005.csv (empty)\n",
        "---> reading  mood_5dcdd302b589c29f_20150310100654.csv\n",
        "---> reading  mood_5dcdd302b589c29f_20150310134500.csv\n",
        "---> reading  mood_5dcdd302b589c29f_20150311095316.csv\n",
        "ignoring mood_5dcdd302b589c29f_20150311095316.csv (empty)\n",
        "---> reading  mood_5dcdd302b589c29f_20150311101825.csv\n",
        "---> reading "
       ]
      },
      {
       "output_type": "stream",
       "stream": "stdout",
       "text": [
        " mood_5dcdd302b589c29f_20150311235929.csv\n",
        "ignoring mood_5dcdd302b589c29f_20150311235929.csv (empty)\n",
        "---> reading  mood_5dcdd302b589c29f_20150311235936.csv\n",
        "ignoring mood_5dcdd302b589c29f_20150311235936.csv (empty)\n",
        "---> reading  mood_5dcdd302b589c29f_20150312000001.csv\n",
        "---> reading  mood_5dcdd302b589c29f_20150312235803.csv\n",
        "ignoring mood_5dcdd302b589c29f_20150312235803.csv (empty)\n",
        "---> reading  mood_5dcdd302b589c29f_20150313000001.csv\n",
        "---> reading "
       ]
      },
      {
       "output_type": "stream",
       "stream": "stdout",
       "text": [
        " mood_5dcdd302b589c29f_20150313143209.csv\n",
        "---> reading  mood_5dcdd302b589c29f_20150205111213.csv\n",
        "---> reading "
       ]
      },
      {
       "output_type": "stream",
       "stream": "stdout",
       "text": [
        " mood_5dcdd302b589c29f_20150223110422.csv\n",
        "---> reading  mood_5dcdd302b589c29f_20150226150938.csv\n",
        "---> reading  mood_5dcdd302b589c29f_20150227203619.csv\n",
        "ignoring mood_5dcdd302b589c29f_20150227203619.csv (empty)\n",
        "---> reading  mood_5dcdd302b589c29f_20150305190223.csv\n",
        "ignoring mood_5dcdd302b589c29f_20150305190223.csv (empty)\n",
        "---> reading  mood_5dcdd302b589c29f_20150306133340.csv\n",
        "ignoring mood_5dcdd302b589c29f_20150306133340.csv (empty)\n",
        "---> reading  mood_5dcdd302b589c29f_20150306194328.csv\n",
        "ignoring mood_5dcdd302b589c29f_20150306194328.csv (empty)\n",
        "---> reading  mood_5dcdd302b589c29f_20150309091412.csv\n",
        "ignoring mood_5dcdd302b589c29f_20150309091412.csv (empty)\n",
        "---> reading  mood_5dcdd302b589c29f_20150309183519.csv\n",
        "ignoring mood_5dcdd302b589c29f_20150309183519.csv (empty)\n",
        "---> reading  mood_5dcdd302b589c29f_20150310000001.csv\n",
        "ignoring mood_5dcdd302b589c29f_20150310000001.csv (empty)\n",
        "---> reading  mood_5dcdd302b589c29f_20150313235902.csv\n",
        "ignoring mood_5dcdd302b589c29f_20150313235902.csv (empty)\n",
        "---> reading  mood_5dcdd302b589c29f_20150313235909.csv\n",
        "ignoring mood_5dcdd302b589c29f_20150313235909.csv (empty)\n",
        "---> reading  mood_5dcdd302b589c29f_20150314000001.csv\n",
        "ignoring mood_5dcdd302b589c29f_20150314000001.csv (empty)\n",
        "---> reading  mood_5dcdd302b589c29f_20150314110123.csv\n",
        "---> reading  mood_5dcdd302b589c29f_20150314235829.csv\n",
        "ignoring mood_5dcdd302b589c29f_20150314235829.csv (empty)\n",
        "---> reading  mood_5dcdd302b589c29f_20150315000001.csv\n",
        "ignoring mood_5dcdd302b589c29f_20150315000001.csv (empty)\n",
        "---> reading  mood_5dcdd302b589c29f_20150315085956.csv\n",
        "---> reading "
       ]
      },
      {
       "output_type": "stream",
       "stream": "stdout",
       "text": [
        " mood_5dcdd302b589c29f_20150316000001.csv\n",
        "---> reading "
       ]
      },
      {
       "output_type": "stream",
       "stream": "stdout",
       "text": [
        " mood_5dcdd302b589c29f_20150317000001.csv\n",
        "---> reading  mood_5dcdd302b589c29f_20150317121556.csv\n",
        "---> reading "
       ]
      },
      {
       "output_type": "stream",
       "stream": "stdout",
       "text": [
        " mood_5dcdd302b589c29f_20150318000001.csv\n",
        "---> reading "
       ]
      },
      {
       "output_type": "stream",
       "stream": "stdout",
       "text": [
        " mood_5dcdd302b589c29f_20150319000002.csv\n",
        "---> reading  mood_5dcdd302b589c29f_20150320192632.csv\n",
        "ignoring mood_5dcdd302b589c29f_20150320192632.csv (empty)\n",
        "---> reading  mood_5dcdd302b589c29f_20150320192802.csv\n",
        "ignoring mood_5dcdd302b589c29f_20150320192802.csv (empty)\n",
        "---> reading  mood_5dcdd302b589c29f_20150323145333.csv\n",
        "ignoring mood_5dcdd302b589c29f_20150323145333.csv (empty)\n",
        "---> reading  mood_5dcdd302b589c29f_20150323145736.csv\n",
        "ignoring mood_5dcdd302b589c29f_20150323145736.csv (empty)\n",
        "---> reading  mood_5dcdd302b589c29f_20150323150111.csv\n",
        "---> reading "
       ]
      },
      {
       "output_type": "stream",
       "stream": "stdout",
       "text": [
        " mood_5dcdd302b589c29f_20150324000000.csv\n",
        "---> reading  mood_5dcdd302b589c29f_20150325024815.csv\n",
        "---> reading  mood_5dcdd302b589c29f_20150320075316.csv\n",
        "processing "
       ]
      },
      {
       "output_type": "stream",
       "stream": "stdout",
       "text": [
        " 166f7d7db35c8996\n",
        "---> reading  mood_166f7d7db35c8996_20150318112950.csv\n",
        "ignoring mood_166f7d7db35c8996_20150318112950.csv (empty)\n",
        "processing  20b2af98477dc7a1\n",
        "---> reading  mood_20b2af98477dc7a1_20150314110327.csv\n",
        "ignoring mood_20b2af98477dc7a1_20150314110327.csv (empty)\n",
        "---> reading  mood_20b2af98477dc7a1_20150314110404.csv\n",
        "ignoring mood_20b2af98477dc7a1_20150314110404.csv (empty)\n",
        "processing  223d8f34240c67e0\n",
        "---> reading  mood_223d8f34240c67e0_20150310155916.csv\n",
        "---> reading "
       ]
      },
      {
       "output_type": "stream",
       "stream": "stdout",
       "text": [
        " mood_223d8f34240c67e0_20150311085050.csv\n",
        "---> reading "
       ]
      },
      {
       "output_type": "stream",
       "stream": "stdout",
       "text": [
        " mood_223d8f34240c67e0_20150312094507.csv\n",
        "---> reading "
       ]
      },
      {
       "output_type": "stream",
       "stream": "stdout",
       "text": [
        " mood_223d8f34240c67e0_20150313000001.csv\n",
        "ignoring mood_223d8f34240c67e0_20150313000001.csv (empty)\n",
        "---> reading  mood_223d8f34240c67e0_20150313073843.csv\n",
        "---> reading "
       ]
      },
      {
       "output_type": "stream",
       "stream": "stdout",
       "text": [
        " mood_223d8f34240c67e0_20150314125640.csv\n",
        "---> reading "
       ]
      },
      {
       "output_type": "stream",
       "stream": "stdout",
       "text": [
        " mood_223d8f34240c67e0_20150315000001.csv\n",
        "ignoring mood_223d8f34240c67e0_20150315000001.csv (empty)\n",
        "---> reading  mood_223d8f34240c67e0_20150316114619.csv\n",
        "---> reading  mood_223d8f34240c67e0_20150317092352.csv\n",
        "---> reading "
       ]
      },
      {
       "output_type": "stream",
       "stream": "stdout",
       "text": [
        " mood_223d8f34240c67e0_20150318085616.csv\n",
        "---> reading "
       ]
      },
      {
       "output_type": "stream",
       "stream": "stdout",
       "text": [
        " mood_223d8f34240c67e0_20150319082646.csv\n",
        "---> reading "
       ]
      },
      {
       "output_type": "stream",
       "stream": "stdout",
       "text": [
        " mood_223d8f34240c67e0_20150320084257.csv\n",
        "processing "
       ]
      },
      {
       "output_type": "stream",
       "stream": "stdout",
       "text": [
        " 2383a1b45e10ecb\n",
        "---> reading  mood_2383a1b45e10ecb_20150313215512.csv\n",
        "processing  2e9baa3fe8702ce3\n",
        "---> reading  mood_2e9baa3fe8702ce3_20150311110021.csv\n",
        "---> reading "
       ]
      },
      {
       "output_type": "stream",
       "stream": "stdout",
       "text": [
        " mood_2e9baa3fe8702ce3_20150312061705.csv\n",
        "---> reading  mood_2e9baa3fe8702ce3_20150312064029.csv\n",
        "ignoring mood_2e9baa3fe8702ce3_20150312064029.csv (empty)\n",
        "---> reading  mood_2e9baa3fe8702ce3_20150312073036.csv\n",
        "---> reading  mood_2e9baa3fe8702ce3_20150312074545.csv\n",
        "---> reading "
       ]
      },
      {
       "output_type": "stream",
       "stream": "stdout",
       "text": [
        " mood_2e9baa3fe8702ce3_20150316072917.csv\n",
        "---> reading "
       ]
      },
      {
       "output_type": "stream",
       "stream": "stdout",
       "text": [
        " mood_2e9baa3fe8702ce3_20150317070756.csv\n",
        "---> reading "
       ]
      },
      {
       "output_type": "stream",
       "stream": "stdout",
       "text": [
        " mood_2e9baa3fe8702ce3_20150318062718.csv\n",
        "---> reading "
       ]
      },
      {
       "output_type": "stream",
       "stream": "stdout",
       "text": [
        " mood_2e9baa3fe8702ce3_20150313161015.csv\n",
        "processing  31061254ad3d5d39\n",
        "---> reading  mood_31061254ad3d5d39_20150319211113.csv\n",
        "ignoring mood_31061254ad3d5d39_20150319211113.csv (empty)"
       ]
      },
      {
       "output_type": "stream",
       "stream": "stdout",
       "text": [
        "\n",
        "---> reading  mood_31061254ad3d5d39_20150320000001.csv\n",
        "ignoring mood_31061254ad3d5d39_20150320000001.csv (empty)\n",
        "---> reading  mood_31061254ad3d5d39_20150321000002.csv\n",
        "ignoring mood_31061254ad3d5d39_20150321000002.csv (empty)\n",
        "---> reading  mood_31061254ad3d5d39_20150322000114.csv\n",
        "ignoring mood_31061254ad3d5d39_20150322000114.csv (empty)\n",
        "---> reading  mood_31061254ad3d5d39_20150323000203.csv\n",
        "ignoring mood_31061254ad3d5d39_20150323000203.csv (empty)\n",
        "---> reading  mood_31061254ad3d5d39_20150324000203.csv\n",
        "ignoring mood_31061254ad3d5d39_20150324000203.csv (empty)\n",
        "processing  33756e3de8d6690e\n",
        "---> reading  mood_33756e3de8d6690e_20150311230118.csv\n",
        "ignoring mood_33756e3de8d6690e_20150311230118.csv (empty)\n",
        "---> reading  mood_33756e3de8d6690e_20150311230244.csv\n",
        "ignoring mood_33756e3de8d6690e_20150311230244.csv (empty)\n",
        "processing  34e5d517866b1004\n",
        "---> reading  mood_34e5d517866b1004_20150303153447.csv\n",
        "ignoring mood_34e5d517866b1004_20150303153447.csv (empty)\n",
        "---> reading  mood_34e5d517866b1004_20150303153911.csv\n",
        "---> reading  mood_34e5d517866b1004_20150303165145.csv\n",
        "---> reading "
       ]
      },
      {
       "output_type": "stream",
       "stream": "stdout",
       "text": [
        " mood_34e5d517866b1004_20150303170024.csv\n",
        "---> reading  mood_34e5d517866b1004_20150303215138.csv\n",
        "---> reading  mood_34e5d517866b1004_20150303231018.csv\n",
        "ignoring mood_34e5d517866b1004_20150303231018.csv (empty)\n",
        "---> reading  mood_34e5d517866b1004_20150303235959.csv\n",
        "ignoring mood_34e5d517866b1004_20150303235959.csv (empty)\n",
        "---> reading  mood_34e5d517866b1004_20150304000000.csv\n",
        "ignoring mood_34e5d517866b1004_20150304000000.csv (empty)\n",
        "---> reading  mood_34e5d517866b1004_20150304070347.csv\n",
        "---> reading "
       ]
      },
      {
       "output_type": "stream",
       "stream": "stdout",
       "text": [
        " mood_34e5d517866b1004_20150310112708.csv\n",
        "---> reading  mood_34e5d517866b1004_20150311094607.csv\n",
        "---> reading "
       ]
      },
      {
       "output_type": "stream",
       "stream": "stdout",
       "text": [
        " mood_34e5d517866b1004_20150313141505.csv\n",
        "---> reading  mood_34e5d517866b1004_20150316071040.csv\n",
        "---> reading "
       ]
      },
      {
       "output_type": "stream",
       "stream": "stdout",
       "text": [
        " mood_34e5d517866b1004_20150317131924.csv\n",
        "---> reading  mood_34e5d517866b1004_20150318070652.csv\n",
        "processing "
       ]
      },
      {
       "output_type": "stream",
       "stream": "stdout",
       "text": [
        " 3648602b30e40667\n",
        "---> reading  mood_3648602b30e40667_20150310145130.csv\n",
        "---> reading "
       ]
      },
      {
       "output_type": "stream",
       "stream": "stdout",
       "text": [
        " mood_3648602b30e40667_20150310204325.csv\n",
        "---> reading  mood_3648602b30e40667_20150311000001.csv\n",
        "ignoring mood_3648602b30e40667_20150311000001.csv (empty)\n",
        "---> reading  mood_3648602b30e40667_20150311134250.csv\n",
        "processing  46f5942fc61e93dc\n",
        "---> reading  mood_46f5942fc61e93dc_20150311135019.csv\n",
        "ignoring mood_46f5942fc61e93dc_20150311135019.csv (empty)\n",
        "---> reading  mood_46f5942fc61e93dc_20150311135027.csv\n",
        "ignoring mood_46f5942fc61e93dc_20150311135027.csv (empty)\n",
        "processing  4a45a037e6a87209\n",
        "---> reading  mood_4a45a037e6a87209_20150311200328.csv\n",
        "---> reading  mood_4a45a037e6a87209_20150311200556.csv\n",
        "ignoring mood_4a45a037e6a87209_20150311200556.csv (empty)\n",
        "processing  4e4fc28417eadb49\n",
        "---> reading "
       ]
      },
      {
       "output_type": "stream",
       "stream": "stdout",
       "text": [
        " mood_4e4fc28417eadb49_20150312211130.csv\n",
        "ignoring mood_4e4fc28417eadb49_20150312211130.csv (empty)\n",
        "---> reading  mood_4e4fc28417eadb49_20150312224342.csv\n",
        "ignoring mood_4e4fc28417eadb49_20150312224342.csv (empty)\n",
        "---> reading  mood_4e4fc28417eadb49_20150312224402.csv\n",
        "ignoring mood_4e4fc28417eadb49_20150312224402.csv (empty)\n",
        "---> reading  mood_4e4fc28417eadb49_20150312224416.csv\n",
        "ignoring mood_4e4fc28417eadb49_20150312224416.csv (empty)\n",
        "processing  53dc7f6c9f0fc792\n",
        "---> reading  mood_53dc7f6c9f0fc792_20150313112829.csv\n",
        "---> reading  mood_53dc7f6c9f0fc792_20150314000034.csv\n",
        "ignoring mood_53dc7f6c9f0fc792_20150314000034.csv (empty)\n",
        "processing  54f7691a26745bd7\n",
        "---> reading  mood_54f7691a26745bd7_20150210100103.csv\n",
        "---> reading  mood_54f7691a26745bd7_20150302115840.csv\n",
        "---> reading "
       ]
      },
      {
       "output_type": "stream",
       "stream": "stdout",
       "text": [
        " mood_54f7691a26745bd7_20150309000007.csv\n",
        "ignoring mood_54f7691a26745bd7_20150309000007.csv (empty)\n",
        "---> reading  mood_54f7691a26745bd7_20150302235959.csv\n",
        "---> reading  mood_54f7691a26745bd7_20150303000023.csv\n",
        "---> reading  mood_54f7691a26745bd7_20150303073856.csv\n",
        "---> reading  mood_54f7691a26745bd7_20150303120105.csv\n",
        "---> reading  mood_54f7691a26745bd7_20150306235807.csv\n",
        "ignoring mood_54f7691a26745bd7_20150306235807.csv (empty)\n",
        "---> reading  mood_54f7691a26745bd7_20150306235959.csv\n",
        "ignoring mood_54f7691a26745bd7_20150306235959.csv (empty)\n",
        "---> reading  mood_54f7691a26745bd7_20150307000000.csv\n",
        "ignoring mood_54f7691a26745bd7_20150307000000.csv (empty)\n",
        "---> reading  mood_54f7691a26745bd7_20150307235915.csv\n",
        "ignoring mood_54f7691a26745bd7_20150307235915.csv (empty)\n",
        "---> reading  mood_54f7691a26745bd7_20150307235959.csv\n",
        "ignoring mood_54f7691a26745bd7_20150307235959.csv (empty)\n",
        "---> reading  mood_54f7691a26745bd7_20150308235904.csv\n",
        "---> reading  mood_54f7691a26745bd7_20150308235959.csv\n",
        "ignoring mood_54f7691a26745bd7_20150308235959.csv (empty)\n",
        "---> reading  mood_54f7691a26745bd7_20150309235803.csv\n",
        "---> reading  mood_54f7691a26745bd7_20150309235959.csv\n",
        "ignoring mood_54f7691a26745bd7_20150309235959.csv (empty)\n",
        "---> reading  mood_54f7691a26745bd7_20150310000145.csv\n",
        "ignoring mood_54f7691a26745bd7_20150310000145.csv (empty)\n",
        "processing  5ad2bee3997bcc4d\n",
        "---> reading  mood_5ad2bee3997bcc4d_20150310071904.csv\n",
        "processing "
       ]
      },
      {
       "output_type": "stream",
       "stream": "stdout",
       "text": [
        " 5dc70d535b0bb4c5\n",
        "---> reading  mood_5dc70d535b0bb4c5_20150310162634.csv\n",
        "ignoring mood_5dc70d535b0bb4c5_20150310162634.csv (empty)\n",
        "---> reading  mood_5dc70d535b0bb4c5_20150310162831.csv\n",
        "---> reading  mood_5dc70d535b0bb4c5_20150310163928.csv\n",
        "---> reading  mood_5dc70d535b0bb4c5_20150310220434.csv\n",
        "ignoring mood_5dc70d535b0bb4c5_20150310220434.csv (empty)\n",
        "---> reading  mood_5dc70d535b0bb4c5_20150311100057.csv\n",
        "ignoring mood_5dc70d535b0bb4c5_20150311100057.csv (empty)\n",
        "---> reading  mood_5dc70d535b0bb4c5_20150311103236.csv\n",
        "---> reading "
       ]
      },
      {
       "output_type": "stream",
       "stream": "stdout",
       "text": [
        " mood_5dc70d535b0bb4c5_20150313115304.csv\n",
        "---> reading  mood_5dc70d535b0bb4c5_20150314000004.csv\n",
        "ignoring mood_5dc70d535b0bb4c5_20150314000004.csv (empty)\n",
        "---> reading  mood_5dc70d535b0bb4c5_20150314133900.csv\n",
        "---> reading  mood_5dc70d535b0bb4c5_20150315000001.csv\n",
        "---> reading "
       ]
      },
      {
       "output_type": "stream",
       "stream": "stdout",
       "text": [
        " mood_5dc70d535b0bb4c5_20150316095945.csv\n",
        "---> reading  mood_5dc70d535b0bb4c5_20150317105539.csv\n",
        "ignoring mood_5dc70d535b0bb4c5_20150317105539.csv (empty)\n",
        "---> reading  mood_5dc70d535b0bb4c5_20150317114400.csv\n",
        "---> reading "
       ]
      },
      {
       "output_type": "stream",
       "stream": "stdout",
       "text": [
        " mood_5dc70d535b0bb4c5_20150318114334.csv\n",
        "ignoring mood_5dc70d535b0bb4c5_20150318114334.csv (empty)\n",
        "---> reading  mood_5dc70d535b0bb4c5_20150318124432.csv\n",
        "---> reading  mood_5dc70d535b0bb4c5_20150320100505.csv\n",
        "processing "
       ]
      },
      {
       "output_type": "stream",
       "stream": "stdout",
       "text": [
        " 6223dcc05d2e6655\n",
        "---> reading  mood_6223dcc05d2e6655_20150311080136.csv\n",
        "---> reading  mood_6223dcc05d2e6655_20150311220516.csv\n",
        "ignoring mood_6223dcc05d2e6655_20150311220516.csv (empty)\n",
        "---> reading  mood_6223dcc05d2e6655_20150312092800.csv\n",
        "---> reading  mood_6223dcc05d2e6655_20150312184005.csv\n",
        "ignoring mood_6223dcc05d2e6655_20150312184005.csv (empty)\n",
        "---> reading  mood_6223dcc05d2e6655_20150312231002.csv\n",
        "ignoring mood_6223dcc05d2e6655_20150312231002.csv (empty)\n",
        "---> reading  mood_6223dcc05d2e6655_20150313000002.csv\n",
        "ignoring mood_6223dcc05d2e6655_20150313000002.csv (empty)\n",
        "---> reading  mood_6223dcc05d2e6655_20150313075601.csv\n",
        "---> reading  mood_6223dcc05d2e6655_20150313121413.csv\n",
        "ignoring mood_6223dcc05d2e6655_20150313121413.csv (empty)\n",
        "---> reading  mood_6223dcc05d2e6655_20150313122219.csv\n",
        "ignoring mood_6223dcc05d2e6655_20150313122219.csv (empty)\n",
        "---> reading  mood_6223dcc05d2e6655_20150313130903.csv\n",
        "---> reading "
       ]
      },
      {
       "output_type": "stream",
       "stream": "stdout",
       "text": [
        " mood_6223dcc05d2e6655_20150316091527.csv\n",
        "---> reading  mood_6223dcc05d2e6655_20150316115750.csv\n",
        "ignoring mood_6223dcc05d2e6655_20150316115750.csv (empty)\n",
        "---> reading  mood_6223dcc05d2e6655_20150316124602.csv\n",
        "ignoring mood_6223dcc05d2e6655_20150316124602.csv (empty)\n",
        "---> reading  mood_6223dcc05d2e6655_20150316131232.csv\n",
        "---> reading  mood_6223dcc05d2e6655_20150317110102.csv\n",
        "ignoring mood_6223dcc05d2e6655_20150317110102.csv (empty)\n",
        "---> reading  mood_6223dcc05d2e6655_20150317145535.csv\n",
        "ignoring mood_6223dcc05d2e6655_20150317145535.csv (empty)\n",
        "---> reading  mood_6223dcc05d2e6655_20150317162921.csv\n",
        "---> reading  mood_6223dcc05d2e6655_20150317175752.csv\n",
        "ignoring mood_6223dcc05d2e6655_20150317175752.csv (empty)\n",
        "---> reading  mood_6223dcc05d2e6655_20150318085019.csv\n",
        "---> reading  mood_6223dcc05d2e6655_20150318124907.csv\n",
        "ignoring mood_6223dcc05d2e6655_20150318124907.csv (empty)\n",
        "---> reading  mood_6223dcc05d2e6655_20150318132422.csv\n",
        "ignoring mood_6223dcc05d2e6655_20150318132422.csv (empty)\n",
        "---> reading  mood_6223dcc05d2e6655_20150310160149.csv\n",
        "---> reading "
       ]
      },
      {
       "output_type": "stream",
       "stream": "stdout",
       "text": [
        " mood_6223dcc05d2e6655_20150310141931.csv\n",
        "ignoring mood_6223dcc05d2e6655_20150310141931.csv (empty)\n",
        "processing  744f72ff4619656\n",
        "---> reading  mood_744f72ff4619656_20150313153443.csv\n",
        "ignoring mood_744f72ff4619656_20150313153443.csv (empty)\n",
        "processing  7b759a73bea25f22\n",
        "---> reading  mood_7b759a73bea25f22_20150313181243.csv\n",
        "ignoring mood_7b759a73bea25f22_20150313181243.csv (empty)\n",
        "processing  7c6e750cb40f101\n",
        "---> reading  mood_7c6e750cb40f101_20150310194014.csv\n",
        "ignoring mood_7c6e750cb40f101_20150310194014.csv (empty)\n",
        "processing  7dca35734822aba2\n",
        "---> reading  mood_7dca35734822aba2_20150310154034.csv\n",
        "---> reading  mood_7dca35734822aba2_20150315113443.csv\n",
        "---> reading "
       ]
      },
      {
       "output_type": "stream",
       "stream": "stdout",
       "text": [
        " mood_7dca35734822aba2_20150321023144.csv\n",
        "ignoring mood_7dca35734822aba2_20150321023144.csv (empty)\n",
        "---> reading  mood_7dca35734822aba2_20150310153315.csv\n",
        "ignoring mood_7dca35734822aba2_20150310153315.csv (empty)\n",
        "---> reading  mood_7dca35734822aba2_20150310153541.csv\n",
        "ignoring mood_7dca35734822aba2_20150310153541.csv (empty)\n",
        "---> reading  mood_7dca35734822aba2_20150310155452.csv\n",
        "---> reading  mood_7dca35734822aba2_20150311000001.csv\n",
        "ignoring mood_7dca35734822aba2_20150311000001.csv (empty)\n",
        "---> reading  mood_7dca35734822aba2_20150311001138.csv\n",
        "---> reading "
       ]
      },
      {
       "output_type": "stream",
       "stream": "stdout",
       "text": [
        " mood_7dca35734822aba2_20150311103656.csv\n",
        "---> reading  mood_7dca35734822aba2_20150312084014.csv\n",
        "---> reading "
       ]
      },
      {
       "output_type": "stream",
       "stream": "stdout",
       "text": [
        " mood_7dca35734822aba2_20150313083343.csv\n",
        "---> reading  mood_7dca35734822aba2_20150313095001.csv\n",
        "---> reading "
       ]
      },
      {
       "output_type": "stream",
       "stream": "stdout",
       "text": [
        " mood_7dca35734822aba2_20150314052119.csv\n",
        "---> reading "
       ]
      },
      {
       "output_type": "stream",
       "stream": "stdout",
       "text": [
        " mood_7dca35734822aba2_20150314193037.csv\n",
        "---> reading  mood_7dca35734822aba2_20150315000100.csv\n",
        "ignoring mood_7dca35734822aba2_20150315000100.csv (empty)\n",
        "---> reading  mood_7dca35734822aba2_20150315002845.csv\n",
        "---> reading "
       ]
      },
      {
       "output_type": "stream",
       "stream": "stdout",
       "text": [
        " mood_7dca35734822aba2_20150316000003.csv\n",
        "---> reading  mood_7dca35734822aba2_20150316095045.csv\n",
        "---> reading "
       ]
      },
      {
       "output_type": "stream",
       "stream": "stdout",
       "text": [
        " mood_7dca35734822aba2_20150316230850.csv\n",
        "ignoring mood_7dca35734822aba2_20150316230850.csv (empty)\n",
        "---> reading  mood_7dca35734822aba2_20150317094059.csv\n",
        "---> reading "
       ]
      },
      {
       "output_type": "stream",
       "stream": "stdout",
       "text": [
        " mood_7dca35734822aba2_20150318093808.csv\n",
        "---> reading "
       ]
      },
      {
       "output_type": "stream",
       "stream": "stdout",
       "text": [
        " mood_7dca35734822aba2_20150319082720.csv\n",
        "---> reading  mood_7dca35734822aba2_20150319091057.csv\n",
        "ignoring mood_7dca35734822aba2_20150319091057.csv (empty)\n",
        "---> reading  mood_7dca35734822aba2_20150319111547.csv\n",
        "---> reading "
       ]
      },
      {
       "output_type": "stream",
       "stream": "stdout",
       "text": [
        " mood_7dca35734822aba2_20150320074607.csv\n",
        "---> reading  mood_7dca35734822aba2_20150320084206.csv\n",
        "---> reading "
       ]
      },
      {
       "output_type": "stream",
       "stream": "stdout",
       "text": [
        " mood_7dca35734822aba2_20150321000001.csv\n",
        "---> reading  mood_7dca35734822aba2_20150321083631.csv\n",
        "---> reading "
       ]
      },
      {
       "output_type": "stream",
       "stream": "stdout",
       "text": [
        " mood_7dca35734822aba2_20150324132406.csv\n",
        "---> reading "
       ]
      },
      {
       "output_type": "stream",
       "stream": "stdout",
       "text": [
        " mood_7dca35734822aba2_20150325085425.csv\n",
        "---> reading  mood_7dca35734822aba2_20150325105204.csv\n",
        "ignoring mood_7dca35734822aba2_20150325105204.csv (empty)\n",
        "processing  88566682409f1025\n",
        "---> reading  mood_88566682409f1025_20150310131359.csv\n",
        "---> reading "
       ]
      },
      {
       "output_type": "stream",
       "stream": "stdout",
       "text": [
        " mood_88566682409f1025_20150311063450.csv\n",
        "---> reading  mood_88566682409f1025_20150312100923.csv\n",
        "---> reading "
       ]
      },
      {
       "output_type": "stream",
       "stream": "stdout",
       "text": [
        " mood_88566682409f1025_20150313000001.csv\n",
        "ignoring mood_88566682409f1025_20150313000001.csv (empty)\n",
        "processing  8f9d1996453656e4\n",
        "---> reading  mood_8f9d1996453656e4_20150316152211.csv\n",
        "---> reading  mood_8f9d1996453656e4_20150317071310.csv\n",
        "ignoring mood_8f9d1996453656e4_20150317071310.csv (empty)\n",
        "---> reading  mood_8f9d1996453656e4_20150311185350.csv\n",
        "---> reading  mood_8f9d1996453656e4_20150312091941.csv\n",
        "---> reading  mood_8f9d1996453656e4_20150313075753.csv\n",
        "---> reading "
       ]
      },
      {
       "output_type": "stream",
       "stream": "stdout",
       "text": [
        " mood_8f9d1996453656e4_20150314000001.csv\n",
        "---> reading  mood_8f9d1996453656e4_20150315000001.csv\n",
        "ignoring mood_8f9d1996453656e4_20150315000001.csv (empty)\n",
        "---> reading  mood_8f9d1996453656e4_20150315001757.csv\n",
        "ignoring mood_8f9d1996453656e4_20150315001757.csv (empty)\n",
        "---> reading  mood_8f9d1996453656e4_20150315001850.csv\n",
        "ignoring mood_8f9d1996453656e4_20150315001850.csv (empty)\n",
        "---> reading  mood_8f9d1996453656e4_20150315134713.csv\n",
        "ignoring mood_8f9d1996453656e4_20150315134713.csv (empty)\n",
        "---> reading  mood_8f9d1996453656e4_20150315135008.csv\n",
        "---> reading "
       ]
      },
      {
       "output_type": "stream",
       "stream": "stdout",
       "text": [
        " mood_8f9d1996453656e4_20150316073634.csv\n",
        "---> reading  mood_8f9d1996453656e4_20150316164424.csv\n",
        "ignoring mood_8f9d1996453656e4_20150316164424.csv (empty)\n",
        "---> reading  mood_8f9d1996453656e4_20150316164524.csv\n",
        "ignoring mood_8f9d1996453656e4_20150316164524.csv (empty)\n",
        "---> reading  mood_8f9d1996453656e4_20150316165050.csv\n",
        "ignoring mood_8f9d1996453656e4_20150316165050.csv (empty)\n",
        "---> reading  mood_8f9d1996453656e4_20150316165500.csv\n",
        "ignoring mood_8f9d1996453656e4_20150316165500.csv (empty)\n",
        "---> reading  mood_8f9d1996453656e4_20150316171828.csv\n",
        "---> reading  mood_8f9d1996453656e4_20150316212522.csv\n",
        "ignoring mood_8f9d1996453656e4_20150316212522.csv (empty)\n",
        "---> reading  mood_8f9d1996453656e4_20150316213406.csv\n",
        "ignoring mood_8f9d1996453656e4_20150316213406.csv (empty)\n",
        "---> reading  mood_8f9d1996453656e4_20150316234141.csv\n",
        "ignoring mood_8f9d1996453656e4_20150316234141.csv (empty)\n",
        "---> reading  mood_8f9d1996453656e4_20150317000053.csv\n",
        "ignoring mood_8f9d1996453656e4_20150317000053.csv (empty)\n",
        "---> reading  mood_8f9d1996453656e4_20150317000135.csv\n",
        "ignoring mood_8f9d1996453656e4_20150317000135.csv (empty)\n",
        "---> reading  mood_8f9d1996453656e4_20150317000241.csv\n",
        "ignoring mood_8f9d1996453656e4_20150317000241.csv (empty)"
       ]
      },
      {
       "output_type": "stream",
       "stream": "stdout",
       "text": [
        "\n",
        "---> reading  mood_8f9d1996453656e4_20150317071436.csv\n",
        "ignoring mood_8f9d1996453656e4_20150317071436.csv (empty)\n",
        "---> reading  mood_8f9d1996453656e4_20150317071937.csv\n",
        "ignoring mood_8f9d1996453656e4_20150317071937.csv (empty)\n",
        "---> reading  mood_8f9d1996453656e4_20150317072414.csv\n",
        "ignoring mood_8f9d1996453656e4_20150317072414.csv (empty)\n",
        "---> reading  mood_8f9d1996453656e4_20150317072444.csv\n",
        "ignoring mood_8f9d1996453656e4_20150317072444.csv (empty)\n",
        "---> reading  mood_8f9d1996453656e4_20150320084754.csv\n",
        "---> reading "
       ]
      },
      {
       "output_type": "stream",
       "stream": "stdout",
       "text": [
        " mood_8f9d1996453656e4_20150320233738.csv\n",
        "ignoring mood_8f9d1996453656e4_20150320233738.csv (empty)\n",
        "---> reading  mood_8f9d1996453656e4_20150320234017.csv\n",
        "ignoring mood_8f9d1996453656e4_20150320234017.csv (empty)\n",
        "---> reading  mood_8f9d1996453656e4_20150321083323.csv\n",
        "processing  9d2179107a964559\n",
        "---> reading  mood_9d2179107a964559_20150302171320.csv\n",
        "---> reading  mood_9d2179107a964559_20150308071620.csv\n",
        "---> reading "
       ]
      },
      {
       "output_type": "stream",
       "stream": "stdout",
       "text": [
        " mood_9d2179107a964559_20150312063946.csv\n",
        "---> reading "
       ]
      },
      {
       "output_type": "stream",
       "stream": "stdout",
       "text": [
        " mood_9d2179107a964559_20150320064154.csv\n",
        "---> reading "
       ]
      },
      {
       "output_type": "stream",
       "stream": "stdout",
       "text": [
        " mood_9d2179107a964559_20150302171010.csv\n",
        "---> reading  mood_9d2179107a964559_20150302171441.csv\n",
        "---> reading  mood_9d2179107a964559_20150302171840.csv\n",
        "---> reading  mood_9d2179107a964559_20150302172103.csv\n",
        "---> reading  mood_9d2179107a964559_20150303064318.csv\n",
        "---> reading  mood_9d2179107a964559_20150303064351.csv\n",
        "---> reading "
       ]
      },
      {
       "output_type": "stream",
       "stream": "stdout",
       "text": [
        " mood_9d2179107a964559_20150304065309.csv\n",
        "---> reading  mood_9d2179107a964559_20150304065957.csv\n",
        "---> reading  mood_9d2179107a964559_20150304102440.csv\n",
        "---> reading  mood_9d2179107a964559_20150305064646.csv\n",
        "---> reading "
       ]
      },
      {
       "output_type": "stream",
       "stream": "stdout",
       "text": [
        " mood_9d2179107a964559_20150306060426.csv\n",
        "---> reading  mood_9d2179107a964559_20150307093330.csv\n",
        "---> reading "
       ]
      },
      {
       "output_type": "stream",
       "stream": "stdout",
       "text": [
        " mood_9d2179107a964559_20150309065033.csv\n",
        "ignoring mood_9d2179107a964559_20150309065033.csv (empty)\n",
        "---> reading  mood_9d2179107a964559_20150309065056.csv\n",
        "---> reading  mood_9d2179107a964559_20150309162437.csv\n",
        "ignoring mood_9d2179107a964559_20150309162437.csv (empty)\n",
        "---> reading  mood_9d2179107a964559_20150309162727.csv\n",
        "ignoring mood_9d2179107a964559_20150309162727.csv (empty)\n",
        "---> reading  mood_9d2179107a964559_20150309162936.csv\n",
        "---> reading  mood_9d2179107a964559_20150310063914.csv\n",
        "---> reading "
       ]
      },
      {
       "output_type": "stream",
       "stream": "stdout",
       "text": [
        " mood_9d2179107a964559_20150310072207.csv\n",
        "---> reading "
       ]
      },
      {
       "output_type": "stream",
       "stream": "stdout",
       "text": [
        " mood_9d2179107a964559_20150311000006.csv\n",
        "ignoring mood_9d2179107a964559_20150311000006.csv (empty)\n",
        "---> reading  mood_9d2179107a964559_20150311095650.csv\n",
        "---> reading  mood_9d2179107a964559_20150311102515.csv\n",
        "---> reading  mood_9d2179107a964559_20150311163841.csv\n",
        "---> reading "
       ]
      },
      {
       "output_type": "stream",
       "stream": "stdout",
       "text": [
        " mood_9d2179107a964559_20150313063944.csv\n",
        "---> reading  mood_9d2179107a964559_20150314000001.csv\n",
        "ignoring mood_9d2179107a964559_20150314000001.csv (empty)\n",
        "---> reading  mood_9d2179107a964559_20150314084130.csv\n",
        "---> reading "
       ]
      },
      {
       "output_type": "stream",
       "stream": "stdout",
       "text": [
        " mood_9d2179107a964559_20150314134417.csv\n",
        "---> reading  mood_9d2179107a964559_20150315000014.csv\n",
        "---> reading  mood_9d2179107a964559_20150315095351.csv\n",
        "---> reading "
       ]
      },
      {
       "output_type": "stream",
       "stream": "stdout",
       "text": [
        " mood_9d2179107a964559_20150316062909.csv\n",
        "---> reading  mood_9d2179107a964559_20150317064509.csv\n",
        "---> reading "
       ]
      },
      {
       "output_type": "stream",
       "stream": "stdout",
       "text": [
        " mood_9d2179107a964559_20150318064007.csv\n",
        "---> reading  mood_9d2179107a964559_20150318075700.csv\n",
        "---> reading "
       ]
      },
      {
       "output_type": "stream",
       "stream": "stdout",
       "text": [
        " mood_9d2179107a964559_20150319063229.csv\n",
        "---> reading  mood_9d2179107a964559_20150321065349.csv\n",
        "---> reading "
       ]
      },
      {
       "output_type": "stream",
       "stream": "stdout",
       "text": [
        " mood_9d2179107a964559_20150322093911.csv\n",
        "---> reading  mood_9d2179107a964559_20150323063822.csv\n",
        "processing "
       ]
      },
      {
       "output_type": "stream",
       "stream": "stdout",
       "text": [
        " a111f6616d3cb84b\n",
        "---> reading  mood_a111f6616d3cb84b_20150310181015.csv\n",
        "---> reading  mood_a111f6616d3cb84b_20150310181539.csv\n",
        "ignoring mood_a111f6616d3cb84b_20150310181539.csv (empty)\n",
        "processing  a700acdc9a75594b\n",
        "---> reading  mood_a700acdc9a75594b_20150311224750.csv\n",
        "processing  a8e4aa083f07b360\n",
        "---> reading  mood_a8e4aa083f07b360_20150303091421.csv\n",
        "---> reading  mood_a8e4aa083f07b360_20150304095247.csv\n",
        "---> reading "
       ]
      },
      {
       "output_type": "stream",
       "stream": "stdout",
       "text": [
        " mood_a8e4aa083f07b360_20150317113100.csv\n",
        "ignoring mood_a8e4aa083f07b360_20150317113100.csv (empty)\n",
        "---> reading  mood_a8e4aa083f07b360_20150123142424.csv\n",
        "---> reading  mood_a8e4aa083f07b360_20150302170901.csv\n",
        "---> reading  mood_a8e4aa083f07b360_20150302235226.csv\n",
        "---> reading  mood_a8e4aa083f07b360_20150303091411.csv\n",
        "---> reading "
       ]
      },
      {
       "output_type": "stream",
       "stream": "stdout",
       "text": [
        " mood_a8e4aa083f07b360_20150303095638.csv\n",
        "---> reading  mood_a8e4aa083f07b360_20150303115331.csv\n",
        "---> reading "
       ]
      },
      {
       "output_type": "stream",
       "stream": "stdout",
       "text": [
        " mood_a8e4aa083f07b360_20150303235959.csv\n",
        "---> reading  mood_a8e4aa083f07b360_20150304000006.csv\n",
        "---> reading  mood_a8e4aa083f07b360_20150304084648.csv\n",
        "---> reading  mood_a8e4aa083f07b360_20150304084924.csv\n",
        "---> reading  mood_a8e4aa083f07b360_20150304085021.csv\n",
        "---> reading  mood_a8e4aa083f07b360_20150304094120.csv\n",
        "---> reading "
       ]
      },
      {
       "output_type": "stream",
       "stream": "stdout",
       "text": [
        " mood_a8e4aa083f07b360_20150304095102.csv\n",
        "ignoring mood_a8e4aa083f07b360_20150304095102.csv (empty)\n",
        "---> reading  mood_a8e4aa083f07b360_20150304095127.csv\n",
        "ignoring mood_a8e4aa083f07b360_20150304095127.csv (empty)\n",
        "---> reading  mood_a8e4aa083f07b360_20150304095148.csv\n",
        "ignoring mood_a8e4aa083f07b360_20150304095148.csv (empty)\n",
        "---> reading  mood_a8e4aa083f07b360_20150305080642.csv\n",
        "---> reading  mood_a8e4aa083f07b360_20150305141601.csv\n",
        "---> reading "
       ]
      },
      {
       "output_type": "stream",
       "stream": "stdout",
       "text": [
        " mood_a8e4aa083f07b360_20150306084032.csv\n",
        "---> reading  mood_a8e4aa083f07b360_20150313105235.csv\n",
        "ignoring mood_a8e4aa083f07b360_20150313105235.csv (empty)\n",
        "---> reading  mood_a8e4aa083f07b360_20150313105440.csv\n",
        "---> reading "
       ]
      },
      {
       "output_type": "stream",
       "stream": "stdout",
       "text": [
        " mood_a8e4aa083f07b360_20150313185010.csv\n",
        "ignoring mood_a8e4aa083f07b360_20150313185010.csv (empty)\n",
        "---> reading  mood_a8e4aa083f07b360_20150313194456.csv\n",
        "ignoring mood_a8e4aa083f07b360_20150313194456.csv (empty)\n",
        "---> reading  mood_a8e4aa083f07b360_20150313194915.csv\n",
        "---> reading  mood_a8e4aa083f07b360_20150314101341.csv\n",
        "---> reading  mood_a8e4aa083f07b360_20150314232635.csv\n",
        "---> reading "
       ]
      },
      {
       "output_type": "stream",
       "stream": "stdout",
       "text": [
        " mood_a8e4aa083f07b360_20150317105529.csv\n",
        "---> reading  mood_a8e4aa083f07b360_20150317113121.csv\n",
        "ignoring mood_a8e4aa083f07b360_20150317113121.csv (empty)\n",
        "---> reading  mood_a8e4aa083f07b360_20150317113123.csv\n",
        "---> reading  mood_a8e4aa083f07b360_20150317190320.csv\n",
        "---> reading  mood_a8e4aa083f07b360_20150318084719.csv\n",
        "---> reading "
       ]
      },
      {
       "output_type": "stream",
       "stream": "stdout",
       "text": [
        " mood_a8e4aa083f07b360_20150319000001.csv\n",
        "---> reading  mood_a8e4aa083f07b360_20150319081414.csv\n",
        "---> reading  mood_a8e4aa083f07b360_20150320000001.csv\n",
        "ignoring mood_a8e4aa083f07b360_20150320000001.csv (empty)\n",
        "---> reading  mood_a8e4aa083f07b360_20150320104716.csv\n",
        "---> reading  mood_a8e4aa083f07b360_20150320105017.csv\n",
        "---> reading "
       ]
      },
      {
       "output_type": "stream",
       "stream": "stdout",
       "text": [
        " mood_a8e4aa083f07b360_20150320110319.csv\n",
        "---> reading  mood_a8e4aa083f07b360_20150320111439.csv\n",
        "processing  bd56c867677d8070\n",
        "---> reading  mood_bd56c867677d8070_20150313104405.csv\n",
        "ignoring mood_bd56c867677d8070_20150313104405.csv (empty)\n",
        "---> reading  mood_bd56c867677d8070_20150313104416.csv\n",
        "ignoring mood_bd56c867677d8070_20150313104416.csv (empty)\n",
        "processing  bd7c8eac8758138e\n",
        "---> reading  mood_bd7c8eac8758138e_20150312114423.csv\n",
        "ignoring mood_bd7c8eac8758138e_20150312114423.csv (empty)\n",
        "---> reading  mood_bd7c8eac8758138e_20150318114040.csv\n",
        "---> reading "
       ]
      },
      {
       "output_type": "stream",
       "stream": "stdout",
       "text": [
        " mood_bd7c8eac8758138e_20150311102200.csv\n",
        "ignoring mood_bd7c8eac8758138e_20150311102200.csv (empty)\n",
        "---> reading  mood_bd7c8eac8758138e_20150311102724.csv\n",
        "ignoring mood_bd7c8eac8758138e_20150311102724.csv (empty)\n",
        "---> reading  mood_bd7c8eac8758138e_20150311102742.csv\n",
        "---> reading  mood_bd7c8eac8758138e_20150311135915.csv\n",
        "---> reading "
       ]
      },
      {
       "output_type": "stream",
       "stream": "stdout",
       "text": [
        " mood_bd7c8eac8758138e_20150311153217.csv\n",
        "---> reading  mood_bd7c8eac8758138e_20150311162844.csv\n",
        "---> reading  mood_bd7c8eac8758138e_20150311174227.csv\n",
        "---> reading  mood_bd7c8eac8758138e_20150311185023.csv\n",
        "---> reading "
       ]
      },
      {
       "output_type": "stream",
       "stream": "stdout",
       "text": [
        " mood_bd7c8eac8758138e_20150311213630.csv\n",
        "---> reading  mood_bd7c8eac8758138e_20150312131246.csv\n",
        "---> reading  mood_bd7c8eac8758138e_20150312160505.csv\n",
        "---> reading "
       ]
      },
      {
       "output_type": "stream",
       "stream": "stdout",
       "text": [
        " mood_bd7c8eac8758138e_20150313094829.csv\n",
        "---> reading "
       ]
      },
      {
       "output_type": "stream",
       "stream": "stdout",
       "text": [
        " mood_bd7c8eac8758138e_20150314105209.csv\n",
        "---> reading "
       ]
      },
      {
       "output_type": "stream",
       "stream": "stdout",
       "text": [
        " mood_bd7c8eac8758138e_20150315123121.csv\n",
        "---> reading "
       ]
      },
      {
       "output_type": "stream",
       "stream": "stdout",
       "text": [
        " mood_bd7c8eac8758138e_20150316070846.csv\n",
        "---> reading  mood_bd7c8eac8758138e_20150316173504.csv\n",
        "---> reading "
       ]
      },
      {
       "output_type": "stream",
       "stream": "stdout",
       "text": [
        " mood_bd7c8eac8758138e_20150317092713.csv\n",
        "---> reading  mood_bd7c8eac8758138e_20150317092744.csv\n",
        "ignoring mood_bd7c8eac8758138e_20150317092744.csv (empty)\n",
        "---> reading  mood_bd7c8eac8758138e_20150317092905.csv\n",
        "---> reading  mood_bd7c8eac8758138e_20150317142424.csv\n",
        "---> reading "
       ]
      },
      {
       "output_type": "stream",
       "stream": "stdout",
       "text": [
        " mood_bd7c8eac8758138e_20150318135553.csv\n",
        "---> reading  mood_bd7c8eac8758138e_20150319082948.csv\n",
        "---> reading "
       ]
      },
      {
       "output_type": "stream",
       "stream": "stdout",
       "text": [
        " mood_bd7c8eac8758138e_20150320090039.csv\n",
        "---> reading  mood_bd7c8eac8758138e_20150321124720.csv\n",
        "---> reading "
       ]
      },
      {
       "output_type": "stream",
       "stream": "stdout",
       "text": [
        " mood_bd7c8eac8758138e_20150322111002.csv\n",
        "---> reading  mood_bd7c8eac8758138e_20150323073016.csv\n",
        "ignoring mood_bd7c8eac8758138e_20150323073016.csv (empty)\n",
        "---> reading  mood_bd7c8eac8758138e_20150323073036.csv\n",
        "---> reading "
       ]
      },
      {
       "output_type": "stream",
       "stream": "stdout",
       "text": [
        " mood_bd7c8eac8758138e_20150323182404.csv\n",
        "---> reading  mood_bd7c8eac8758138e_20150325081312.csv\n",
        "processing "
       ]
      },
      {
       "output_type": "stream",
       "stream": "stdout",
       "text": [
        " c0d45390285e2da\n",
        "---> reading  mood_c0d45390285e2da_20150302192340.csv\n",
        "---> reading  mood_c0d45390285e2da_20150302221127.csv\n",
        "---> reading  mood_c0d45390285e2da_20150302222957.csv\n",
        "ignoring mood_c0d45390285e2da_20150302222957.csv (empty)\n",
        "---> reading  mood_c0d45390285e2da_20150302224028.csv\n",
        "---> reading  mood_c0d45390285e2da_20150302235959.csv\n",
        "ignoring mood_c0d45390285e2da_20150302235959.csv (empty)"
       ]
      },
      {
       "output_type": "stream",
       "stream": "stdout",
       "text": [
        "\n",
        "---> reading  mood_c0d45390285e2da_20150303081901.csv\n",
        "---> reading "
       ]
      },
      {
       "output_type": "stream",
       "stream": "stdout",
       "text": [
        " mood_c0d45390285e2da_20150313134122.csv\n",
        "ignoring mood_c0d45390285e2da_20150313134122.csv (empty)\n",
        "---> reading  mood_c0d45390285e2da_20150313134312.csv\n",
        "ignoring mood_c0d45390285e2da_20150313134312.csv (empty)\n",
        "---> reading  mood_c0d45390285e2da_20150313135458.csv\n",
        "processing "
       ]
      },
      {
       "output_type": "stream",
       "stream": "stdout",
       "text": [
        " c9b4c0dec0ad97f6\n",
        "---> reading  mood_c9b4c0dec0ad97f6_20150311062252.csv\n",
        "ignoring mood_c9b4c0dec0ad97f6_20150311062252.csv (empty)\n",
        "processing  d1b8e2fc6b082745\n",
        "---> reading  mood_d1b8e2fc6b082745_20150314012825.csv\n",
        "ignoring mood_d1b8e2fc6b082745_20150314012825.csv (empty)\n",
        "processing  d1b9564bc3b4584\n",
        "---> reading  mood_d1b9564bc3b4584_20150314154858.csv\n",
        "ignoring mood_d1b9564bc3b4584_20150314154858.csv (empty)\n",
        "processing  e1c2ab45f1dbab82\n",
        "---> reading  mood_e1c2ab45f1dbab82_20150314003518.csv\n",
        "ignoring mood_e1c2ab45f1dbab82_20150314003518.csv (empty)\n",
        "processing  e958028a51db1978\n",
        "---> reading  mood_e958028a51db1978_20150312150802.csv\n",
        "ignoring mood_e958028a51db1978_20150312150802.csv (empty)\n",
        "processing  ec542176a4a5e5bd\n",
        "---> reading  mood_ec542176a4a5e5bd_20150313203016.csv\n",
        "ignoring mood_ec542176a4a5e5bd_20150313203016.csv (empty)\n",
        "processing  ed1fc89e636f2f49\n",
        "---> reading  mood_ed1fc89e636f2f49_20150216091150.csv\n",
        "---> reading  mood_ed1fc89e636f2f49_20150216091241.csv\n",
        "---> reading  mood_ed1fc89e636f2f49_20150216092248.csv\n",
        "---> reading  mood_ed1fc89e636f2f49_20150216092254.csv\n",
        "---> reading  mood_ed1fc89e636f2f49_20150216092308.csv\n",
        "---> reading  mood_ed1fc89e636f2f49_20150216101214.csv\n",
        "---> reading  mood_ed1fc89e636f2f49_20150216235959.csv\n",
        "---> reading "
       ]
      },
      {
       "output_type": "stream",
       "stream": "stdout",
       "text": [
        " mood_ed1fc89e636f2f49_20150217152537.csv\n",
        "---> reading  mood_ed1fc89e636f2f49_20150217152546.csv\n",
        "---> reading  mood_ed1fc89e636f2f49_20150217152632.csv\n",
        "---> reading  mood_ed1fc89e636f2f49_20150219165503.csv\n",
        "---> reading "
       ]
      },
      {
       "output_type": "stream",
       "stream": "stdout",
       "text": [
        " mood_ed1fc89e636f2f49_20150220153309.csv\n",
        "---> reading  mood_ed1fc89e636f2f49_20150220154344.csv\n",
        "---> reading "
       ]
      },
      {
       "output_type": "stream",
       "stream": "stdout",
       "text": [
        " mood_ed1fc89e636f2f49_20150220163427.csv\n",
        "---> reading  mood_ed1fc89e636f2f49_20150220235959.csv\n",
        "---> reading  mood_ed1fc89e636f2f49_20150221145848.csv\n",
        "---> reading "
       ]
      },
      {
       "output_type": "stream",
       "stream": "stdout",
       "text": [
        " mood_ed1fc89e636f2f49_20150223092801.csv\n",
        "---> reading  mood_ed1fc89e636f2f49_20150223095617.csv\n",
        "---> reading  mood_ed1fc89e636f2f49_20150223095720.csv\n",
        "---> reading  mood_ed1fc89e636f2f49_20150223100225.csv\n",
        "---> reading  mood_ed1fc89e636f2f49_20150223100238.csv\n",
        "---> reading "
       ]
      },
      {
       "output_type": "stream",
       "stream": "stdout",
       "text": [
        " mood_ed1fc89e636f2f49_20150223100325.csv\n",
        "---> reading  mood_ed1fc89e636f2f49_20150223100334.csv\n",
        "---> reading  mood_ed1fc89e636f2f49_20150223100452.csv\n",
        "---> reading  mood_ed1fc89e636f2f49_20150223100458.csv\n",
        "---> reading "
       ]
      },
      {
       "output_type": "stream",
       "stream": "stdout",
       "text": [
        " mood_ed1fc89e636f2f49_20150224000000.csv\n",
        "---> reading  mood_ed1fc89e636f2f49_20150224000001.csv\n",
        "---> reading  mood_ed1fc89e636f2f49_20150224095501.csv\n",
        "---> reading  mood_ed1fc89e636f2f49_20150224144727.csv\n",
        "---> reading  mood_ed1fc89e636f2f49_20150224151547.csv\n",
        "---> reading "
       ]
      },
      {
       "output_type": "stream",
       "stream": "stdout",
       "text": [
        " mood_ed1fc89e636f2f49_20150224173819.csv\n",
        "---> reading  mood_ed1fc89e636f2f49_20150224173826.csv\n",
        "---> reading  mood_ed1fc89e636f2f49_20150224173914.csv\n",
        "---> reading  mood_ed1fc89e636f2f49_20150224174058.csv\n",
        "---> reading "
       ]
      },
      {
       "output_type": "stream",
       "stream": "stdout",
       "text": [
        " mood_ed1fc89e636f2f49_20150224235959.csv\n",
        "---> reading  mood_ed1fc89e636f2f49_20150225094606.csv\n",
        "---> reading  mood_ed1fc89e636f2f49_20150225094626.csv\n",
        "---> reading  mood_ed1fc89e636f2f49_20150225094809.csv\n",
        "---> reading  mood_ed1fc89e636f2f49_20150225094824.csv\n",
        "---> reading "
       ]
      },
      {
       "output_type": "stream",
       "stream": "stdout",
       "text": [
        " mood_ed1fc89e636f2f49_20150225103323.csv\n",
        "---> reading  mood_ed1fc89e636f2f49_20150225103807.csv\n",
        "---> reading  mood_ed1fc89e636f2f49_20150225141746.csv\n",
        "---> reading  mood_ed1fc89e636f2f49_20150226125530.csv\n",
        "---> reading "
       ]
      },
      {
       "output_type": "stream",
       "stream": "stdout",
       "text": [
        " mood_ed1fc89e636f2f49_20150226235959.csv\n",
        "---> reading  mood_ed1fc89e636f2f49_20150227073800.csv\n",
        "---> reading  mood_ed1fc89e636f2f49_20150227091827.csv\n",
        "---> reading  mood_ed1fc89e636f2f49_20150227093247.csv\n",
        "---> reading  mood_ed1fc89e636f2f49_20150227170042.csv\n",
        "---> reading "
       ]
      },
      {
       "output_type": "stream",
       "stream": "stdout",
       "text": [
        " mood_ed1fc89e636f2f49_20150227170239.csv\n",
        "---> reading  mood_ed1fc89e636f2f49_20150227194013.csv\n",
        "ignoring mood_ed1fc89e636f2f49_20150227194013.csv (empty)\n",
        "---> reading  mood_ed1fc89e636f2f49_20150228000000.csv\n",
        "ignoring mood_ed1fc89e636f2f49_20150228000000.csv (empty)\n",
        "---> reading  mood_ed1fc89e636f2f49_20150228000328.csv\n",
        "---> reading  mood_ed1fc89e636f2f49_20150301124756.csv\n",
        "---> reading "
       ]
      },
      {
       "output_type": "stream",
       "stream": "stdout",
       "text": [
        " mood_ed1fc89e636f2f49_20150304155610.csv\n",
        "---> reading  mood_ed1fc89e636f2f49_20150304235959.csv\n",
        "ignoring mood_ed1fc89e636f2f49_20150304235959.csv (empty)\n",
        "---> reading  mood_ed1fc89e636f2f49_20150305000001.csv\n",
        "ignoring mood_ed1fc89e636f2f49_20150305000001.csv (empty)\n",
        "---> reading  mood_ed1fc89e636f2f49_20150305064938.csv\n",
        "---> reading "
       ]
      },
      {
       "output_type": "stream",
       "stream": "stdout",
       "text": [
        " mood_ed1fc89e636f2f49_20150305235959.csv\n",
        "ignoring mood_ed1fc89e636f2f49_20150305235959.csv (empty)\n",
        "---> reading  mood_ed1fc89e636f2f49_20150306000021.csv\n",
        "ignoring mood_ed1fc89e636f2f49_20150306000021.csv (empty)\n",
        "---> reading  mood_ed1fc89e636f2f49_20150306074226.csv\n",
        "ignoring mood_ed1fc89e636f2f49_20150306074226.csv (empty)\n",
        "---> reading  mood_ed1fc89e636f2f49_20150306075834.csv\n",
        "ignoring mood_ed1fc89e636f2f49_20150306075834.csv (empty)\n",
        "---> reading  mood_ed1fc89e636f2f49_20150306082559.csv\n",
        "ignoring mood_ed1fc89e636f2f49_20150306082559.csv (empty)\n",
        "---> reading  mood_ed1fc89e636f2f49_20150306084207.csv\n",
        "ignoring mood_ed1fc89e636f2f49_20150306084207.csv (empty)\n",
        "---> reading  mood_ed1fc89e636f2f49_20150306084301.csv\n",
        "---> reading  mood_ed1fc89e636f2f49_20150307000000.csv\n",
        "---> reading "
       ]
      },
      {
       "output_type": "stream",
       "stream": "stdout",
       "text": [
        " mood_ed1fc89e636f2f49_20150308000000.csv\n",
        "ignoring mood_ed1fc89e636f2f49_20150308000000.csv (empty)\n",
        "---> reading  mood_ed1fc89e636f2f49_20150308000003.csv\n",
        "ignoring mood_ed1fc89e636f2f49_20150308000003.csv (empty)\n",
        "---> reading  mood_ed1fc89e636f2f49_20150308115515.csv\n",
        "---> reading  mood_ed1fc89e636f2f49_20150309000000.csv\n",
        "ignoring mood_ed1fc89e636f2f49_20150309000000.csv (empty)\n",
        "---> reading  mood_ed1fc89e636f2f49_20150309000003.csv\n",
        "ignoring mood_ed1fc89e636f2f49_20150309000003.csv (empty)\n",
        "---> reading  mood_ed1fc89e636f2f49_20150309074817.csv\n",
        "---> reading "
       ]
      },
      {
       "output_type": "stream",
       "stream": "stdout",
       "text": [
        " mood_ed1fc89e636f2f49_20150309162831.csv\n",
        "---> reading  mood_ed1fc89e636f2f49_20150216145717.csv\n",
        "---> reading  mood_ed1fc89e636f2f49_20150223092811.csv\n",
        "---> reading  mood_ed1fc89e636f2f49_20150224111255.csv\n",
        "---> reading  mood_ed1fc89e636f2f49_20150225101940.csv\n",
        "---> reading  mood_ed1fc89e636f2f49_20150227211051.csv\n",
        "ignoring mood_ed1fc89e636f2f49_20150227211051.csv (empty)\n",
        "---> reading  mood_ed1fc89e636f2f49_20150306081434.csv\n",
        "ignoring mood_ed1fc89e636f2f49_20150306081434.csv (empty)\n",
        "---> reading  mood_ed1fc89e636f2f49_20150310000001.csv\n",
        "ignoring mood_ed1fc89e636f2f49_20150310000001.csv (empty)\n",
        "---> reading  mood_ed1fc89e636f2f49_20150310005855.csv\n",
        "ignoring mood_ed1fc89e636f2f49_20150310005855.csv (empty)\n",
        "---> reading  mood_ed1fc89e636f2f49_20150310074104.csv\n",
        "ignoring mood_ed1fc89e636f2f49_20150310074104.csv (empty)\n",
        "---> reading  mood_ed1fc89e636f2f49_20150310091629.csv\n",
        "---> reading  mood_ed1fc89e636f2f49_20150310131923.csv\n",
        "ignoring mood_ed1fc89e636f2f49_20150310131923.csv (empty)\n",
        "---> reading  mood_ed1fc89e636f2f49_20150310152427.csv\n",
        "ignoring mood_ed1fc89e636f2f49_20150310152427.csv (empty)\n",
        "---> reading  mood_ed1fc89e636f2f49_20150310152618.csv\n",
        "---> reading  mood_ed1fc89e636f2f49_20150311085025.csv\n",
        "ignoring mood_ed1fc89e636f2f49_20150311085025.csv (empty)"
       ]
      },
      {
       "output_type": "stream",
       "stream": "stdout",
       "text": [
        "\n",
        "---> reading  mood_ed1fc89e636f2f49_20150311125129.csv\n",
        "---> reading  mood_ed1fc89e636f2f49_20150311170632.csv\n",
        "ignoring mood_ed1fc89e636f2f49_20150311170632.csv (empty)\n",
        "---> reading  mood_ed1fc89e636f2f49_20150311190952.csv\n",
        "---> reading  mood_ed1fc89e636f2f49_20150312082854.csv\n",
        "ignoring mood_ed1fc89e636f2f49_20150312082854.csv (empty)\n",
        "---> reading  mood_ed1fc89e636f2f49_20150312082918.csv\n",
        "---> reading  mood_ed1fc89e636f2f49_20150312173038.csv\n",
        "ignoring mood_ed1fc89e636f2f49_20150312173038.csv (empty)\n",
        "---> reading  mood_ed1fc89e636f2f49_20150312194906.csv\n",
        "ignoring mood_ed1fc89e636f2f49_20150312194906.csv (empty)\n",
        "---> reading  mood_ed1fc89e636f2f49_20150313105641.csv\n",
        "ignoring mood_ed1fc89e636f2f49_20150313105641.csv (empty)\n",
        "---> reading  mood_ed1fc89e636f2f49_20150313143939.csv\n",
        "---> reading  mood_ed1fc89e636f2f49_20150316095917.csv\n",
        "---> reading "
       ]
      },
      {
       "output_type": "stream",
       "stream": "stdout",
       "text": [
        " mood_ed1fc89e636f2f49_20150316221901.csv\n",
        "ignoring mood_ed1fc89e636f2f49_20150316221901.csv (empty)\n",
        "---> reading  mood_ed1fc89e636f2f49_20150316222035.csv\n",
        "ignoring mood_ed1fc89e636f2f49_20150316222035.csv (empty)\n",
        "---> reading  mood_ed1fc89e636f2f49_20150316222042.csv\n",
        "ignoring mood_ed1fc89e636f2f49_20150316222042.csv (empty)\n",
        "---> reading  mood_ed1fc89e636f2f49_20150317080216.csv\n",
        "ignoring mood_ed1fc89e636f2f49_20150317080216.csv (empty)\n",
        "---> reading  mood_ed1fc89e636f2f49_20150318082150.csv\n",
        "---> reading  mood_ed1fc89e636f2f49_20150318185302.csv\n",
        "---> reading  mood_ed1fc89e636f2f49_20150312082429.csv\n",
        "ignoring mood_ed1fc89e636f2f49_20150312082429.csv (empty)\n",
        "---> reading  mood_ed1fc89e636f2f49_20150317091247.csv\n",
        "---> reading  mood_ed1fc89e636f2f49_20150309225658.csv\n",
        "ignoring mood_ed1fc89e636f2f49_20150309225658.csv (empty)\n",
        "processing  f74615faaa14ed72\n",
        "---> reading  mood_f74615faaa14ed72_20150311081810.csv\n",
        "ignoring mood_f74615faaa14ed72_20150311081810.csv (empty)\n",
        "processing "
       ]
      },
      {
       "output_type": "stream",
       "stream": "stdout",
       "text": [
        " fb6ee421ea820e32\n",
        "---> reading  mood_fb6ee421ea820e32_20150310173217.csv\n",
        "---> reading  mood_fb6ee421ea820e32_20150311000001.csv\n",
        "---> reading "
       ]
      },
      {
       "output_type": "stream",
       "stream": "stdout",
       "text": [
        " mood_fb6ee421ea820e32_20150312104233.csv\n",
        "---> reading  mood_fb6ee421ea820e32_20150313000001.csv\n"
       ]
      }
     ],
     "prompt_number": 2
    },
    {
     "cell_type": "code",
     "collapsed": false,
     "input": [
      "#plot number of occurrences (logged) per user\n",
      "fig = plt.figure(figsize=(5,40))\n",
      "for i, (this_user, this_mood) in enumerate(mood_all_users.items()):\n",
      "    print \"processing \", this_user\n",
      "        \n",
      "    fig.add_subplot(len(mood_all_users), 1, i+1)\n",
      "    counts = this_mood[\"label\"].value_counts(sort=False)\n",
      "    bp = plt.bar(range(len(counts)), counts.values)\n",
      "    plt.xticks([r.get_x() + (r.get_width()/2) for r in bp], counts.index.values, rotation=\"vertical\")\n",
      "    plt.ylabel(\"Frequency\")\n",
      "    plt.title(this_user)\n",
      "    plt.grid()\n",
      "plt.tight_layout()\n",
      "fig.savefig(\"mood_count_per_user.png\", dpi=300)\n",
      "fig.savefig(\"mood_count_per_user.pdf\", format=\"pdf\")"
     ],
     "language": "python",
     "metadata": {},
     "outputs": [
      {
       "output_type": "stream",
       "stream": "stdout",
       "text": [
        "processing  3648602b30e40667\n",
        "processing "
       ]
      },
      {
       "output_type": "stream",
       "stream": "stdout",
       "text": [
        " 9d2179107a964559\n",
        "processing "
       ]
      },
      {
       "output_type": "stream",
       "stream": "stdout",
       "text": [
        " 88566682409f1025\n",
        "processing "
       ]
      },
      {
       "output_type": "stream",
       "stream": "stdout",
       "text": [
        " 7dca35734822aba2\n",
        "processing "
       ]
      },
      {
       "output_type": "stream",
       "stream": "stdout",
       "text": [
        " 54f7691a26745bd7\n",
        "processing "
       ]
      },
      {
       "output_type": "stream",
       "stream": "stdout",
       "text": [
        " c0d45390285e2da\n",
        "processing "
       ]
      },
      {
       "output_type": "stream",
       "stream": "stdout",
       "text": [
        " 8f9d1996453656e4\n",
        "processing "
       ]
      },
      {
       "output_type": "stream",
       "stream": "stdout",
       "text": [
        " 34e5d517866b1004\n",
        "processing "
       ]
      },
      {
       "output_type": "stream",
       "stream": "stdout",
       "text": [
        " 2e9baa3fe8702ce3\n",
        "processing "
       ]
      },
      {
       "output_type": "stream",
       "stream": "stdout",
       "text": [
        " a8e4aa083f07b360\n",
        "processing "
       ]
      },
      {
       "output_type": "stream",
       "stream": "stdout",
       "text": [
        " fb6ee421ea820e32\n",
        "processing "
       ]
      },
      {
       "output_type": "stream",
       "stream": "stdout",
       "text": [
        " 5dc70d535b0bb4c5\n",
        "processing "
       ]
      },
      {
       "output_type": "stream",
       "stream": "stdout",
       "text": [
        " 5dcdd302b589c29f\n",
        "processing "
       ]
      },
      {
       "output_type": "stream",
       "stream": "stdout",
       "text": [
        " bd7c8eac8758138e\n",
        "processing "
       ]
      },
      {
       "output_type": "stream",
       "stream": "stdout",
       "text": [
        " 223d8f34240c67e0\n",
        "processing "
       ]
      },
      {
       "output_type": "stream",
       "stream": "stdout",
       "text": [
        " ed1fc89e636f2f49\n",
        "processing "
       ]
      },
      {
       "output_type": "stream",
       "stream": "stdout",
       "text": [
        " 6223dcc05d2e6655\n"
       ]
      },
      {
       "metadata": {},
       "output_type": "display_data",
       "png": "[encoded data removed]",
       "text": [
        "<matplotlib.figure.Figure at 0x7f1e70afb110>"
       ]
      }
     ],
     "prompt_number": 31
    },
    {
     "cell_type": "code",
     "collapsed": false,
     "input": [
      "#plot number of occurrences (logged)\n",
      "all_counts = pd.DataFrame()\n",
      "all_counts_norm = pd.DataFrame()\n",
      "for i, (this_user, this_mood) in enumerate(mood_all_users.items()):\n",
      "    print \"processing \", this_user\n",
      "    counts = this_mood[\"label\"].value_counts(sort=False)\n",
      "    counts_norm = this_mood[\"label\"].value_counts(normalize=True, sort=False)\n",
      "    all_counts = pd.concat([all_counts, pd.DataFrame([counts.values], columns=counts.keys().values)], ignore_index=True)\n",
      "    all_counts_norm = pd.concat([all_counts_norm, pd.DataFrame([counts_norm], columns=counts_norm.keys().values)], ignore_index=True)\n",
      "\n",
      "fig = plt.figure(figsize=(6,3))\n",
      "all_counts.boxplot(rot=90, return_type=\"dict\")\n",
      "lab = plt.ylabel(\"Frequency\")\n",
      "plt.title(\"Number of mood logs\")\n",
      "fig.savefig(\"mood_count_all_users.png\", dpi=300, bbox_extra_artists=(lab,), bbox_inches=\"tight\")\n",
      "fig.savefig(\"mood_count_all_users.pdf\", format=\"pdf\", bbox_extra_artists=(lab,), bbox_inches=\"tight\")\n",
      "\n",
      "fig = plt.figure(figsize=(6,3))\n",
      "all_counts_norm.boxplot(rot=90, return_type=\"dict\")\n",
      "lab = plt.ylabel(\"Normalized frequency\")\n",
      "plt.title(\"Number of mood logs\")\n",
      "fig.savefig(\"mood_count_norm_all_users.png\", dpi=300, bbox_extra_artists=(lab,), bbox_inches=\"tight\")\n",
      "fig.savefig(\"mood_count_norm_all_users.pdf\", format=\"pdf\", bbox_extra_artists=(lab,), bbox_inches=\"tight\")"
     ],
     "language": "python",
     "metadata": {},
     "outputs": [
      {
       "output_type": "stream",
       "stream": "stdout",
       "text": [
        "processing  3648602b30e40667\n",
        "processing  9d2179107a964559\n",
        "processing  88566682409f1025\n",
        "processing  7dca35734822aba2\n",
        "processing "
       ]
      },
      {
       "output_type": "stream",
       "stream": "stdout",
       "text": [
        " 54f7691a26745bd7\n",
        "processing  c0d45390285e2da\n",
        "processing  8f9d1996453656e4\n",
        "processing "
       ]
      },
      {
       "output_type": "stream",
       "stream": "stdout",
       "text": [
        " 34e5d517866b1004\n",
        "processing  2e9baa3fe8702ce3\n",
        "processing  a8e4aa083f07b360\n",
        "processing  fb6ee421ea820e32\n",
        "processing "
       ]
      },
      {
       "output_type": "stream",
       "stream": "stdout",
       "text": [
        " 5dc70d535b0bb4c5\n",
        "processing  5dcdd302b589c29f\n",
        "processing  bd7c8eac8758138e\n",
        "processing  223d8f34240c67e0\n",
        "processing "
       ]
      },
      {
       "output_type": "stream",
       "stream": "stdout",
       "text": [
        " ed1fc89e636f2f49\n",
        "processing  6223dcc05d2e6655\n"
       ]
      },
      {
       "metadata": {},
       "output_type": "display_data",
       "png": "[encoded data removed]",
       "text": [
        "<matplotlib.figure.Figure at 0x7fbc0eba23d0>"
       ]
      },
      {
       "metadata": {},
       "output_type": "display_data",
       "png": "[encoded data removed]",
       "text": [
        "<matplotlib.figure.Figure at 0x7fbc0e97df90>"
       ]
      }
     ],
     "prompt_number": 4
    },
    {
     "cell_type": "code",
     "collapsed": false,
     "input": [],
     "language": "python",
     "metadata": {},
     "outputs": []
    }
   ],
   "metadata": {}
  }
 ]
}