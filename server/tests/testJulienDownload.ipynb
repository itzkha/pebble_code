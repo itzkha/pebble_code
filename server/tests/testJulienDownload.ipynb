{
 "metadata": {
  "name": "",
  "signature": "sha256:6e8919f6e9fe576164e0e3f3b72dcbb9dfd95859144d6f3c9e99003f2eddb6f0"
 },
 "nbformat": 3,
 "nbformat_minor": 0,
 "worksheets": [
  {
   "cells": [
    {
     "cell_type": "code",
     "collapsed": false,
     "input": [
      "%matplotlib inline\n",
      "import paramiko\n",
      "\n",
      "this_user = 'a8e4aa083f07b360'"
     ],
     "language": "python",
     "metadata": {},
     "outputs": [],
     "prompt_number": 1
    },
    {
     "cell_type": "code",
     "collapsed": false,
     "input": [
      "ssh = paramiko.SSHClient()\n",
      "# automatically add keys without requiring human intervention\n",
      "ssh.set_missing_host_key_policy( paramiko.AutoAddPolicy() )\n",
      "ssh.connect('193.134.218.36', username='smartroot', password='dexterDEXTER0')\n",
      "\n",
      "base_command = 'cd smartdays/server/uploads' + '/'+ this_user\n",
      "stdin, stdout, stderr = ssh.exec_command(base_command + '; du *')\n",
      "size_name = stdout.readlines()\n",
      "this_sizes = [f.split('\\t')[0] for f in size_name]\n",
      "this_names = [f.split('\\t')[1][:-1] for f in size_name]\n",
      "this_dates = [name.split('_')[2][0:8] for name in this_names]\n",
      "\n",
      "ssh.close()\n",
      "\n",
      "dates_unique = list(set([item for item in this_dates]))\n",
      "dates_unique.sort()"
     ],
     "language": "python",
     "metadata": {},
     "outputs": [],
     "prompt_number": 2
    },
    {
     "cell_type": "code",
     "collapsed": false,
     "input": [
      "paramiko.util.log_to_file('/home/hector/Desktop/work/SmartDays/pebble_code/server/tests/paramiko.log')\n",
      "\n",
      "# Open a transport\n",
      "transport = paramiko.Transport(('193.134.218.36', 22))\n",
      "# Auth\n",
      "transport.connect(username='smartroot', password='dexterDEXTER0')\n",
      "# Go!\n",
      "sftp = paramiko.SFTPClient.from_transport(transport)\n",
      "\n",
      "# Download\n",
      "base_dir_local = '/home/hector/Desktop/work/SmartDays/pebble_code/server/tests/' + this_user + '/'\n",
      "base_dir_remote = 'smartdays/server/uploads' + '/'+ this_user +'/'\n",
      "for name in this_names:\n",
      "    sftp.get(base_dir_remote + name, base_dir_local + name)\n",
      "\n",
      "# Close\n",
      "sftp.close()\n",
      "transport.close()"
     ],
     "language": "python",
     "metadata": {},
     "outputs": [
      {
       "output_type": "stream",
       "stream": "stderr",
       "text": [
        "DEBUG:paramiko.transport:starting thread (client mode): 0x8aa15e50L\n",
        "INFO:paramiko.transport:Connected (version 2.0, client OpenSSH_6.6.1p1)\n",
        "DEBUG:paramiko.transport:kex algos:[u'curve25519-sha256@libssh.org', u'ecdh-sha2-nistp256', u'ecdh-sha2-nistp384', u'ecdh-sha2-nistp521', u'diffie-hellman-group-exchange-sha256', u'diffie-hellman-group-exchange-sha1', u'diffie-hellman-group14-sha1', u'diffie-hellman-group1-sha1'] server key:[u'ssh-rsa', u'ssh-dss', u'ecdsa-sha2-nistp256', u'ssh-ed25519'] client encrypt:[u'aes128-ctr', u'aes192-ctr', u'aes256-ctr', u'arcfour256', u'arcfour128', u'aes128-gcm@openssh.com', u'aes256-gcm@openssh.com', u'chacha20-poly1305@openssh.com', u'aes128-cbc', u'3des-cbc', u'blowfish-cbc', u'cast128-cbc', u'aes192-cbc', u'aes256-cbc', u'arcfour', u'rijndael-cbc@lysator.liu.se'] server encrypt:[u'aes128-ctr', u'aes192-ctr', u'aes256-ctr', u'arcfour256', u'arcfour128', u'aes128-gcm@openssh.com', u'aes256-gcm@openssh.com', u'chacha20-poly1305@openssh.com', u'aes128-cbc', u'3des-cbc', u'blowfish-cbc', u'cast128-cbc', u'aes192-cbc', u'aes256-cbc', u'arcfour', u'rijndael-cbc@lysator.liu.se'] client mac:[u'hmac-md5-etm@openssh.com', u'hmac-sha1-etm@openssh.com', u'umac-64-etm@openssh.com', u'umac-128-etm@openssh.com', u'hmac-sha2-256-etm@openssh.com', u'hmac-sha2-512-etm@openssh.com', u'hmac-ripemd160-etm@openssh.com', u'hmac-sha1-96-etm@openssh.com', u'hmac-md5-96-etm@openssh.com', u'hmac-md5', u'hmac-sha1', u'umac-64@openssh.com', u'umac-128@openssh.com', u'hmac-sha2-256', u'hmac-sha2-512', u'hmac-ripemd160', u'hmac-ripemd160@openssh.com', u'hmac-sha1-96', u'hmac-md5-96'] server mac:[u'hmac-md5-etm@openssh.com', u'hmac-sha1-etm@openssh.com', u'umac-64-etm@openssh.com', u'umac-128-etm@openssh.com', u'hmac-sha2-256-etm@openssh.com', u'hmac-sha2-512-etm@openssh.com', u'hmac-ripemd160-etm@openssh.com', u'hmac-sha1-96-etm@openssh.com', u'hmac-md5-96-etm@openssh.com', u'hmac-md5', u'hmac-sha1', u'umac-64@openssh.com', u'umac-128@openssh.com', u'hmac-sha2-256', u'hmac-sha2-512', u'hmac-ripemd160', u'hmac-ripemd160@openssh.com', u'hmac-sha1-96', u'hmac-md5-96'] client compress:[u'none', u'zlib@openssh.com'] server compress:[u'none', u'zlib@openssh.com'] client lang:[u''] server lang:[u''] kex follows?False\n",
        "DEBUG:paramiko.transport:Ciphers agreed: local=aes128-ctr, remote=aes128-ctr\n",
        "DEBUG:paramiko.transport:using kex diffie-hellman-group14-sha1; server key type ssh-rsa; cipher: local aes128-ctr, remote aes128-ctr; mac: local hmac-sha1, remote hmac-sha1; compression: local none, remote none\n",
        "DEBUG:paramiko.transport:Switch to new keys ...\n",
        "DEBUG:paramiko.transport:Attempting password auth...\n"
       ]
      },
      {
       "output_type": "stream",
       "stream": "stderr",
       "text": [
        "DEBUG:paramiko.transport:userauth is OK\n",
        "INFO:paramiko.transport:Authentication (password) successful!\n",
        "DEBUG:paramiko.transport:[chan 0] Max packet in: 32768 bytes\n"
       ]
      },
      {
       "output_type": "stream",
       "stream": "stderr",
       "text": [
        "DEBUG:paramiko.transport:[chan 0] Max packet out: 32768 bytes\n",
        "DEBUG:paramiko.transport:Secsh channel 0 opened.\n",
        "DEBUG:paramiko.transport:[chan 0] Sesch channel 0 request ok\n",
        "INFO:paramiko.transport.sftp:[chan 0] Opened sftp connection (server version 3)\n"
       ]
      },
      {
       "output_type": "stream",
       "stream": "stderr",
       "text": [
        "DEBUG:paramiko.transport.sftp:[chan 0] stat('smartdays/server/uploads/a8e4aa083f07b360/activity_a8e4aa083f07b360_20150123142424.csv')\n"
       ]
      },
      {
       "output_type": "stream",
       "stream": "stderr",
       "text": [
        "DEBUG:paramiko.transport.sftp:[chan 0] open('smartdays/server/uploads/a8e4aa083f07b360/activity_a8e4aa083f07b360_20150123142424.csv', 'rb')\n"
       ]
      },
      {
       "output_type": "stream",
       "stream": "stderr",
       "text": [
        "DEBUG:paramiko.transport.sftp:[chan 0] open('smartdays/server/uploads/a8e4aa083f07b360/activity_a8e4aa083f07b360_20150123142424.csv', 'rb') -> 00000000\n"
       ]
      },
      {
       "output_type": "stream",
       "stream": "stderr",
       "text": [
        "DEBUG:paramiko.transport.sftp:[chan 0] stat('smartdays/server/uploads/a8e4aa083f07b360/activity_a8e4aa083f07b360_20150123142424.csv')\n"
       ]
      },
      {
       "output_type": "stream",
       "stream": "stderr",
       "text": [
        "DEBUG:paramiko.transport.sftp:[chan 0] close(00000000)\n"
       ]
      },
      {
       "output_type": "stream",
       "stream": "stderr",
       "text": [
        "DEBUG:paramiko.transport.sftp:[chan 0] stat('smartdays/server/uploads/a8e4aa083f07b360/activity_a8e4aa083f07b360_20150302170901.csv')\n"
       ]
      },
      {
       "output_type": "stream",
       "stream": "stderr",
       "text": [
        "DEBUG:paramiko.transport.sftp:[chan 0] open('smartdays/server/uploads/a8e4aa083f07b360/activity_a8e4aa083f07b360_20150302170901.csv', 'rb')\n"
       ]
      },
      {
       "output_type": "stream",
       "stream": "stderr",
       "text": [
        "DEBUG:paramiko.transport.sftp:[chan 0] open('smartdays/server/uploads/a8e4aa083f07b360/activity_a8e4aa083f07b360_20150302170901.csv', 'rb') -> 00000000\n"
       ]
      },
      {
       "output_type": "stream",
       "stream": "stderr",
       "text": [
        "DEBUG:paramiko.transport.sftp:[chan 0] stat('smartdays/server/uploads/a8e4aa083f07b360/activity_a8e4aa083f07b360_20150302170901.csv')\n"
       ]
      },
      {
       "output_type": "stream",
       "stream": "stderr",
       "text": [
        "DEBUG:paramiko.transport.sftp:[chan 0] close(00000000)\n"
       ]
      },
      {
       "output_type": "stream",
       "stream": "stderr",
       "text": [
        "DEBUG:paramiko.transport.sftp:[chan 0] stat('smartdays/server/uploads/a8e4aa083f07b360/activity_a8e4aa083f07b360_20150302235226.csv')\n"
       ]
      },
      {
       "output_type": "stream",
       "stream": "stderr",
       "text": [
        "DEBUG:paramiko.transport.sftp:[chan 0] open('smartdays/server/uploads/a8e4aa083f07b360/activity_a8e4aa083f07b360_20150302235226.csv', 'rb')\n"
       ]
      },
      {
       "output_type": "stream",
       "stream": "stderr",
       "text": [
        "DEBUG:paramiko.transport.sftp:[chan 0] open('smartdays/server/uploads/a8e4aa083f07b360/activity_a8e4aa083f07b360_20150302235226.csv', 'rb') -> 00000000\n"
       ]
      },
      {
       "output_type": "stream",
       "stream": "stderr",
       "text": [
        "DEBUG:paramiko.transport.sftp:[chan 0] stat('smartdays/server/uploads/a8e4aa083f07b360/activity_a8e4aa083f07b360_20150302235226.csv')\n"
       ]
      },
      {
       "output_type": "stream",
       "stream": "stderr",
       "text": [
        "DEBUG:paramiko.transport.sftp:[chan 0] close(00000000)\n"
       ]
      },
      {
       "output_type": "stream",
       "stream": "stderr",
       "text": [
        "DEBUG:paramiko.transport.sftp:[chan 0] stat('smartdays/server/uploads/a8e4aa083f07b360/activity_a8e4aa083f07b360_20150303091411.csv')\n"
       ]
      },
      {
       "output_type": "stream",
       "stream": "stderr",
       "text": [
        "DEBUG:paramiko.transport.sftp:[chan 0] open('smartdays/server/uploads/a8e4aa083f07b360/activity_a8e4aa083f07b360_20150303091411.csv', 'rb')\n"
       ]
      },
      {
       "output_type": "stream",
       "stream": "stderr",
       "text": [
        "DEBUG:paramiko.transport.sftp:[chan 0] open('smartdays/server/uploads/a8e4aa083f07b360/activity_a8e4aa083f07b360_20150303091411.csv', 'rb') -> 00000000\n"
       ]
      },
      {
       "output_type": "stream",
       "stream": "stderr",
       "text": [
        "DEBUG:paramiko.transport.sftp:[chan 0] stat('smartdays/server/uploads/a8e4aa083f07b360/activity_a8e4aa083f07b360_20150303091411.csv')\n"
       ]
      },
      {
       "output_type": "stream",
       "stream": "stderr",
       "text": [
        "DEBUG:paramiko.transport.sftp:[chan 0] close(00000000)\n"
       ]
      },
      {
       "output_type": "stream",
       "stream": "stderr",
       "text": [
        "DEBUG:paramiko.transport.sftp:[chan 0] stat('smartdays/server/uploads/a8e4aa083f07b360/activity_a8e4aa083f07b360_20150303091421.csv')\n"
       ]
      },
      {
       "output_type": "stream",
       "stream": "stderr",
       "text": [
        "DEBUG:paramiko.transport.sftp:[chan 0] open('smartdays/server/uploads/a8e4aa083f07b360/activity_a8e4aa083f07b360_20150303091421.csv', 'rb')\n"
       ]
      },
      {
       "output_type": "stream",
       "stream": "stderr",
       "text": [
        "DEBUG:paramiko.transport.sftp:[chan 0] open('smartdays/server/uploads/a8e4aa083f07b360/activity_a8e4aa083f07b360_20150303091421.csv', 'rb') -> 00000000\n"
       ]
      },
      {
       "output_type": "stream",
       "stream": "stderr",
       "text": [
        "DEBUG:paramiko.transport.sftp:[chan 0] stat('smartdays/server/uploads/a8e4aa083f07b360/activity_a8e4aa083f07b360_20150303091421.csv')\n"
       ]
      },
      {
       "output_type": "stream",
       "stream": "stderr",
       "text": [
        "DEBUG:paramiko.transport.sftp:[chan 0] close(00000000)\n"
       ]
      },
      {
       "output_type": "stream",
       "stream": "stderr",
       "text": [
        "DEBUG:paramiko.transport.sftp:[chan 0] stat('smartdays/server/uploads/a8e4aa083f07b360/activity_a8e4aa083f07b360_20150303095638.csv')\n"
       ]
      },
      {
       "output_type": "stream",
       "stream": "stderr",
       "text": [
        "DEBUG:paramiko.transport.sftp:[chan 0] open('smartdays/server/uploads/a8e4aa083f07b360/activity_a8e4aa083f07b360_20150303095638.csv', 'rb')\n"
       ]
      },
      {
       "output_type": "stream",
       "stream": "stderr",
       "text": [
        "DEBUG:paramiko.transport.sftp:[chan 0] open('smartdays/server/uploads/a8e4aa083f07b360/activity_a8e4aa083f07b360_20150303095638.csv', 'rb') -> 00000000\n"
       ]
      },
      {
       "output_type": "stream",
       "stream": "stderr",
       "text": [
        "DEBUG:paramiko.transport.sftp:[chan 0] stat('smartdays/server/uploads/a8e4aa083f07b360/activity_a8e4aa083f07b360_20150303095638.csv')\n"
       ]
      },
      {
       "output_type": "stream",
       "stream": "stderr",
       "text": [
        "DEBUG:paramiko.transport.sftp:[chan 0] close(00000000)\n"
       ]
      },
      {
       "output_type": "stream",
       "stream": "stderr",
       "text": [
        "DEBUG:paramiko.transport.sftp:[chan 0] stat('smartdays/server/uploads/a8e4aa083f07b360/activity_a8e4aa083f07b360_20150303115331.csv')\n"
       ]
      },
      {
       "output_type": "stream",
       "stream": "stderr",
       "text": [
        "DEBUG:paramiko.transport.sftp:[chan 0] open('smartdays/server/uploads/a8e4aa083f07b360/activity_a8e4aa083f07b360_20150303115331.csv', 'rb')\n"
       ]
      },
      {
       "output_type": "stream",
       "stream": "stderr",
       "text": [
        "DEBUG:paramiko.transport.sftp:[chan 0] open('smartdays/server/uploads/a8e4aa083f07b360/activity_a8e4aa083f07b360_20150303115331.csv', 'rb') -> 00000000\n"
       ]
      },
      {
       "output_type": "stream",
       "stream": "stderr",
       "text": [
        "DEBUG:paramiko.transport.sftp:[chan 0] stat('smartdays/server/uploads/a8e4aa083f07b360/activity_a8e4aa083f07b360_20150303115331.csv')\n"
       ]
      },
      {
       "output_type": "stream",
       "stream": "stderr",
       "text": [
        "DEBUG:paramiko.transport.sftp:[chan 0] close(00000000)\n"
       ]
      },
      {
       "output_type": "stream",
       "stream": "stderr",
       "text": [
        "DEBUG:paramiko.transport.sftp:[chan 0] stat('smartdays/server/uploads/a8e4aa083f07b360/activity_a8e4aa083f07b360_20150303235959.csv')\n"
       ]
      },
      {
       "output_type": "stream",
       "stream": "stderr",
       "text": [
        "DEBUG:paramiko.transport.sftp:[chan 0] open('smartdays/server/uploads/a8e4aa083f07b360/activity_a8e4aa083f07b360_20150303235959.csv', 'rb')\n"
       ]
      },
      {
       "output_type": "stream",
       "stream": "stderr",
       "text": [
        "DEBUG:paramiko.transport.sftp:[chan 0] open('smartdays/server/uploads/a8e4aa083f07b360/activity_a8e4aa083f07b360_20150303235959.csv', 'rb') -> 00000000\n"
       ]
      },
      {
       "output_type": "stream",
       "stream": "stderr",
       "text": [
        "DEBUG:paramiko.transport.sftp:[chan 0] stat('smartdays/server/uploads/a8e4aa083f07b360/activity_a8e4aa083f07b360_20150303235959.csv')\n"
       ]
      },
      {
       "output_type": "stream",
       "stream": "stderr",
       "text": [
        "DEBUG:paramiko.transport.sftp:[chan 0] close(00000000)\n"
       ]
      },
      {
       "output_type": "stream",
       "stream": "stderr",
       "text": [
        "DEBUG:paramiko.transport.sftp:[chan 0] stat('smartdays/server/uploads/a8e4aa083f07b360/activity_a8e4aa083f07b360_20150304000006.csv')\n"
       ]
      },
      {
       "output_type": "stream",
       "stream": "stderr",
       "text": [
        "DEBUG:paramiko.transport.sftp:[chan 0] open('smartdays/server/uploads/a8e4aa083f07b360/activity_a8e4aa083f07b360_20150304000006.csv', 'rb')\n"
       ]
      },
      {
       "output_type": "stream",
       "stream": "stderr",
       "text": [
        "DEBUG:paramiko.transport.sftp:[chan 0] open('smartdays/server/uploads/a8e4aa083f07b360/activity_a8e4aa083f07b360_20150304000006.csv', 'rb') -> 00000000\n"
       ]
      },
      {
       "output_type": "stream",
       "stream": "stderr",
       "text": [
        "DEBUG:paramiko.transport.sftp:[chan 0] stat('smartdays/server/uploads/a8e4aa083f07b360/activity_a8e4aa083f07b360_20150304000006.csv')\n"
       ]
      },
      {
       "output_type": "stream",
       "stream": "stderr",
       "text": [
        "DEBUG:paramiko.transport.sftp:[chan 0] close(00000000)\n"
       ]
      },
      {
       "output_type": "stream",
       "stream": "stderr",
       "text": [
        "DEBUG:paramiko.transport.sftp:[chan 0] stat('smartdays/server/uploads/a8e4aa083f07b360/activity_a8e4aa083f07b360_20150304084648.csv')\n"
       ]
      },
      {
       "output_type": "stream",
       "stream": "stderr",
       "text": [
        "DEBUG:paramiko.transport.sftp:[chan 0] open('smartdays/server/uploads/a8e4aa083f07b360/activity_a8e4aa083f07b360_20150304084648.csv', 'rb')\n"
       ]
      },
      {
       "output_type": "stream",
       "stream": "stderr",
       "text": [
        "DEBUG:paramiko.transport.sftp:[chan 0] open('smartdays/server/uploads/a8e4aa083f07b360/activity_a8e4aa083f07b360_20150304084648.csv', 'rb') -> 00000000\n"
       ]
      },
      {
       "output_type": "stream",
       "stream": "stderr",
       "text": [
        "DEBUG:paramiko.transport.sftp:[chan 0] stat('smartdays/server/uploads/a8e4aa083f07b360/activity_a8e4aa083f07b360_20150304084648.csv')\n"
       ]
      },
      {
       "output_type": "stream",
       "stream": "stderr",
       "text": [
        "DEBUG:paramiko.transport.sftp:[chan 0] close(00000000)\n"
       ]
      },
      {
       "output_type": "stream",
       "stream": "stderr",
       "text": [
        "DEBUG:paramiko.transport.sftp:[chan 0] stat('smartdays/server/uploads/a8e4aa083f07b360/activity_a8e4aa083f07b360_20150304084924.csv')\n"
       ]
      },
      {
       "output_type": "stream",
       "stream": "stderr",
       "text": [
        "DEBUG:paramiko.transport.sftp:[chan 0] open('smartdays/server/uploads/a8e4aa083f07b360/activity_a8e4aa083f07b360_20150304084924.csv', 'rb')\n"
       ]
      },
      {
       "output_type": "stream",
       "stream": "stderr",
       "text": [
        "DEBUG:paramiko.transport.sftp:[chan 0] open('smartdays/server/uploads/a8e4aa083f07b360/activity_a8e4aa083f07b360_20150304084924.csv', 'rb') -> 00000000\n"
       ]
      },
      {
       "output_type": "stream",
       "stream": "stderr",
       "text": [
        "DEBUG:paramiko.transport.sftp:[chan 0] stat('smartdays/server/uploads/a8e4aa083f07b360/activity_a8e4aa083f07b360_20150304084924.csv')\n"
       ]
      },
      {
       "output_type": "stream",
       "stream": "stderr",
       "text": [
        "DEBUG:paramiko.transport.sftp:[chan 0] close(00000000)\n"
       ]
      },
      {
       "output_type": "stream",
       "stream": "stderr",
       "text": [
        "DEBUG:paramiko.transport.sftp:[chan 0] stat('smartdays/server/uploads/a8e4aa083f07b360/activity_a8e4aa083f07b360_20150304085021.csv')\n"
       ]
      },
      {
       "output_type": "stream",
       "stream": "stderr",
       "text": [
        "DEBUG:paramiko.transport.sftp:[chan 0] open('smartdays/server/uploads/a8e4aa083f07b360/activity_a8e4aa083f07b360_20150304085021.csv', 'rb')\n"
       ]
      },
      {
       "output_type": "stream",
       "stream": "stderr",
       "text": [
        "DEBUG:paramiko.transport.sftp:[chan 0] open('smartdays/server/uploads/a8e4aa083f07b360/activity_a8e4aa083f07b360_20150304085021.csv', 'rb') -> 00000000\n"
       ]
      },
      {
       "output_type": "stream",
       "stream": "stderr",
       "text": [
        "DEBUG:paramiko.transport.sftp:[chan 0] stat('smartdays/server/uploads/a8e4aa083f07b360/activity_a8e4aa083f07b360_20150304085021.csv')\n"
       ]
      },
      {
       "output_type": "stream",
       "stream": "stderr",
       "text": [
        "DEBUG:paramiko.transport.sftp:[chan 0] close(00000000)\n"
       ]
      },
      {
       "output_type": "stream",
       "stream": "stderr",
       "text": [
        "DEBUG:paramiko.transport.sftp:[chan 0] stat('smartdays/server/uploads/a8e4aa083f07b360/activity_a8e4aa083f07b360_20150304094120.csv')\n"
       ]
      },
      {
       "output_type": "stream",
       "stream": "stderr",
       "text": [
        "DEBUG:paramiko.transport.sftp:[chan 0] open('smartdays/server/uploads/a8e4aa083f07b360/activity_a8e4aa083f07b360_20150304094120.csv', 'rb')\n"
       ]
      },
      {
       "output_type": "stream",
       "stream": "stderr",
       "text": [
        "DEBUG:paramiko.transport.sftp:[chan 0] open('smartdays/server/uploads/a8e4aa083f07b360/activity_a8e4aa083f07b360_20150304094120.csv', 'rb') -> 00000000\n"
       ]
      },
      {
       "output_type": "stream",
       "stream": "stderr",
       "text": [
        "DEBUG:paramiko.transport.sftp:[chan 0] stat('smartdays/server/uploads/a8e4aa083f07b360/activity_a8e4aa083f07b360_20150304094120.csv')\n"
       ]
      },
      {
       "output_type": "stream",
       "stream": "stderr",
       "text": [
        "DEBUG:paramiko.transport.sftp:[chan 0] close(00000000)\n"
       ]
      },
      {
       "output_type": "stream",
       "stream": "stderr",
       "text": [
        "DEBUG:paramiko.transport.sftp:[chan 0] stat('smartdays/server/uploads/a8e4aa083f07b360/activity_a8e4aa083f07b360_20150304095102.csv')\n"
       ]
      },
      {
       "output_type": "stream",
       "stream": "stderr",
       "text": [
        "DEBUG:paramiko.transport.sftp:[chan 0] open('smartdays/server/uploads/a8e4aa083f07b360/activity_a8e4aa083f07b360_20150304095102.csv', 'rb')\n"
       ]
      },
      {
       "output_type": "stream",
       "stream": "stderr",
       "text": [
        "DEBUG:paramiko.transport.sftp:[chan 0] open('smartdays/server/uploads/a8e4aa083f07b360/activity_a8e4aa083f07b360_20150304095102.csv', 'rb') -> 00000000\n"
       ]
      },
      {
       "output_type": "stream",
       "stream": "stderr",
       "text": [
        "DEBUG:paramiko.transport.sftp:[chan 0] stat('smartdays/server/uploads/a8e4aa083f07b360/activity_a8e4aa083f07b360_20150304095102.csv')\n"
       ]
      },
      {
       "output_type": "stream",
       "stream": "stderr",
       "text": [
        "DEBUG:paramiko.transport.sftp:[chan 0] close(00000000)\n"
       ]
      },
      {
       "output_type": "stream",
       "stream": "stderr",
       "text": [
        "DEBUG:paramiko.transport.sftp:[chan 0] stat('smartdays/server/uploads/a8e4aa083f07b360/activity_a8e4aa083f07b360_20150304095127.csv')\n"
       ]
      },
      {
       "output_type": "stream",
       "stream": "stderr",
       "text": [
        "DEBUG:paramiko.transport.sftp:[chan 0] open('smartdays/server/uploads/a8e4aa083f07b360/activity_a8e4aa083f07b360_20150304095127.csv', 'rb')\n"
       ]
      },
      {
       "output_type": "stream",
       "stream": "stderr",
       "text": [
        "DEBUG:paramiko.transport.sftp:[chan 0] open('smartdays/server/uploads/a8e4aa083f07b360/activity_a8e4aa083f07b360_20150304095127.csv', 'rb') -> 00000000\n"
       ]
      },
      {
       "output_type": "stream",
       "stream": "stderr",
       "text": [
        "DEBUG:paramiko.transport.sftp:[chan 0] stat('smartdays/server/uploads/a8e4aa083f07b360/activity_a8e4aa083f07b360_20150304095127.csv')\n"
       ]
      },
      {
       "output_type": "stream",
       "stream": "stderr",
       "text": [
        "DEBUG:paramiko.transport.sftp:[chan 0] close(00000000)\n"
       ]
      },
      {
       "output_type": "stream",
       "stream": "stderr",
       "text": [
        "DEBUG:paramiko.transport.sftp:[chan 0] stat('smartdays/server/uploads/a8e4aa083f07b360/activity_a8e4aa083f07b360_20150304095148.csv')\n"
       ]
      },
      {
       "output_type": "stream",
       "stream": "stderr",
       "text": [
        "DEBUG:paramiko.transport.sftp:[chan 0] open('smartdays/server/uploads/a8e4aa083f07b360/activity_a8e4aa083f07b360_20150304095148.csv', 'rb')\n"
       ]
      },
      {
       "output_type": "stream",
       "stream": "stderr",
       "text": [
        "DEBUG:paramiko.transport.sftp:[chan 0] open('smartdays/server/uploads/a8e4aa083f07b360/activity_a8e4aa083f07b360_20150304095148.csv', 'rb') -> 00000000\n"
       ]
      },
      {
       "output_type": "stream",
       "stream": "stderr",
       "text": [
        "DEBUG:paramiko.transport.sftp:[chan 0] stat('smartdays/server/uploads/a8e4aa083f07b360/activity_a8e4aa083f07b360_20150304095148.csv')\n"
       ]
      },
      {
       "output_type": "stream",
       "stream": "stderr",
       "text": [
        "DEBUG:paramiko.transport.sftp:[chan 0] close(00000000)\n"
       ]
      },
      {
       "output_type": "stream",
       "stream": "stderr",
       "text": [
        "DEBUG:paramiko.transport.sftp:[chan 0] stat('smartdays/server/uploads/a8e4aa083f07b360/activity_a8e4aa083f07b360_20150304095247.csv')\n"
       ]
      },
      {
       "output_type": "stream",
       "stream": "stderr",
       "text": [
        "DEBUG:paramiko.transport.sftp:[chan 0] open('smartdays/server/uploads/a8e4aa083f07b360/activity_a8e4aa083f07b360_20150304095247.csv', 'rb')\n"
       ]
      },
      {
       "output_type": "stream",
       "stream": "stderr",
       "text": [
        "DEBUG:paramiko.transport.sftp:[chan 0] open('smartdays/server/uploads/a8e4aa083f07b360/activity_a8e4aa083f07b360_20150304095247.csv', 'rb') -> 00000000\n"
       ]
      },
      {
       "output_type": "stream",
       "stream": "stderr",
       "text": [
        "DEBUG:paramiko.transport.sftp:[chan 0] stat('smartdays/server/uploads/a8e4aa083f07b360/activity_a8e4aa083f07b360_20150304095247.csv')\n"
       ]
      },
      {
       "output_type": "stream",
       "stream": "stderr",
       "text": [
        "DEBUG:paramiko.transport.sftp:[chan 0] close(00000000)\n"
       ]
      },
      {
       "output_type": "stream",
       "stream": "stderr",
       "text": [
        "DEBUG:paramiko.transport.sftp:[chan 0] stat('smartdays/server/uploads/a8e4aa083f07b360/activity_a8e4aa083f07b360_20150305080642.csv')\n"
       ]
      },
      {
       "output_type": "stream",
       "stream": "stderr",
       "text": [
        "DEBUG:paramiko.transport.sftp:[chan 0] open('smartdays/server/uploads/a8e4aa083f07b360/activity_a8e4aa083f07b360_20150305080642.csv', 'rb')\n"
       ]
      },
      {
       "output_type": "stream",
       "stream": "stderr",
       "text": [
        "DEBUG:paramiko.transport.sftp:[chan 0] open('smartdays/server/uploads/a8e4aa083f07b360/activity_a8e4aa083f07b360_20150305080642.csv', 'rb') -> 00000000\n"
       ]
      },
      {
       "output_type": "stream",
       "stream": "stderr",
       "text": [
        "DEBUG:paramiko.transport.sftp:[chan 0] stat('smartdays/server/uploads/a8e4aa083f07b360/activity_a8e4aa083f07b360_20150305080642.csv')\n"
       ]
      },
      {
       "output_type": "stream",
       "stream": "stderr",
       "text": [
        "DEBUG:paramiko.transport.sftp:[chan 0] close(00000000)\n"
       ]
      },
      {
       "output_type": "stream",
       "stream": "stderr",
       "text": [
        "DEBUG:paramiko.transport.sftp:[chan 0] stat('smartdays/server/uploads/a8e4aa083f07b360/activity_a8e4aa083f07b360_20150305141601.csv')\n"
       ]
      },
      {
       "output_type": "stream",
       "stream": "stderr",
       "text": [
        "DEBUG:paramiko.transport.sftp:[chan 0] open('smartdays/server/uploads/a8e4aa083f07b360/activity_a8e4aa083f07b360_20150305141601.csv', 'rb')\n"
       ]
      },
      {
       "output_type": "stream",
       "stream": "stderr",
       "text": [
        "DEBUG:paramiko.transport.sftp:[chan 0] open('smartdays/server/uploads/a8e4aa083f07b360/activity_a8e4aa083f07b360_20150305141601.csv', 'rb') -> 00000000\n"
       ]
      },
      {
       "output_type": "stream",
       "stream": "stderr",
       "text": [
        "DEBUG:paramiko.transport.sftp:[chan 0] stat('smartdays/server/uploads/a8e4aa083f07b360/activity_a8e4aa083f07b360_20150305141601.csv')\n"
       ]
      },
      {
       "output_type": "stream",
       "stream": "stderr",
       "text": [
        "DEBUG:paramiko.transport.sftp:[chan 0] close(00000000)\n"
       ]
      },
      {
       "output_type": "stream",
       "stream": "stderr",
       "text": [
        "DEBUG:paramiko.transport.sftp:[chan 0] stat('smartdays/server/uploads/a8e4aa083f07b360/activity_a8e4aa083f07b360_20150306084032.csv')\n"
       ]
      },
      {
       "output_type": "stream",
       "stream": "stderr",
       "text": [
        "DEBUG:paramiko.transport.sftp:[chan 0] open('smartdays/server/uploads/a8e4aa083f07b360/activity_a8e4aa083f07b360_20150306084032.csv', 'rb')\n"
       ]
      },
      {
       "output_type": "stream",
       "stream": "stderr",
       "text": [
        "DEBUG:paramiko.transport.sftp:[chan 0] open('smartdays/server/uploads/a8e4aa083f07b360/activity_a8e4aa083f07b360_20150306084032.csv', 'rb') -> 00000000\n"
       ]
      },
      {
       "output_type": "stream",
       "stream": "stderr",
       "text": [
        "DEBUG:paramiko.transport.sftp:[chan 0] stat('smartdays/server/uploads/a8e4aa083f07b360/activity_a8e4aa083f07b360_20150306084032.csv')\n"
       ]
      },
      {
       "output_type": "stream",
       "stream": "stderr",
       "text": [
        "DEBUG:paramiko.transport.sftp:[chan 0] close(00000000)\n"
       ]
      },
      {
       "output_type": "stream",
       "stream": "stderr",
       "text": [
        "DEBUG:paramiko.transport.sftp:[chan 0] stat('smartdays/server/uploads/a8e4aa083f07b360/activity_a8e4aa083f07b360_20150313105235.csv')\n"
       ]
      },
      {
       "output_type": "stream",
       "stream": "stderr",
       "text": [
        "DEBUG:paramiko.transport.sftp:[chan 0] open('smartdays/server/uploads/a8e4aa083f07b360/activity_a8e4aa083f07b360_20150313105235.csv', 'rb')\n"
       ]
      },
      {
       "output_type": "stream",
       "stream": "stderr",
       "text": [
        "DEBUG:paramiko.transport.sftp:[chan 0] open('smartdays/server/uploads/a8e4aa083f07b360/activity_a8e4aa083f07b360_20150313105235.csv', 'rb') -> 00000000\n"
       ]
      },
      {
       "output_type": "stream",
       "stream": "stderr",
       "text": [
        "DEBUG:paramiko.transport.sftp:[chan 0] stat('smartdays/server/uploads/a8e4aa083f07b360/activity_a8e4aa083f07b360_20150313105235.csv')\n"
       ]
      },
      {
       "output_type": "stream",
       "stream": "stderr",
       "text": [
        "DEBUG:paramiko.transport.sftp:[chan 0] close(00000000)\n"
       ]
      },
      {
       "output_type": "stream",
       "stream": "stderr",
       "text": [
        "DEBUG:paramiko.transport.sftp:[chan 0] stat('smartdays/server/uploads/a8e4aa083f07b360/activity_a8e4aa083f07b360_20150313105440.csv')\n"
       ]
      },
      {
       "output_type": "stream",
       "stream": "stderr",
       "text": [
        "DEBUG:paramiko.transport.sftp:[chan 0] open('smartdays/server/uploads/a8e4aa083f07b360/activity_a8e4aa083f07b360_20150313105440.csv', 'rb')\n"
       ]
      },
      {
       "output_type": "stream",
       "stream": "stderr",
       "text": [
        "DEBUG:paramiko.transport.sftp:[chan 0] open('smartdays/server/uploads/a8e4aa083f07b360/activity_a8e4aa083f07b360_20150313105440.csv', 'rb') -> 00000000\n"
       ]
      },
      {
       "output_type": "stream",
       "stream": "stderr",
       "text": [
        "DEBUG:paramiko.transport.sftp:[chan 0] stat('smartdays/server/uploads/a8e4aa083f07b360/activity_a8e4aa083f07b360_20150313105440.csv')\n"
       ]
      },
      {
       "output_type": "stream",
       "stream": "stderr",
       "text": [
        "DEBUG:paramiko.transport.sftp:[chan 0] close(00000000)\n"
       ]
      },
      {
       "output_type": "stream",
       "stream": "stderr",
       "text": [
        "DEBUG:paramiko.transport.sftp:[chan 0] stat('smartdays/server/uploads/a8e4aa083f07b360/activity_a8e4aa083f07b360_20150313185010.csv')\n"
       ]
      },
      {
       "output_type": "stream",
       "stream": "stderr",
       "text": [
        "DEBUG:paramiko.transport.sftp:[chan 0] open('smartdays/server/uploads/a8e4aa083f07b360/activity_a8e4aa083f07b360_20150313185010.csv', 'rb')\n"
       ]
      },
      {
       "output_type": "stream",
       "stream": "stderr",
       "text": [
        "DEBUG:paramiko.transport.sftp:[chan 0] open('smartdays/server/uploads/a8e4aa083f07b360/activity_a8e4aa083f07b360_20150313185010.csv', 'rb') -> 00000000\n"
       ]
      },
      {
       "output_type": "stream",
       "stream": "stderr",
       "text": [
        "DEBUG:paramiko.transport.sftp:[chan 0] stat('smartdays/server/uploads/a8e4aa083f07b360/activity_a8e4aa083f07b360_20150313185010.csv')\n"
       ]
      },
      {
       "output_type": "stream",
       "stream": "stderr",
       "text": [
        "DEBUG:paramiko.transport.sftp:[chan 0] close(00000000)\n"
       ]
      },
      {
       "output_type": "stream",
       "stream": "stderr",
       "text": [
        "DEBUG:paramiko.transport.sftp:[chan 0] stat('smartdays/server/uploads/a8e4aa083f07b360/activity_a8e4aa083f07b360_20150313194456.csv')\n"
       ]
      },
      {
       "output_type": "stream",
       "stream": "stderr",
       "text": [
        "DEBUG:paramiko.transport.sftp:[chan 0] open('smartdays/server/uploads/a8e4aa083f07b360/activity_a8e4aa083f07b360_20150313194456.csv', 'rb')\n"
       ]
      },
      {
       "output_type": "stream",
       "stream": "stderr",
       "text": [
        "DEBUG:paramiko.transport.sftp:[chan 0] open('smartdays/server/uploads/a8e4aa083f07b360/activity_a8e4aa083f07b360_20150313194456.csv', 'rb') -> 00000000\n"
       ]
      },
      {
       "output_type": "stream",
       "stream": "stderr",
       "text": [
        "DEBUG:paramiko.transport.sftp:[chan 0] stat('smartdays/server/uploads/a8e4aa083f07b360/activity_a8e4aa083f07b360_20150313194456.csv')\n"
       ]
      },
      {
       "output_type": "stream",
       "stream": "stderr",
       "text": [
        "DEBUG:paramiko.transport.sftp:[chan 0] close(00000000)\n"
       ]
      },
      {
       "output_type": "stream",
       "stream": "stderr",
       "text": [
        "DEBUG:paramiko.transport.sftp:[chan 0] stat('smartdays/server/uploads/a8e4aa083f07b360/activity_a8e4aa083f07b360_20150313194915.csv')\n"
       ]
      },
      {
       "output_type": "stream",
       "stream": "stderr",
       "text": [
        "DEBUG:paramiko.transport.sftp:[chan 0] open('smartdays/server/uploads/a8e4aa083f07b360/activity_a8e4aa083f07b360_20150313194915.csv', 'rb')\n"
       ]
      },
      {
       "output_type": "stream",
       "stream": "stderr",
       "text": [
        "DEBUG:paramiko.transport.sftp:[chan 0] open('smartdays/server/uploads/a8e4aa083f07b360/activity_a8e4aa083f07b360_20150313194915.csv', 'rb') -> 00000000\n"
       ]
      },
      {
       "output_type": "stream",
       "stream": "stderr",
       "text": [
        "DEBUG:paramiko.transport.sftp:[chan 0] stat('smartdays/server/uploads/a8e4aa083f07b360/activity_a8e4aa083f07b360_20150313194915.csv')\n"
       ]
      },
      {
       "output_type": "stream",
       "stream": "stderr",
       "text": [
        "DEBUG:paramiko.transport.sftp:[chan 0] close(00000000)\n"
       ]
      },
      {
       "output_type": "stream",
       "stream": "stderr",
       "text": [
        "DEBUG:paramiko.transport.sftp:[chan 0] stat('smartdays/server/uploads/a8e4aa083f07b360/activity_a8e4aa083f07b360_20150314101341.csv')\n"
       ]
      },
      {
       "output_type": "stream",
       "stream": "stderr",
       "text": [
        "DEBUG:paramiko.transport.sftp:[chan 0] open('smartdays/server/uploads/a8e4aa083f07b360/activity_a8e4aa083f07b360_20150314101341.csv', 'rb')\n"
       ]
      },
      {
       "output_type": "stream",
       "stream": "stderr",
       "text": [
        "DEBUG:paramiko.transport.sftp:[chan 0] open('smartdays/server/uploads/a8e4aa083f07b360/activity_a8e4aa083f07b360_20150314101341.csv', 'rb') -> 00000000\n"
       ]
      },
      {
       "output_type": "stream",
       "stream": "stderr",
       "text": [
        "DEBUG:paramiko.transport.sftp:[chan 0] stat('smartdays/server/uploads/a8e4aa083f07b360/activity_a8e4aa083f07b360_20150314101341.csv')\n"
       ]
      },
      {
       "output_type": "stream",
       "stream": "stderr",
       "text": [
        "DEBUG:paramiko.transport.sftp:[chan 0] close(00000000)\n"
       ]
      },
      {
       "output_type": "stream",
       "stream": "stderr",
       "text": [
        "DEBUG:paramiko.transport.sftp:[chan 0] stat('smartdays/server/uploads/a8e4aa083f07b360/activity_a8e4aa083f07b360_20150314232635.csv')\n"
       ]
      },
      {
       "output_type": "stream",
       "stream": "stderr",
       "text": [
        "DEBUG:paramiko.transport.sftp:[chan 0] open('smartdays/server/uploads/a8e4aa083f07b360/activity_a8e4aa083f07b360_20150314232635.csv', 'rb')\n"
       ]
      },
      {
       "output_type": "stream",
       "stream": "stderr",
       "text": [
        "DEBUG:paramiko.transport.sftp:[chan 0] open('smartdays/server/uploads/a8e4aa083f07b360/activity_a8e4aa083f07b360_20150314232635.csv', 'rb') -> 00000000\n"
       ]
      },
      {
       "output_type": "stream",
       "stream": "stderr",
       "text": [
        "DEBUG:paramiko.transport.sftp:[chan 0] stat('smartdays/server/uploads/a8e4aa083f07b360/activity_a8e4aa083f07b360_20150314232635.csv')\n"
       ]
      },
      {
       "output_type": "stream",
       "stream": "stderr",
       "text": [
        "DEBUG:paramiko.transport.sftp:[chan 0] close(00000000)\n"
       ]
      },
      {
       "output_type": "stream",
       "stream": "stderr",
       "text": [
        "DEBUG:paramiko.transport.sftp:[chan 0] stat('smartdays/server/uploads/a8e4aa083f07b360/activity_a8e4aa083f07b360_20150317105529.csv')\n"
       ]
      },
      {
       "output_type": "stream",
       "stream": "stderr",
       "text": [
        "DEBUG:paramiko.transport.sftp:[chan 0] open('smartdays/server/uploads/a8e4aa083f07b360/activity_a8e4aa083f07b360_20150317105529.csv', 'rb')\n"
       ]
      },
      {
       "output_type": "stream",
       "stream": "stderr",
       "text": [
        "DEBUG:paramiko.transport.sftp:[chan 0] open('smartdays/server/uploads/a8e4aa083f07b360/activity_a8e4aa083f07b360_20150317105529.csv', 'rb') -> 00000000\n"
       ]
      },
      {
       "output_type": "stream",
       "stream": "stderr",
       "text": [
        "DEBUG:paramiko.transport.sftp:[chan 0] stat('smartdays/server/uploads/a8e4aa083f07b360/activity_a8e4aa083f07b360_20150317105529.csv')\n"
       ]
      },
      {
       "output_type": "stream",
       "stream": "stderr",
       "text": [
        "DEBUG:paramiko.transport.sftp:[chan 0] close(00000000)\n"
       ]
      },
      {
       "output_type": "stream",
       "stream": "stderr",
       "text": [
        "DEBUG:paramiko.transport.sftp:[chan 0] stat('smartdays/server/uploads/a8e4aa083f07b360/activity_a8e4aa083f07b360_20150317113100.csv')\n"
       ]
      },
      {
       "output_type": "stream",
       "stream": "stderr",
       "text": [
        "DEBUG:paramiko.transport.sftp:[chan 0] open('smartdays/server/uploads/a8e4aa083f07b360/activity_a8e4aa083f07b360_20150317113100.csv', 'rb')\n"
       ]
      },
      {
       "output_type": "stream",
       "stream": "stderr",
       "text": [
        "DEBUG:paramiko.transport.sftp:[chan 0] open('smartdays/server/uploads/a8e4aa083f07b360/activity_a8e4aa083f07b360_20150317113100.csv', 'rb') -> 00000000\n"
       ]
      },
      {
       "output_type": "stream",
       "stream": "stderr",
       "text": [
        "DEBUG:paramiko.transport.sftp:[chan 0] stat('smartdays/server/uploads/a8e4aa083f07b360/activity_a8e4aa083f07b360_20150317113100.csv')\n"
       ]
      },
      {
       "output_type": "stream",
       "stream": "stderr",
       "text": [
        "DEBUG:paramiko.transport.sftp:[chan 0] close(00000000)\n"
       ]
      },
      {
       "output_type": "stream",
       "stream": "stderr",
       "text": [
        "DEBUG:paramiko.transport.sftp:[chan 0] stat('smartdays/server/uploads/a8e4aa083f07b360/activity_a8e4aa083f07b360_20150317113121.csv')\n"
       ]
      },
      {
       "output_type": "stream",
       "stream": "stderr",
       "text": [
        "DEBUG:paramiko.transport.sftp:[chan 0] open('smartdays/server/uploads/a8e4aa083f07b360/activity_a8e4aa083f07b360_20150317113121.csv', 'rb')\n"
       ]
      },
      {
       "output_type": "stream",
       "stream": "stderr",
       "text": [
        "DEBUG:paramiko.transport.sftp:[chan 0] open('smartdays/server/uploads/a8e4aa083f07b360/activity_a8e4aa083f07b360_20150317113121.csv', 'rb') -> 00000000\n"
       ]
      },
      {
       "output_type": "stream",
       "stream": "stderr",
       "text": [
        "DEBUG:paramiko.transport.sftp:[chan 0] stat('smartdays/server/uploads/a8e4aa083f07b360/activity_a8e4aa083f07b360_20150317113121.csv')\n"
       ]
      },
      {
       "output_type": "stream",
       "stream": "stderr",
       "text": [
        "DEBUG:paramiko.transport.sftp:[chan 0] close(00000000)\n"
       ]
      },
      {
       "output_type": "stream",
       "stream": "stderr",
       "text": [
        "DEBUG:paramiko.transport.sftp:[chan 0] stat('smartdays/server/uploads/a8e4aa083f07b360/activity_a8e4aa083f07b360_20150317113123.csv')\n"
       ]
      },
      {
       "output_type": "stream",
       "stream": "stderr",
       "text": [
        "DEBUG:paramiko.transport.sftp:[chan 0] open('smartdays/server/uploads/a8e4aa083f07b360/activity_a8e4aa083f07b360_20150317113123.csv', 'rb')\n"
       ]
      },
      {
       "output_type": "stream",
       "stream": "stderr",
       "text": [
        "DEBUG:paramiko.transport.sftp:[chan 0] open('smartdays/server/uploads/a8e4aa083f07b360/activity_a8e4aa083f07b360_20150317113123.csv', 'rb') -> 00000000\n"
       ]
      },
      {
       "output_type": "stream",
       "stream": "stderr",
       "text": [
        "DEBUG:paramiko.transport.sftp:[chan 0] stat('smartdays/server/uploads/a8e4aa083f07b360/activity_a8e4aa083f07b360_20150317113123.csv')\n"
       ]
      },
      {
       "output_type": "stream",
       "stream": "stderr",
       "text": [
        "DEBUG:paramiko.transport.sftp:[chan 0] close(00000000)\n"
       ]
      },
      {
       "output_type": "stream",
       "stream": "stderr",
       "text": [
        "DEBUG:paramiko.transport.sftp:[chan 0] stat('smartdays/server/uploads/a8e4aa083f07b360/activity_a8e4aa083f07b360_20150317190320.csv')\n"
       ]
      },
      {
       "output_type": "stream",
       "stream": "stderr",
       "text": [
        "DEBUG:paramiko.transport.sftp:[chan 0] open('smartdays/server/uploads/a8e4aa083f07b360/activity_a8e4aa083f07b360_20150317190320.csv', 'rb')\n"
       ]
      },
      {
       "output_type": "stream",
       "stream": "stderr",
       "text": [
        "DEBUG:paramiko.transport.sftp:[chan 0] open('smartdays/server/uploads/a8e4aa083f07b360/activity_a8e4aa083f07b360_20150317190320.csv', 'rb') -> 00000000\n"
       ]
      },
      {
       "output_type": "stream",
       "stream": "stderr",
       "text": [
        "DEBUG:paramiko.transport.sftp:[chan 0] stat('smartdays/server/uploads/a8e4aa083f07b360/activity_a8e4aa083f07b360_20150317190320.csv')\n"
       ]
      },
      {
       "output_type": "stream",
       "stream": "stderr",
       "text": [
        "DEBUG:paramiko.transport.sftp:[chan 0] close(00000000)\n"
       ]
      },
      {
       "output_type": "stream",
       "stream": "stderr",
       "text": [
        "DEBUG:paramiko.transport.sftp:[chan 0] stat('smartdays/server/uploads/a8e4aa083f07b360/activity_a8e4aa083f07b360_20150318084719.csv')\n"
       ]
      },
      {
       "output_type": "stream",
       "stream": "stderr",
       "text": [
        "DEBUG:paramiko.transport.sftp:[chan 0] open('smartdays/server/uploads/a8e4aa083f07b360/activity_a8e4aa083f07b360_20150318084719.csv', 'rb')\n"
       ]
      },
      {
       "output_type": "stream",
       "stream": "stderr",
       "text": [
        "DEBUG:paramiko.transport.sftp:[chan 0] open('smartdays/server/uploads/a8e4aa083f07b360/activity_a8e4aa083f07b360_20150318084719.csv', 'rb') -> 00000000\n"
       ]
      },
      {
       "output_type": "stream",
       "stream": "stderr",
       "text": [
        "DEBUG:paramiko.transport.sftp:[chan 0] stat('smartdays/server/uploads/a8e4aa083f07b360/activity_a8e4aa083f07b360_20150318084719.csv')\n"
       ]
      },
      {
       "output_type": "stream",
       "stream": "stderr",
       "text": [
        "DEBUG:paramiko.transport.sftp:[chan 0] close(00000000)\n"
       ]
      },
      {
       "output_type": "stream",
       "stream": "stderr",
       "text": [
        "DEBUG:paramiko.transport.sftp:[chan 0] stat('smartdays/server/uploads/a8e4aa083f07b360/activity_a8e4aa083f07b360_20150319000001.csv')\n"
       ]
      },
      {
       "output_type": "stream",
       "stream": "stderr",
       "text": [
        "DEBUG:paramiko.transport.sftp:[chan 0] open('smartdays/server/uploads/a8e4aa083f07b360/activity_a8e4aa083f07b360_20150319000001.csv', 'rb')\n"
       ]
      },
      {
       "output_type": "stream",
       "stream": "stderr",
       "text": [
        "DEBUG:paramiko.transport.sftp:[chan 0] open('smartdays/server/uploads/a8e4aa083f07b360/activity_a8e4aa083f07b360_20150319000001.csv', 'rb') -> 00000000\n"
       ]
      },
      {
       "output_type": "stream",
       "stream": "stderr",
       "text": [
        "DEBUG:paramiko.transport.sftp:[chan 0] stat('smartdays/server/uploads/a8e4aa083f07b360/activity_a8e4aa083f07b360_20150319000001.csv')\n"
       ]
      },
      {
       "output_type": "stream",
       "stream": "stderr",
       "text": [
        "DEBUG:paramiko.transport.sftp:[chan 0] close(00000000)\n"
       ]
      },
      {
       "output_type": "stream",
       "stream": "stderr",
       "text": [
        "DEBUG:paramiko.transport.sftp:[chan 0] stat('smartdays/server/uploads/a8e4aa083f07b360/activity_a8e4aa083f07b360_20150319081414.csv')\n"
       ]
      },
      {
       "output_type": "stream",
       "stream": "stderr",
       "text": [
        "DEBUG:paramiko.transport.sftp:[chan 0] open('smartdays/server/uploads/a8e4aa083f07b360/activity_a8e4aa083f07b360_20150319081414.csv', 'rb')\n"
       ]
      },
      {
       "output_type": "stream",
       "stream": "stderr",
       "text": [
        "DEBUG:paramiko.transport.sftp:[chan 0] open('smartdays/server/uploads/a8e4aa083f07b360/activity_a8e4aa083f07b360_20150319081414.csv', 'rb') -> 00000000\n"
       ]
      },
      {
       "output_type": "stream",
       "stream": "stderr",
       "text": [
        "DEBUG:paramiko.transport.sftp:[chan 0] stat('smartdays/server/uploads/a8e4aa083f07b360/activity_a8e4aa083f07b360_20150319081414.csv')\n"
       ]
      },
      {
       "output_type": "stream",
       "stream": "stderr",
       "text": [
        "DEBUG:paramiko.transport.sftp:[chan 0] close(00000000)\n"
       ]
      },
      {
       "output_type": "stream",
       "stream": "stderr",
       "text": [
        "DEBUG:paramiko.transport.sftp:[chan 0] stat('smartdays/server/uploads/a8e4aa083f07b360/activity_a8e4aa083f07b360_20150320000001.csv')\n"
       ]
      },
      {
       "output_type": "stream",
       "stream": "stderr",
       "text": [
        "DEBUG:paramiko.transport.sftp:[chan 0] open('smartdays/server/uploads/a8e4aa083f07b360/activity_a8e4aa083f07b360_20150320000001.csv', 'rb')\n"
       ]
      },
      {
       "output_type": "stream",
       "stream": "stderr",
       "text": [
        "DEBUG:paramiko.transport.sftp:[chan 0] open('smartdays/server/uploads/a8e4aa083f07b360/activity_a8e4aa083f07b360_20150320000001.csv', 'rb') -> 00000000\n"
       ]
      },
      {
       "output_type": "stream",
       "stream": "stderr",
       "text": [
        "DEBUG:paramiko.transport.sftp:[chan 0] stat('smartdays/server/uploads/a8e4aa083f07b360/activity_a8e4aa083f07b360_20150320000001.csv')\n"
       ]
      },
      {
       "output_type": "stream",
       "stream": "stderr",
       "text": [
        "DEBUG:paramiko.transport.sftp:[chan 0] close(00000000)\n"
       ]
      },
      {
       "output_type": "stream",
       "stream": "stderr",
       "text": [
        "DEBUG:paramiko.transport.sftp:[chan 0] stat('smartdays/server/uploads/a8e4aa083f07b360/activity_a8e4aa083f07b360_20150320104716.csv')\n"
       ]
      },
      {
       "output_type": "stream",
       "stream": "stderr",
       "text": [
        "DEBUG:paramiko.transport.sftp:[chan 0] open('smartdays/server/uploads/a8e4aa083f07b360/activity_a8e4aa083f07b360_20150320104716.csv', 'rb')\n"
       ]
      },
      {
       "output_type": "stream",
       "stream": "stderr",
       "text": [
        "DEBUG:paramiko.transport.sftp:[chan 0] open('smartdays/server/uploads/a8e4aa083f07b360/activity_a8e4aa083f07b360_20150320104716.csv', 'rb') -> 00000000\n"
       ]
      },
      {
       "output_type": "stream",
       "stream": "stderr",
       "text": [
        "DEBUG:paramiko.transport.sftp:[chan 0] stat('smartdays/server/uploads/a8e4aa083f07b360/activity_a8e4aa083f07b360_20150320104716.csv')\n"
       ]
      },
      {
       "output_type": "stream",
       "stream": "stderr",
       "text": [
        "DEBUG:paramiko.transport.sftp:[chan 0] close(00000000)\n"
       ]
      },
      {
       "output_type": "stream",
       "stream": "stderr",
       "text": [
        "DEBUG:paramiko.transport.sftp:[chan 0] stat('smartdays/server/uploads/a8e4aa083f07b360/activity_a8e4aa083f07b360_20150320105017.csv')\n"
       ]
      },
      {
       "output_type": "stream",
       "stream": "stderr",
       "text": [
        "DEBUG:paramiko.transport.sftp:[chan 0] open('smartdays/server/uploads/a8e4aa083f07b360/activity_a8e4aa083f07b360_20150320105017.csv', 'rb')\n"
       ]
      },
      {
       "output_type": "stream",
       "stream": "stderr",
       "text": [
        "DEBUG:paramiko.transport.sftp:[chan 0] open('smartdays/server/uploads/a8e4aa083f07b360/activity_a8e4aa083f07b360_20150320105017.csv', 'rb') -> 00000000\n"
       ]
      },
      {
       "output_type": "stream",
       "stream": "stderr",
       "text": [
        "DEBUG:paramiko.transport.sftp:[chan 0] stat('smartdays/server/uploads/a8e4aa083f07b360/activity_a8e4aa083f07b360_20150320105017.csv')\n"
       ]
      },
      {
       "output_type": "stream",
       "stream": "stderr",
       "text": [
        "DEBUG:paramiko.transport.sftp:[chan 0] close(00000000)\n"
       ]
      },
      {
       "output_type": "stream",
       "stream": "stderr",
       "text": [
        "DEBUG:paramiko.transport.sftp:[chan 0] stat('smartdays/server/uploads/a8e4aa083f07b360/activity_a8e4aa083f07b360_20150320110319.csv')\n"
       ]
      },
      {
       "output_type": "stream",
       "stream": "stderr",
       "text": [
        "DEBUG:paramiko.transport.sftp:[chan 0] open('smartdays/server/uploads/a8e4aa083f07b360/activity_a8e4aa083f07b360_20150320110319.csv', 'rb')\n"
       ]
      },
      {
       "output_type": "stream",
       "stream": "stderr",
       "text": [
        "DEBUG:paramiko.transport.sftp:[chan 0] open('smartdays/server/uploads/a8e4aa083f07b360/activity_a8e4aa083f07b360_20150320110319.csv', 'rb') -> 00000000\n"
       ]
      },
      {
       "output_type": "stream",
       "stream": "stderr",
       "text": [
        "DEBUG:paramiko.transport.sftp:[chan 0] stat('smartdays/server/uploads/a8e4aa083f07b360/activity_a8e4aa083f07b360_20150320110319.csv')\n"
       ]
      },
      {
       "output_type": "stream",
       "stream": "stderr",
       "text": [
        "DEBUG:paramiko.transport.sftp:[chan 0] close(00000000)\n"
       ]
      },
      {
       "output_type": "stream",
       "stream": "stderr",
       "text": [
        "DEBUG:paramiko.transport.sftp:[chan 0] stat('smartdays/server/uploads/a8e4aa083f07b360/activity_a8e4aa083f07b360_20150320111439.csv')\n"
       ]
      },
      {
       "output_type": "stream",
       "stream": "stderr",
       "text": [
        "DEBUG:paramiko.transport.sftp:[chan 0] open('smartdays/server/uploads/a8e4aa083f07b360/activity_a8e4aa083f07b360_20150320111439.csv', 'rb')\n"
       ]
      },
      {
       "output_type": "stream",
       "stream": "stderr",
       "text": [
        "DEBUG:paramiko.transport.sftp:[chan 0] open('smartdays/server/uploads/a8e4aa083f07b360/activity_a8e4aa083f07b360_20150320111439.csv', 'rb') -> 00000000\n"
       ]
      },
      {
       "output_type": "stream",
       "stream": "stderr",
       "text": [
        "DEBUG:paramiko.transport.sftp:[chan 0] stat('smartdays/server/uploads/a8e4aa083f07b360/activity_a8e4aa083f07b360_20150320111439.csv')\n"
       ]
      },
      {
       "output_type": "stream",
       "stream": "stderr",
       "text": [
        "DEBUG:paramiko.transport.sftp:[chan 0] close(00000000)\n"
       ]
      },
      {
       "output_type": "stream",
       "stream": "stderr",
       "text": [
        "DEBUG:paramiko.transport.sftp:[chan 0] stat('smartdays/server/uploads/a8e4aa083f07b360/location_a8e4aa083f07b360_20150302170901.csv')\n"
       ]
      },
      {
       "output_type": "stream",
       "stream": "stderr",
       "text": [
        "DEBUG:paramiko.transport.sftp:[chan 0] open('smartdays/server/uploads/a8e4aa083f07b360/location_a8e4aa083f07b360_20150302170901.csv', 'rb')\n"
       ]
      },
      {
       "output_type": "stream",
       "stream": "stderr",
       "text": [
        "DEBUG:paramiko.transport.sftp:[chan 0] open('smartdays/server/uploads/a8e4aa083f07b360/location_a8e4aa083f07b360_20150302170901.csv', 'rb') -> 00000000\n"
       ]
      },
      {
       "output_type": "stream",
       "stream": "stderr",
       "text": [
        "DEBUG:paramiko.transport.sftp:[chan 0] stat('smartdays/server/uploads/a8e4aa083f07b360/location_a8e4aa083f07b360_20150302170901.csv')\n"
       ]
      },
      {
       "output_type": "stream",
       "stream": "stderr",
       "text": [
        "DEBUG:paramiko.transport.sftp:[chan 0] close(00000000)\n"
       ]
      },
      {
       "output_type": "stream",
       "stream": "stderr",
       "text": [
        "DEBUG:paramiko.transport.sftp:[chan 0] stat('smartdays/server/uploads/a8e4aa083f07b360/location_a8e4aa083f07b360_20150302235226.csv')\n"
       ]
      },
      {
       "output_type": "stream",
       "stream": "stderr",
       "text": [
        "DEBUG:paramiko.transport.sftp:[chan 0] open('smartdays/server/uploads/a8e4aa083f07b360/location_a8e4aa083f07b360_20150302235226.csv', 'rb')\n"
       ]
      },
      {
       "output_type": "stream",
       "stream": "stderr",
       "text": [
        "DEBUG:paramiko.transport.sftp:[chan 0] open('smartdays/server/uploads/a8e4aa083f07b360/location_a8e4aa083f07b360_20150302235226.csv', 'rb') -> 00000000\n"
       ]
      },
      {
       "output_type": "stream",
       "stream": "stderr",
       "text": [
        "DEBUG:paramiko.transport.sftp:[chan 0] stat('smartdays/server/uploads/a8e4aa083f07b360/location_a8e4aa083f07b360_20150302235226.csv')\n"
       ]
      },
      {
       "output_type": "stream",
       "stream": "stderr",
       "text": [
        "DEBUG:paramiko.transport.sftp:[chan 0] close(00000000)\n"
       ]
      },
      {
       "output_type": "stream",
       "stream": "stderr",
       "text": [
        "DEBUG:paramiko.transport.sftp:[chan 0] stat('smartdays/server/uploads/a8e4aa083f07b360/location_a8e4aa083f07b360_20150303091411.csv')\n"
       ]
      },
      {
       "output_type": "stream",
       "stream": "stderr",
       "text": [
        "DEBUG:paramiko.transport.sftp:[chan 0] open('smartdays/server/uploads/a8e4aa083f07b360/location_a8e4aa083f07b360_20150303091411.csv', 'rb')\n"
       ]
      },
      {
       "output_type": "stream",
       "stream": "stderr",
       "text": [
        "DEBUG:paramiko.transport.sftp:[chan 0] open('smartdays/server/uploads/a8e4aa083f07b360/location_a8e4aa083f07b360_20150303091411.csv', 'rb') -> 00000000\n"
       ]
      },
      {
       "output_type": "stream",
       "stream": "stderr",
       "text": [
        "DEBUG:paramiko.transport.sftp:[chan 0] stat('smartdays/server/uploads/a8e4aa083f07b360/location_a8e4aa083f07b360_20150303091411.csv')\n"
       ]
      },
      {
       "output_type": "stream",
       "stream": "stderr",
       "text": [
        "DEBUG:paramiko.transport.sftp:[chan 0] close(00000000)\n"
       ]
      },
      {
       "output_type": "stream",
       "stream": "stderr",
       "text": [
        "DEBUG:paramiko.transport.sftp:[chan 0] stat('smartdays/server/uploads/a8e4aa083f07b360/location_a8e4aa083f07b360_20150303091421.csv')\n"
       ]
      },
      {
       "output_type": "stream",
       "stream": "stderr",
       "text": [
        "DEBUG:paramiko.transport.sftp:[chan 0] open('smartdays/server/uploads/a8e4aa083f07b360/location_a8e4aa083f07b360_20150303091421.csv', 'rb')\n"
       ]
      },
      {
       "output_type": "stream",
       "stream": "stderr",
       "text": [
        "DEBUG:paramiko.transport.sftp:[chan 0] open('smartdays/server/uploads/a8e4aa083f07b360/location_a8e4aa083f07b360_20150303091421.csv', 'rb') -> 00000000\n"
       ]
      },
      {
       "output_type": "stream",
       "stream": "stderr",
       "text": [
        "DEBUG:paramiko.transport.sftp:[chan 0] stat('smartdays/server/uploads/a8e4aa083f07b360/location_a8e4aa083f07b360_20150303091421.csv')\n"
       ]
      },
      {
       "output_type": "stream",
       "stream": "stderr",
       "text": [
        "DEBUG:paramiko.transport.sftp:[chan 0] close(00000000)\n"
       ]
      },
      {
       "output_type": "stream",
       "stream": "stderr",
       "text": [
        "DEBUG:paramiko.transport.sftp:[chan 0] stat('smartdays/server/uploads/a8e4aa083f07b360/location_a8e4aa083f07b360_20150303095638.csv')\n"
       ]
      },
      {
       "output_type": "stream",
       "stream": "stderr",
       "text": [
        "DEBUG:paramiko.transport.sftp:[chan 0] open('smartdays/server/uploads/a8e4aa083f07b360/location_a8e4aa083f07b360_20150303095638.csv', 'rb')\n"
       ]
      },
      {
       "output_type": "stream",
       "stream": "stderr",
       "text": [
        "DEBUG:paramiko.transport.sftp:[chan 0] open('smartdays/server/uploads/a8e4aa083f07b360/location_a8e4aa083f07b360_20150303095638.csv', 'rb') -> 00000000\n"
       ]
      },
      {
       "output_type": "stream",
       "stream": "stderr",
       "text": [
        "DEBUG:paramiko.transport.sftp:[chan 0] stat('smartdays/server/uploads/a8e4aa083f07b360/location_a8e4aa083f07b360_20150303095638.csv')\n"
       ]
      },
      {
       "output_type": "stream",
       "stream": "stderr",
       "text": [
        "DEBUG:paramiko.transport.sftp:[chan 0] close(00000000)\n"
       ]
      },
      {
       "output_type": "stream",
       "stream": "stderr",
       "text": [
        "DEBUG:paramiko.transport.sftp:[chan 0] stat('smartdays/server/uploads/a8e4aa083f07b360/location_a8e4aa083f07b360_20150303115331.csv')\n"
       ]
      },
      {
       "output_type": "stream",
       "stream": "stderr",
       "text": [
        "DEBUG:paramiko.transport.sftp:[chan 0] open('smartdays/server/uploads/a8e4aa083f07b360/location_a8e4aa083f07b360_20150303115331.csv', 'rb')\n"
       ]
      },
      {
       "output_type": "stream",
       "stream": "stderr",
       "text": [
        "DEBUG:paramiko.transport.sftp:[chan 0] open('smartdays/server/uploads/a8e4aa083f07b360/location_a8e4aa083f07b360_20150303115331.csv', 'rb') -> 00000000\n"
       ]
      },
      {
       "output_type": "stream",
       "stream": "stderr",
       "text": [
        "DEBUG:paramiko.transport.sftp:[chan 0] stat('smartdays/server/uploads/a8e4aa083f07b360/location_a8e4aa083f07b360_20150303115331.csv')\n"
       ]
      },
      {
       "output_type": "stream",
       "stream": "stderr",
       "text": [
        "DEBUG:paramiko.transport.sftp:[chan 0] close(00000000)\n"
       ]
      },
      {
       "output_type": "stream",
       "stream": "stderr",
       "text": [
        "DEBUG:paramiko.transport.sftp:[chan 0] stat('smartdays/server/uploads/a8e4aa083f07b360/location_a8e4aa083f07b360_20150303235959.csv')\n"
       ]
      },
      {
       "output_type": "stream",
       "stream": "stderr",
       "text": [
        "DEBUG:paramiko.transport.sftp:[chan 0] open('smartdays/server/uploads/a8e4aa083f07b360/location_a8e4aa083f07b360_20150303235959.csv', 'rb')\n"
       ]
      },
      {
       "output_type": "stream",
       "stream": "stderr",
       "text": [
        "DEBUG:paramiko.transport.sftp:[chan 0] open('smartdays/server/uploads/a8e4aa083f07b360/location_a8e4aa083f07b360_20150303235959.csv', 'rb') -> 00000000\n"
       ]
      },
      {
       "output_type": "stream",
       "stream": "stderr",
       "text": [
        "DEBUG:paramiko.transport.sftp:[chan 0] stat('smartdays/server/uploads/a8e4aa083f07b360/location_a8e4aa083f07b360_20150303235959.csv')\n"
       ]
      },
      {
       "output_type": "stream",
       "stream": "stderr",
       "text": [
        "DEBUG:paramiko.transport.sftp:[chan 0] close(00000000)\n"
       ]
      },
      {
       "output_type": "stream",
       "stream": "stderr",
       "text": [
        "DEBUG:paramiko.transport.sftp:[chan 0] stat('smartdays/server/uploads/a8e4aa083f07b360/location_a8e4aa083f07b360_20150304000006.csv')\n"
       ]
      },
      {
       "output_type": "stream",
       "stream": "stderr",
       "text": [
        "DEBUG:paramiko.transport.sftp:[chan 0] open('smartdays/server/uploads/a8e4aa083f07b360/location_a8e4aa083f07b360_20150304000006.csv', 'rb')\n"
       ]
      },
      {
       "output_type": "stream",
       "stream": "stderr",
       "text": [
        "DEBUG:paramiko.transport.sftp:[chan 0] open('smartdays/server/uploads/a8e4aa083f07b360/location_a8e4aa083f07b360_20150304000006.csv', 'rb') -> 00000000\n"
       ]
      },
      {
       "output_type": "stream",
       "stream": "stderr",
       "text": [
        "DEBUG:paramiko.transport.sftp:[chan 0] stat('smartdays/server/uploads/a8e4aa083f07b360/location_a8e4aa083f07b360_20150304000006.csv')\n"
       ]
      },
      {
       "output_type": "stream",
       "stream": "stderr",
       "text": [
        "DEBUG:paramiko.transport.sftp:[chan 0] close(00000000)\n"
       ]
      },
      {
       "output_type": "stream",
       "stream": "stderr",
       "text": [
        "DEBUG:paramiko.transport.sftp:[chan 0] stat('smartdays/server/uploads/a8e4aa083f07b360/location_a8e4aa083f07b360_20150304084648.csv')\n"
       ]
      },
      {
       "output_type": "stream",
       "stream": "stderr",
       "text": [
        "DEBUG:paramiko.transport.sftp:[chan 0] open('smartdays/server/uploads/a8e4aa083f07b360/location_a8e4aa083f07b360_20150304084648.csv', 'rb')\n"
       ]
      },
      {
       "output_type": "stream",
       "stream": "stderr",
       "text": [
        "DEBUG:paramiko.transport.sftp:[chan 0] open('smartdays/server/uploads/a8e4aa083f07b360/location_a8e4aa083f07b360_20150304084648.csv', 'rb') -> 00000000\n"
       ]
      },
      {
       "output_type": "stream",
       "stream": "stderr",
       "text": [
        "DEBUG:paramiko.transport.sftp:[chan 0] stat('smartdays/server/uploads/a8e4aa083f07b360/location_a8e4aa083f07b360_20150304084648.csv')\n"
       ]
      },
      {
       "output_type": "stream",
       "stream": "stderr",
       "text": [
        "DEBUG:paramiko.transport.sftp:[chan 0] close(00000000)\n"
       ]
      },
      {
       "output_type": "stream",
       "stream": "stderr",
       "text": [
        "DEBUG:paramiko.transport.sftp:[chan 0] stat('smartdays/server/uploads/a8e4aa083f07b360/location_a8e4aa083f07b360_20150304084924.csv')\n"
       ]
      },
      {
       "output_type": "stream",
       "stream": "stderr",
       "text": [
        "DEBUG:paramiko.transport.sftp:[chan 0] open('smartdays/server/uploads/a8e4aa083f07b360/location_a8e4aa083f07b360_20150304084924.csv', 'rb')\n"
       ]
      },
      {
       "output_type": "stream",
       "stream": "stderr",
       "text": [
        "DEBUG:paramiko.transport.sftp:[chan 0] open('smartdays/server/uploads/a8e4aa083f07b360/location_a8e4aa083f07b360_20150304084924.csv', 'rb') -> 00000000\n"
       ]
      },
      {
       "output_type": "stream",
       "stream": "stderr",
       "text": [
        "DEBUG:paramiko.transport.sftp:[chan 0] stat('smartdays/server/uploads/a8e4aa083f07b360/location_a8e4aa083f07b360_20150304084924.csv')\n"
       ]
      },
      {
       "output_type": "stream",
       "stream": "stderr",
       "text": [
        "DEBUG:paramiko.transport.sftp:[chan 0] close(00000000)\n"
       ]
      },
      {
       "output_type": "stream",
       "stream": "stderr",
       "text": [
        "DEBUG:paramiko.transport.sftp:[chan 0] stat('smartdays/server/uploads/a8e4aa083f07b360/location_a8e4aa083f07b360_20150304085021.csv')\n"
       ]
      },
      {
       "output_type": "stream",
       "stream": "stderr",
       "text": [
        "DEBUG:paramiko.transport.sftp:[chan 0] open('smartdays/server/uploads/a8e4aa083f07b360/location_a8e4aa083f07b360_20150304085021.csv', 'rb')\n"
       ]
      },
      {
       "output_type": "stream",
       "stream": "stderr",
       "text": [
        "DEBUG:paramiko.transport.sftp:[chan 0] open('smartdays/server/uploads/a8e4aa083f07b360/location_a8e4aa083f07b360_20150304085021.csv', 'rb') -> 00000000\n"
       ]
      },
      {
       "output_type": "stream",
       "stream": "stderr",
       "text": [
        "DEBUG:paramiko.transport.sftp:[chan 0] stat('smartdays/server/uploads/a8e4aa083f07b360/location_a8e4aa083f07b360_20150304085021.csv')\n"
       ]
      },
      {
       "output_type": "stream",
       "stream": "stderr",
       "text": [
        "DEBUG:paramiko.transport.sftp:[chan 0] close(00000000)\n"
       ]
      },
      {
       "output_type": "stream",
       "stream": "stderr",
       "text": [
        "DEBUG:paramiko.transport.sftp:[chan 0] stat('smartdays/server/uploads/a8e4aa083f07b360/location_a8e4aa083f07b360_20150304094120.csv')\n"
       ]
      },
      {
       "output_type": "stream",
       "stream": "stderr",
       "text": [
        "DEBUG:paramiko.transport.sftp:[chan 0] open('smartdays/server/uploads/a8e4aa083f07b360/location_a8e4aa083f07b360_20150304094120.csv', 'rb')\n"
       ]
      },
      {
       "output_type": "stream",
       "stream": "stderr",
       "text": [
        "DEBUG:paramiko.transport.sftp:[chan 0] open('smartdays/server/uploads/a8e4aa083f07b360/location_a8e4aa083f07b360_20150304094120.csv', 'rb') -> 00000000\n"
       ]
      },
      {
       "output_type": "stream",
       "stream": "stderr",
       "text": [
        "DEBUG:paramiko.transport.sftp:[chan 0] stat('smartdays/server/uploads/a8e4aa083f07b360/location_a8e4aa083f07b360_20150304094120.csv')\n"
       ]
      },
      {
       "output_type": "stream",
       "stream": "stderr",
       "text": [
        "DEBUG:paramiko.transport.sftp:[chan 0] close(00000000)\n"
       ]
      },
      {
       "output_type": "stream",
       "stream": "stderr",
       "text": [
        "DEBUG:paramiko.transport.sftp:[chan 0] stat('smartdays/server/uploads/a8e4aa083f07b360/location_a8e4aa083f07b360_20150304095102.csv')\n"
       ]
      },
      {
       "output_type": "stream",
       "stream": "stderr",
       "text": [
        "DEBUG:paramiko.transport.sftp:[chan 0] open('smartdays/server/uploads/a8e4aa083f07b360/location_a8e4aa083f07b360_20150304095102.csv', 'rb')\n"
       ]
      },
      {
       "output_type": "stream",
       "stream": "stderr",
       "text": [
        "DEBUG:paramiko.transport.sftp:[chan 0] open('smartdays/server/uploads/a8e4aa083f07b360/location_a8e4aa083f07b360_20150304095102.csv', 'rb') -> 00000000\n"
       ]
      },
      {
       "output_type": "stream",
       "stream": "stderr",
       "text": [
        "DEBUG:paramiko.transport.sftp:[chan 0] stat('smartdays/server/uploads/a8e4aa083f07b360/location_a8e4aa083f07b360_20150304095102.csv')\n"
       ]
      },
      {
       "output_type": "stream",
       "stream": "stderr",
       "text": [
        "DEBUG:paramiko.transport.sftp:[chan 0] close(00000000)\n"
       ]
      },
      {
       "output_type": "stream",
       "stream": "stderr",
       "text": [
        "DEBUG:paramiko.transport.sftp:[chan 0] stat('smartdays/server/uploads/a8e4aa083f07b360/location_a8e4aa083f07b360_20150304095127.csv')\n"
       ]
      },
      {
       "output_type": "stream",
       "stream": "stderr",
       "text": [
        "DEBUG:paramiko.transport.sftp:[chan 0] open('smartdays/server/uploads/a8e4aa083f07b360/location_a8e4aa083f07b360_20150304095127.csv', 'rb')\n"
       ]
      },
      {
       "output_type": "stream",
       "stream": "stderr",
       "text": [
        "DEBUG:paramiko.transport.sftp:[chan 0] open('smartdays/server/uploads/a8e4aa083f07b360/location_a8e4aa083f07b360_20150304095127.csv', 'rb') -> 00000000\n"
       ]
      },
      {
       "output_type": "stream",
       "stream": "stderr",
       "text": [
        "DEBUG:paramiko.transport.sftp:[chan 0] stat('smartdays/server/uploads/a8e4aa083f07b360/location_a8e4aa083f07b360_20150304095127.csv')\n"
       ]
      },
      {
       "output_type": "stream",
       "stream": "stderr",
       "text": [
        "DEBUG:paramiko.transport.sftp:[chan 0] close(00000000)\n"
       ]
      },
      {
       "output_type": "stream",
       "stream": "stderr",
       "text": [
        "DEBUG:paramiko.transport.sftp:[chan 0] stat('smartdays/server/uploads/a8e4aa083f07b360/location_a8e4aa083f07b360_20150304095148.csv')\n"
       ]
      },
      {
       "output_type": "stream",
       "stream": "stderr",
       "text": [
        "DEBUG:paramiko.transport.sftp:[chan 0] open('smartdays/server/uploads/a8e4aa083f07b360/location_a8e4aa083f07b360_20150304095148.csv', 'rb')\n"
       ]
      },
      {
       "output_type": "stream",
       "stream": "stderr",
       "text": [
        "DEBUG:paramiko.transport.sftp:[chan 0] open('smartdays/server/uploads/a8e4aa083f07b360/location_a8e4aa083f07b360_20150304095148.csv', 'rb') -> 00000000\n"
       ]
      },
      {
       "output_type": "stream",
       "stream": "stderr",
       "text": [
        "DEBUG:paramiko.transport.sftp:[chan 0] stat('smartdays/server/uploads/a8e4aa083f07b360/location_a8e4aa083f07b360_20150304095148.csv')\n"
       ]
      },
      {
       "output_type": "stream",
       "stream": "stderr",
       "text": [
        "DEBUG:paramiko.transport.sftp:[chan 0] close(00000000)\n"
       ]
      },
      {
       "output_type": "stream",
       "stream": "stderr",
       "text": [
        "DEBUG:paramiko.transport.sftp:[chan 0] stat('smartdays/server/uploads/a8e4aa083f07b360/location_a8e4aa083f07b360_20150304095247.csv')\n"
       ]
      },
      {
       "output_type": "stream",
       "stream": "stderr",
       "text": [
        "DEBUG:paramiko.transport.sftp:[chan 0] open('smartdays/server/uploads/a8e4aa083f07b360/location_a8e4aa083f07b360_20150304095247.csv', 'rb')\n"
       ]
      },
      {
       "output_type": "stream",
       "stream": "stderr",
       "text": [
        "DEBUG:paramiko.transport.sftp:[chan 0] open('smartdays/server/uploads/a8e4aa083f07b360/location_a8e4aa083f07b360_20150304095247.csv', 'rb') -> 00000000\n"
       ]
      },
      {
       "output_type": "stream",
       "stream": "stderr",
       "text": [
        "DEBUG:paramiko.transport.sftp:[chan 0] stat('smartdays/server/uploads/a8e4aa083f07b360/location_a8e4aa083f07b360_20150304095247.csv')\n"
       ]
      },
      {
       "output_type": "stream",
       "stream": "stderr",
       "text": [
        "DEBUG:paramiko.transport.sftp:[chan 0] close(00000000)\n"
       ]
      },
      {
       "output_type": "stream",
       "stream": "stderr",
       "text": [
        "DEBUG:paramiko.transport.sftp:[chan 0] stat('smartdays/server/uploads/a8e4aa083f07b360/location_a8e4aa083f07b360_20150305080642.csv')\n"
       ]
      },
      {
       "output_type": "stream",
       "stream": "stderr",
       "text": [
        "DEBUG:paramiko.transport.sftp:[chan 0] open('smartdays/server/uploads/a8e4aa083f07b360/location_a8e4aa083f07b360_20150305080642.csv', 'rb')\n"
       ]
      },
      {
       "output_type": "stream",
       "stream": "stderr",
       "text": [
        "DEBUG:paramiko.transport.sftp:[chan 0] open('smartdays/server/uploads/a8e4aa083f07b360/location_a8e4aa083f07b360_20150305080642.csv', 'rb') -> 00000000\n"
       ]
      },
      {
       "output_type": "stream",
       "stream": "stderr",
       "text": [
        "DEBUG:paramiko.transport.sftp:[chan 0] stat('smartdays/server/uploads/a8e4aa083f07b360/location_a8e4aa083f07b360_20150305080642.csv')\n"
       ]
      },
      {
       "output_type": "stream",
       "stream": "stderr",
       "text": [
        "DEBUG:paramiko.transport.sftp:[chan 0] close(00000000)\n"
       ]
      },
      {
       "output_type": "stream",
       "stream": "stderr",
       "text": [
        "DEBUG:paramiko.transport.sftp:[chan 0] stat('smartdays/server/uploads/a8e4aa083f07b360/location_a8e4aa083f07b360_20150305141601.csv')\n"
       ]
      },
      {
       "output_type": "stream",
       "stream": "stderr",
       "text": [
        "DEBUG:paramiko.transport.sftp:[chan 0] open('smartdays/server/uploads/a8e4aa083f07b360/location_a8e4aa083f07b360_20150305141601.csv', 'rb')\n"
       ]
      },
      {
       "output_type": "stream",
       "stream": "stderr",
       "text": [
        "DEBUG:paramiko.transport.sftp:[chan 0] open('smartdays/server/uploads/a8e4aa083f07b360/location_a8e4aa083f07b360_20150305141601.csv', 'rb') -> 00000000\n"
       ]
      },
      {
       "output_type": "stream",
       "stream": "stderr",
       "text": [
        "DEBUG:paramiko.transport.sftp:[chan 0] stat('smartdays/server/uploads/a8e4aa083f07b360/location_a8e4aa083f07b360_20150305141601.csv')\n"
       ]
      },
      {
       "output_type": "stream",
       "stream": "stderr",
       "text": [
        "DEBUG:paramiko.transport.sftp:[chan 0] close(00000000)\n"
       ]
      },
      {
       "output_type": "stream",
       "stream": "stderr",
       "text": [
        "DEBUG:paramiko.transport.sftp:[chan 0] stat('smartdays/server/uploads/a8e4aa083f07b360/location_a8e4aa083f07b360_20150306084032.csv')\n"
       ]
      },
      {
       "output_type": "stream",
       "stream": "stderr",
       "text": [
        "DEBUG:paramiko.transport.sftp:[chan 0] open('smartdays/server/uploads/a8e4aa083f07b360/location_a8e4aa083f07b360_20150306084032.csv', 'rb')\n"
       ]
      },
      {
       "output_type": "stream",
       "stream": "stderr",
       "text": [
        "DEBUG:paramiko.transport.sftp:[chan 0] open('smartdays/server/uploads/a8e4aa083f07b360/location_a8e4aa083f07b360_20150306084032.csv', 'rb') -> 00000000\n"
       ]
      },
      {
       "output_type": "stream",
       "stream": "stderr",
       "text": [
        "DEBUG:paramiko.transport.sftp:[chan 0] stat('smartdays/server/uploads/a8e4aa083f07b360/location_a8e4aa083f07b360_20150306084032.csv')\n"
       ]
      },
      {
       "output_type": "stream",
       "stream": "stderr",
       "text": [
        "DEBUG:paramiko.transport.sftp:[chan 0] close(00000000)\n"
       ]
      },
      {
       "output_type": "stream",
       "stream": "stderr",
       "text": [
        "DEBUG:paramiko.transport.sftp:[chan 0] stat('smartdays/server/uploads/a8e4aa083f07b360/location_a8e4aa083f07b360_20150313105235.csv')\n"
       ]
      },
      {
       "output_type": "stream",
       "stream": "stderr",
       "text": [
        "DEBUG:paramiko.transport.sftp:[chan 0] open('smartdays/server/uploads/a8e4aa083f07b360/location_a8e4aa083f07b360_20150313105235.csv', 'rb')\n"
       ]
      },
      {
       "output_type": "stream",
       "stream": "stderr",
       "text": [
        "DEBUG:paramiko.transport.sftp:[chan 0] open('smartdays/server/uploads/a8e4aa083f07b360/location_a8e4aa083f07b360_20150313105235.csv', 'rb') -> 00000000\n"
       ]
      },
      {
       "output_type": "stream",
       "stream": "stderr",
       "text": [
        "DEBUG:paramiko.transport.sftp:[chan 0] stat('smartdays/server/uploads/a8e4aa083f07b360/location_a8e4aa083f07b360_20150313105235.csv')\n"
       ]
      },
      {
       "output_type": "stream",
       "stream": "stderr",
       "text": [
        "DEBUG:paramiko.transport.sftp:[chan 0] close(00000000)\n"
       ]
      },
      {
       "output_type": "stream",
       "stream": "stderr",
       "text": [
        "DEBUG:paramiko.transport.sftp:[chan 0] stat('smartdays/server/uploads/a8e4aa083f07b360/location_a8e4aa083f07b360_20150313105440.csv')\n"
       ]
      },
      {
       "output_type": "stream",
       "stream": "stderr",
       "text": [
        "DEBUG:paramiko.transport.sftp:[chan 0] open('smartdays/server/uploads/a8e4aa083f07b360/location_a8e4aa083f07b360_20150313105440.csv', 'rb')\n"
       ]
      },
      {
       "output_type": "stream",
       "stream": "stderr",
       "text": [
        "DEBUG:paramiko.transport.sftp:[chan 0] open('smartdays/server/uploads/a8e4aa083f07b360/location_a8e4aa083f07b360_20150313105440.csv', 'rb') -> 00000000\n"
       ]
      },
      {
       "output_type": "stream",
       "stream": "stderr",
       "text": [
        "DEBUG:paramiko.transport.sftp:[chan 0] stat('smartdays/server/uploads/a8e4aa083f07b360/location_a8e4aa083f07b360_20150313105440.csv')\n"
       ]
      },
      {
       "output_type": "stream",
       "stream": "stderr",
       "text": [
        "DEBUG:paramiko.transport.sftp:[chan 0] close(00000000)\n"
       ]
      },
      {
       "output_type": "stream",
       "stream": "stderr",
       "text": [
        "DEBUG:paramiko.transport.sftp:[chan 0] stat('smartdays/server/uploads/a8e4aa083f07b360/location_a8e4aa083f07b360_20150313185010.csv')\n"
       ]
      },
      {
       "output_type": "stream",
       "stream": "stderr",
       "text": [
        "DEBUG:paramiko.transport.sftp:[chan 0] open('smartdays/server/uploads/a8e4aa083f07b360/location_a8e4aa083f07b360_20150313185010.csv', 'rb')\n"
       ]
      },
      {
       "output_type": "stream",
       "stream": "stderr",
       "text": [
        "DEBUG:paramiko.transport.sftp:[chan 0] open('smartdays/server/uploads/a8e4aa083f07b360/location_a8e4aa083f07b360_20150313185010.csv', 'rb') -> 00000000\n"
       ]
      },
      {
       "output_type": "stream",
       "stream": "stderr",
       "text": [
        "DEBUG:paramiko.transport.sftp:[chan 0] stat('smartdays/server/uploads/a8e4aa083f07b360/location_a8e4aa083f07b360_20150313185010.csv')\n"
       ]
      },
      {
       "output_type": "stream",
       "stream": "stderr",
       "text": [
        "DEBUG:paramiko.transport.sftp:[chan 0] close(00000000)\n"
       ]
      },
      {
       "output_type": "stream",
       "stream": "stderr",
       "text": [
        "DEBUG:paramiko.transport.sftp:[chan 0] stat('smartdays/server/uploads/a8e4aa083f07b360/location_a8e4aa083f07b360_20150313194456.csv')\n"
       ]
      },
      {
       "output_type": "stream",
       "stream": "stderr",
       "text": [
        "DEBUG:paramiko.transport.sftp:[chan 0] open('smartdays/server/uploads/a8e4aa083f07b360/location_a8e4aa083f07b360_20150313194456.csv', 'rb')\n"
       ]
      },
      {
       "output_type": "stream",
       "stream": "stderr",
       "text": [
        "DEBUG:paramiko.transport.sftp:[chan 0] open('smartdays/server/uploads/a8e4aa083f07b360/location_a8e4aa083f07b360_20150313194456.csv', 'rb') -> 00000000\n"
       ]
      },
      {
       "output_type": "stream",
       "stream": "stderr",
       "text": [
        "DEBUG:paramiko.transport.sftp:[chan 0] stat('smartdays/server/uploads/a8e4aa083f07b360/location_a8e4aa083f07b360_20150313194456.csv')\n"
       ]
      },
      {
       "output_type": "stream",
       "stream": "stderr",
       "text": [
        "DEBUG:paramiko.transport.sftp:[chan 0] close(00000000)\n"
       ]
      },
      {
       "output_type": "stream",
       "stream": "stderr",
       "text": [
        "DEBUG:paramiko.transport.sftp:[chan 0] stat('smartdays/server/uploads/a8e4aa083f07b360/location_a8e4aa083f07b360_20150313194915.csv')\n"
       ]
      },
      {
       "output_type": "stream",
       "stream": "stderr",
       "text": [
        "DEBUG:paramiko.transport.sftp:[chan 0] open('smartdays/server/uploads/a8e4aa083f07b360/location_a8e4aa083f07b360_20150313194915.csv', 'rb')\n"
       ]
      },
      {
       "output_type": "stream",
       "stream": "stderr",
       "text": [
        "DEBUG:paramiko.transport.sftp:[chan 0] open('smartdays/server/uploads/a8e4aa083f07b360/location_a8e4aa083f07b360_20150313194915.csv', 'rb') -> 00000000\n"
       ]
      },
      {
       "output_type": "stream",
       "stream": "stderr",
       "text": [
        "DEBUG:paramiko.transport.sftp:[chan 0] stat('smartdays/server/uploads/a8e4aa083f07b360/location_a8e4aa083f07b360_20150313194915.csv')\n"
       ]
      },
      {
       "output_type": "stream",
       "stream": "stderr",
       "text": [
        "DEBUG:paramiko.transport.sftp:[chan 0] close(00000000)\n"
       ]
      },
      {
       "output_type": "stream",
       "stream": "stderr",
       "text": [
        "DEBUG:paramiko.transport.sftp:[chan 0] stat('smartdays/server/uploads/a8e4aa083f07b360/location_a8e4aa083f07b360_20150314101341.csv')\n"
       ]
      },
      {
       "output_type": "stream",
       "stream": "stderr",
       "text": [
        "DEBUG:paramiko.transport.sftp:[chan 0] open('smartdays/server/uploads/a8e4aa083f07b360/location_a8e4aa083f07b360_20150314101341.csv', 'rb')\n"
       ]
      },
      {
       "output_type": "stream",
       "stream": "stderr",
       "text": [
        "DEBUG:paramiko.transport.sftp:[chan 0] open('smartdays/server/uploads/a8e4aa083f07b360/location_a8e4aa083f07b360_20150314101341.csv', 'rb') -> 00000000\n"
       ]
      },
      {
       "output_type": "stream",
       "stream": "stderr",
       "text": [
        "DEBUG:paramiko.transport.sftp:[chan 0] stat('smartdays/server/uploads/a8e4aa083f07b360/location_a8e4aa083f07b360_20150314101341.csv')\n"
       ]
      },
      {
       "output_type": "stream",
       "stream": "stderr",
       "text": [
        "DEBUG:paramiko.transport.sftp:[chan 0] close(00000000)\n"
       ]
      },
      {
       "output_type": "stream",
       "stream": "stderr",
       "text": [
        "DEBUG:paramiko.transport.sftp:[chan 0] stat('smartdays/server/uploads/a8e4aa083f07b360/location_a8e4aa083f07b360_20150314232635.csv')\n"
       ]
      },
      {
       "output_type": "stream",
       "stream": "stderr",
       "text": [
        "DEBUG:paramiko.transport.sftp:[chan 0] open('smartdays/server/uploads/a8e4aa083f07b360/location_a8e4aa083f07b360_20150314232635.csv', 'rb')\n"
       ]
      },
      {
       "output_type": "stream",
       "stream": "stderr",
       "text": [
        "DEBUG:paramiko.transport.sftp:[chan 0] open('smartdays/server/uploads/a8e4aa083f07b360/location_a8e4aa083f07b360_20150314232635.csv', 'rb') -> 00000000\n"
       ]
      },
      {
       "output_type": "stream",
       "stream": "stderr",
       "text": [
        "DEBUG:paramiko.transport.sftp:[chan 0] stat('smartdays/server/uploads/a8e4aa083f07b360/location_a8e4aa083f07b360_20150314232635.csv')\n"
       ]
      },
      {
       "output_type": "stream",
       "stream": "stderr",
       "text": [
        "DEBUG:paramiko.transport.sftp:[chan 0] close(00000000)\n"
       ]
      },
      {
       "output_type": "stream",
       "stream": "stderr",
       "text": [
        "DEBUG:paramiko.transport.sftp:[chan 0] stat('smartdays/server/uploads/a8e4aa083f07b360/location_a8e4aa083f07b360_20150317105529.csv')\n"
       ]
      },
      {
       "output_type": "stream",
       "stream": "stderr",
       "text": [
        "DEBUG:paramiko.transport.sftp:[chan 0] open('smartdays/server/uploads/a8e4aa083f07b360/location_a8e4aa083f07b360_20150317105529.csv', 'rb')\n"
       ]
      },
      {
       "output_type": "stream",
       "stream": "stderr",
       "text": [
        "DEBUG:paramiko.transport.sftp:[chan 0] open('smartdays/server/uploads/a8e4aa083f07b360/location_a8e4aa083f07b360_20150317105529.csv', 'rb') -> 00000000\n"
       ]
      },
      {
       "output_type": "stream",
       "stream": "stderr",
       "text": [
        "DEBUG:paramiko.transport.sftp:[chan 0] stat('smartdays/server/uploads/a8e4aa083f07b360/location_a8e4aa083f07b360_20150317105529.csv')\n"
       ]
      },
      {
       "output_type": "stream",
       "stream": "stderr",
       "text": [
        "DEBUG:paramiko.transport.sftp:[chan 0] close(00000000)\n"
       ]
      },
      {
       "output_type": "stream",
       "stream": "stderr",
       "text": [
        "DEBUG:paramiko.transport.sftp:[chan 0] stat('smartdays/server/uploads/a8e4aa083f07b360/location_a8e4aa083f07b360_20150317113100.csv')\n"
       ]
      },
      {
       "output_type": "stream",
       "stream": "stderr",
       "text": [
        "DEBUG:paramiko.transport.sftp:[chan 0] open('smartdays/server/uploads/a8e4aa083f07b360/location_a8e4aa083f07b360_20150317113100.csv', 'rb')\n"
       ]
      },
      {
       "output_type": "stream",
       "stream": "stderr",
       "text": [
        "DEBUG:paramiko.transport.sftp:[chan 0] open('smartdays/server/uploads/a8e4aa083f07b360/location_a8e4aa083f07b360_20150317113100.csv', 'rb') -> 00000000\n"
       ]
      },
      {
       "output_type": "stream",
       "stream": "stderr",
       "text": [
        "DEBUG:paramiko.transport.sftp:[chan 0] stat('smartdays/server/uploads/a8e4aa083f07b360/location_a8e4aa083f07b360_20150317113100.csv')\n"
       ]
      },
      {
       "output_type": "stream",
       "stream": "stderr",
       "text": [
        "DEBUG:paramiko.transport.sftp:[chan 0] close(00000000)\n"
       ]
      },
      {
       "output_type": "stream",
       "stream": "stderr",
       "text": [
        "DEBUG:paramiko.transport.sftp:[chan 0] stat('smartdays/server/uploads/a8e4aa083f07b360/location_a8e4aa083f07b360_20150317113121.csv')\n"
       ]
      },
      {
       "output_type": "stream",
       "stream": "stderr",
       "text": [
        "DEBUG:paramiko.transport.sftp:[chan 0] open('smartdays/server/uploads/a8e4aa083f07b360/location_a8e4aa083f07b360_20150317113121.csv', 'rb')\n"
       ]
      },
      {
       "output_type": "stream",
       "stream": "stderr",
       "text": [
        "DEBUG:paramiko.transport.sftp:[chan 0] open('smartdays/server/uploads/a8e4aa083f07b360/location_a8e4aa083f07b360_20150317113121.csv', 'rb') -> 00000000\n"
       ]
      },
      {
       "output_type": "stream",
       "stream": "stderr",
       "text": [
        "DEBUG:paramiko.transport.sftp:[chan 0] stat('smartdays/server/uploads/a8e4aa083f07b360/location_a8e4aa083f07b360_20150317113121.csv')\n"
       ]
      },
      {
       "output_type": "stream",
       "stream": "stderr",
       "text": [
        "DEBUG:paramiko.transport.sftp:[chan 0] close(00000000)\n"
       ]
      },
      {
       "output_type": "stream",
       "stream": "stderr",
       "text": [
        "DEBUG:paramiko.transport.sftp:[chan 0] stat('smartdays/server/uploads/a8e4aa083f07b360/location_a8e4aa083f07b360_20150317113123.csv')\n"
       ]
      },
      {
       "output_type": "stream",
       "stream": "stderr",
       "text": [
        "DEBUG:paramiko.transport.sftp:[chan 0] open('smartdays/server/uploads/a8e4aa083f07b360/location_a8e4aa083f07b360_20150317113123.csv', 'rb')\n"
       ]
      },
      {
       "output_type": "stream",
       "stream": "stderr",
       "text": [
        "DEBUG:paramiko.transport.sftp:[chan 0] open('smartdays/server/uploads/a8e4aa083f07b360/location_a8e4aa083f07b360_20150317113123.csv', 'rb') -> 00000000\n"
       ]
      },
      {
       "output_type": "stream",
       "stream": "stderr",
       "text": [
        "DEBUG:paramiko.transport.sftp:[chan 0] stat('smartdays/server/uploads/a8e4aa083f07b360/location_a8e4aa083f07b360_20150317113123.csv')\n"
       ]
      },
      {
       "output_type": "stream",
       "stream": "stderr",
       "text": [
        "DEBUG:paramiko.transport.sftp:[chan 0] close(00000000)\n"
       ]
      },
      {
       "output_type": "stream",
       "stream": "stderr",
       "text": [
        "DEBUG:paramiko.transport.sftp:[chan 0] stat('smartdays/server/uploads/a8e4aa083f07b360/location_a8e4aa083f07b360_20150317190320.csv')\n"
       ]
      },
      {
       "output_type": "stream",
       "stream": "stderr",
       "text": [
        "DEBUG:paramiko.transport.sftp:[chan 0] open('smartdays/server/uploads/a8e4aa083f07b360/location_a8e4aa083f07b360_20150317190320.csv', 'rb')\n"
       ]
      },
      {
       "output_type": "stream",
       "stream": "stderr",
       "text": [
        "DEBUG:paramiko.transport.sftp:[chan 0] open('smartdays/server/uploads/a8e4aa083f07b360/location_a8e4aa083f07b360_20150317190320.csv', 'rb') -> 00000000\n"
       ]
      },
      {
       "output_type": "stream",
       "stream": "stderr",
       "text": [
        "DEBUG:paramiko.transport.sftp:[chan 0] stat('smartdays/server/uploads/a8e4aa083f07b360/location_a8e4aa083f07b360_20150317190320.csv')\n"
       ]
      },
      {
       "output_type": "stream",
       "stream": "stderr",
       "text": [
        "DEBUG:paramiko.transport.sftp:[chan 0] close(00000000)\n"
       ]
      },
      {
       "output_type": "stream",
       "stream": "stderr",
       "text": [
        "DEBUG:paramiko.transport.sftp:[chan 0] stat('smartdays/server/uploads/a8e4aa083f07b360/location_a8e4aa083f07b360_20150318084719.csv')\n"
       ]
      },
      {
       "output_type": "stream",
       "stream": "stderr",
       "text": [
        "DEBUG:paramiko.transport.sftp:[chan 0] open('smartdays/server/uploads/a8e4aa083f07b360/location_a8e4aa083f07b360_20150318084719.csv', 'rb')\n"
       ]
      },
      {
       "output_type": "stream",
       "stream": "stderr",
       "text": [
        "DEBUG:paramiko.transport.sftp:[chan 0] open('smartdays/server/uploads/a8e4aa083f07b360/location_a8e4aa083f07b360_20150318084719.csv', 'rb') -> 00000000\n"
       ]
      },
      {
       "output_type": "stream",
       "stream": "stderr",
       "text": [
        "DEBUG:paramiko.transport.sftp:[chan 0] stat('smartdays/server/uploads/a8e4aa083f07b360/location_a8e4aa083f07b360_20150318084719.csv')\n"
       ]
      },
      {
       "output_type": "stream",
       "stream": "stderr",
       "text": [
        "DEBUG:paramiko.transport.sftp:[chan 0] close(00000000)\n"
       ]
      },
      {
       "output_type": "stream",
       "stream": "stderr",
       "text": [
        "DEBUG:paramiko.transport.sftp:[chan 0] stat('smartdays/server/uploads/a8e4aa083f07b360/location_a8e4aa083f07b360_20150319000001.csv')\n"
       ]
      },
      {
       "output_type": "stream",
       "stream": "stderr",
       "text": [
        "DEBUG:paramiko.transport.sftp:[chan 0] open('smartdays/server/uploads/a8e4aa083f07b360/location_a8e4aa083f07b360_20150319000001.csv', 'rb')\n"
       ]
      },
      {
       "output_type": "stream",
       "stream": "stderr",
       "text": [
        "DEBUG:paramiko.transport.sftp:[chan 0] open('smartdays/server/uploads/a8e4aa083f07b360/location_a8e4aa083f07b360_20150319000001.csv', 'rb') -> 00000000\n"
       ]
      },
      {
       "output_type": "stream",
       "stream": "stderr",
       "text": [
        "DEBUG:paramiko.transport.sftp:[chan 0] stat('smartdays/server/uploads/a8e4aa083f07b360/location_a8e4aa083f07b360_20150319000001.csv')\n"
       ]
      },
      {
       "output_type": "stream",
       "stream": "stderr",
       "text": [
        "DEBUG:paramiko.transport.sftp:[chan 0] close(00000000)\n"
       ]
      },
      {
       "output_type": "stream",
       "stream": "stderr",
       "text": [
        "DEBUG:paramiko.transport.sftp:[chan 0] stat('smartdays/server/uploads/a8e4aa083f07b360/location_a8e4aa083f07b360_20150319081414.csv')\n"
       ]
      },
      {
       "output_type": "stream",
       "stream": "stderr",
       "text": [
        "DEBUG:paramiko.transport.sftp:[chan 0] open('smartdays/server/uploads/a8e4aa083f07b360/location_a8e4aa083f07b360_20150319081414.csv', 'rb')\n"
       ]
      },
      {
       "output_type": "stream",
       "stream": "stderr",
       "text": [
        "DEBUG:paramiko.transport.sftp:[chan 0] open('smartdays/server/uploads/a8e4aa083f07b360/location_a8e4aa083f07b360_20150319081414.csv', 'rb') -> 00000000\n"
       ]
      },
      {
       "output_type": "stream",
       "stream": "stderr",
       "text": [
        "DEBUG:paramiko.transport.sftp:[chan 0] stat('smartdays/server/uploads/a8e4aa083f07b360/location_a8e4aa083f07b360_20150319081414.csv')\n"
       ]
      },
      {
       "output_type": "stream",
       "stream": "stderr",
       "text": [
        "DEBUG:paramiko.transport.sftp:[chan 0] close(00000000)\n"
       ]
      },
      {
       "output_type": "stream",
       "stream": "stderr",
       "text": [
        "DEBUG:paramiko.transport.sftp:[chan 0] stat('smartdays/server/uploads/a8e4aa083f07b360/location_a8e4aa083f07b360_20150320000001.csv')\n"
       ]
      },
      {
       "output_type": "stream",
       "stream": "stderr",
       "text": [
        "DEBUG:paramiko.transport.sftp:[chan 0] open('smartdays/server/uploads/a8e4aa083f07b360/location_a8e4aa083f07b360_20150320000001.csv', 'rb')\n"
       ]
      },
      {
       "output_type": "stream",
       "stream": "stderr",
       "text": [
        "DEBUG:paramiko.transport.sftp:[chan 0] open('smartdays/server/uploads/a8e4aa083f07b360/location_a8e4aa083f07b360_20150320000001.csv', 'rb') -> 00000000\n"
       ]
      },
      {
       "output_type": "stream",
       "stream": "stderr",
       "text": [
        "DEBUG:paramiko.transport.sftp:[chan 0] stat('smartdays/server/uploads/a8e4aa083f07b360/location_a8e4aa083f07b360_20150320000001.csv')\n"
       ]
      },
      {
       "output_type": "stream",
       "stream": "stderr",
       "text": [
        "DEBUG:paramiko.transport.sftp:[chan 0] close(00000000)\n"
       ]
      },
      {
       "output_type": "stream",
       "stream": "stderr",
       "text": [
        "DEBUG:paramiko.transport.sftp:[chan 0] stat('smartdays/server/uploads/a8e4aa083f07b360/location_a8e4aa083f07b360_20150320104716.csv')\n"
       ]
      },
      {
       "output_type": "stream",
       "stream": "stderr",
       "text": [
        "DEBUG:paramiko.transport.sftp:[chan 0] open('smartdays/server/uploads/a8e4aa083f07b360/location_a8e4aa083f07b360_20150320104716.csv', 'rb')\n"
       ]
      },
      {
       "output_type": "stream",
       "stream": "stderr",
       "text": [
        "DEBUG:paramiko.transport.sftp:[chan 0] open('smartdays/server/uploads/a8e4aa083f07b360/location_a8e4aa083f07b360_20150320104716.csv', 'rb') -> 00000000\n"
       ]
      },
      {
       "output_type": "stream",
       "stream": "stderr",
       "text": [
        "DEBUG:paramiko.transport.sftp:[chan 0] stat('smartdays/server/uploads/a8e4aa083f07b360/location_a8e4aa083f07b360_20150320104716.csv')\n"
       ]
      },
      {
       "output_type": "stream",
       "stream": "stderr",
       "text": [
        "DEBUG:paramiko.transport.sftp:[chan 0] close(00000000)\n"
       ]
      },
      {
       "output_type": "stream",
       "stream": "stderr",
       "text": [
        "DEBUG:paramiko.transport.sftp:[chan 0] stat('smartdays/server/uploads/a8e4aa083f07b360/location_a8e4aa083f07b360_20150320105017.csv')\n"
       ]
      },
      {
       "output_type": "stream",
       "stream": "stderr",
       "text": [
        "DEBUG:paramiko.transport.sftp:[chan 0] open('smartdays/server/uploads/a8e4aa083f07b360/location_a8e4aa083f07b360_20150320105017.csv', 'rb')\n"
       ]
      },
      {
       "output_type": "stream",
       "stream": "stderr",
       "text": [
        "DEBUG:paramiko.transport.sftp:[chan 0] open('smartdays/server/uploads/a8e4aa083f07b360/location_a8e4aa083f07b360_20150320105017.csv', 'rb') -> 00000000\n"
       ]
      },
      {
       "output_type": "stream",
       "stream": "stderr",
       "text": [
        "DEBUG:paramiko.transport.sftp:[chan 0] stat('smartdays/server/uploads/a8e4aa083f07b360/location_a8e4aa083f07b360_20150320105017.csv')\n"
       ]
      },
      {
       "output_type": "stream",
       "stream": "stderr",
       "text": [
        "DEBUG:paramiko.transport.sftp:[chan 0] close(00000000)\n"
       ]
      },
      {
       "output_type": "stream",
       "stream": "stderr",
       "text": [
        "DEBUG:paramiko.transport.sftp:[chan 0] stat('smartdays/server/uploads/a8e4aa083f07b360/location_a8e4aa083f07b360_20150320110319.csv')\n"
       ]
      },
      {
       "output_type": "stream",
       "stream": "stderr",
       "text": [
        "DEBUG:paramiko.transport.sftp:[chan 0] open('smartdays/server/uploads/a8e4aa083f07b360/location_a8e4aa083f07b360_20150320110319.csv', 'rb')\n"
       ]
      },
      {
       "output_type": "stream",
       "stream": "stderr",
       "text": [
        "DEBUG:paramiko.transport.sftp:[chan 0] open('smartdays/server/uploads/a8e4aa083f07b360/location_a8e4aa083f07b360_20150320110319.csv', 'rb') -> 00000000\n"
       ]
      },
      {
       "output_type": "stream",
       "stream": "stderr",
       "text": [
        "DEBUG:paramiko.transport.sftp:[chan 0] stat('smartdays/server/uploads/a8e4aa083f07b360/location_a8e4aa083f07b360_20150320110319.csv')\n"
       ]
      },
      {
       "output_type": "stream",
       "stream": "stderr",
       "text": [
        "DEBUG:paramiko.transport.sftp:[chan 0] close(00000000)\n"
       ]
      },
      {
       "output_type": "stream",
       "stream": "stderr",
       "text": [
        "DEBUG:paramiko.transport.sftp:[chan 0] stat('smartdays/server/uploads/a8e4aa083f07b360/location_a8e4aa083f07b360_20150320111439.csv')\n"
       ]
      },
      {
       "output_type": "stream",
       "stream": "stderr",
       "text": [
        "DEBUG:paramiko.transport.sftp:[chan 0] open('smartdays/server/uploads/a8e4aa083f07b360/location_a8e4aa083f07b360_20150320111439.csv', 'rb')\n"
       ]
      },
      {
       "output_type": "stream",
       "stream": "stderr",
       "text": [
        "DEBUG:paramiko.transport.sftp:[chan 0] open('smartdays/server/uploads/a8e4aa083f07b360/location_a8e4aa083f07b360_20150320111439.csv', 'rb') -> 00000000\n"
       ]
      },
      {
       "output_type": "stream",
       "stream": "stderr",
       "text": [
        "DEBUG:paramiko.transport.sftp:[chan 0] stat('smartdays/server/uploads/a8e4aa083f07b360/location_a8e4aa083f07b360_20150320111439.csv')\n"
       ]
      },
      {
       "output_type": "stream",
       "stream": "stderr",
       "text": [
        "DEBUG:paramiko.transport.sftp:[chan 0] close(00000000)\n"
       ]
      },
      {
       "output_type": "stream",
       "stream": "stderr",
       "text": [
        "DEBUG:paramiko.transport.sftp:[chan 0] stat('smartdays/server/uploads/a8e4aa083f07b360/mood_a8e4aa083f07b360_20150123142424.csv')\n"
       ]
      },
      {
       "output_type": "stream",
       "stream": "stderr",
       "text": [
        "DEBUG:paramiko.transport.sftp:[chan 0] open('smartdays/server/uploads/a8e4aa083f07b360/mood_a8e4aa083f07b360_20150123142424.csv', 'rb')\n"
       ]
      },
      {
       "output_type": "stream",
       "stream": "stderr",
       "text": [
        "DEBUG:paramiko.transport.sftp:[chan 0] open('smartdays/server/uploads/a8e4aa083f07b360/mood_a8e4aa083f07b360_20150123142424.csv', 'rb') -> 00000000\n"
       ]
      },
      {
       "output_type": "stream",
       "stream": "stderr",
       "text": [
        "DEBUG:paramiko.transport.sftp:[chan 0] stat('smartdays/server/uploads/a8e4aa083f07b360/mood_a8e4aa083f07b360_20150123142424.csv')\n"
       ]
      },
      {
       "output_type": "stream",
       "stream": "stderr",
       "text": [
        "DEBUG:paramiko.transport.sftp:[chan 0] close(00000000)\n"
       ]
      },
      {
       "output_type": "stream",
       "stream": "stderr",
       "text": [
        "DEBUG:paramiko.transport.sftp:[chan 0] stat('smartdays/server/uploads/a8e4aa083f07b360/mood_a8e4aa083f07b360_20150302170901.csv')\n"
       ]
      },
      {
       "output_type": "stream",
       "stream": "stderr",
       "text": [
        "DEBUG:paramiko.transport.sftp:[chan 0] open('smartdays/server/uploads/a8e4aa083f07b360/mood_a8e4aa083f07b360_20150302170901.csv', 'rb')\n"
       ]
      },
      {
       "output_type": "stream",
       "stream": "stderr",
       "text": [
        "DEBUG:paramiko.transport.sftp:[chan 0] open('smartdays/server/uploads/a8e4aa083f07b360/mood_a8e4aa083f07b360_20150302170901.csv', 'rb') -> 00000000\n"
       ]
      },
      {
       "output_type": "stream",
       "stream": "stderr",
       "text": [
        "DEBUG:paramiko.transport.sftp:[chan 0] stat('smartdays/server/uploads/a8e4aa083f07b360/mood_a8e4aa083f07b360_20150302170901.csv')\n"
       ]
      },
      {
       "output_type": "stream",
       "stream": "stderr",
       "text": [
        "DEBUG:paramiko.transport.sftp:[chan 0] close(00000000)\n"
       ]
      },
      {
       "output_type": "stream",
       "stream": "stderr",
       "text": [
        "DEBUG:paramiko.transport.sftp:[chan 0] stat('smartdays/server/uploads/a8e4aa083f07b360/mood_a8e4aa083f07b360_20150302235226.csv')\n"
       ]
      },
      {
       "output_type": "stream",
       "stream": "stderr",
       "text": [
        "DEBUG:paramiko.transport.sftp:[chan 0] open('smartdays/server/uploads/a8e4aa083f07b360/mood_a8e4aa083f07b360_20150302235226.csv', 'rb')\n"
       ]
      },
      {
       "output_type": "stream",
       "stream": "stderr",
       "text": [
        "DEBUG:paramiko.transport.sftp:[chan 0] open('smartdays/server/uploads/a8e4aa083f07b360/mood_a8e4aa083f07b360_20150302235226.csv', 'rb') -> 00000000\n"
       ]
      },
      {
       "output_type": "stream",
       "stream": "stderr",
       "text": [
        "DEBUG:paramiko.transport.sftp:[chan 0] stat('smartdays/server/uploads/a8e4aa083f07b360/mood_a8e4aa083f07b360_20150302235226.csv')\n"
       ]
      },
      {
       "output_type": "stream",
       "stream": "stderr",
       "text": [
        "DEBUG:paramiko.transport.sftp:[chan 0] close(00000000)\n"
       ]
      },
      {
       "output_type": "stream",
       "stream": "stderr",
       "text": [
        "DEBUG:paramiko.transport.sftp:[chan 0] stat('smartdays/server/uploads/a8e4aa083f07b360/mood_a8e4aa083f07b360_20150303091411.csv')\n"
       ]
      },
      {
       "output_type": "stream",
       "stream": "stderr",
       "text": [
        "DEBUG:paramiko.transport.sftp:[chan 0] open('smartdays/server/uploads/a8e4aa083f07b360/mood_a8e4aa083f07b360_20150303091411.csv', 'rb')\n"
       ]
      },
      {
       "output_type": "stream",
       "stream": "stderr",
       "text": [
        "DEBUG:paramiko.transport.sftp:[chan 0] open('smartdays/server/uploads/a8e4aa083f07b360/mood_a8e4aa083f07b360_20150303091411.csv', 'rb') -> 00000000\n"
       ]
      },
      {
       "output_type": "stream",
       "stream": "stderr",
       "text": [
        "DEBUG:paramiko.transport.sftp:[chan 0] stat('smartdays/server/uploads/a8e4aa083f07b360/mood_a8e4aa083f07b360_20150303091411.csv')\n"
       ]
      },
      {
       "output_type": "stream",
       "stream": "stderr",
       "text": [
        "DEBUG:paramiko.transport.sftp:[chan 0] close(00000000)\n"
       ]
      },
      {
       "output_type": "stream",
       "stream": "stderr",
       "text": [
        "DEBUG:paramiko.transport.sftp:[chan 0] stat('smartdays/server/uploads/a8e4aa083f07b360/mood_a8e4aa083f07b360_20150303091421.csv')\n"
       ]
      },
      {
       "output_type": "stream",
       "stream": "stderr",
       "text": [
        "DEBUG:paramiko.transport.sftp:[chan 0] open('smartdays/server/uploads/a8e4aa083f07b360/mood_a8e4aa083f07b360_20150303091421.csv', 'rb')\n"
       ]
      },
      {
       "output_type": "stream",
       "stream": "stderr",
       "text": [
        "DEBUG:paramiko.transport.sftp:[chan 0] open('smartdays/server/uploads/a8e4aa083f07b360/mood_a8e4aa083f07b360_20150303091421.csv', 'rb') -> 00000000\n"
       ]
      },
      {
       "output_type": "stream",
       "stream": "stderr",
       "text": [
        "DEBUG:paramiko.transport.sftp:[chan 0] stat('smartdays/server/uploads/a8e4aa083f07b360/mood_a8e4aa083f07b360_20150303091421.csv')\n"
       ]
      },
      {
       "output_type": "stream",
       "stream": "stderr",
       "text": [
        "DEBUG:paramiko.transport.sftp:[chan 0] close(00000000)\n"
       ]
      },
      {
       "output_type": "stream",
       "stream": "stderr",
       "text": [
        "DEBUG:paramiko.transport.sftp:[chan 0] stat('smartdays/server/uploads/a8e4aa083f07b360/mood_a8e4aa083f07b360_20150303095638.csv')\n"
       ]
      },
      {
       "output_type": "stream",
       "stream": "stderr",
       "text": [
        "DEBUG:paramiko.transport.sftp:[chan 0] open('smartdays/server/uploads/a8e4aa083f07b360/mood_a8e4aa083f07b360_20150303095638.csv', 'rb')\n"
       ]
      },
      {
       "output_type": "stream",
       "stream": "stderr",
       "text": [
        "DEBUG:paramiko.transport.sftp:[chan 0] open('smartdays/server/uploads/a8e4aa083f07b360/mood_a8e4aa083f07b360_20150303095638.csv', 'rb') -> 00000000\n"
       ]
      },
      {
       "output_type": "stream",
       "stream": "stderr",
       "text": [
        "DEBUG:paramiko.transport.sftp:[chan 0] stat('smartdays/server/uploads/a8e4aa083f07b360/mood_a8e4aa083f07b360_20150303095638.csv')\n"
       ]
      },
      {
       "output_type": "stream",
       "stream": "stderr",
       "text": [
        "DEBUG:paramiko.transport.sftp:[chan 0] close(00000000)\n"
       ]
      },
      {
       "output_type": "stream",
       "stream": "stderr",
       "text": [
        "DEBUG:paramiko.transport.sftp:[chan 0] stat('smartdays/server/uploads/a8e4aa083f07b360/mood_a8e4aa083f07b360_20150303115331.csv')\n"
       ]
      },
      {
       "output_type": "stream",
       "stream": "stderr",
       "text": [
        "DEBUG:paramiko.transport.sftp:[chan 0] open('smartdays/server/uploads/a8e4aa083f07b360/mood_a8e4aa083f07b360_20150303115331.csv', 'rb')\n"
       ]
      },
      {
       "output_type": "stream",
       "stream": "stderr",
       "text": [
        "DEBUG:paramiko.transport.sftp:[chan 0] open('smartdays/server/uploads/a8e4aa083f07b360/mood_a8e4aa083f07b360_20150303115331.csv', 'rb') -> 00000000\n"
       ]
      },
      {
       "output_type": "stream",
       "stream": "stderr",
       "text": [
        "DEBUG:paramiko.transport.sftp:[chan 0] stat('smartdays/server/uploads/a8e4aa083f07b360/mood_a8e4aa083f07b360_20150303115331.csv')\n"
       ]
      },
      {
       "output_type": "stream",
       "stream": "stderr",
       "text": [
        "DEBUG:paramiko.transport.sftp:[chan 0] close(00000000)\n"
       ]
      },
      {
       "output_type": "stream",
       "stream": "stderr",
       "text": [
        "DEBUG:paramiko.transport.sftp:[chan 0] stat('smartdays/server/uploads/a8e4aa083f07b360/mood_a8e4aa083f07b360_20150303235959.csv')\n"
       ]
      },
      {
       "output_type": "stream",
       "stream": "stderr",
       "text": [
        "DEBUG:paramiko.transport.sftp:[chan 0] open('smartdays/server/uploads/a8e4aa083f07b360/mood_a8e4aa083f07b360_20150303235959.csv', 'rb')\n"
       ]
      },
      {
       "output_type": "stream",
       "stream": "stderr",
       "text": [
        "DEBUG:paramiko.transport.sftp:[chan 0] open('smartdays/server/uploads/a8e4aa083f07b360/mood_a8e4aa083f07b360_20150303235959.csv', 'rb') -> 00000000\n"
       ]
      },
      {
       "output_type": "stream",
       "stream": "stderr",
       "text": [
        "DEBUG:paramiko.transport.sftp:[chan 0] stat('smartdays/server/uploads/a8e4aa083f07b360/mood_a8e4aa083f07b360_20150303235959.csv')\n"
       ]
      },
      {
       "output_type": "stream",
       "stream": "stderr",
       "text": [
        "DEBUG:paramiko.transport.sftp:[chan 0] close(00000000)\n"
       ]
      },
      {
       "output_type": "stream",
       "stream": "stderr",
       "text": [
        "DEBUG:paramiko.transport.sftp:[chan 0] stat('smartdays/server/uploads/a8e4aa083f07b360/mood_a8e4aa083f07b360_20150304000006.csv')\n"
       ]
      },
      {
       "output_type": "stream",
       "stream": "stderr",
       "text": [
        "DEBUG:paramiko.transport.sftp:[chan 0] open('smartdays/server/uploads/a8e4aa083f07b360/mood_a8e4aa083f07b360_20150304000006.csv', 'rb')\n"
       ]
      },
      {
       "output_type": "stream",
       "stream": "stderr",
       "text": [
        "DEBUG:paramiko.transport.sftp:[chan 0] open('smartdays/server/uploads/a8e4aa083f07b360/mood_a8e4aa083f07b360_20150304000006.csv', 'rb') -> 00000000\n"
       ]
      },
      {
       "output_type": "stream",
       "stream": "stderr",
       "text": [
        "DEBUG:paramiko.transport.sftp:[chan 0] stat('smartdays/server/uploads/a8e4aa083f07b360/mood_a8e4aa083f07b360_20150304000006.csv')\n"
       ]
      },
      {
       "output_type": "stream",
       "stream": "stderr",
       "text": [
        "DEBUG:paramiko.transport.sftp:[chan 0] close(00000000)\n"
       ]
      },
      {
       "output_type": "stream",
       "stream": "stderr",
       "text": [
        "DEBUG:paramiko.transport.sftp:[chan 0] stat('smartdays/server/uploads/a8e4aa083f07b360/mood_a8e4aa083f07b360_20150304084648.csv')\n"
       ]
      },
      {
       "output_type": "stream",
       "stream": "stderr",
       "text": [
        "DEBUG:paramiko.transport.sftp:[chan 0] open('smartdays/server/uploads/a8e4aa083f07b360/mood_a8e4aa083f07b360_20150304084648.csv', 'rb')\n"
       ]
      },
      {
       "output_type": "stream",
       "stream": "stderr",
       "text": [
        "DEBUG:paramiko.transport.sftp:[chan 0] open('smartdays/server/uploads/a8e4aa083f07b360/mood_a8e4aa083f07b360_20150304084648.csv', 'rb') -> 00000000\n"
       ]
      },
      {
       "output_type": "stream",
       "stream": "stderr",
       "text": [
        "DEBUG:paramiko.transport.sftp:[chan 0] stat('smartdays/server/uploads/a8e4aa083f07b360/mood_a8e4aa083f07b360_20150304084648.csv')\n"
       ]
      },
      {
       "output_type": "stream",
       "stream": "stderr",
       "text": [
        "DEBUG:paramiko.transport.sftp:[chan 0] close(00000000)\n"
       ]
      },
      {
       "output_type": "stream",
       "stream": "stderr",
       "text": [
        "DEBUG:paramiko.transport.sftp:[chan 0] stat('smartdays/server/uploads/a8e4aa083f07b360/mood_a8e4aa083f07b360_20150304084924.csv')\n"
       ]
      },
      {
       "output_type": "stream",
       "stream": "stderr",
       "text": [
        "DEBUG:paramiko.transport.sftp:[chan 0] open('smartdays/server/uploads/a8e4aa083f07b360/mood_a8e4aa083f07b360_20150304084924.csv', 'rb')\n"
       ]
      },
      {
       "output_type": "stream",
       "stream": "stderr",
       "text": [
        "DEBUG:paramiko.transport.sftp:[chan 0] open('smartdays/server/uploads/a8e4aa083f07b360/mood_a8e4aa083f07b360_20150304084924.csv', 'rb') -> 00000000\n"
       ]
      },
      {
       "output_type": "stream",
       "stream": "stderr",
       "text": [
        "DEBUG:paramiko.transport.sftp:[chan 0] stat('smartdays/server/uploads/a8e4aa083f07b360/mood_a8e4aa083f07b360_20150304084924.csv')\n"
       ]
      },
      {
       "output_type": "stream",
       "stream": "stderr",
       "text": [
        "DEBUG:paramiko.transport.sftp:[chan 0] close(00000000)\n"
       ]
      },
      {
       "output_type": "stream",
       "stream": "stderr",
       "text": [
        "DEBUG:paramiko.transport.sftp:[chan 0] stat('smartdays/server/uploads/a8e4aa083f07b360/mood_a8e4aa083f07b360_20150304085021.csv')\n"
       ]
      },
      {
       "output_type": "stream",
       "stream": "stderr",
       "text": [
        "DEBUG:paramiko.transport.sftp:[chan 0] open('smartdays/server/uploads/a8e4aa083f07b360/mood_a8e4aa083f07b360_20150304085021.csv', 'rb')\n"
       ]
      },
      {
       "output_type": "stream",
       "stream": "stderr",
       "text": [
        "DEBUG:paramiko.transport.sftp:[chan 0] open('smartdays/server/uploads/a8e4aa083f07b360/mood_a8e4aa083f07b360_20150304085021.csv', 'rb') -> 00000000\n"
       ]
      },
      {
       "output_type": "stream",
       "stream": "stderr",
       "text": [
        "DEBUG:paramiko.transport.sftp:[chan 0] stat('smartdays/server/uploads/a8e4aa083f07b360/mood_a8e4aa083f07b360_20150304085021.csv')\n"
       ]
      },
      {
       "output_type": "stream",
       "stream": "stderr",
       "text": [
        "DEBUG:paramiko.transport.sftp:[chan 0] close(00000000)\n"
       ]
      },
      {
       "output_type": "stream",
       "stream": "stderr",
       "text": [
        "DEBUG:paramiko.transport.sftp:[chan 0] stat('smartdays/server/uploads/a8e4aa083f07b360/mood_a8e4aa083f07b360_20150304094120.csv')\n"
       ]
      },
      {
       "output_type": "stream",
       "stream": "stderr",
       "text": [
        "DEBUG:paramiko.transport.sftp:[chan 0] open('smartdays/server/uploads/a8e4aa083f07b360/mood_a8e4aa083f07b360_20150304094120.csv', 'rb')\n"
       ]
      },
      {
       "output_type": "stream",
       "stream": "stderr",
       "text": [
        "DEBUG:paramiko.transport.sftp:[chan 0] open('smartdays/server/uploads/a8e4aa083f07b360/mood_a8e4aa083f07b360_20150304094120.csv', 'rb') -> 00000000\n"
       ]
      },
      {
       "output_type": "stream",
       "stream": "stderr",
       "text": [
        "DEBUG:paramiko.transport.sftp:[chan 0] stat('smartdays/server/uploads/a8e4aa083f07b360/mood_a8e4aa083f07b360_20150304094120.csv')\n"
       ]
      },
      {
       "output_type": "stream",
       "stream": "stderr",
       "text": [
        "DEBUG:paramiko.transport.sftp:[chan 0] close(00000000)\n"
       ]
      },
      {
       "output_type": "stream",
       "stream": "stderr",
       "text": [
        "DEBUG:paramiko.transport.sftp:[chan 0] stat('smartdays/server/uploads/a8e4aa083f07b360/mood_a8e4aa083f07b360_20150304095102.csv')\n"
       ]
      },
      {
       "output_type": "stream",
       "stream": "stderr",
       "text": [
        "DEBUG:paramiko.transport.sftp:[chan 0] open('smartdays/server/uploads/a8e4aa083f07b360/mood_a8e4aa083f07b360_20150304095102.csv', 'rb')\n"
       ]
      },
      {
       "output_type": "stream",
       "stream": "stderr",
       "text": [
        "DEBUG:paramiko.transport.sftp:[chan 0] open('smartdays/server/uploads/a8e4aa083f07b360/mood_a8e4aa083f07b360_20150304095102.csv', 'rb') -> 00000000\n"
       ]
      },
      {
       "output_type": "stream",
       "stream": "stderr",
       "text": [
        "DEBUG:paramiko.transport.sftp:[chan 0] stat('smartdays/server/uploads/a8e4aa083f07b360/mood_a8e4aa083f07b360_20150304095102.csv')\n"
       ]
      },
      {
       "output_type": "stream",
       "stream": "stderr",
       "text": [
        "DEBUG:paramiko.transport.sftp:[chan 0] close(00000000)\n"
       ]
      },
      {
       "output_type": "stream",
       "stream": "stderr",
       "text": [
        "DEBUG:paramiko.transport.sftp:[chan 0] stat('smartdays/server/uploads/a8e4aa083f07b360/mood_a8e4aa083f07b360_20150304095127.csv')\n"
       ]
      },
      {
       "output_type": "stream",
       "stream": "stderr",
       "text": [
        "DEBUG:paramiko.transport.sftp:[chan 0] open('smartdays/server/uploads/a8e4aa083f07b360/mood_a8e4aa083f07b360_20150304095127.csv', 'rb')\n"
       ]
      },
      {
       "output_type": "stream",
       "stream": "stderr",
       "text": [
        "DEBUG:paramiko.transport.sftp:[chan 0] open('smartdays/server/uploads/a8e4aa083f07b360/mood_a8e4aa083f07b360_20150304095127.csv', 'rb') -> 00000000\n"
       ]
      },
      {
       "output_type": "stream",
       "stream": "stderr",
       "text": [
        "DEBUG:paramiko.transport.sftp:[chan 0] stat('smartdays/server/uploads/a8e4aa083f07b360/mood_a8e4aa083f07b360_20150304095127.csv')\n"
       ]
      },
      {
       "output_type": "stream",
       "stream": "stderr",
       "text": [
        "DEBUG:paramiko.transport.sftp:[chan 0] close(00000000)\n"
       ]
      },
      {
       "output_type": "stream",
       "stream": "stderr",
       "text": [
        "DEBUG:paramiko.transport.sftp:[chan 0] stat('smartdays/server/uploads/a8e4aa083f07b360/mood_a8e4aa083f07b360_20150304095148.csv')\n"
       ]
      },
      {
       "output_type": "stream",
       "stream": "stderr",
       "text": [
        "DEBUG:paramiko.transport.sftp:[chan 0] open('smartdays/server/uploads/a8e4aa083f07b360/mood_a8e4aa083f07b360_20150304095148.csv', 'rb')\n"
       ]
      },
      {
       "output_type": "stream",
       "stream": "stderr",
       "text": [
        "DEBUG:paramiko.transport.sftp:[chan 0] open('smartdays/server/uploads/a8e4aa083f07b360/mood_a8e4aa083f07b360_20150304095148.csv', 'rb') -> 00000000\n"
       ]
      },
      {
       "output_type": "stream",
       "stream": "stderr",
       "text": [
        "DEBUG:paramiko.transport.sftp:[chan 0] stat('smartdays/server/uploads/a8e4aa083f07b360/mood_a8e4aa083f07b360_20150304095148.csv')\n"
       ]
      },
      {
       "output_type": "stream",
       "stream": "stderr",
       "text": [
        "DEBUG:paramiko.transport.sftp:[chan 0] close(00000000)\n"
       ]
      },
      {
       "output_type": "stream",
       "stream": "stderr",
       "text": [
        "DEBUG:paramiko.transport.sftp:[chan 0] stat('smartdays/server/uploads/a8e4aa083f07b360/mood_a8e4aa083f07b360_20150304095247.csv')\n"
       ]
      },
      {
       "output_type": "stream",
       "stream": "stderr",
       "text": [
        "DEBUG:paramiko.transport.sftp:[chan 0] open('smartdays/server/uploads/a8e4aa083f07b360/mood_a8e4aa083f07b360_20150304095247.csv', 'rb')\n"
       ]
      },
      {
       "output_type": "stream",
       "stream": "stderr",
       "text": [
        "DEBUG:paramiko.transport.sftp:[chan 0] open('smartdays/server/uploads/a8e4aa083f07b360/mood_a8e4aa083f07b360_20150304095247.csv', 'rb') -> 00000000\n"
       ]
      },
      {
       "output_type": "stream",
       "stream": "stderr",
       "text": [
        "DEBUG:paramiko.transport.sftp:[chan 0] stat('smartdays/server/uploads/a8e4aa083f07b360/mood_a8e4aa083f07b360_20150304095247.csv')\n"
       ]
      },
      {
       "output_type": "stream",
       "stream": "stderr",
       "text": [
        "DEBUG:paramiko.transport.sftp:[chan 0] close(00000000)\n"
       ]
      },
      {
       "output_type": "stream",
       "stream": "stderr",
       "text": [
        "DEBUG:paramiko.transport.sftp:[chan 0] stat('smartdays/server/uploads/a8e4aa083f07b360/mood_a8e4aa083f07b360_20150305080642.csv')\n"
       ]
      },
      {
       "output_type": "stream",
       "stream": "stderr",
       "text": [
        "DEBUG:paramiko.transport.sftp:[chan 0] open('smartdays/server/uploads/a8e4aa083f07b360/mood_a8e4aa083f07b360_20150305080642.csv', 'rb')\n"
       ]
      },
      {
       "output_type": "stream",
       "stream": "stderr",
       "text": [
        "DEBUG:paramiko.transport.sftp:[chan 0] open('smartdays/server/uploads/a8e4aa083f07b360/mood_a8e4aa083f07b360_20150305080642.csv', 'rb') -> 00000000\n"
       ]
      },
      {
       "output_type": "stream",
       "stream": "stderr",
       "text": [
        "DEBUG:paramiko.transport.sftp:[chan 0] stat('smartdays/server/uploads/a8e4aa083f07b360/mood_a8e4aa083f07b360_20150305080642.csv')\n"
       ]
      },
      {
       "output_type": "stream",
       "stream": "stderr",
       "text": [
        "DEBUG:paramiko.transport.sftp:[chan 0] close(00000000)\n"
       ]
      },
      {
       "output_type": "stream",
       "stream": "stderr",
       "text": [
        "DEBUG:paramiko.transport.sftp:[chan 0] stat('smartdays/server/uploads/a8e4aa083f07b360/mood_a8e4aa083f07b360_20150305141601.csv')\n"
       ]
      },
      {
       "output_type": "stream",
       "stream": "stderr",
       "text": [
        "DEBUG:paramiko.transport.sftp:[chan 0] open('smartdays/server/uploads/a8e4aa083f07b360/mood_a8e4aa083f07b360_20150305141601.csv', 'rb')\n"
       ]
      },
      {
       "output_type": "stream",
       "stream": "stderr",
       "text": [
        "DEBUG:paramiko.transport.sftp:[chan 0] open('smartdays/server/uploads/a8e4aa083f07b360/mood_a8e4aa083f07b360_20150305141601.csv', 'rb') -> 00000000\n"
       ]
      },
      {
       "output_type": "stream",
       "stream": "stderr",
       "text": [
        "DEBUG:paramiko.transport.sftp:[chan 0] stat('smartdays/server/uploads/a8e4aa083f07b360/mood_a8e4aa083f07b360_20150305141601.csv')\n"
       ]
      },
      {
       "output_type": "stream",
       "stream": "stderr",
       "text": [
        "DEBUG:paramiko.transport.sftp:[chan 0] close(00000000)\n"
       ]
      },
      {
       "output_type": "stream",
       "stream": "stderr",
       "text": [
        "DEBUG:paramiko.transport.sftp:[chan 0] stat('smartdays/server/uploads/a8e4aa083f07b360/mood_a8e4aa083f07b360_20150306084032.csv')\n"
       ]
      },
      {
       "output_type": "stream",
       "stream": "stderr",
       "text": [
        "DEBUG:paramiko.transport.sftp:[chan 0] open('smartdays/server/uploads/a8e4aa083f07b360/mood_a8e4aa083f07b360_20150306084032.csv', 'rb')\n"
       ]
      },
      {
       "output_type": "stream",
       "stream": "stderr",
       "text": [
        "DEBUG:paramiko.transport.sftp:[chan 0] open('smartdays/server/uploads/a8e4aa083f07b360/mood_a8e4aa083f07b360_20150306084032.csv', 'rb') -> 00000000\n"
       ]
      },
      {
       "output_type": "stream",
       "stream": "stderr",
       "text": [
        "DEBUG:paramiko.transport.sftp:[chan 0] stat('smartdays/server/uploads/a8e4aa083f07b360/mood_a8e4aa083f07b360_20150306084032.csv')\n"
       ]
      },
      {
       "output_type": "stream",
       "stream": "stderr",
       "text": [
        "DEBUG:paramiko.transport.sftp:[chan 0] close(00000000)\n"
       ]
      },
      {
       "output_type": "stream",
       "stream": "stderr",
       "text": [
        "DEBUG:paramiko.transport.sftp:[chan 0] stat('smartdays/server/uploads/a8e4aa083f07b360/mood_a8e4aa083f07b360_20150313105235.csv')\n"
       ]
      },
      {
       "output_type": "stream",
       "stream": "stderr",
       "text": [
        "DEBUG:paramiko.transport.sftp:[chan 0] open('smartdays/server/uploads/a8e4aa083f07b360/mood_a8e4aa083f07b360_20150313105235.csv', 'rb')\n"
       ]
      },
      {
       "output_type": "stream",
       "stream": "stderr",
       "text": [
        "DEBUG:paramiko.transport.sftp:[chan 0] open('smartdays/server/uploads/a8e4aa083f07b360/mood_a8e4aa083f07b360_20150313105235.csv', 'rb') -> 00000000\n"
       ]
      },
      {
       "output_type": "stream",
       "stream": "stderr",
       "text": [
        "DEBUG:paramiko.transport.sftp:[chan 0] stat('smartdays/server/uploads/a8e4aa083f07b360/mood_a8e4aa083f07b360_20150313105235.csv')\n"
       ]
      },
      {
       "output_type": "stream",
       "stream": "stderr",
       "text": [
        "DEBUG:paramiko.transport.sftp:[chan 0] close(00000000)\n"
       ]
      },
      {
       "output_type": "stream",
       "stream": "stderr",
       "text": [
        "DEBUG:paramiko.transport.sftp:[chan 0] stat('smartdays/server/uploads/a8e4aa083f07b360/mood_a8e4aa083f07b360_20150313105440.csv')\n"
       ]
      },
      {
       "output_type": "stream",
       "stream": "stderr",
       "text": [
        "DEBUG:paramiko.transport.sftp:[chan 0] open('smartdays/server/uploads/a8e4aa083f07b360/mood_a8e4aa083f07b360_20150313105440.csv', 'rb')\n"
       ]
      },
      {
       "output_type": "stream",
       "stream": "stderr",
       "text": [
        "DEBUG:paramiko.transport.sftp:[chan 0] open('smartdays/server/uploads/a8e4aa083f07b360/mood_a8e4aa083f07b360_20150313105440.csv', 'rb') -> 00000000\n"
       ]
      },
      {
       "output_type": "stream",
       "stream": "stderr",
       "text": [
        "DEBUG:paramiko.transport.sftp:[chan 0] stat('smartdays/server/uploads/a8e4aa083f07b360/mood_a8e4aa083f07b360_20150313105440.csv')\n"
       ]
      },
      {
       "output_type": "stream",
       "stream": "stderr",
       "text": [
        "DEBUG:paramiko.transport.sftp:[chan 0] close(00000000)\n"
       ]
      },
      {
       "output_type": "stream",
       "stream": "stderr",
       "text": [
        "DEBUG:paramiko.transport.sftp:[chan 0] stat('smartdays/server/uploads/a8e4aa083f07b360/mood_a8e4aa083f07b360_20150313185010.csv')\n"
       ]
      },
      {
       "output_type": "stream",
       "stream": "stderr",
       "text": [
        "DEBUG:paramiko.transport.sftp:[chan 0] open('smartdays/server/uploads/a8e4aa083f07b360/mood_a8e4aa083f07b360_20150313185010.csv', 'rb')\n"
       ]
      },
      {
       "output_type": "stream",
       "stream": "stderr",
       "text": [
        "DEBUG:paramiko.transport.sftp:[chan 0] open('smartdays/server/uploads/a8e4aa083f07b360/mood_a8e4aa083f07b360_20150313185010.csv', 'rb') -> 00000000\n"
       ]
      },
      {
       "output_type": "stream",
       "stream": "stderr",
       "text": [
        "DEBUG:paramiko.transport.sftp:[chan 0] stat('smartdays/server/uploads/a8e4aa083f07b360/mood_a8e4aa083f07b360_20150313185010.csv')\n"
       ]
      },
      {
       "output_type": "stream",
       "stream": "stderr",
       "text": [
        "DEBUG:paramiko.transport.sftp:[chan 0] close(00000000)\n"
       ]
      },
      {
       "output_type": "stream",
       "stream": "stderr",
       "text": [
        "DEBUG:paramiko.transport.sftp:[chan 0] stat('smartdays/server/uploads/a8e4aa083f07b360/mood_a8e4aa083f07b360_20150313194456.csv')\n"
       ]
      },
      {
       "output_type": "stream",
       "stream": "stderr",
       "text": [
        "DEBUG:paramiko.transport.sftp:[chan 0] open('smartdays/server/uploads/a8e4aa083f07b360/mood_a8e4aa083f07b360_20150313194456.csv', 'rb')\n"
       ]
      },
      {
       "output_type": "stream",
       "stream": "stderr",
       "text": [
        "DEBUG:paramiko.transport.sftp:[chan 0] open('smartdays/server/uploads/a8e4aa083f07b360/mood_a8e4aa083f07b360_20150313194456.csv', 'rb') -> 00000000\n"
       ]
      },
      {
       "output_type": "stream",
       "stream": "stderr",
       "text": [
        "DEBUG:paramiko.transport.sftp:[chan 0] stat('smartdays/server/uploads/a8e4aa083f07b360/mood_a8e4aa083f07b360_20150313194456.csv')\n"
       ]
      },
      {
       "output_type": "stream",
       "stream": "stderr",
       "text": [
        "DEBUG:paramiko.transport.sftp:[chan 0] close(00000000)\n"
       ]
      },
      {
       "output_type": "stream",
       "stream": "stderr",
       "text": [
        "DEBUG:paramiko.transport.sftp:[chan 0] stat('smartdays/server/uploads/a8e4aa083f07b360/mood_a8e4aa083f07b360_20150313194915.csv')\n"
       ]
      },
      {
       "output_type": "stream",
       "stream": "stderr",
       "text": [
        "DEBUG:paramiko.transport.sftp:[chan 0] open('smartdays/server/uploads/a8e4aa083f07b360/mood_a8e4aa083f07b360_20150313194915.csv', 'rb')\n"
       ]
      },
      {
       "output_type": "stream",
       "stream": "stderr",
       "text": [
        "DEBUG:paramiko.transport.sftp:[chan 0] open('smartdays/server/uploads/a8e4aa083f07b360/mood_a8e4aa083f07b360_20150313194915.csv', 'rb') -> 00000000\n"
       ]
      },
      {
       "output_type": "stream",
       "stream": "stderr",
       "text": [
        "DEBUG:paramiko.transport.sftp:[chan 0] stat('smartdays/server/uploads/a8e4aa083f07b360/mood_a8e4aa083f07b360_20150313194915.csv')\n"
       ]
      },
      {
       "output_type": "stream",
       "stream": "stderr",
       "text": [
        "DEBUG:paramiko.transport.sftp:[chan 0] close(00000000)\n"
       ]
      },
      {
       "output_type": "stream",
       "stream": "stderr",
       "text": [
        "DEBUG:paramiko.transport.sftp:[chan 0] stat('smartdays/server/uploads/a8e4aa083f07b360/mood_a8e4aa083f07b360_20150314101341.csv')\n"
       ]
      },
      {
       "output_type": "stream",
       "stream": "stderr",
       "text": [
        "DEBUG:paramiko.transport.sftp:[chan 0] open('smartdays/server/uploads/a8e4aa083f07b360/mood_a8e4aa083f07b360_20150314101341.csv', 'rb')\n"
       ]
      },
      {
       "output_type": "stream",
       "stream": "stderr",
       "text": [
        "DEBUG:paramiko.transport.sftp:[chan 0] open('smartdays/server/uploads/a8e4aa083f07b360/mood_a8e4aa083f07b360_20150314101341.csv', 'rb') -> 00000000\n"
       ]
      },
      {
       "output_type": "stream",
       "stream": "stderr",
       "text": [
        "DEBUG:paramiko.transport.sftp:[chan 0] stat('smartdays/server/uploads/a8e4aa083f07b360/mood_a8e4aa083f07b360_20150314101341.csv')\n"
       ]
      },
      {
       "output_type": "stream",
       "stream": "stderr",
       "text": [
        "DEBUG:paramiko.transport.sftp:[chan 0] close(00000000)\n"
       ]
      },
      {
       "output_type": "stream",
       "stream": "stderr",
       "text": [
        "DEBUG:paramiko.transport.sftp:[chan 0] stat('smartdays/server/uploads/a8e4aa083f07b360/mood_a8e4aa083f07b360_20150314232635.csv')\n"
       ]
      },
      {
       "output_type": "stream",
       "stream": "stderr",
       "text": [
        "DEBUG:paramiko.transport.sftp:[chan 0] open('smartdays/server/uploads/a8e4aa083f07b360/mood_a8e4aa083f07b360_20150314232635.csv', 'rb')\n"
       ]
      },
      {
       "output_type": "stream",
       "stream": "stderr",
       "text": [
        "DEBUG:paramiko.transport.sftp:[chan 0] open('smartdays/server/uploads/a8e4aa083f07b360/mood_a8e4aa083f07b360_20150314232635.csv', 'rb') -> 00000000\n"
       ]
      },
      {
       "output_type": "stream",
       "stream": "stderr",
       "text": [
        "DEBUG:paramiko.transport.sftp:[chan 0] stat('smartdays/server/uploads/a8e4aa083f07b360/mood_a8e4aa083f07b360_20150314232635.csv')\n"
       ]
      },
      {
       "output_type": "stream",
       "stream": "stderr",
       "text": [
        "DEBUG:paramiko.transport.sftp:[chan 0] close(00000000)\n"
       ]
      },
      {
       "output_type": "stream",
       "stream": "stderr",
       "text": [
        "DEBUG:paramiko.transport.sftp:[chan 0] stat('smartdays/server/uploads/a8e4aa083f07b360/mood_a8e4aa083f07b360_20150317105529.csv')\n"
       ]
      },
      {
       "output_type": "stream",
       "stream": "stderr",
       "text": [
        "DEBUG:paramiko.transport.sftp:[chan 0] open('smartdays/server/uploads/a8e4aa083f07b360/mood_a8e4aa083f07b360_20150317105529.csv', 'rb')\n"
       ]
      },
      {
       "output_type": "stream",
       "stream": "stderr",
       "text": [
        "DEBUG:paramiko.transport.sftp:[chan 0] open('smartdays/server/uploads/a8e4aa083f07b360/mood_a8e4aa083f07b360_20150317105529.csv', 'rb') -> 00000000\n"
       ]
      },
      {
       "output_type": "stream",
       "stream": "stderr",
       "text": [
        "DEBUG:paramiko.transport.sftp:[chan 0] stat('smartdays/server/uploads/a8e4aa083f07b360/mood_a8e4aa083f07b360_20150317105529.csv')\n"
       ]
      },
      {
       "output_type": "stream",
       "stream": "stderr",
       "text": [
        "DEBUG:paramiko.transport.sftp:[chan 0] close(00000000)\n"
       ]
      },
      {
       "output_type": "stream",
       "stream": "stderr",
       "text": [
        "DEBUG:paramiko.transport.sftp:[chan 0] stat('smartdays/server/uploads/a8e4aa083f07b360/mood_a8e4aa083f07b360_20150317113100.csv')\n"
       ]
      },
      {
       "output_type": "stream",
       "stream": "stderr",
       "text": [
        "DEBUG:paramiko.transport.sftp:[chan 0] open('smartdays/server/uploads/a8e4aa083f07b360/mood_a8e4aa083f07b360_20150317113100.csv', 'rb')\n"
       ]
      },
      {
       "output_type": "stream",
       "stream": "stderr",
       "text": [
        "DEBUG:paramiko.transport.sftp:[chan 0] open('smartdays/server/uploads/a8e4aa083f07b360/mood_a8e4aa083f07b360_20150317113100.csv', 'rb') -> 00000000\n"
       ]
      },
      {
       "output_type": "stream",
       "stream": "stderr",
       "text": [
        "DEBUG:paramiko.transport.sftp:[chan 0] stat('smartdays/server/uploads/a8e4aa083f07b360/mood_a8e4aa083f07b360_20150317113100.csv')\n"
       ]
      },
      {
       "output_type": "stream",
       "stream": "stderr",
       "text": [
        "DEBUG:paramiko.transport.sftp:[chan 0] close(00000000)\n"
       ]
      },
      {
       "output_type": "stream",
       "stream": "stderr",
       "text": [
        "DEBUG:paramiko.transport.sftp:[chan 0] stat('smartdays/server/uploads/a8e4aa083f07b360/mood_a8e4aa083f07b360_20150317113121.csv')\n"
       ]
      },
      {
       "output_type": "stream",
       "stream": "stderr",
       "text": [
        "DEBUG:paramiko.transport.sftp:[chan 0] open('smartdays/server/uploads/a8e4aa083f07b360/mood_a8e4aa083f07b360_20150317113121.csv', 'rb')\n"
       ]
      },
      {
       "output_type": "stream",
       "stream": "stderr",
       "text": [
        "DEBUG:paramiko.transport.sftp:[chan 0] open('smartdays/server/uploads/a8e4aa083f07b360/mood_a8e4aa083f07b360_20150317113121.csv', 'rb') -> 00000000\n"
       ]
      },
      {
       "output_type": "stream",
       "stream": "stderr",
       "text": [
        "DEBUG:paramiko.transport.sftp:[chan 0] stat('smartdays/server/uploads/a8e4aa083f07b360/mood_a8e4aa083f07b360_20150317113121.csv')\n"
       ]
      },
      {
       "output_type": "stream",
       "stream": "stderr",
       "text": [
        "DEBUG:paramiko.transport.sftp:[chan 0] close(00000000)\n"
       ]
      },
      {
       "output_type": "stream",
       "stream": "stderr",
       "text": [
        "DEBUG:paramiko.transport.sftp:[chan 0] stat('smartdays/server/uploads/a8e4aa083f07b360/mood_a8e4aa083f07b360_20150317113123.csv')\n"
       ]
      },
      {
       "output_type": "stream",
       "stream": "stderr",
       "text": [
        "DEBUG:paramiko.transport.sftp:[chan 0] open('smartdays/server/uploads/a8e4aa083f07b360/mood_a8e4aa083f07b360_20150317113123.csv', 'rb')\n"
       ]
      },
      {
       "output_type": "stream",
       "stream": "stderr",
       "text": [
        "DEBUG:paramiko.transport.sftp:[chan 0] open('smartdays/server/uploads/a8e4aa083f07b360/mood_a8e4aa083f07b360_20150317113123.csv', 'rb') -> 00000000\n"
       ]
      },
      {
       "output_type": "stream",
       "stream": "stderr",
       "text": [
        "DEBUG:paramiko.transport.sftp:[chan 0] stat('smartdays/server/uploads/a8e4aa083f07b360/mood_a8e4aa083f07b360_20150317113123.csv')\n"
       ]
      },
      {
       "output_type": "stream",
       "stream": "stderr",
       "text": [
        "DEBUG:paramiko.transport.sftp:[chan 0] close(00000000)\n"
       ]
      },
      {
       "output_type": "stream",
       "stream": "stderr",
       "text": [
        "DEBUG:paramiko.transport.sftp:[chan 0] stat('smartdays/server/uploads/a8e4aa083f07b360/mood_a8e4aa083f07b360_20150317190320.csv')\n"
       ]
      },
      {
       "output_type": "stream",
       "stream": "stderr",
       "text": [
        "DEBUG:paramiko.transport.sftp:[chan 0] open('smartdays/server/uploads/a8e4aa083f07b360/mood_a8e4aa083f07b360_20150317190320.csv', 'rb')\n"
       ]
      },
      {
       "output_type": "stream",
       "stream": "stderr",
       "text": [
        "DEBUG:paramiko.transport.sftp:[chan 0] open('smartdays/server/uploads/a8e4aa083f07b360/mood_a8e4aa083f07b360_20150317190320.csv', 'rb') -> 00000000\n"
       ]
      },
      {
       "output_type": "stream",
       "stream": "stderr",
       "text": [
        "DEBUG:paramiko.transport.sftp:[chan 0] stat('smartdays/server/uploads/a8e4aa083f07b360/mood_a8e4aa083f07b360_20150317190320.csv')\n"
       ]
      },
      {
       "output_type": "stream",
       "stream": "stderr",
       "text": [
        "DEBUG:paramiko.transport.sftp:[chan 0] close(00000000)\n"
       ]
      },
      {
       "output_type": "stream",
       "stream": "stderr",
       "text": [
        "DEBUG:paramiko.transport.sftp:[chan 0] stat('smartdays/server/uploads/a8e4aa083f07b360/mood_a8e4aa083f07b360_20150318084719.csv')\n"
       ]
      },
      {
       "output_type": "stream",
       "stream": "stderr",
       "text": [
        "DEBUG:paramiko.transport.sftp:[chan 0] open('smartdays/server/uploads/a8e4aa083f07b360/mood_a8e4aa083f07b360_20150318084719.csv', 'rb')\n"
       ]
      },
      {
       "output_type": "stream",
       "stream": "stderr",
       "text": [
        "DEBUG:paramiko.transport.sftp:[chan 0] open('smartdays/server/uploads/a8e4aa083f07b360/mood_a8e4aa083f07b360_20150318084719.csv', 'rb') -> 00000000\n"
       ]
      },
      {
       "output_type": "stream",
       "stream": "stderr",
       "text": [
        "DEBUG:paramiko.transport.sftp:[chan 0] stat('smartdays/server/uploads/a8e4aa083f07b360/mood_a8e4aa083f07b360_20150318084719.csv')\n"
       ]
      },
      {
       "output_type": "stream",
       "stream": "stderr",
       "text": [
        "DEBUG:paramiko.transport.sftp:[chan 0] close(00000000)\n"
       ]
      },
      {
       "output_type": "stream",
       "stream": "stderr",
       "text": [
        "DEBUG:paramiko.transport.sftp:[chan 0] stat('smartdays/server/uploads/a8e4aa083f07b360/mood_a8e4aa083f07b360_20150319000001.csv')\n"
       ]
      },
      {
       "output_type": "stream",
       "stream": "stderr",
       "text": [
        "DEBUG:paramiko.transport.sftp:[chan 0] open('smartdays/server/uploads/a8e4aa083f07b360/mood_a8e4aa083f07b360_20150319000001.csv', 'rb')\n"
       ]
      },
      {
       "output_type": "stream",
       "stream": "stderr",
       "text": [
        "DEBUG:paramiko.transport.sftp:[chan 0] open('smartdays/server/uploads/a8e4aa083f07b360/mood_a8e4aa083f07b360_20150319000001.csv', 'rb') -> 00000000\n"
       ]
      },
      {
       "output_type": "stream",
       "stream": "stderr",
       "text": [
        "DEBUG:paramiko.transport.sftp:[chan 0] stat('smartdays/server/uploads/a8e4aa083f07b360/mood_a8e4aa083f07b360_20150319000001.csv')\n"
       ]
      },
      {
       "output_type": "stream",
       "stream": "stderr",
       "text": [
        "DEBUG:paramiko.transport.sftp:[chan 0] close(00000000)\n"
       ]
      },
      {
       "output_type": "stream",
       "stream": "stderr",
       "text": [
        "DEBUG:paramiko.transport.sftp:[chan 0] stat('smartdays/server/uploads/a8e4aa083f07b360/mood_a8e4aa083f07b360_20150319081414.csv')\n"
       ]
      },
      {
       "output_type": "stream",
       "stream": "stderr",
       "text": [
        "DEBUG:paramiko.transport.sftp:[chan 0] open('smartdays/server/uploads/a8e4aa083f07b360/mood_a8e4aa083f07b360_20150319081414.csv', 'rb')\n"
       ]
      },
      {
       "output_type": "stream",
       "stream": "stderr",
       "text": [
        "DEBUG:paramiko.transport.sftp:[chan 0] open('smartdays/server/uploads/a8e4aa083f07b360/mood_a8e4aa083f07b360_20150319081414.csv', 'rb') -> 00000000\n"
       ]
      },
      {
       "output_type": "stream",
       "stream": "stderr",
       "text": [
        "DEBUG:paramiko.transport.sftp:[chan 0] stat('smartdays/server/uploads/a8e4aa083f07b360/mood_a8e4aa083f07b360_20150319081414.csv')\n"
       ]
      },
      {
       "output_type": "stream",
       "stream": "stderr",
       "text": [
        "DEBUG:paramiko.transport.sftp:[chan 0] close(00000000)\n"
       ]
      },
      {
       "output_type": "stream",
       "stream": "stderr",
       "text": [
        "DEBUG:paramiko.transport.sftp:[chan 0] stat('smartdays/server/uploads/a8e4aa083f07b360/mood_a8e4aa083f07b360_20150320000001.csv')\n"
       ]
      },
      {
       "output_type": "stream",
       "stream": "stderr",
       "text": [
        "DEBUG:paramiko.transport.sftp:[chan 0] open('smartdays/server/uploads/a8e4aa083f07b360/mood_a8e4aa083f07b360_20150320000001.csv', 'rb')\n"
       ]
      },
      {
       "output_type": "stream",
       "stream": "stderr",
       "text": [
        "DEBUG:paramiko.transport.sftp:[chan 0] open('smartdays/server/uploads/a8e4aa083f07b360/mood_a8e4aa083f07b360_20150320000001.csv', 'rb') -> 00000000\n"
       ]
      },
      {
       "output_type": "stream",
       "stream": "stderr",
       "text": [
        "DEBUG:paramiko.transport.sftp:[chan 0] stat('smartdays/server/uploads/a8e4aa083f07b360/mood_a8e4aa083f07b360_20150320000001.csv')\n"
       ]
      },
      {
       "output_type": "stream",
       "stream": "stderr",
       "text": [
        "DEBUG:paramiko.transport.sftp:[chan 0] close(00000000)\n"
       ]
      },
      {
       "output_type": "stream",
       "stream": "stderr",
       "text": [
        "DEBUG:paramiko.transport.sftp:[chan 0] stat('smartdays/server/uploads/a8e4aa083f07b360/mood_a8e4aa083f07b360_20150320104716.csv')\n"
       ]
      },
      {
       "output_type": "stream",
       "stream": "stderr",
       "text": [
        "DEBUG:paramiko.transport.sftp:[chan 0] open('smartdays/server/uploads/a8e4aa083f07b360/mood_a8e4aa083f07b360_20150320104716.csv', 'rb')\n"
       ]
      },
      {
       "output_type": "stream",
       "stream": "stderr",
       "text": [
        "DEBUG:paramiko.transport.sftp:[chan 0] open('smartdays/server/uploads/a8e4aa083f07b360/mood_a8e4aa083f07b360_20150320104716.csv', 'rb') -> 00000000\n"
       ]
      },
      {
       "output_type": "stream",
       "stream": "stderr",
       "text": [
        "DEBUG:paramiko.transport.sftp:[chan 0] stat('smartdays/server/uploads/a8e4aa083f07b360/mood_a8e4aa083f07b360_20150320104716.csv')\n"
       ]
      },
      {
       "output_type": "stream",
       "stream": "stderr",
       "text": [
        "DEBUG:paramiko.transport.sftp:[chan 0] close(00000000)\n"
       ]
      },
      {
       "output_type": "stream",
       "stream": "stderr",
       "text": [
        "DEBUG:paramiko.transport.sftp:[chan 0] stat('smartdays/server/uploads/a8e4aa083f07b360/mood_a8e4aa083f07b360_20150320105017.csv')\n"
       ]
      },
      {
       "output_type": "stream",
       "stream": "stderr",
       "text": [
        "DEBUG:paramiko.transport.sftp:[chan 0] open('smartdays/server/uploads/a8e4aa083f07b360/mood_a8e4aa083f07b360_20150320105017.csv', 'rb')\n"
       ]
      },
      {
       "output_type": "stream",
       "stream": "stderr",
       "text": [
        "DEBUG:paramiko.transport.sftp:[chan 0] open('smartdays/server/uploads/a8e4aa083f07b360/mood_a8e4aa083f07b360_20150320105017.csv', 'rb') -> 00000000\n"
       ]
      },
      {
       "output_type": "stream",
       "stream": "stderr",
       "text": [
        "DEBUG:paramiko.transport.sftp:[chan 0] stat('smartdays/server/uploads/a8e4aa083f07b360/mood_a8e4aa083f07b360_20150320105017.csv')\n"
       ]
      },
      {
       "output_type": "stream",
       "stream": "stderr",
       "text": [
        "DEBUG:paramiko.transport.sftp:[chan 0] close(00000000)\n"
       ]
      },
      {
       "output_type": "stream",
       "stream": "stderr",
       "text": [
        "DEBUG:paramiko.transport.sftp:[chan 0] stat('smartdays/server/uploads/a8e4aa083f07b360/mood_a8e4aa083f07b360_20150320110319.csv')\n"
       ]
      },
      {
       "output_type": "stream",
       "stream": "stderr",
       "text": [
        "DEBUG:paramiko.transport.sftp:[chan 0] open('smartdays/server/uploads/a8e4aa083f07b360/mood_a8e4aa083f07b360_20150320110319.csv', 'rb')\n"
       ]
      },
      {
       "output_type": "stream",
       "stream": "stderr",
       "text": [
        "DEBUG:paramiko.transport.sftp:[chan 0] open('smartdays/server/uploads/a8e4aa083f07b360/mood_a8e4aa083f07b360_20150320110319.csv', 'rb') -> 00000000\n"
       ]
      },
      {
       "output_type": "stream",
       "stream": "stderr",
       "text": [
        "DEBUG:paramiko.transport.sftp:[chan 0] stat('smartdays/server/uploads/a8e4aa083f07b360/mood_a8e4aa083f07b360_20150320110319.csv')\n"
       ]
      },
      {
       "output_type": "stream",
       "stream": "stderr",
       "text": [
        "DEBUG:paramiko.transport.sftp:[chan 0] close(00000000)\n"
       ]
      },
      {
       "output_type": "stream",
       "stream": "stderr",
       "text": [
        "DEBUG:paramiko.transport.sftp:[chan 0] stat('smartdays/server/uploads/a8e4aa083f07b360/mood_a8e4aa083f07b360_20150320111439.csv')\n"
       ]
      },
      {
       "output_type": "stream",
       "stream": "stderr",
       "text": [
        "DEBUG:paramiko.transport.sftp:[chan 0] open('smartdays/server/uploads/a8e4aa083f07b360/mood_a8e4aa083f07b360_20150320111439.csv', 'rb')\n"
       ]
      },
      {
       "output_type": "stream",
       "stream": "stderr",
       "text": [
        "DEBUG:paramiko.transport.sftp:[chan 0] open('smartdays/server/uploads/a8e4aa083f07b360/mood_a8e4aa083f07b360_20150320111439.csv', 'rb') -> 00000000\n"
       ]
      },
      {
       "output_type": "stream",
       "stream": "stderr",
       "text": [
        "DEBUG:paramiko.transport.sftp:[chan 0] stat('smartdays/server/uploads/a8e4aa083f07b360/mood_a8e4aa083f07b360_20150320111439.csv')\n"
       ]
      },
      {
       "output_type": "stream",
       "stream": "stderr",
       "text": [
        "DEBUG:paramiko.transport.sftp:[chan 0] close(00000000)\n"
       ]
      },
      {
       "output_type": "stream",
       "stream": "stderr",
       "text": [
        "DEBUG:paramiko.transport.sftp:[chan 0] stat('smartdays/server/uploads/a8e4aa083f07b360/pebbleAccel_a8e4aa083f07b360_20150123142424.bin')\n"
       ]
      },
      {
       "output_type": "stream",
       "stream": "stderr",
       "text": [
        "DEBUG:paramiko.transport.sftp:[chan 0] open('smartdays/server/uploads/a8e4aa083f07b360/pebbleAccel_a8e4aa083f07b360_20150123142424.bin', 'rb')\n"
       ]
      },
      {
       "output_type": "stream",
       "stream": "stderr",
       "text": [
        "DEBUG:paramiko.transport.sftp:[chan 0] open('smartdays/server/uploads/a8e4aa083f07b360/pebbleAccel_a8e4aa083f07b360_20150123142424.bin', 'rb') -> 00000000\n"
       ]
      },
      {
       "output_type": "stream",
       "stream": "stderr",
       "text": [
        "DEBUG:paramiko.transport.sftp:[chan 0] stat('smartdays/server/uploads/a8e4aa083f07b360/pebbleAccel_a8e4aa083f07b360_20150123142424.bin')\n"
       ]
      },
      {
       "output_type": "stream",
       "stream": "stderr",
       "text": [
        "DEBUG:paramiko.transport.sftp:[chan 0] close(00000000)\n"
       ]
      },
      {
       "output_type": "stream",
       "stream": "stderr",
       "text": [
        "DEBUG:paramiko.transport.sftp:[chan 0] stat('smartdays/server/uploads/a8e4aa083f07b360/pebbleAccel_a8e4aa083f07b360_20150302170901.bin')\n"
       ]
      },
      {
       "output_type": "stream",
       "stream": "stderr",
       "text": [
        "DEBUG:paramiko.transport.sftp:[chan 0] open('smartdays/server/uploads/a8e4aa083f07b360/pebbleAccel_a8e4aa083f07b360_20150302170901.bin', 'rb')\n"
       ]
      },
      {
       "output_type": "stream",
       "stream": "stderr",
       "text": [
        "DEBUG:paramiko.transport.sftp:[chan 0] open('smartdays/server/uploads/a8e4aa083f07b360/pebbleAccel_a8e4aa083f07b360_20150302170901.bin', 'rb') -> 00000000\n"
       ]
      },
      {
       "output_type": "stream",
       "stream": "stderr",
       "text": [
        "DEBUG:paramiko.transport.sftp:[chan 0] stat('smartdays/server/uploads/a8e4aa083f07b360/pebbleAccel_a8e4aa083f07b360_20150302170901.bin')\n"
       ]
      },
      {
       "output_type": "stream",
       "stream": "stderr",
       "text": [
        "DEBUG:paramiko.transport.sftp:[chan 0] close(00000000)\n"
       ]
      },
      {
       "output_type": "stream",
       "stream": "stderr",
       "text": [
        "DEBUG:paramiko.transport.sftp:[chan 0] stat('smartdays/server/uploads/a8e4aa083f07b360/pebbleAccel_a8e4aa083f07b360_20150302235226.bin')\n"
       ]
      },
      {
       "output_type": "stream",
       "stream": "stderr",
       "text": [
        "DEBUG:paramiko.transport.sftp:[chan 0] open('smartdays/server/uploads/a8e4aa083f07b360/pebbleAccel_a8e4aa083f07b360_20150302235226.bin', 'rb')\n"
       ]
      },
      {
       "output_type": "stream",
       "stream": "stderr",
       "text": [
        "DEBUG:paramiko.transport.sftp:[chan 0] open('smartdays/server/uploads/a8e4aa083f07b360/pebbleAccel_a8e4aa083f07b360_20150302235226.bin', 'rb') -> 00000000\n"
       ]
      },
      {
       "output_type": "stream",
       "stream": "stderr",
       "text": [
        "DEBUG:paramiko.transport.sftp:[chan 0] stat('smartdays/server/uploads/a8e4aa083f07b360/pebbleAccel_a8e4aa083f07b360_20150302235226.bin')\n"
       ]
      },
      {
       "output_type": "stream",
       "stream": "stderr",
       "text": [
        "DEBUG:paramiko.transport.sftp:[chan 0] close(00000000)\n"
       ]
      },
      {
       "output_type": "stream",
       "stream": "stderr",
       "text": [
        "DEBUG:paramiko.transport.sftp:[chan 0] stat('smartdays/server/uploads/a8e4aa083f07b360/pebbleAccel_a8e4aa083f07b360_20150303091411.bin')\n"
       ]
      },
      {
       "output_type": "stream",
       "stream": "stderr",
       "text": [
        "DEBUG:paramiko.transport.sftp:[chan 0] open('smartdays/server/uploads/a8e4aa083f07b360/pebbleAccel_a8e4aa083f07b360_20150303091411.bin', 'rb')\n"
       ]
      },
      {
       "output_type": "stream",
       "stream": "stderr",
       "text": [
        "DEBUG:paramiko.transport.sftp:[chan 0] open('smartdays/server/uploads/a8e4aa083f07b360/pebbleAccel_a8e4aa083f07b360_20150303091411.bin', 'rb') -> 00000000\n"
       ]
      },
      {
       "output_type": "stream",
       "stream": "stderr",
       "text": [
        "DEBUG:paramiko.transport.sftp:[chan 0] stat('smartdays/server/uploads/a8e4aa083f07b360/pebbleAccel_a8e4aa083f07b360_20150303091411.bin')\n"
       ]
      },
      {
       "output_type": "stream",
       "stream": "stderr",
       "text": [
        "DEBUG:paramiko.transport.sftp:[chan 0] close(00000000)\n"
       ]
      },
      {
       "output_type": "stream",
       "stream": "stderr",
       "text": [
        "DEBUG:paramiko.transport.sftp:[chan 0] stat('smartdays/server/uploads/a8e4aa083f07b360/pebbleAccel_a8e4aa083f07b360_20150303091421.bin')\n"
       ]
      },
      {
       "output_type": "stream",
       "stream": "stderr",
       "text": [
        "DEBUG:paramiko.transport.sftp:[chan 0] open('smartdays/server/uploads/a8e4aa083f07b360/pebbleAccel_a8e4aa083f07b360_20150303091421.bin', 'rb')\n"
       ]
      },
      {
       "output_type": "stream",
       "stream": "stderr",
       "text": [
        "DEBUG:paramiko.transport.sftp:[chan 0] open('smartdays/server/uploads/a8e4aa083f07b360/pebbleAccel_a8e4aa083f07b360_20150303091421.bin', 'rb') -> 00000000\n"
       ]
      },
      {
       "output_type": "stream",
       "stream": "stderr",
       "text": [
        "DEBUG:paramiko.transport.sftp:[chan 0] stat('smartdays/server/uploads/a8e4aa083f07b360/pebbleAccel_a8e4aa083f07b360_20150303091421.bin')\n"
       ]
      },
      {
       "output_type": "stream",
       "stream": "stderr",
       "text": [
        "DEBUG:paramiko.transport.sftp:[chan 0] close(00000000)\n"
       ]
      },
      {
       "output_type": "stream",
       "stream": "stderr",
       "text": [
        "DEBUG:paramiko.transport.sftp:[chan 0] stat('smartdays/server/uploads/a8e4aa083f07b360/pebbleAccel_a8e4aa083f07b360_20150303095638.bin')\n"
       ]
      },
      {
       "output_type": "stream",
       "stream": "stderr",
       "text": [
        "DEBUG:paramiko.transport.sftp:[chan 0] open('smartdays/server/uploads/a8e4aa083f07b360/pebbleAccel_a8e4aa083f07b360_20150303095638.bin', 'rb')\n"
       ]
      },
      {
       "output_type": "stream",
       "stream": "stderr",
       "text": [
        "DEBUG:paramiko.transport.sftp:[chan 0] open('smartdays/server/uploads/a8e4aa083f07b360/pebbleAccel_a8e4aa083f07b360_20150303095638.bin', 'rb') -> 00000000\n"
       ]
      },
      {
       "output_type": "stream",
       "stream": "stderr",
       "text": [
        "DEBUG:paramiko.transport.sftp:[chan 0] stat('smartdays/server/uploads/a8e4aa083f07b360/pebbleAccel_a8e4aa083f07b360_20150303095638.bin')\n"
       ]
      },
      {
       "output_type": "stream",
       "stream": "stderr",
       "text": [
        "DEBUG:paramiko.transport.sftp:[chan 0] close(00000000)\n"
       ]
      },
      {
       "output_type": "stream",
       "stream": "stderr",
       "text": [
        "DEBUG:paramiko.transport.sftp:[chan 0] stat('smartdays/server/uploads/a8e4aa083f07b360/pebbleAccel_a8e4aa083f07b360_20150303115331.bin')\n"
       ]
      },
      {
       "output_type": "stream",
       "stream": "stderr",
       "text": [
        "DEBUG:paramiko.transport.sftp:[chan 0] open('smartdays/server/uploads/a8e4aa083f07b360/pebbleAccel_a8e4aa083f07b360_20150303115331.bin', 'rb')\n"
       ]
      },
      {
       "output_type": "stream",
       "stream": "stderr",
       "text": [
        "DEBUG:paramiko.transport.sftp:[chan 0] open('smartdays/server/uploads/a8e4aa083f07b360/pebbleAccel_a8e4aa083f07b360_20150303115331.bin', 'rb') -> 00000000\n"
       ]
      },
      {
       "output_type": "stream",
       "stream": "stderr",
       "text": [
        "DEBUG:paramiko.transport.sftp:[chan 0] stat('smartdays/server/uploads/a8e4aa083f07b360/pebbleAccel_a8e4aa083f07b360_20150303115331.bin')\n"
       ]
      },
      {
       "output_type": "stream",
       "stream": "stderr",
       "text": [
        "DEBUG:paramiko.transport.sftp:[chan 0] close(00000000)\n"
       ]
      },
      {
       "output_type": "stream",
       "stream": "stderr",
       "text": [
        "DEBUG:paramiko.transport.sftp:[chan 0] stat('smartdays/server/uploads/a8e4aa083f07b360/pebbleAccel_a8e4aa083f07b360_20150303235959.bin')\n"
       ]
      },
      {
       "output_type": "stream",
       "stream": "stderr",
       "text": [
        "DEBUG:paramiko.transport.sftp:[chan 0] open('smartdays/server/uploads/a8e4aa083f07b360/pebbleAccel_a8e4aa083f07b360_20150303235959.bin', 'rb')\n"
       ]
      },
      {
       "output_type": "stream",
       "stream": "stderr",
       "text": [
        "DEBUG:paramiko.transport.sftp:[chan 0] open('smartdays/server/uploads/a8e4aa083f07b360/pebbleAccel_a8e4aa083f07b360_20150303235959.bin', 'rb') -> 00000000\n"
       ]
      },
      {
       "output_type": "stream",
       "stream": "stderr",
       "text": [
        "DEBUG:paramiko.transport.sftp:[chan 0] stat('smartdays/server/uploads/a8e4aa083f07b360/pebbleAccel_a8e4aa083f07b360_20150303235959.bin')\n"
       ]
      },
      {
       "output_type": "stream",
       "stream": "stderr",
       "text": [
        "DEBUG:paramiko.transport.sftp:[chan 0] close(00000000)\n"
       ]
      },
      {
       "output_type": "stream",
       "stream": "stderr",
       "text": [
        "DEBUG:paramiko.transport.sftp:[chan 0] stat('smartdays/server/uploads/a8e4aa083f07b360/pebbleAccel_a8e4aa083f07b360_20150304000006.bin')\n"
       ]
      },
      {
       "output_type": "stream",
       "stream": "stderr",
       "text": [
        "DEBUG:paramiko.transport.sftp:[chan 0] open('smartdays/server/uploads/a8e4aa083f07b360/pebbleAccel_a8e4aa083f07b360_20150304000006.bin', 'rb')\n"
       ]
      },
      {
       "output_type": "stream",
       "stream": "stderr",
       "text": [
        "DEBUG:paramiko.transport.sftp:[chan 0] open('smartdays/server/uploads/a8e4aa083f07b360/pebbleAccel_a8e4aa083f07b360_20150304000006.bin', 'rb') -> 00000000\n"
       ]
      },
      {
       "output_type": "stream",
       "stream": "stderr",
       "text": [
        "DEBUG:paramiko.transport.sftp:[chan 0] stat('smartdays/server/uploads/a8e4aa083f07b360/pebbleAccel_a8e4aa083f07b360_20150304000006.bin')\n"
       ]
      },
      {
       "output_type": "stream",
       "stream": "stderr",
       "text": [
        "DEBUG:paramiko.transport.sftp:[chan 0] close(00000000)\n"
       ]
      },
      {
       "output_type": "stream",
       "stream": "stderr",
       "text": [
        "DEBUG:paramiko.transport.sftp:[chan 0] stat('smartdays/server/uploads/a8e4aa083f07b360/pebbleAccel_a8e4aa083f07b360_20150304084648.bin')\n"
       ]
      },
      {
       "output_type": "stream",
       "stream": "stderr",
       "text": [
        "DEBUG:paramiko.transport.sftp:[chan 0] open('smartdays/server/uploads/a8e4aa083f07b360/pebbleAccel_a8e4aa083f07b360_20150304084648.bin', 'rb')\n"
       ]
      },
      {
       "output_type": "stream",
       "stream": "stderr",
       "text": [
        "DEBUG:paramiko.transport.sftp:[chan 0] open('smartdays/server/uploads/a8e4aa083f07b360/pebbleAccel_a8e4aa083f07b360_20150304084648.bin', 'rb') -> 00000000\n"
       ]
      },
      {
       "output_type": "stream",
       "stream": "stderr",
       "text": [
        "DEBUG:paramiko.transport.sftp:[chan 0] stat('smartdays/server/uploads/a8e4aa083f07b360/pebbleAccel_a8e4aa083f07b360_20150304084648.bin')\n"
       ]
      },
      {
       "output_type": "stream",
       "stream": "stderr",
       "text": [
        "DEBUG:paramiko.transport.sftp:[chan 0] close(00000000)\n"
       ]
      },
      {
       "output_type": "stream",
       "stream": "stderr",
       "text": [
        "DEBUG:paramiko.transport.sftp:[chan 0] stat('smartdays/server/uploads/a8e4aa083f07b360/pebbleAccel_a8e4aa083f07b360_20150304084924.bin')\n"
       ]
      },
      {
       "output_type": "stream",
       "stream": "stderr",
       "text": [
        "DEBUG:paramiko.transport.sftp:[chan 0] open('smartdays/server/uploads/a8e4aa083f07b360/pebbleAccel_a8e4aa083f07b360_20150304084924.bin', 'rb')\n"
       ]
      },
      {
       "output_type": "stream",
       "stream": "stderr",
       "text": [
        "DEBUG:paramiko.transport.sftp:[chan 0] open('smartdays/server/uploads/a8e4aa083f07b360/pebbleAccel_a8e4aa083f07b360_20150304084924.bin', 'rb') -> 00000000\n"
       ]
      },
      {
       "output_type": "stream",
       "stream": "stderr",
       "text": [
        "DEBUG:paramiko.transport.sftp:[chan 0] stat('smartdays/server/uploads/a8e4aa083f07b360/pebbleAccel_a8e4aa083f07b360_20150304084924.bin')\n"
       ]
      },
      {
       "output_type": "stream",
       "stream": "stderr",
       "text": [
        "DEBUG:paramiko.transport.sftp:[chan 0] close(00000000)\n"
       ]
      },
      {
       "output_type": "stream",
       "stream": "stderr",
       "text": [
        "DEBUG:paramiko.transport.sftp:[chan 0] stat('smartdays/server/uploads/a8e4aa083f07b360/pebbleAccel_a8e4aa083f07b360_20150304085021.bin')\n"
       ]
      },
      {
       "output_type": "stream",
       "stream": "stderr",
       "text": [
        "DEBUG:paramiko.transport.sftp:[chan 0] open('smartdays/server/uploads/a8e4aa083f07b360/pebbleAccel_a8e4aa083f07b360_20150304085021.bin', 'rb')\n"
       ]
      },
      {
       "output_type": "stream",
       "stream": "stderr",
       "text": [
        "DEBUG:paramiko.transport.sftp:[chan 0] open('smartdays/server/uploads/a8e4aa083f07b360/pebbleAccel_a8e4aa083f07b360_20150304085021.bin', 'rb') -> 00000000\n"
       ]
      },
      {
       "output_type": "stream",
       "stream": "stderr",
       "text": [
        "DEBUG:paramiko.transport.sftp:[chan 0] stat('smartdays/server/uploads/a8e4aa083f07b360/pebbleAccel_a8e4aa083f07b360_20150304085021.bin')\n"
       ]
      },
      {
       "output_type": "stream",
       "stream": "stderr",
       "text": [
        "DEBUG:paramiko.transport.sftp:[chan 0] close(00000000)\n"
       ]
      },
      {
       "output_type": "stream",
       "stream": "stderr",
       "text": [
        "DEBUG:paramiko.transport.sftp:[chan 0] stat('smartdays/server/uploads/a8e4aa083f07b360/pebbleAccel_a8e4aa083f07b360_20150304094120.bin')\n"
       ]
      },
      {
       "output_type": "stream",
       "stream": "stderr",
       "text": [
        "DEBUG:paramiko.transport.sftp:[chan 0] open('smartdays/server/uploads/a8e4aa083f07b360/pebbleAccel_a8e4aa083f07b360_20150304094120.bin', 'rb')\n"
       ]
      },
      {
       "output_type": "stream",
       "stream": "stderr",
       "text": [
        "DEBUG:paramiko.transport.sftp:[chan 0] open('smartdays/server/uploads/a8e4aa083f07b360/pebbleAccel_a8e4aa083f07b360_20150304094120.bin', 'rb') -> 00000000\n"
       ]
      },
      {
       "output_type": "stream",
       "stream": "stderr",
       "text": [
        "DEBUG:paramiko.transport.sftp:[chan 0] stat('smartdays/server/uploads/a8e4aa083f07b360/pebbleAccel_a8e4aa083f07b360_20150304094120.bin')\n"
       ]
      },
      {
       "output_type": "stream",
       "stream": "stderr",
       "text": [
        "DEBUG:paramiko.transport.sftp:[chan 0] close(00000000)\n"
       ]
      },
      {
       "output_type": "stream",
       "stream": "stderr",
       "text": [
        "DEBUG:paramiko.transport.sftp:[chan 0] stat('smartdays/server/uploads/a8e4aa083f07b360/pebbleAccel_a8e4aa083f07b360_20150304095102.bin')\n"
       ]
      },
      {
       "output_type": "stream",
       "stream": "stderr",
       "text": [
        "DEBUG:paramiko.transport.sftp:[chan 0] open('smartdays/server/uploads/a8e4aa083f07b360/pebbleAccel_a8e4aa083f07b360_20150304095102.bin', 'rb')\n"
       ]
      },
      {
       "output_type": "stream",
       "stream": "stderr",
       "text": [
        "DEBUG:paramiko.transport.sftp:[chan 0] open('smartdays/server/uploads/a8e4aa083f07b360/pebbleAccel_a8e4aa083f07b360_20150304095102.bin', 'rb') -> 00000000\n"
       ]
      },
      {
       "output_type": "stream",
       "stream": "stderr",
       "text": [
        "DEBUG:paramiko.transport.sftp:[chan 0] stat('smartdays/server/uploads/a8e4aa083f07b360/pebbleAccel_a8e4aa083f07b360_20150304095102.bin')\n"
       ]
      },
      {
       "output_type": "stream",
       "stream": "stderr",
       "text": [
        "DEBUG:paramiko.transport.sftp:[chan 0] close(00000000)\n"
       ]
      },
      {
       "output_type": "stream",
       "stream": "stderr",
       "text": [
        "DEBUG:paramiko.transport.sftp:[chan 0] stat('smartdays/server/uploads/a8e4aa083f07b360/pebbleAccel_a8e4aa083f07b360_20150304095127.bin')\n"
       ]
      },
      {
       "output_type": "stream",
       "stream": "stderr",
       "text": [
        "DEBUG:paramiko.transport.sftp:[chan 0] open('smartdays/server/uploads/a8e4aa083f07b360/pebbleAccel_a8e4aa083f07b360_20150304095127.bin', 'rb')\n"
       ]
      },
      {
       "output_type": "stream",
       "stream": "stderr",
       "text": [
        "DEBUG:paramiko.transport.sftp:[chan 0] open('smartdays/server/uploads/a8e4aa083f07b360/pebbleAccel_a8e4aa083f07b360_20150304095127.bin', 'rb') -> 00000000\n"
       ]
      },
      {
       "output_type": "stream",
       "stream": "stderr",
       "text": [
        "DEBUG:paramiko.transport.sftp:[chan 0] stat('smartdays/server/uploads/a8e4aa083f07b360/pebbleAccel_a8e4aa083f07b360_20150304095127.bin')\n"
       ]
      },
      {
       "output_type": "stream",
       "stream": "stderr",
       "text": [
        "DEBUG:paramiko.transport.sftp:[chan 0] close(00000000)\n"
       ]
      },
      {
       "output_type": "stream",
       "stream": "stderr",
       "text": [
        "DEBUG:paramiko.transport.sftp:[chan 0] stat('smartdays/server/uploads/a8e4aa083f07b360/pebbleAccel_a8e4aa083f07b360_20150304095148.bin')\n"
       ]
      },
      {
       "output_type": "stream",
       "stream": "stderr",
       "text": [
        "DEBUG:paramiko.transport.sftp:[chan 0] open('smartdays/server/uploads/a8e4aa083f07b360/pebbleAccel_a8e4aa083f07b360_20150304095148.bin', 'rb')\n"
       ]
      },
      {
       "output_type": "stream",
       "stream": "stderr",
       "text": [
        "DEBUG:paramiko.transport.sftp:[chan 0] open('smartdays/server/uploads/a8e4aa083f07b360/pebbleAccel_a8e4aa083f07b360_20150304095148.bin', 'rb') -> 00000000\n"
       ]
      },
      {
       "output_type": "stream",
       "stream": "stderr",
       "text": [
        "DEBUG:paramiko.transport.sftp:[chan 0] stat('smartdays/server/uploads/a8e4aa083f07b360/pebbleAccel_a8e4aa083f07b360_20150304095148.bin')\n"
       ]
      },
      {
       "output_type": "stream",
       "stream": "stderr",
       "text": [
        "DEBUG:paramiko.transport.sftp:[chan 0] close(00000000)\n"
       ]
      },
      {
       "output_type": "stream",
       "stream": "stderr",
       "text": [
        "DEBUG:paramiko.transport.sftp:[chan 0] stat('smartdays/server/uploads/a8e4aa083f07b360/pebbleAccel_a8e4aa083f07b360_20150304095247.bin')\n"
       ]
      },
      {
       "output_type": "stream",
       "stream": "stderr",
       "text": [
        "DEBUG:paramiko.transport.sftp:[chan 0] open('smartdays/server/uploads/a8e4aa083f07b360/pebbleAccel_a8e4aa083f07b360_20150304095247.bin', 'rb')\n"
       ]
      },
      {
       "output_type": "stream",
       "stream": "stderr",
       "text": [
        "DEBUG:paramiko.transport.sftp:[chan 0] open('smartdays/server/uploads/a8e4aa083f07b360/pebbleAccel_a8e4aa083f07b360_20150304095247.bin', 'rb') -> 00000000\n"
       ]
      },
      {
       "output_type": "stream",
       "stream": "stderr",
       "text": [
        "DEBUG:paramiko.transport.sftp:[chan 0] stat('smartdays/server/uploads/a8e4aa083f07b360/pebbleAccel_a8e4aa083f07b360_20150304095247.bin')\n"
       ]
      },
      {
       "output_type": "stream",
       "stream": "stderr",
       "text": [
        "DEBUG:paramiko.transport.sftp:[chan 0] close(00000000)\n"
       ]
      },
      {
       "output_type": "stream",
       "stream": "stderr",
       "text": [
        "DEBUG:paramiko.transport.sftp:[chan 0] stat('smartdays/server/uploads/a8e4aa083f07b360/pebbleAccel_a8e4aa083f07b360_20150305080642.bin')\n"
       ]
      },
      {
       "output_type": "stream",
       "stream": "stderr",
       "text": [
        "DEBUG:paramiko.transport.sftp:[chan 0] open('smartdays/server/uploads/a8e4aa083f07b360/pebbleAccel_a8e4aa083f07b360_20150305080642.bin', 'rb')\n"
       ]
      },
      {
       "output_type": "stream",
       "stream": "stderr",
       "text": [
        "DEBUG:paramiko.transport.sftp:[chan 0] open('smartdays/server/uploads/a8e4aa083f07b360/pebbleAccel_a8e4aa083f07b360_20150305080642.bin', 'rb') -> 00000000\n"
       ]
      },
      {
       "output_type": "stream",
       "stream": "stderr",
       "text": [
        "DEBUG:paramiko.transport.sftp:[chan 0] stat('smartdays/server/uploads/a8e4aa083f07b360/pebbleAccel_a8e4aa083f07b360_20150305080642.bin')\n"
       ]
      },
      {
       "output_type": "stream",
       "stream": "stderr",
       "text": [
        "DEBUG:paramiko.transport.sftp:[chan 0] close(00000000)\n"
       ]
      },
      {
       "output_type": "stream",
       "stream": "stderr",
       "text": [
        "DEBUG:paramiko.transport.sftp:[chan 0] stat('smartdays/server/uploads/a8e4aa083f07b360/pebbleAccel_a8e4aa083f07b360_20150305141601.bin')\n"
       ]
      },
      {
       "output_type": "stream",
       "stream": "stderr",
       "text": [
        "DEBUG:paramiko.transport.sftp:[chan 0] open('smartdays/server/uploads/a8e4aa083f07b360/pebbleAccel_a8e4aa083f07b360_20150305141601.bin', 'rb')\n"
       ]
      },
      {
       "output_type": "stream",
       "stream": "stderr",
       "text": [
        "DEBUG:paramiko.transport.sftp:[chan 0] open('smartdays/server/uploads/a8e4aa083f07b360/pebbleAccel_a8e4aa083f07b360_20150305141601.bin', 'rb') -> 00000000\n"
       ]
      },
      {
       "output_type": "stream",
       "stream": "stderr",
       "text": [
        "DEBUG:paramiko.transport.sftp:[chan 0] stat('smartdays/server/uploads/a8e4aa083f07b360/pebbleAccel_a8e4aa083f07b360_20150305141601.bin')\n"
       ]
      },
      {
       "output_type": "stream",
       "stream": "stderr",
       "text": [
        "DEBUG:paramiko.transport.sftp:[chan 0] close(00000000)\n"
       ]
      },
      {
       "output_type": "stream",
       "stream": "stderr",
       "text": [
        "DEBUG:paramiko.transport.sftp:[chan 0] stat('smartdays/server/uploads/a8e4aa083f07b360/pebbleAccel_a8e4aa083f07b360_20150306084032.bin')\n"
       ]
      },
      {
       "output_type": "stream",
       "stream": "stderr",
       "text": [
        "DEBUG:paramiko.transport.sftp:[chan 0] open('smartdays/server/uploads/a8e4aa083f07b360/pebbleAccel_a8e4aa083f07b360_20150306084032.bin', 'rb')\n"
       ]
      },
      {
       "output_type": "stream",
       "stream": "stderr",
       "text": [
        "DEBUG:paramiko.transport.sftp:[chan 0] open('smartdays/server/uploads/a8e4aa083f07b360/pebbleAccel_a8e4aa083f07b360_20150306084032.bin', 'rb') -> 00000000\n"
       ]
      },
      {
       "output_type": "stream",
       "stream": "stderr",
       "text": [
        "DEBUG:paramiko.transport.sftp:[chan 0] stat('smartdays/server/uploads/a8e4aa083f07b360/pebbleAccel_a8e4aa083f07b360_20150306084032.bin')\n"
       ]
      },
      {
       "output_type": "stream",
       "stream": "stderr",
       "text": [
        "DEBUG:paramiko.transport.sftp:[chan 0] close(00000000)\n"
       ]
      },
      {
       "output_type": "stream",
       "stream": "stderr",
       "text": [
        "DEBUG:paramiko.transport.sftp:[chan 0] stat('smartdays/server/uploads/a8e4aa083f07b360/pebbleAccel_a8e4aa083f07b360_20150313105235.bin')\n"
       ]
      },
      {
       "output_type": "stream",
       "stream": "stderr",
       "text": [
        "DEBUG:paramiko.transport.sftp:[chan 0] open('smartdays/server/uploads/a8e4aa083f07b360/pebbleAccel_a8e4aa083f07b360_20150313105235.bin', 'rb')\n"
       ]
      },
      {
       "output_type": "stream",
       "stream": "stderr",
       "text": [
        "DEBUG:paramiko.transport.sftp:[chan 0] open('smartdays/server/uploads/a8e4aa083f07b360/pebbleAccel_a8e4aa083f07b360_20150313105235.bin', 'rb') -> 00000000\n"
       ]
      },
      {
       "output_type": "stream",
       "stream": "stderr",
       "text": [
        "DEBUG:paramiko.transport.sftp:[chan 0] stat('smartdays/server/uploads/a8e4aa083f07b360/pebbleAccel_a8e4aa083f07b360_20150313105235.bin')\n"
       ]
      },
      {
       "output_type": "stream",
       "stream": "stderr",
       "text": [
        "DEBUG:paramiko.transport.sftp:[chan 0] close(00000000)\n"
       ]
      },
      {
       "output_type": "stream",
       "stream": "stderr",
       "text": [
        "DEBUG:paramiko.transport.sftp:[chan 0] stat('smartdays/server/uploads/a8e4aa083f07b360/pebbleAccel_a8e4aa083f07b360_20150313105440.bin')\n"
       ]
      },
      {
       "output_type": "stream",
       "stream": "stderr",
       "text": [
        "DEBUG:paramiko.transport.sftp:[chan 0] open('smartdays/server/uploads/a8e4aa083f07b360/pebbleAccel_a8e4aa083f07b360_20150313105440.bin', 'rb')\n"
       ]
      },
      {
       "output_type": "stream",
       "stream": "stderr",
       "text": [
        "DEBUG:paramiko.transport.sftp:[chan 0] open('smartdays/server/uploads/a8e4aa083f07b360/pebbleAccel_a8e4aa083f07b360_20150313105440.bin', 'rb') -> 00000000\n"
       ]
      },
      {
       "output_type": "stream",
       "stream": "stderr",
       "text": [
        "DEBUG:paramiko.transport.sftp:[chan 0] stat('smartdays/server/uploads/a8e4aa083f07b360/pebbleAccel_a8e4aa083f07b360_20150313105440.bin')\n"
       ]
      },
      {
       "output_type": "stream",
       "stream": "stderr",
       "text": [
        "DEBUG:paramiko.transport.sftp:[chan 0] close(00000000)\n"
       ]
      },
      {
       "output_type": "stream",
       "stream": "stderr",
       "text": [
        "DEBUG:paramiko.transport.sftp:[chan 0] stat('smartdays/server/uploads/a8e4aa083f07b360/pebbleAccel_a8e4aa083f07b360_20150313185010.bin')\n"
       ]
      },
      {
       "output_type": "stream",
       "stream": "stderr",
       "text": [
        "DEBUG:paramiko.transport.sftp:[chan 0] open('smartdays/server/uploads/a8e4aa083f07b360/pebbleAccel_a8e4aa083f07b360_20150313185010.bin', 'rb')\n"
       ]
      },
      {
       "output_type": "stream",
       "stream": "stderr",
       "text": [
        "DEBUG:paramiko.transport.sftp:[chan 0] open('smartdays/server/uploads/a8e4aa083f07b360/pebbleAccel_a8e4aa083f07b360_20150313185010.bin', 'rb') -> 00000000\n"
       ]
      },
      {
       "output_type": "stream",
       "stream": "stderr",
       "text": [
        "DEBUG:paramiko.transport.sftp:[chan 0] stat('smartdays/server/uploads/a8e4aa083f07b360/pebbleAccel_a8e4aa083f07b360_20150313185010.bin')\n"
       ]
      },
      {
       "output_type": "stream",
       "stream": "stderr",
       "text": [
        "DEBUG:paramiko.transport.sftp:[chan 0] close(00000000)\n"
       ]
      },
      {
       "output_type": "stream",
       "stream": "stderr",
       "text": [
        "DEBUG:paramiko.transport.sftp:[chan 0] stat('smartdays/server/uploads/a8e4aa083f07b360/pebbleAccel_a8e4aa083f07b360_20150313194456.bin')\n"
       ]
      },
      {
       "output_type": "stream",
       "stream": "stderr",
       "text": [
        "DEBUG:paramiko.transport.sftp:[chan 0] open('smartdays/server/uploads/a8e4aa083f07b360/pebbleAccel_a8e4aa083f07b360_20150313194456.bin', 'rb')\n"
       ]
      },
      {
       "output_type": "stream",
       "stream": "stderr",
       "text": [
        "DEBUG:paramiko.transport.sftp:[chan 0] open('smartdays/server/uploads/a8e4aa083f07b360/pebbleAccel_a8e4aa083f07b360_20150313194456.bin', 'rb') -> 00000000\n"
       ]
      },
      {
       "output_type": "stream",
       "stream": "stderr",
       "text": [
        "DEBUG:paramiko.transport.sftp:[chan 0] stat('smartdays/server/uploads/a8e4aa083f07b360/pebbleAccel_a8e4aa083f07b360_20150313194456.bin')\n"
       ]
      },
      {
       "output_type": "stream",
       "stream": "stderr",
       "text": [
        "DEBUG:paramiko.transport.sftp:[chan 0] close(00000000)\n"
       ]
      },
      {
       "output_type": "stream",
       "stream": "stderr",
       "text": [
        "DEBUG:paramiko.transport.sftp:[chan 0] stat('smartdays/server/uploads/a8e4aa083f07b360/pebbleAccel_a8e4aa083f07b360_20150313194915.bin')\n"
       ]
      },
      {
       "output_type": "stream",
       "stream": "stderr",
       "text": [
        "DEBUG:paramiko.transport.sftp:[chan 0] open('smartdays/server/uploads/a8e4aa083f07b360/pebbleAccel_a8e4aa083f07b360_20150313194915.bin', 'rb')\n"
       ]
      },
      {
       "output_type": "stream",
       "stream": "stderr",
       "text": [
        "DEBUG:paramiko.transport.sftp:[chan 0] open('smartdays/server/uploads/a8e4aa083f07b360/pebbleAccel_a8e4aa083f07b360_20150313194915.bin', 'rb') -> 00000000\n"
       ]
      },
      {
       "output_type": "stream",
       "stream": "stderr",
       "text": [
        "DEBUG:paramiko.transport.sftp:[chan 0] stat('smartdays/server/uploads/a8e4aa083f07b360/pebbleAccel_a8e4aa083f07b360_20150313194915.bin')\n"
       ]
      },
      {
       "output_type": "stream",
       "stream": "stderr",
       "text": [
        "DEBUG:paramiko.transport.sftp:[chan 0] close(00000000)\n"
       ]
      },
      {
       "output_type": "stream",
       "stream": "stderr",
       "text": [
        "DEBUG:paramiko.transport.sftp:[chan 0] stat('smartdays/server/uploads/a8e4aa083f07b360/pebbleAccel_a8e4aa083f07b360_20150314101341.bin')\n"
       ]
      },
      {
       "output_type": "stream",
       "stream": "stderr",
       "text": [
        "DEBUG:paramiko.transport.sftp:[chan 0] open('smartdays/server/uploads/a8e4aa083f07b360/pebbleAccel_a8e4aa083f07b360_20150314101341.bin', 'rb')\n"
       ]
      },
      {
       "output_type": "stream",
       "stream": "stderr",
       "text": [
        "DEBUG:paramiko.transport.sftp:[chan 0] open('smartdays/server/uploads/a8e4aa083f07b360/pebbleAccel_a8e4aa083f07b360_20150314101341.bin', 'rb') -> 00000000\n"
       ]
      },
      {
       "output_type": "stream",
       "stream": "stderr",
       "text": [
        "DEBUG:paramiko.transport.sftp:[chan 0] stat('smartdays/server/uploads/a8e4aa083f07b360/pebbleAccel_a8e4aa083f07b360_20150314101341.bin')\n"
       ]
      },
      {
       "output_type": "stream",
       "stream": "stderr",
       "text": [
        "DEBUG:paramiko.transport.sftp:[chan 0] close(00000000)\n"
       ]
      },
      {
       "output_type": "stream",
       "stream": "stderr",
       "text": [
        "DEBUG:paramiko.transport.sftp:[chan 0] stat('smartdays/server/uploads/a8e4aa083f07b360/pebbleAccel_a8e4aa083f07b360_20150314232635.bin')\n"
       ]
      },
      {
       "output_type": "stream",
       "stream": "stderr",
       "text": [
        "DEBUG:paramiko.transport.sftp:[chan 0] open('smartdays/server/uploads/a8e4aa083f07b360/pebbleAccel_a8e4aa083f07b360_20150314232635.bin', 'rb')\n"
       ]
      },
      {
       "output_type": "stream",
       "stream": "stderr",
       "text": [
        "DEBUG:paramiko.transport.sftp:[chan 0] open('smartdays/server/uploads/a8e4aa083f07b360/pebbleAccel_a8e4aa083f07b360_20150314232635.bin', 'rb') -> 00000000\n"
       ]
      },
      {
       "output_type": "stream",
       "stream": "stderr",
       "text": [
        "DEBUG:paramiko.transport.sftp:[chan 0] stat('smartdays/server/uploads/a8e4aa083f07b360/pebbleAccel_a8e4aa083f07b360_20150314232635.bin')\n"
       ]
      },
      {
       "output_type": "stream",
       "stream": "stderr",
       "text": [
        "DEBUG:paramiko.transport.sftp:[chan 0] close(00000000)\n"
       ]
      },
      {
       "output_type": "stream",
       "stream": "stderr",
       "text": [
        "DEBUG:paramiko.transport.sftp:[chan 0] stat('smartdays/server/uploads/a8e4aa083f07b360/pebbleAccel_a8e4aa083f07b360_20150317105529.bin')\n"
       ]
      },
      {
       "output_type": "stream",
       "stream": "stderr",
       "text": [
        "DEBUG:paramiko.transport.sftp:[chan 0] open('smartdays/server/uploads/a8e4aa083f07b360/pebbleAccel_a8e4aa083f07b360_20150317105529.bin', 'rb')\n"
       ]
      },
      {
       "output_type": "stream",
       "stream": "stderr",
       "text": [
        "DEBUG:paramiko.transport.sftp:[chan 0] open('smartdays/server/uploads/a8e4aa083f07b360/pebbleAccel_a8e4aa083f07b360_20150317105529.bin', 'rb') -> 00000000\n"
       ]
      },
      {
       "output_type": "stream",
       "stream": "stderr",
       "text": [
        "DEBUG:paramiko.transport.sftp:[chan 0] stat('smartdays/server/uploads/a8e4aa083f07b360/pebbleAccel_a8e4aa083f07b360_20150317105529.bin')\n"
       ]
      },
      {
       "output_type": "stream",
       "stream": "stderr",
       "text": [
        "DEBUG:paramiko.transport.sftp:[chan 0] close(00000000)\n"
       ]
      },
      {
       "output_type": "stream",
       "stream": "stderr",
       "text": [
        "DEBUG:paramiko.transport.sftp:[chan 0] stat('smartdays/server/uploads/a8e4aa083f07b360/pebbleAccel_a8e4aa083f07b360_20150317113100.bin')\n"
       ]
      },
      {
       "output_type": "stream",
       "stream": "stderr",
       "text": [
        "DEBUG:paramiko.transport.sftp:[chan 0] open('smartdays/server/uploads/a8e4aa083f07b360/pebbleAccel_a8e4aa083f07b360_20150317113100.bin', 'rb')\n"
       ]
      },
      {
       "output_type": "stream",
       "stream": "stderr",
       "text": [
        "DEBUG:paramiko.transport.sftp:[chan 0] open('smartdays/server/uploads/a8e4aa083f07b360/pebbleAccel_a8e4aa083f07b360_20150317113100.bin', 'rb') -> 00000000\n"
       ]
      },
      {
       "output_type": "stream",
       "stream": "stderr",
       "text": [
        "DEBUG:paramiko.transport.sftp:[chan 0] stat('smartdays/server/uploads/a8e4aa083f07b360/pebbleAccel_a8e4aa083f07b360_20150317113100.bin')\n"
       ]
      },
      {
       "output_type": "stream",
       "stream": "stderr",
       "text": [
        "DEBUG:paramiko.transport.sftp:[chan 0] close(00000000)\n"
       ]
      },
      {
       "output_type": "stream",
       "stream": "stderr",
       "text": [
        "DEBUG:paramiko.transport.sftp:[chan 0] stat('smartdays/server/uploads/a8e4aa083f07b360/pebbleAccel_a8e4aa083f07b360_20150317113121.bin')\n"
       ]
      },
      {
       "output_type": "stream",
       "stream": "stderr",
       "text": [
        "DEBUG:paramiko.transport.sftp:[chan 0] open('smartdays/server/uploads/a8e4aa083f07b360/pebbleAccel_a8e4aa083f07b360_20150317113121.bin', 'rb')\n"
       ]
      },
      {
       "output_type": "stream",
       "stream": "stderr",
       "text": [
        "DEBUG:paramiko.transport.sftp:[chan 0] open('smartdays/server/uploads/a8e4aa083f07b360/pebbleAccel_a8e4aa083f07b360_20150317113121.bin', 'rb') -> 00000000\n"
       ]
      },
      {
       "output_type": "stream",
       "stream": "stderr",
       "text": [
        "DEBUG:paramiko.transport.sftp:[chan 0] stat('smartdays/server/uploads/a8e4aa083f07b360/pebbleAccel_a8e4aa083f07b360_20150317113121.bin')\n"
       ]
      },
      {
       "output_type": "stream",
       "stream": "stderr",
       "text": [
        "DEBUG:paramiko.transport.sftp:[chan 0] close(00000000)\n"
       ]
      },
      {
       "output_type": "stream",
       "stream": "stderr",
       "text": [
        "DEBUG:paramiko.transport.sftp:[chan 0] stat('smartdays/server/uploads/a8e4aa083f07b360/pebbleAccel_a8e4aa083f07b360_20150317113123.bin')\n"
       ]
      },
      {
       "output_type": "stream",
       "stream": "stderr",
       "text": [
        "DEBUG:paramiko.transport.sftp:[chan 0] open('smartdays/server/uploads/a8e4aa083f07b360/pebbleAccel_a8e4aa083f07b360_20150317113123.bin', 'rb')\n"
       ]
      },
      {
       "output_type": "stream",
       "stream": "stderr",
       "text": [
        "DEBUG:paramiko.transport.sftp:[chan 0] open('smartdays/server/uploads/a8e4aa083f07b360/pebbleAccel_a8e4aa083f07b360_20150317113123.bin', 'rb') -> 00000000\n"
       ]
      },
      {
       "output_type": "stream",
       "stream": "stderr",
       "text": [
        "DEBUG:paramiko.transport.sftp:[chan 0] stat('smartdays/server/uploads/a8e4aa083f07b360/pebbleAccel_a8e4aa083f07b360_20150317113123.bin')\n"
       ]
      },
      {
       "output_type": "stream",
       "stream": "stderr",
       "text": [
        "DEBUG:paramiko.transport.sftp:[chan 0] close(00000000)\n"
       ]
      },
      {
       "output_type": "stream",
       "stream": "stderr",
       "text": [
        "DEBUG:paramiko.transport.sftp:[chan 0] stat('smartdays/server/uploads/a8e4aa083f07b360/pebbleAccel_a8e4aa083f07b360_20150317190320.bin')\n"
       ]
      },
      {
       "output_type": "stream",
       "stream": "stderr",
       "text": [
        "DEBUG:paramiko.transport.sftp:[chan 0] open('smartdays/server/uploads/a8e4aa083f07b360/pebbleAccel_a8e4aa083f07b360_20150317190320.bin', 'rb')\n"
       ]
      },
      {
       "output_type": "stream",
       "stream": "stderr",
       "text": [
        "DEBUG:paramiko.transport.sftp:[chan 0] open('smartdays/server/uploads/a8e4aa083f07b360/pebbleAccel_a8e4aa083f07b360_20150317190320.bin', 'rb') -> 00000000\n"
       ]
      },
      {
       "output_type": "stream",
       "stream": "stderr",
       "text": [
        "DEBUG:paramiko.transport.sftp:[chan 0] stat('smartdays/server/uploads/a8e4aa083f07b360/pebbleAccel_a8e4aa083f07b360_20150317190320.bin')\n"
       ]
      },
      {
       "output_type": "stream",
       "stream": "stderr",
       "text": [
        "DEBUG:paramiko.transport.sftp:[chan 0] close(00000000)\n"
       ]
      },
      {
       "output_type": "stream",
       "stream": "stderr",
       "text": [
        "DEBUG:paramiko.transport.sftp:[chan 0] stat('smartdays/server/uploads/a8e4aa083f07b360/pebbleAccel_a8e4aa083f07b360_20150318084719.bin')\n"
       ]
      },
      {
       "output_type": "stream",
       "stream": "stderr",
       "text": [
        "DEBUG:paramiko.transport.sftp:[chan 0] open('smartdays/server/uploads/a8e4aa083f07b360/pebbleAccel_a8e4aa083f07b360_20150318084719.bin', 'rb')\n"
       ]
      },
      {
       "output_type": "stream",
       "stream": "stderr",
       "text": [
        "DEBUG:paramiko.transport.sftp:[chan 0] open('smartdays/server/uploads/a8e4aa083f07b360/pebbleAccel_a8e4aa083f07b360_20150318084719.bin', 'rb') -> 00000000\n"
       ]
      },
      {
       "output_type": "stream",
       "stream": "stderr",
       "text": [
        "DEBUG:paramiko.transport.sftp:[chan 0] stat('smartdays/server/uploads/a8e4aa083f07b360/pebbleAccel_a8e4aa083f07b360_20150318084719.bin')\n"
       ]
      },
      {
       "output_type": "stream",
       "stream": "stderr",
       "text": [
        "DEBUG:paramiko.transport.sftp:[chan 0] close(00000000)\n"
       ]
      },
      {
       "output_type": "stream",
       "stream": "stderr",
       "text": [
        "DEBUG:paramiko.transport.sftp:[chan 0] stat('smartdays/server/uploads/a8e4aa083f07b360/pebbleAccel_a8e4aa083f07b360_20150319000001.bin')\n"
       ]
      },
      {
       "output_type": "stream",
       "stream": "stderr",
       "text": [
        "DEBUG:paramiko.transport.sftp:[chan 0] open('smartdays/server/uploads/a8e4aa083f07b360/pebbleAccel_a8e4aa083f07b360_20150319000001.bin', 'rb')\n"
       ]
      },
      {
       "output_type": "stream",
       "stream": "stderr",
       "text": [
        "DEBUG:paramiko.transport.sftp:[chan 0] open('smartdays/server/uploads/a8e4aa083f07b360/pebbleAccel_a8e4aa083f07b360_20150319000001.bin', 'rb') -> 00000000\n"
       ]
      },
      {
       "output_type": "stream",
       "stream": "stderr",
       "text": [
        "DEBUG:paramiko.transport.sftp:[chan 0] stat('smartdays/server/uploads/a8e4aa083f07b360/pebbleAccel_a8e4aa083f07b360_20150319000001.bin')\n"
       ]
      },
      {
       "output_type": "stream",
       "stream": "stderr",
       "text": [
        "DEBUG:paramiko.transport.sftp:[chan 0] close(00000000)\n"
       ]
      },
      {
       "output_type": "stream",
       "stream": "stderr",
       "text": [
        "DEBUG:paramiko.transport.sftp:[chan 0] stat('smartdays/server/uploads/a8e4aa083f07b360/pebbleAccel_a8e4aa083f07b360_20150319081414.bin')\n"
       ]
      },
      {
       "output_type": "stream",
       "stream": "stderr",
       "text": [
        "DEBUG:paramiko.transport.sftp:[chan 0] open('smartdays/server/uploads/a8e4aa083f07b360/pebbleAccel_a8e4aa083f07b360_20150319081414.bin', 'rb')\n"
       ]
      },
      {
       "output_type": "stream",
       "stream": "stderr",
       "text": [
        "DEBUG:paramiko.transport.sftp:[chan 0] open('smartdays/server/uploads/a8e4aa083f07b360/pebbleAccel_a8e4aa083f07b360_20150319081414.bin', 'rb') -> 00000000\n"
       ]
      },
      {
       "output_type": "stream",
       "stream": "stderr",
       "text": [
        "DEBUG:paramiko.transport.sftp:[chan 0] stat('smartdays/server/uploads/a8e4aa083f07b360/pebbleAccel_a8e4aa083f07b360_20150319081414.bin')\n"
       ]
      },
      {
       "output_type": "stream",
       "stream": "stderr",
       "text": [
        "DEBUG:paramiko.transport.sftp:[chan 0] close(00000000)\n"
       ]
      },
      {
       "output_type": "stream",
       "stream": "stderr",
       "text": [
        "DEBUG:paramiko.transport.sftp:[chan 0] stat('smartdays/server/uploads/a8e4aa083f07b360/pebbleAccel_a8e4aa083f07b360_20150320000001.bin')\n"
       ]
      },
      {
       "output_type": "stream",
       "stream": "stderr",
       "text": [
        "DEBUG:paramiko.transport.sftp:[chan 0] open('smartdays/server/uploads/a8e4aa083f07b360/pebbleAccel_a8e4aa083f07b360_20150320000001.bin', 'rb')\n"
       ]
      },
      {
       "output_type": "stream",
       "stream": "stderr",
       "text": [
        "DEBUG:paramiko.transport.sftp:[chan 0] open('smartdays/server/uploads/a8e4aa083f07b360/pebbleAccel_a8e4aa083f07b360_20150320000001.bin', 'rb') -> 00000000\n"
       ]
      },
      {
       "output_type": "stream",
       "stream": "stderr",
       "text": [
        "DEBUG:paramiko.transport.sftp:[chan 0] stat('smartdays/server/uploads/a8e4aa083f07b360/pebbleAccel_a8e4aa083f07b360_20150320000001.bin')\n"
       ]
      },
      {
       "output_type": "stream",
       "stream": "stderr",
       "text": [
        "DEBUG:paramiko.transport.sftp:[chan 0] close(00000000)\n"
       ]
      },
      {
       "output_type": "stream",
       "stream": "stderr",
       "text": [
        "DEBUG:paramiko.transport.sftp:[chan 0] stat('smartdays/server/uploads/a8e4aa083f07b360/pebbleAccel_a8e4aa083f07b360_20150320104716.bin')\n"
       ]
      },
      {
       "output_type": "stream",
       "stream": "stderr",
       "text": [
        "DEBUG:paramiko.transport.sftp:[chan 0] open('smartdays/server/uploads/a8e4aa083f07b360/pebbleAccel_a8e4aa083f07b360_20150320104716.bin', 'rb')\n"
       ]
      },
      {
       "output_type": "stream",
       "stream": "stderr",
       "text": [
        "DEBUG:paramiko.transport.sftp:[chan 0] open('smartdays/server/uploads/a8e4aa083f07b360/pebbleAccel_a8e4aa083f07b360_20150320104716.bin', 'rb') -> 00000000\n"
       ]
      },
      {
       "output_type": "stream",
       "stream": "stderr",
       "text": [
        "DEBUG:paramiko.transport.sftp:[chan 0] stat('smartdays/server/uploads/a8e4aa083f07b360/pebbleAccel_a8e4aa083f07b360_20150320104716.bin')\n"
       ]
      },
      {
       "output_type": "stream",
       "stream": "stderr",
       "text": [
        "DEBUG:paramiko.transport.sftp:[chan 0] close(00000000)\n"
       ]
      },
      {
       "output_type": "stream",
       "stream": "stderr",
       "text": [
        "DEBUG:paramiko.transport.sftp:[chan 0] stat('smartdays/server/uploads/a8e4aa083f07b360/pebbleAccel_a8e4aa083f07b360_20150320105017.bin')\n"
       ]
      },
      {
       "output_type": "stream",
       "stream": "stderr",
       "text": [
        "DEBUG:paramiko.transport.sftp:[chan 0] open('smartdays/server/uploads/a8e4aa083f07b360/pebbleAccel_a8e4aa083f07b360_20150320105017.bin', 'rb')\n"
       ]
      },
      {
       "output_type": "stream",
       "stream": "stderr",
       "text": [
        "DEBUG:paramiko.transport.sftp:[chan 0] open('smartdays/server/uploads/a8e4aa083f07b360/pebbleAccel_a8e4aa083f07b360_20150320105017.bin', 'rb') -> 00000000\n"
       ]
      },
      {
       "output_type": "stream",
       "stream": "stderr",
       "text": [
        "DEBUG:paramiko.transport.sftp:[chan 0] stat('smartdays/server/uploads/a8e4aa083f07b360/pebbleAccel_a8e4aa083f07b360_20150320105017.bin')\n"
       ]
      },
      {
       "output_type": "stream",
       "stream": "stderr",
       "text": [
        "DEBUG:paramiko.transport.sftp:[chan 0] close(00000000)\n"
       ]
      },
      {
       "output_type": "stream",
       "stream": "stderr",
       "text": [
        "DEBUG:paramiko.transport.sftp:[chan 0] stat('smartdays/server/uploads/a8e4aa083f07b360/pebbleAccel_a8e4aa083f07b360_20150320110319.bin')\n"
       ]
      },
      {
       "output_type": "stream",
       "stream": "stderr",
       "text": [
        "DEBUG:paramiko.transport.sftp:[chan 0] open('smartdays/server/uploads/a8e4aa083f07b360/pebbleAccel_a8e4aa083f07b360_20150320110319.bin', 'rb')\n"
       ]
      },
      {
       "output_type": "stream",
       "stream": "stderr",
       "text": [
        "DEBUG:paramiko.transport.sftp:[chan 0] open('smartdays/server/uploads/a8e4aa083f07b360/pebbleAccel_a8e4aa083f07b360_20150320110319.bin', 'rb') -> 00000000\n"
       ]
      },
      {
       "output_type": "stream",
       "stream": "stderr",
       "text": [
        "DEBUG:paramiko.transport.sftp:[chan 0] stat('smartdays/server/uploads/a8e4aa083f07b360/pebbleAccel_a8e4aa083f07b360_20150320110319.bin')\n"
       ]
      },
      {
       "output_type": "stream",
       "stream": "stderr",
       "text": [
        "DEBUG:paramiko.transport.sftp:[chan 0] close(00000000)\n"
       ]
      },
      {
       "output_type": "stream",
       "stream": "stderr",
       "text": [
        "DEBUG:paramiko.transport.sftp:[chan 0] stat('smartdays/server/uploads/a8e4aa083f07b360/pebbleAccel_a8e4aa083f07b360_20150320111439.bin')\n"
       ]
      },
      {
       "output_type": "stream",
       "stream": "stderr",
       "text": [
        "DEBUG:paramiko.transport.sftp:[chan 0] open('smartdays/server/uploads/a8e4aa083f07b360/pebbleAccel_a8e4aa083f07b360_20150320111439.bin', 'rb')\n"
       ]
      },
      {
       "output_type": "stream",
       "stream": "stderr",
       "text": [
        "DEBUG:paramiko.transport.sftp:[chan 0] open('smartdays/server/uploads/a8e4aa083f07b360/pebbleAccel_a8e4aa083f07b360_20150320111439.bin', 'rb') -> 00000000\n"
       ]
      },
      {
       "output_type": "stream",
       "stream": "stderr",
       "text": [
        "DEBUG:paramiko.transport.sftp:[chan 0] stat('smartdays/server/uploads/a8e4aa083f07b360/pebbleAccel_a8e4aa083f07b360_20150320111439.bin')\n"
       ]
      },
      {
       "output_type": "stream",
       "stream": "stderr",
       "text": [
        "DEBUG:paramiko.transport.sftp:[chan 0] close(00000000)\n"
       ]
      },
      {
       "output_type": "stream",
       "stream": "stderr",
       "text": [
        "DEBUG:paramiko.transport.sftp:[chan 0] stat('smartdays/server/uploads/a8e4aa083f07b360/phoneAccel_a8e4aa083f07b360_20150123142424.bin')\n"
       ]
      },
      {
       "output_type": "stream",
       "stream": "stderr",
       "text": [
        "DEBUG:paramiko.transport.sftp:[chan 0] open('smartdays/server/uploads/a8e4aa083f07b360/phoneAccel_a8e4aa083f07b360_20150123142424.bin', 'rb')\n"
       ]
      },
      {
       "output_type": "stream",
       "stream": "stderr",
       "text": [
        "DEBUG:paramiko.transport.sftp:[chan 0] open('smartdays/server/uploads/a8e4aa083f07b360/phoneAccel_a8e4aa083f07b360_20150123142424.bin', 'rb') -> 00000000\n"
       ]
      },
      {
       "output_type": "stream",
       "stream": "stderr",
       "text": [
        "DEBUG:paramiko.transport.sftp:[chan 0] stat('smartdays/server/uploads/a8e4aa083f07b360/phoneAccel_a8e4aa083f07b360_20150123142424.bin')\n"
       ]
      },
      {
       "output_type": "stream",
       "stream": "stderr",
       "text": [
        "DEBUG:paramiko.transport.sftp:[chan 0] close(00000000)\n"
       ]
      },
      {
       "output_type": "stream",
       "stream": "stderr",
       "text": [
        "DEBUG:paramiko.transport.sftp:[chan 0] stat('smartdays/server/uploads/a8e4aa083f07b360/phoneAccel_a8e4aa083f07b360_20150302170901.bin')\n"
       ]
      },
      {
       "output_type": "stream",
       "stream": "stderr",
       "text": [
        "DEBUG:paramiko.transport.sftp:[chan 0] open('smartdays/server/uploads/a8e4aa083f07b360/phoneAccel_a8e4aa083f07b360_20150302170901.bin', 'rb')\n"
       ]
      },
      {
       "output_type": "stream",
       "stream": "stderr",
       "text": [
        "DEBUG:paramiko.transport.sftp:[chan 0] open('smartdays/server/uploads/a8e4aa083f07b360/phoneAccel_a8e4aa083f07b360_20150302170901.bin', 'rb') -> 00000000\n"
       ]
      },
      {
       "output_type": "stream",
       "stream": "stderr",
       "text": [
        "DEBUG:paramiko.transport.sftp:[chan 0] stat('smartdays/server/uploads/a8e4aa083f07b360/phoneAccel_a8e4aa083f07b360_20150302170901.bin')\n"
       ]
      },
      {
       "output_type": "stream",
       "stream": "stderr",
       "text": [
        "DEBUG:paramiko.transport.sftp:[chan 0] close(00000000)\n"
       ]
      },
      {
       "output_type": "stream",
       "stream": "stderr",
       "text": [
        "DEBUG:paramiko.transport.sftp:[chan 0] stat('smartdays/server/uploads/a8e4aa083f07b360/phoneAccel_a8e4aa083f07b360_20150302235226.bin')\n"
       ]
      },
      {
       "output_type": "stream",
       "stream": "stderr",
       "text": [
        "DEBUG:paramiko.transport.sftp:[chan 0] open('smartdays/server/uploads/a8e4aa083f07b360/phoneAccel_a8e4aa083f07b360_20150302235226.bin', 'rb')\n"
       ]
      },
      {
       "output_type": "stream",
       "stream": "stderr",
       "text": [
        "DEBUG:paramiko.transport.sftp:[chan 0] open('smartdays/server/uploads/a8e4aa083f07b360/phoneAccel_a8e4aa083f07b360_20150302235226.bin', 'rb') -> 00000000\n"
       ]
      },
      {
       "output_type": "stream",
       "stream": "stderr",
       "text": [
        "DEBUG:paramiko.transport.sftp:[chan 0] stat('smartdays/server/uploads/a8e4aa083f07b360/phoneAccel_a8e4aa083f07b360_20150302235226.bin')\n"
       ]
      },
      {
       "output_type": "stream",
       "stream": "stderr",
       "text": [
        "DEBUG:paramiko.transport.sftp:[chan 0] close(00000000)\n"
       ]
      },
      {
       "output_type": "stream",
       "stream": "stderr",
       "text": [
        "DEBUG:paramiko.transport.sftp:[chan 0] stat('smartdays/server/uploads/a8e4aa083f07b360/phoneAccel_a8e4aa083f07b360_20150303091411.bin')\n"
       ]
      },
      {
       "output_type": "stream",
       "stream": "stderr",
       "text": [
        "DEBUG:paramiko.transport.sftp:[chan 0] open('smartdays/server/uploads/a8e4aa083f07b360/phoneAccel_a8e4aa083f07b360_20150303091411.bin', 'rb')\n"
       ]
      },
      {
       "output_type": "stream",
       "stream": "stderr",
       "text": [
        "DEBUG:paramiko.transport.sftp:[chan 0] open('smartdays/server/uploads/a8e4aa083f07b360/phoneAccel_a8e4aa083f07b360_20150303091411.bin', 'rb') -> 00000000\n"
       ]
      },
      {
       "output_type": "stream",
       "stream": "stderr",
       "text": [
        "DEBUG:paramiko.transport.sftp:[chan 0] stat('smartdays/server/uploads/a8e4aa083f07b360/phoneAccel_a8e4aa083f07b360_20150303091411.bin')\n"
       ]
      },
      {
       "output_type": "stream",
       "stream": "stderr",
       "text": [
        "DEBUG:paramiko.transport.sftp:[chan 0] close(00000000)\n"
       ]
      },
      {
       "output_type": "stream",
       "stream": "stderr",
       "text": [
        "DEBUG:paramiko.transport.sftp:[chan 0] stat('smartdays/server/uploads/a8e4aa083f07b360/phoneAccel_a8e4aa083f07b360_20150303091421.bin')\n"
       ]
      },
      {
       "output_type": "stream",
       "stream": "stderr",
       "text": [
        "DEBUG:paramiko.transport.sftp:[chan 0] open('smartdays/server/uploads/a8e4aa083f07b360/phoneAccel_a8e4aa083f07b360_20150303091421.bin', 'rb')\n"
       ]
      },
      {
       "output_type": "stream",
       "stream": "stderr",
       "text": [
        "DEBUG:paramiko.transport.sftp:[chan 0] open('smartdays/server/uploads/a8e4aa083f07b360/phoneAccel_a8e4aa083f07b360_20150303091421.bin', 'rb') -> 00000000\n"
       ]
      },
      {
       "output_type": "stream",
       "stream": "stderr",
       "text": [
        "DEBUG:paramiko.transport.sftp:[chan 0] stat('smartdays/server/uploads/a8e4aa083f07b360/phoneAccel_a8e4aa083f07b360_20150303091421.bin')\n"
       ]
      },
      {
       "output_type": "stream",
       "stream": "stderr",
       "text": [
        "DEBUG:paramiko.transport.sftp:[chan 0] close(00000000)\n"
       ]
      },
      {
       "output_type": "stream",
       "stream": "stderr",
       "text": [
        "DEBUG:paramiko.transport.sftp:[chan 0] stat('smartdays/server/uploads/a8e4aa083f07b360/phoneAccel_a8e4aa083f07b360_20150303095638.bin')\n"
       ]
      },
      {
       "output_type": "stream",
       "stream": "stderr",
       "text": [
        "DEBUG:paramiko.transport.sftp:[chan 0] open('smartdays/server/uploads/a8e4aa083f07b360/phoneAccel_a8e4aa083f07b360_20150303095638.bin', 'rb')\n"
       ]
      },
      {
       "output_type": "stream",
       "stream": "stderr",
       "text": [
        "DEBUG:paramiko.transport.sftp:[chan 0] open('smartdays/server/uploads/a8e4aa083f07b360/phoneAccel_a8e4aa083f07b360_20150303095638.bin', 'rb') -> 00000000\n"
       ]
      },
      {
       "output_type": "stream",
       "stream": "stderr",
       "text": [
        "DEBUG:paramiko.transport.sftp:[chan 0] stat('smartdays/server/uploads/a8e4aa083f07b360/phoneAccel_a8e4aa083f07b360_20150303095638.bin')\n"
       ]
      },
      {
       "output_type": "stream",
       "stream": "stderr",
       "text": [
        "DEBUG:paramiko.transport.sftp:[chan 0] close(00000000)\n"
       ]
      },
      {
       "output_type": "stream",
       "stream": "stderr",
       "text": [
        "DEBUG:paramiko.transport.sftp:[chan 0] stat('smartdays/server/uploads/a8e4aa083f07b360/phoneAccel_a8e4aa083f07b360_20150303115331.bin')\n"
       ]
      },
      {
       "output_type": "stream",
       "stream": "stderr",
       "text": [
        "DEBUG:paramiko.transport.sftp:[chan 0] open('smartdays/server/uploads/a8e4aa083f07b360/phoneAccel_a8e4aa083f07b360_20150303115331.bin', 'rb')\n"
       ]
      },
      {
       "output_type": "stream",
       "stream": "stderr",
       "text": [
        "DEBUG:paramiko.transport.sftp:[chan 0] open('smartdays/server/uploads/a8e4aa083f07b360/phoneAccel_a8e4aa083f07b360_20150303115331.bin', 'rb') -> 00000000\n"
       ]
      },
      {
       "output_type": "stream",
       "stream": "stderr",
       "text": [
        "DEBUG:paramiko.transport.sftp:[chan 0] stat('smartdays/server/uploads/a8e4aa083f07b360/phoneAccel_a8e4aa083f07b360_20150303115331.bin')\n"
       ]
      },
      {
       "output_type": "stream",
       "stream": "stderr",
       "text": [
        "DEBUG:paramiko.transport.sftp:[chan 0] close(00000000)\n"
       ]
      },
      {
       "output_type": "stream",
       "stream": "stderr",
       "text": [
        "DEBUG:paramiko.transport.sftp:[chan 0] stat('smartdays/server/uploads/a8e4aa083f07b360/phoneAccel_a8e4aa083f07b360_20150303235959.bin')\n"
       ]
      },
      {
       "output_type": "stream",
       "stream": "stderr",
       "text": [
        "DEBUG:paramiko.transport.sftp:[chan 0] open('smartdays/server/uploads/a8e4aa083f07b360/phoneAccel_a8e4aa083f07b360_20150303235959.bin', 'rb')\n"
       ]
      },
      {
       "output_type": "stream",
       "stream": "stderr",
       "text": [
        "DEBUG:paramiko.transport.sftp:[chan 0] open('smartdays/server/uploads/a8e4aa083f07b360/phoneAccel_a8e4aa083f07b360_20150303235959.bin', 'rb') -> 00000000\n"
       ]
      },
      {
       "output_type": "stream",
       "stream": "stderr",
       "text": [
        "DEBUG:paramiko.transport.sftp:[chan 0] stat('smartdays/server/uploads/a8e4aa083f07b360/phoneAccel_a8e4aa083f07b360_20150303235959.bin')\n"
       ]
      },
      {
       "output_type": "stream",
       "stream": "stderr",
       "text": [
        "DEBUG:paramiko.transport.sftp:[chan 0] close(00000000)\n"
       ]
      },
      {
       "output_type": "stream",
       "stream": "stderr",
       "text": [
        "DEBUG:paramiko.transport.sftp:[chan 0] stat('smartdays/server/uploads/a8e4aa083f07b360/phoneAccel_a8e4aa083f07b360_20150304000006.bin')\n"
       ]
      },
      {
       "output_type": "stream",
       "stream": "stderr",
       "text": [
        "DEBUG:paramiko.transport.sftp:[chan 0] open('smartdays/server/uploads/a8e4aa083f07b360/phoneAccel_a8e4aa083f07b360_20150304000006.bin', 'rb')\n"
       ]
      },
      {
       "output_type": "stream",
       "stream": "stderr",
       "text": [
        "DEBUG:paramiko.transport.sftp:[chan 0] open('smartdays/server/uploads/a8e4aa083f07b360/phoneAccel_a8e4aa083f07b360_20150304000006.bin', 'rb') -> 00000000\n"
       ]
      },
      {
       "output_type": "stream",
       "stream": "stderr",
       "text": [
        "DEBUG:paramiko.transport.sftp:[chan 0] stat('smartdays/server/uploads/a8e4aa083f07b360/phoneAccel_a8e4aa083f07b360_20150304000006.bin')\n"
       ]
      },
      {
       "output_type": "stream",
       "stream": "stderr",
       "text": [
        "DEBUG:paramiko.transport.sftp:[chan 0] close(00000000)\n"
       ]
      },
      {
       "output_type": "stream",
       "stream": "stderr",
       "text": [
        "DEBUG:paramiko.transport.sftp:[chan 0] stat('smartdays/server/uploads/a8e4aa083f07b360/phoneAccel_a8e4aa083f07b360_20150304084648.bin')\n"
       ]
      },
      {
       "output_type": "stream",
       "stream": "stderr",
       "text": [
        "DEBUG:paramiko.transport.sftp:[chan 0] open('smartdays/server/uploads/a8e4aa083f07b360/phoneAccel_a8e4aa083f07b360_20150304084648.bin', 'rb')\n"
       ]
      },
      {
       "output_type": "stream",
       "stream": "stderr",
       "text": [
        "DEBUG:paramiko.transport.sftp:[chan 0] open('smartdays/server/uploads/a8e4aa083f07b360/phoneAccel_a8e4aa083f07b360_20150304084648.bin', 'rb') -> 00000000\n"
       ]
      },
      {
       "output_type": "stream",
       "stream": "stderr",
       "text": [
        "DEBUG:paramiko.transport.sftp:[chan 0] stat('smartdays/server/uploads/a8e4aa083f07b360/phoneAccel_a8e4aa083f07b360_20150304084648.bin')\n"
       ]
      },
      {
       "output_type": "stream",
       "stream": "stderr",
       "text": [
        "DEBUG:paramiko.transport.sftp:[chan 0] close(00000000)\n"
       ]
      },
      {
       "output_type": "stream",
       "stream": "stderr",
       "text": [
        "DEBUG:paramiko.transport.sftp:[chan 0] stat('smartdays/server/uploads/a8e4aa083f07b360/phoneAccel_a8e4aa083f07b360_20150304084924.bin')\n"
       ]
      },
      {
       "output_type": "stream",
       "stream": "stderr",
       "text": [
        "DEBUG:paramiko.transport.sftp:[chan 0] open('smartdays/server/uploads/a8e4aa083f07b360/phoneAccel_a8e4aa083f07b360_20150304084924.bin', 'rb')\n"
       ]
      },
      {
       "output_type": "stream",
       "stream": "stderr",
       "text": [
        "DEBUG:paramiko.transport.sftp:[chan 0] open('smartdays/server/uploads/a8e4aa083f07b360/phoneAccel_a8e4aa083f07b360_20150304084924.bin', 'rb') -> 00000000\n"
       ]
      },
      {
       "output_type": "stream",
       "stream": "stderr",
       "text": [
        "DEBUG:paramiko.transport.sftp:[chan 0] stat('smartdays/server/uploads/a8e4aa083f07b360/phoneAccel_a8e4aa083f07b360_20150304084924.bin')\n"
       ]
      },
      {
       "output_type": "stream",
       "stream": "stderr",
       "text": [
        "DEBUG:paramiko.transport.sftp:[chan 0] close(00000000)\n"
       ]
      },
      {
       "output_type": "stream",
       "stream": "stderr",
       "text": [
        "DEBUG:paramiko.transport.sftp:[chan 0] stat('smartdays/server/uploads/a8e4aa083f07b360/phoneAccel_a8e4aa083f07b360_20150304085021.bin')\n"
       ]
      },
      {
       "output_type": "stream",
       "stream": "stderr",
       "text": [
        "DEBUG:paramiko.transport.sftp:[chan 0] open('smartdays/server/uploads/a8e4aa083f07b360/phoneAccel_a8e4aa083f07b360_20150304085021.bin', 'rb')\n"
       ]
      },
      {
       "output_type": "stream",
       "stream": "stderr",
       "text": [
        "DEBUG:paramiko.transport.sftp:[chan 0] open('smartdays/server/uploads/a8e4aa083f07b360/phoneAccel_a8e4aa083f07b360_20150304085021.bin', 'rb') -> 00000000\n"
       ]
      },
      {
       "output_type": "stream",
       "stream": "stderr",
       "text": [
        "DEBUG:paramiko.transport.sftp:[chan 0] stat('smartdays/server/uploads/a8e4aa083f07b360/phoneAccel_a8e4aa083f07b360_20150304085021.bin')\n"
       ]
      },
      {
       "output_type": "stream",
       "stream": "stderr",
       "text": [
        "DEBUG:paramiko.transport.sftp:[chan 0] close(00000000)\n"
       ]
      },
      {
       "output_type": "stream",
       "stream": "stderr",
       "text": [
        "DEBUG:paramiko.transport.sftp:[chan 0] stat('smartdays/server/uploads/a8e4aa083f07b360/phoneAccel_a8e4aa083f07b360_20150304094120.bin')\n"
       ]
      },
      {
       "output_type": "stream",
       "stream": "stderr",
       "text": [
        "DEBUG:paramiko.transport.sftp:[chan 0] open('smartdays/server/uploads/a8e4aa083f07b360/phoneAccel_a8e4aa083f07b360_20150304094120.bin', 'rb')\n"
       ]
      },
      {
       "output_type": "stream",
       "stream": "stderr",
       "text": [
        "DEBUG:paramiko.transport.sftp:[chan 0] open('smartdays/server/uploads/a8e4aa083f07b360/phoneAccel_a8e4aa083f07b360_20150304094120.bin', 'rb') -> 00000000\n"
       ]
      },
      {
       "output_type": "stream",
       "stream": "stderr",
       "text": [
        "DEBUG:paramiko.transport.sftp:[chan 0] stat('smartdays/server/uploads/a8e4aa083f07b360/phoneAccel_a8e4aa083f07b360_20150304094120.bin')\n"
       ]
      },
      {
       "output_type": "stream",
       "stream": "stderr",
       "text": [
        "DEBUG:paramiko.transport.sftp:[chan 0] close(00000000)\n"
       ]
      },
      {
       "output_type": "stream",
       "stream": "stderr",
       "text": [
        "DEBUG:paramiko.transport.sftp:[chan 0] stat('smartdays/server/uploads/a8e4aa083f07b360/phoneAccel_a8e4aa083f07b360_20150304095102.bin')\n"
       ]
      },
      {
       "output_type": "stream",
       "stream": "stderr",
       "text": [
        "DEBUG:paramiko.transport.sftp:[chan 0] open('smartdays/server/uploads/a8e4aa083f07b360/phoneAccel_a8e4aa083f07b360_20150304095102.bin', 'rb')\n"
       ]
      },
      {
       "output_type": "stream",
       "stream": "stderr",
       "text": [
        "DEBUG:paramiko.transport.sftp:[chan 0] open('smartdays/server/uploads/a8e4aa083f07b360/phoneAccel_a8e4aa083f07b360_20150304095102.bin', 'rb') -> 00000000\n"
       ]
      },
      {
       "output_type": "stream",
       "stream": "stderr",
       "text": [
        "DEBUG:paramiko.transport.sftp:[chan 0] stat('smartdays/server/uploads/a8e4aa083f07b360/phoneAccel_a8e4aa083f07b360_20150304095102.bin')\n"
       ]
      },
      {
       "output_type": "stream",
       "stream": "stderr",
       "text": [
        "DEBUG:paramiko.transport.sftp:[chan 0] close(00000000)\n"
       ]
      },
      {
       "output_type": "stream",
       "stream": "stderr",
       "text": [
        "DEBUG:paramiko.transport.sftp:[chan 0] stat('smartdays/server/uploads/a8e4aa083f07b360/phoneAccel_a8e4aa083f07b360_20150304095127.bin')\n"
       ]
      },
      {
       "output_type": "stream",
       "stream": "stderr",
       "text": [
        "DEBUG:paramiko.transport.sftp:[chan 0] open('smartdays/server/uploads/a8e4aa083f07b360/phoneAccel_a8e4aa083f07b360_20150304095127.bin', 'rb')\n"
       ]
      },
      {
       "output_type": "stream",
       "stream": "stderr",
       "text": [
        "DEBUG:paramiko.transport.sftp:[chan 0] open('smartdays/server/uploads/a8e4aa083f07b360/phoneAccel_a8e4aa083f07b360_20150304095127.bin', 'rb') -> 00000000\n"
       ]
      },
      {
       "output_type": "stream",
       "stream": "stderr",
       "text": [
        "DEBUG:paramiko.transport.sftp:[chan 0] stat('smartdays/server/uploads/a8e4aa083f07b360/phoneAccel_a8e4aa083f07b360_20150304095127.bin')\n"
       ]
      },
      {
       "output_type": "stream",
       "stream": "stderr",
       "text": [
        "DEBUG:paramiko.transport.sftp:[chan 0] close(00000000)\n"
       ]
      },
      {
       "output_type": "stream",
       "stream": "stderr",
       "text": [
        "DEBUG:paramiko.transport.sftp:[chan 0] stat('smartdays/server/uploads/a8e4aa083f07b360/phoneAccel_a8e4aa083f07b360_20150304095148.bin')\n"
       ]
      },
      {
       "output_type": "stream",
       "stream": "stderr",
       "text": [
        "DEBUG:paramiko.transport.sftp:[chan 0] open('smartdays/server/uploads/a8e4aa083f07b360/phoneAccel_a8e4aa083f07b360_20150304095148.bin', 'rb')\n"
       ]
      },
      {
       "output_type": "stream",
       "stream": "stderr",
       "text": [
        "DEBUG:paramiko.transport.sftp:[chan 0] open('smartdays/server/uploads/a8e4aa083f07b360/phoneAccel_a8e4aa083f07b360_20150304095148.bin', 'rb') -> 00000000\n"
       ]
      },
      {
       "output_type": "stream",
       "stream": "stderr",
       "text": [
        "DEBUG:paramiko.transport.sftp:[chan 0] stat('smartdays/server/uploads/a8e4aa083f07b360/phoneAccel_a8e4aa083f07b360_20150304095148.bin')\n"
       ]
      },
      {
       "output_type": "stream",
       "stream": "stderr",
       "text": [
        "DEBUG:paramiko.transport.sftp:[chan 0] close(00000000)\n"
       ]
      },
      {
       "output_type": "stream",
       "stream": "stderr",
       "text": [
        "DEBUG:paramiko.transport.sftp:[chan 0] stat('smartdays/server/uploads/a8e4aa083f07b360/phoneAccel_a8e4aa083f07b360_20150304095247.bin')\n"
       ]
      },
      {
       "output_type": "stream",
       "stream": "stderr",
       "text": [
        "DEBUG:paramiko.transport.sftp:[chan 0] open('smartdays/server/uploads/a8e4aa083f07b360/phoneAccel_a8e4aa083f07b360_20150304095247.bin', 'rb')\n"
       ]
      },
      {
       "output_type": "stream",
       "stream": "stderr",
       "text": [
        "DEBUG:paramiko.transport.sftp:[chan 0] open('smartdays/server/uploads/a8e4aa083f07b360/phoneAccel_a8e4aa083f07b360_20150304095247.bin', 'rb') -> 00000000\n"
       ]
      },
      {
       "output_type": "stream",
       "stream": "stderr",
       "text": [
        "DEBUG:paramiko.transport.sftp:[chan 0] stat('smartdays/server/uploads/a8e4aa083f07b360/phoneAccel_a8e4aa083f07b360_20150304095247.bin')\n"
       ]
      },
      {
       "output_type": "stream",
       "stream": "stderr",
       "text": [
        "DEBUG:paramiko.transport.sftp:[chan 0] close(00000000)\n"
       ]
      },
      {
       "output_type": "stream",
       "stream": "stderr",
       "text": [
        "DEBUG:paramiko.transport.sftp:[chan 0] stat('smartdays/server/uploads/a8e4aa083f07b360/phoneAccel_a8e4aa083f07b360_20150305080642.bin')\n"
       ]
      },
      {
       "output_type": "stream",
       "stream": "stderr",
       "text": [
        "DEBUG:paramiko.transport.sftp:[chan 0] open('smartdays/server/uploads/a8e4aa083f07b360/phoneAccel_a8e4aa083f07b360_20150305080642.bin', 'rb')\n"
       ]
      },
      {
       "output_type": "stream",
       "stream": "stderr",
       "text": [
        "DEBUG:paramiko.transport.sftp:[chan 0] open('smartdays/server/uploads/a8e4aa083f07b360/phoneAccel_a8e4aa083f07b360_20150305080642.bin', 'rb') -> 00000000\n"
       ]
      },
      {
       "output_type": "stream",
       "stream": "stderr",
       "text": [
        "DEBUG:paramiko.transport.sftp:[chan 0] stat('smartdays/server/uploads/a8e4aa083f07b360/phoneAccel_a8e4aa083f07b360_20150305080642.bin')\n"
       ]
      },
      {
       "output_type": "stream",
       "stream": "stderr",
       "text": [
        "DEBUG:paramiko.transport.sftp:[chan 0] close(00000000)\n"
       ]
      },
      {
       "output_type": "stream",
       "stream": "stderr",
       "text": [
        "DEBUG:paramiko.transport.sftp:[chan 0] stat('smartdays/server/uploads/a8e4aa083f07b360/phoneAccel_a8e4aa083f07b360_20150305141601.bin')\n"
       ]
      },
      {
       "output_type": "stream",
       "stream": "stderr",
       "text": [
        "DEBUG:paramiko.transport.sftp:[chan 0] open('smartdays/server/uploads/a8e4aa083f07b360/phoneAccel_a8e4aa083f07b360_20150305141601.bin', 'rb')\n"
       ]
      },
      {
       "output_type": "stream",
       "stream": "stderr",
       "text": [
        "DEBUG:paramiko.transport.sftp:[chan 0] open('smartdays/server/uploads/a8e4aa083f07b360/phoneAccel_a8e4aa083f07b360_20150305141601.bin', 'rb') -> 00000000\n"
       ]
      },
      {
       "output_type": "stream",
       "stream": "stderr",
       "text": [
        "DEBUG:paramiko.transport.sftp:[chan 0] stat('smartdays/server/uploads/a8e4aa083f07b360/phoneAccel_a8e4aa083f07b360_20150305141601.bin')\n"
       ]
      },
      {
       "output_type": "stream",
       "stream": "stderr",
       "text": [
        "DEBUG:paramiko.transport.sftp:[chan 0] close(00000000)\n"
       ]
      },
      {
       "output_type": "stream",
       "stream": "stderr",
       "text": [
        "DEBUG:paramiko.transport.sftp:[chan 0] stat('smartdays/server/uploads/a8e4aa083f07b360/phoneAccel_a8e4aa083f07b360_20150306084032.bin')\n"
       ]
      },
      {
       "output_type": "stream",
       "stream": "stderr",
       "text": [
        "DEBUG:paramiko.transport.sftp:[chan 0] open('smartdays/server/uploads/a8e4aa083f07b360/phoneAccel_a8e4aa083f07b360_20150306084032.bin', 'rb')\n"
       ]
      },
      {
       "output_type": "stream",
       "stream": "stderr",
       "text": [
        "DEBUG:paramiko.transport.sftp:[chan 0] open('smartdays/server/uploads/a8e4aa083f07b360/phoneAccel_a8e4aa083f07b360_20150306084032.bin', 'rb') -> 00000000\n"
       ]
      },
      {
       "output_type": "stream",
       "stream": "stderr",
       "text": [
        "DEBUG:paramiko.transport.sftp:[chan 0] stat('smartdays/server/uploads/a8e4aa083f07b360/phoneAccel_a8e4aa083f07b360_20150306084032.bin')\n"
       ]
      },
      {
       "output_type": "stream",
       "stream": "stderr",
       "text": [
        "DEBUG:paramiko.transport.sftp:[chan 0] close(00000000)\n"
       ]
      },
      {
       "output_type": "stream",
       "stream": "stderr",
       "text": [
        "DEBUG:paramiko.transport.sftp:[chan 0] stat('smartdays/server/uploads/a8e4aa083f07b360/phoneAccel_a8e4aa083f07b360_20150313105235.bin')\n"
       ]
      },
      {
       "output_type": "stream",
       "stream": "stderr",
       "text": [
        "DEBUG:paramiko.transport.sftp:[chan 0] open('smartdays/server/uploads/a8e4aa083f07b360/phoneAccel_a8e4aa083f07b360_20150313105235.bin', 'rb')\n"
       ]
      },
      {
       "output_type": "stream",
       "stream": "stderr",
       "text": [
        "DEBUG:paramiko.transport.sftp:[chan 0] open('smartdays/server/uploads/a8e4aa083f07b360/phoneAccel_a8e4aa083f07b360_20150313105235.bin', 'rb') -> 00000000\n"
       ]
      },
      {
       "output_type": "stream",
       "stream": "stderr",
       "text": [
        "DEBUG:paramiko.transport.sftp:[chan 0] stat('smartdays/server/uploads/a8e4aa083f07b360/phoneAccel_a8e4aa083f07b360_20150313105235.bin')\n"
       ]
      },
      {
       "output_type": "stream",
       "stream": "stderr",
       "text": [
        "DEBUG:paramiko.transport.sftp:[chan 0] close(00000000)\n"
       ]
      },
      {
       "output_type": "stream",
       "stream": "stderr",
       "text": [
        "DEBUG:paramiko.transport.sftp:[chan 0] stat('smartdays/server/uploads/a8e4aa083f07b360/phoneAccel_a8e4aa083f07b360_20150313105440.bin')\n"
       ]
      },
      {
       "output_type": "stream",
       "stream": "stderr",
       "text": [
        "DEBUG:paramiko.transport.sftp:[chan 0] open('smartdays/server/uploads/a8e4aa083f07b360/phoneAccel_a8e4aa083f07b360_20150313105440.bin', 'rb')\n"
       ]
      },
      {
       "output_type": "stream",
       "stream": "stderr",
       "text": [
        "DEBUG:paramiko.transport.sftp:[chan 0] open('smartdays/server/uploads/a8e4aa083f07b360/phoneAccel_a8e4aa083f07b360_20150313105440.bin', 'rb') -> 00000000\n"
       ]
      },
      {
       "output_type": "stream",
       "stream": "stderr",
       "text": [
        "DEBUG:paramiko.transport.sftp:[chan 0] stat('smartdays/server/uploads/a8e4aa083f07b360/phoneAccel_a8e4aa083f07b360_20150313105440.bin')\n"
       ]
      },
      {
       "output_type": "stream",
       "stream": "stderr",
       "text": [
        "DEBUG:paramiko.transport.sftp:[chan 0] close(00000000)\n"
       ]
      },
      {
       "output_type": "stream",
       "stream": "stderr",
       "text": [
        "DEBUG:paramiko.transport.sftp:[chan 0] stat('smartdays/server/uploads/a8e4aa083f07b360/phoneAccel_a8e4aa083f07b360_20150313185010.bin')\n"
       ]
      },
      {
       "output_type": "stream",
       "stream": "stderr",
       "text": [
        "DEBUG:paramiko.transport.sftp:[chan 0] open('smartdays/server/uploads/a8e4aa083f07b360/phoneAccel_a8e4aa083f07b360_20150313185010.bin', 'rb')\n"
       ]
      },
      {
       "output_type": "stream",
       "stream": "stderr",
       "text": [
        "DEBUG:paramiko.transport.sftp:[chan 0] open('smartdays/server/uploads/a8e4aa083f07b360/phoneAccel_a8e4aa083f07b360_20150313185010.bin', 'rb') -> 00000000\n"
       ]
      },
      {
       "output_type": "stream",
       "stream": "stderr",
       "text": [
        "DEBUG:paramiko.transport.sftp:[chan 0] stat('smartdays/server/uploads/a8e4aa083f07b360/phoneAccel_a8e4aa083f07b360_20150313185010.bin')\n"
       ]
      },
      {
       "output_type": "stream",
       "stream": "stderr",
       "text": [
        "DEBUG:paramiko.transport.sftp:[chan 0] close(00000000)\n"
       ]
      },
      {
       "output_type": "stream",
       "stream": "stderr",
       "text": [
        "DEBUG:paramiko.transport.sftp:[chan 0] stat('smartdays/server/uploads/a8e4aa083f07b360/phoneAccel_a8e4aa083f07b360_20150313194456.bin')\n"
       ]
      },
      {
       "output_type": "stream",
       "stream": "stderr",
       "text": [
        "DEBUG:paramiko.transport.sftp:[chan 0] open('smartdays/server/uploads/a8e4aa083f07b360/phoneAccel_a8e4aa083f07b360_20150313194456.bin', 'rb')\n"
       ]
      },
      {
       "output_type": "stream",
       "stream": "stderr",
       "text": [
        "DEBUG:paramiko.transport.sftp:[chan 0] open('smartdays/server/uploads/a8e4aa083f07b360/phoneAccel_a8e4aa083f07b360_20150313194456.bin', 'rb') -> 00000000\n"
       ]
      },
      {
       "output_type": "stream",
       "stream": "stderr",
       "text": [
        "DEBUG:paramiko.transport.sftp:[chan 0] stat('smartdays/server/uploads/a8e4aa083f07b360/phoneAccel_a8e4aa083f07b360_20150313194456.bin')\n"
       ]
      },
      {
       "output_type": "stream",
       "stream": "stderr",
       "text": [
        "DEBUG:paramiko.transport.sftp:[chan 0] close(00000000)\n"
       ]
      },
      {
       "output_type": "stream",
       "stream": "stderr",
       "text": [
        "DEBUG:paramiko.transport.sftp:[chan 0] stat('smartdays/server/uploads/a8e4aa083f07b360/phoneAccel_a8e4aa083f07b360_20150313194915.bin')\n"
       ]
      },
      {
       "output_type": "stream",
       "stream": "stderr",
       "text": [
        "DEBUG:paramiko.transport.sftp:[chan 0] open('smartdays/server/uploads/a8e4aa083f07b360/phoneAccel_a8e4aa083f07b360_20150313194915.bin', 'rb')\n"
       ]
      },
      {
       "output_type": "stream",
       "stream": "stderr",
       "text": [
        "DEBUG:paramiko.transport.sftp:[chan 0] open('smartdays/server/uploads/a8e4aa083f07b360/phoneAccel_a8e4aa083f07b360_20150313194915.bin', 'rb') -> 00000000\n"
       ]
      },
      {
       "output_type": "stream",
       "stream": "stderr",
       "text": [
        "DEBUG:paramiko.transport.sftp:[chan 0] stat('smartdays/server/uploads/a8e4aa083f07b360/phoneAccel_a8e4aa083f07b360_20150313194915.bin')\n"
       ]
      },
      {
       "output_type": "stream",
       "stream": "stderr",
       "text": [
        "DEBUG:paramiko.transport.sftp:[chan 0] close(00000000)\n"
       ]
      },
      {
       "output_type": "stream",
       "stream": "stderr",
       "text": [
        "DEBUG:paramiko.transport.sftp:[chan 0] stat('smartdays/server/uploads/a8e4aa083f07b360/phoneAccel_a8e4aa083f07b360_20150314101341.bin')\n"
       ]
      },
      {
       "output_type": "stream",
       "stream": "stderr",
       "text": [
        "DEBUG:paramiko.transport.sftp:[chan 0] open('smartdays/server/uploads/a8e4aa083f07b360/phoneAccel_a8e4aa083f07b360_20150314101341.bin', 'rb')\n"
       ]
      },
      {
       "output_type": "stream",
       "stream": "stderr",
       "text": [
        "DEBUG:paramiko.transport.sftp:[chan 0] open('smartdays/server/uploads/a8e4aa083f07b360/phoneAccel_a8e4aa083f07b360_20150314101341.bin', 'rb') -> 00000000\n"
       ]
      },
      {
       "output_type": "stream",
       "stream": "stderr",
       "text": [
        "DEBUG:paramiko.transport.sftp:[chan 0] stat('smartdays/server/uploads/a8e4aa083f07b360/phoneAccel_a8e4aa083f07b360_20150314101341.bin')\n"
       ]
      },
      {
       "output_type": "stream",
       "stream": "stderr",
       "text": [
        "DEBUG:paramiko.transport.sftp:[chan 0] close(00000000)\n"
       ]
      },
      {
       "output_type": "stream",
       "stream": "stderr",
       "text": [
        "DEBUG:paramiko.transport.sftp:[chan 0] stat('smartdays/server/uploads/a8e4aa083f07b360/phoneAccel_a8e4aa083f07b360_20150314232635.bin')\n"
       ]
      },
      {
       "output_type": "stream",
       "stream": "stderr",
       "text": [
        "DEBUG:paramiko.transport.sftp:[chan 0] open('smartdays/server/uploads/a8e4aa083f07b360/phoneAccel_a8e4aa083f07b360_20150314232635.bin', 'rb')\n"
       ]
      },
      {
       "output_type": "stream",
       "stream": "stderr",
       "text": [
        "DEBUG:paramiko.transport.sftp:[chan 0] open('smartdays/server/uploads/a8e4aa083f07b360/phoneAccel_a8e4aa083f07b360_20150314232635.bin', 'rb') -> 00000000\n"
       ]
      },
      {
       "output_type": "stream",
       "stream": "stderr",
       "text": [
        "DEBUG:paramiko.transport.sftp:[chan 0] stat('smartdays/server/uploads/a8e4aa083f07b360/phoneAccel_a8e4aa083f07b360_20150314232635.bin')\n"
       ]
      },
      {
       "output_type": "stream",
       "stream": "stderr",
       "text": [
        "DEBUG:paramiko.transport.sftp:[chan 0] close(00000000)\n"
       ]
      },
      {
       "output_type": "stream",
       "stream": "stderr",
       "text": [
        "DEBUG:paramiko.transport.sftp:[chan 0] stat('smartdays/server/uploads/a8e4aa083f07b360/phoneAccel_a8e4aa083f07b360_20150317105529.bin')\n"
       ]
      },
      {
       "output_type": "stream",
       "stream": "stderr",
       "text": [
        "DEBUG:paramiko.transport.sftp:[chan 0] open('smartdays/server/uploads/a8e4aa083f07b360/phoneAccel_a8e4aa083f07b360_20150317105529.bin', 'rb')\n"
       ]
      },
      {
       "output_type": "stream",
       "stream": "stderr",
       "text": [
        "DEBUG:paramiko.transport.sftp:[chan 0] open('smartdays/server/uploads/a8e4aa083f07b360/phoneAccel_a8e4aa083f07b360_20150317105529.bin', 'rb') -> 00000000\n"
       ]
      },
      {
       "output_type": "stream",
       "stream": "stderr",
       "text": [
        "DEBUG:paramiko.transport.sftp:[chan 0] stat('smartdays/server/uploads/a8e4aa083f07b360/phoneAccel_a8e4aa083f07b360_20150317105529.bin')\n"
       ]
      },
      {
       "output_type": "stream",
       "stream": "stderr",
       "text": [
        "DEBUG:paramiko.transport.sftp:[chan 0] close(00000000)\n"
       ]
      },
      {
       "output_type": "stream",
       "stream": "stderr",
       "text": [
        "DEBUG:paramiko.transport.sftp:[chan 0] stat('smartdays/server/uploads/a8e4aa083f07b360/phoneAccel_a8e4aa083f07b360_20150317113100.bin')\n"
       ]
      },
      {
       "output_type": "stream",
       "stream": "stderr",
       "text": [
        "DEBUG:paramiko.transport.sftp:[chan 0] open('smartdays/server/uploads/a8e4aa083f07b360/phoneAccel_a8e4aa083f07b360_20150317113100.bin', 'rb')\n"
       ]
      },
      {
       "output_type": "stream",
       "stream": "stderr",
       "text": [
        "DEBUG:paramiko.transport.sftp:[chan 0] open('smartdays/server/uploads/a8e4aa083f07b360/phoneAccel_a8e4aa083f07b360_20150317113100.bin', 'rb') -> 00000000\n"
       ]
      },
      {
       "output_type": "stream",
       "stream": "stderr",
       "text": [
        "DEBUG:paramiko.transport.sftp:[chan 0] stat('smartdays/server/uploads/a8e4aa083f07b360/phoneAccel_a8e4aa083f07b360_20150317113100.bin')\n"
       ]
      },
      {
       "output_type": "stream",
       "stream": "stderr",
       "text": [
        "DEBUG:paramiko.transport.sftp:[chan 0] close(00000000)\n"
       ]
      },
      {
       "output_type": "stream",
       "stream": "stderr",
       "text": [
        "DEBUG:paramiko.transport.sftp:[chan 0] stat('smartdays/server/uploads/a8e4aa083f07b360/phoneAccel_a8e4aa083f07b360_20150317113121.bin')\n"
       ]
      },
      {
       "output_type": "stream",
       "stream": "stderr",
       "text": [
        "DEBUG:paramiko.transport.sftp:[chan 0] open('smartdays/server/uploads/a8e4aa083f07b360/phoneAccel_a8e4aa083f07b360_20150317113121.bin', 'rb')\n"
       ]
      },
      {
       "output_type": "stream",
       "stream": "stderr",
       "text": [
        "DEBUG:paramiko.transport.sftp:[chan 0] open('smartdays/server/uploads/a8e4aa083f07b360/phoneAccel_a8e4aa083f07b360_20150317113121.bin', 'rb') -> 00000000\n"
       ]
      },
      {
       "output_type": "stream",
       "stream": "stderr",
       "text": [
        "DEBUG:paramiko.transport.sftp:[chan 0] stat('smartdays/server/uploads/a8e4aa083f07b360/phoneAccel_a8e4aa083f07b360_20150317113121.bin')\n"
       ]
      },
      {
       "output_type": "stream",
       "stream": "stderr",
       "text": [
        "DEBUG:paramiko.transport.sftp:[chan 0] close(00000000)\n"
       ]
      },
      {
       "output_type": "stream",
       "stream": "stderr",
       "text": [
        "DEBUG:paramiko.transport.sftp:[chan 0] stat('smartdays/server/uploads/a8e4aa083f07b360/phoneAccel_a8e4aa083f07b360_20150317113123.bin')\n"
       ]
      },
      {
       "output_type": "stream",
       "stream": "stderr",
       "text": [
        "DEBUG:paramiko.transport.sftp:[chan 0] open('smartdays/server/uploads/a8e4aa083f07b360/phoneAccel_a8e4aa083f07b360_20150317113123.bin', 'rb')\n"
       ]
      },
      {
       "output_type": "stream",
       "stream": "stderr",
       "text": [
        "DEBUG:paramiko.transport.sftp:[chan 0] open('smartdays/server/uploads/a8e4aa083f07b360/phoneAccel_a8e4aa083f07b360_20150317113123.bin', 'rb') -> 00000000\n"
       ]
      },
      {
       "output_type": "stream",
       "stream": "stderr",
       "text": [
        "DEBUG:paramiko.transport.sftp:[chan 0] stat('smartdays/server/uploads/a8e4aa083f07b360/phoneAccel_a8e4aa083f07b360_20150317113123.bin')\n"
       ]
      },
      {
       "output_type": "stream",
       "stream": "stderr",
       "text": [
        "DEBUG:paramiko.transport.sftp:[chan 0] close(00000000)\n"
       ]
      },
      {
       "output_type": "stream",
       "stream": "stderr",
       "text": [
        "DEBUG:paramiko.transport.sftp:[chan 0] stat('smartdays/server/uploads/a8e4aa083f07b360/phoneAccel_a8e4aa083f07b360_20150317190320.bin')\n"
       ]
      },
      {
       "output_type": "stream",
       "stream": "stderr",
       "text": [
        "DEBUG:paramiko.transport.sftp:[chan 0] open('smartdays/server/uploads/a8e4aa083f07b360/phoneAccel_a8e4aa083f07b360_20150317190320.bin', 'rb')\n"
       ]
      },
      {
       "output_type": "stream",
       "stream": "stderr",
       "text": [
        "DEBUG:paramiko.transport.sftp:[chan 0] open('smartdays/server/uploads/a8e4aa083f07b360/phoneAccel_a8e4aa083f07b360_20150317190320.bin', 'rb') -> 00000000\n"
       ]
      },
      {
       "output_type": "stream",
       "stream": "stderr",
       "text": [
        "DEBUG:paramiko.transport.sftp:[chan 0] stat('smartdays/server/uploads/a8e4aa083f07b360/phoneAccel_a8e4aa083f07b360_20150317190320.bin')\n"
       ]
      },
      {
       "output_type": "stream",
       "stream": "stderr",
       "text": [
        "DEBUG:paramiko.transport.sftp:[chan 0] close(00000000)\n"
       ]
      },
      {
       "output_type": "stream",
       "stream": "stderr",
       "text": [
        "DEBUG:paramiko.transport.sftp:[chan 0] stat('smartdays/server/uploads/a8e4aa083f07b360/phoneAccel_a8e4aa083f07b360_20150318084719.bin')\n"
       ]
      },
      {
       "output_type": "stream",
       "stream": "stderr",
       "text": [
        "DEBUG:paramiko.transport.sftp:[chan 0] open('smartdays/server/uploads/a8e4aa083f07b360/phoneAccel_a8e4aa083f07b360_20150318084719.bin', 'rb')\n"
       ]
      },
      {
       "output_type": "stream",
       "stream": "stderr",
       "text": [
        "DEBUG:paramiko.transport.sftp:[chan 0] open('smartdays/server/uploads/a8e4aa083f07b360/phoneAccel_a8e4aa083f07b360_20150318084719.bin', 'rb') -> 00000000\n"
       ]
      },
      {
       "output_type": "stream",
       "stream": "stderr",
       "text": [
        "DEBUG:paramiko.transport.sftp:[chan 0] stat('smartdays/server/uploads/a8e4aa083f07b360/phoneAccel_a8e4aa083f07b360_20150318084719.bin')\n"
       ]
      },
      {
       "output_type": "stream",
       "stream": "stderr",
       "text": [
        "DEBUG:paramiko.transport.sftp:[chan 0] close(00000000)\n"
       ]
      },
      {
       "output_type": "stream",
       "stream": "stderr",
       "text": [
        "DEBUG:paramiko.transport.sftp:[chan 0] stat('smartdays/server/uploads/a8e4aa083f07b360/phoneAccel_a8e4aa083f07b360_20150319000001.bin')\n"
       ]
      },
      {
       "output_type": "stream",
       "stream": "stderr",
       "text": [
        "DEBUG:paramiko.transport.sftp:[chan 0] open('smartdays/server/uploads/a8e4aa083f07b360/phoneAccel_a8e4aa083f07b360_20150319000001.bin', 'rb')\n"
       ]
      },
      {
       "output_type": "stream",
       "stream": "stderr",
       "text": [
        "DEBUG:paramiko.transport.sftp:[chan 0] open('smartdays/server/uploads/a8e4aa083f07b360/phoneAccel_a8e4aa083f07b360_20150319000001.bin', 'rb') -> 00000000\n"
       ]
      },
      {
       "output_type": "stream",
       "stream": "stderr",
       "text": [
        "DEBUG:paramiko.transport.sftp:[chan 0] stat('smartdays/server/uploads/a8e4aa083f07b360/phoneAccel_a8e4aa083f07b360_20150319000001.bin')\n"
       ]
      },
      {
       "output_type": "stream",
       "stream": "stderr",
       "text": [
        "DEBUG:paramiko.transport.sftp:[chan 0] close(00000000)\n"
       ]
      },
      {
       "output_type": "stream",
       "stream": "stderr",
       "text": [
        "DEBUG:paramiko.transport.sftp:[chan 0] stat('smartdays/server/uploads/a8e4aa083f07b360/phoneAccel_a8e4aa083f07b360_20150319081414.bin')\n"
       ]
      },
      {
       "output_type": "stream",
       "stream": "stderr",
       "text": [
        "DEBUG:paramiko.transport.sftp:[chan 0] open('smartdays/server/uploads/a8e4aa083f07b360/phoneAccel_a8e4aa083f07b360_20150319081414.bin', 'rb')\n"
       ]
      },
      {
       "output_type": "stream",
       "stream": "stderr",
       "text": [
        "DEBUG:paramiko.transport.sftp:[chan 0] open('smartdays/server/uploads/a8e4aa083f07b360/phoneAccel_a8e4aa083f07b360_20150319081414.bin', 'rb') -> 00000000\n"
       ]
      },
      {
       "output_type": "stream",
       "stream": "stderr",
       "text": [
        "DEBUG:paramiko.transport.sftp:[chan 0] stat('smartdays/server/uploads/a8e4aa083f07b360/phoneAccel_a8e4aa083f07b360_20150319081414.bin')\n"
       ]
      },
      {
       "output_type": "stream",
       "stream": "stderr",
       "text": [
        "DEBUG:paramiko.transport.sftp:[chan 0] close(00000000)\n"
       ]
      },
      {
       "output_type": "stream",
       "stream": "stderr",
       "text": [
        "DEBUG:paramiko.transport.sftp:[chan 0] stat('smartdays/server/uploads/a8e4aa083f07b360/phoneAccel_a8e4aa083f07b360_20150320000001.bin')\n"
       ]
      },
      {
       "output_type": "stream",
       "stream": "stderr",
       "text": [
        "DEBUG:paramiko.transport.sftp:[chan 0] open('smartdays/server/uploads/a8e4aa083f07b360/phoneAccel_a8e4aa083f07b360_20150320000001.bin', 'rb')\n"
       ]
      },
      {
       "output_type": "stream",
       "stream": "stderr",
       "text": [
        "DEBUG:paramiko.transport.sftp:[chan 0] open('smartdays/server/uploads/a8e4aa083f07b360/phoneAccel_a8e4aa083f07b360_20150320000001.bin', 'rb') -> 00000000\n"
       ]
      },
      {
       "output_type": "stream",
       "stream": "stderr",
       "text": [
        "DEBUG:paramiko.transport.sftp:[chan 0] stat('smartdays/server/uploads/a8e4aa083f07b360/phoneAccel_a8e4aa083f07b360_20150320000001.bin')\n"
       ]
      },
      {
       "output_type": "stream",
       "stream": "stderr",
       "text": [
        "DEBUG:paramiko.transport.sftp:[chan 0] close(00000000)\n"
       ]
      },
      {
       "output_type": "stream",
       "stream": "stderr",
       "text": [
        "DEBUG:paramiko.transport.sftp:[chan 0] stat('smartdays/server/uploads/a8e4aa083f07b360/phoneAccel_a8e4aa083f07b360_20150320104716.bin')\n"
       ]
      },
      {
       "output_type": "stream",
       "stream": "stderr",
       "text": [
        "DEBUG:paramiko.transport.sftp:[chan 0] open('smartdays/server/uploads/a8e4aa083f07b360/phoneAccel_a8e4aa083f07b360_20150320104716.bin', 'rb')\n"
       ]
      },
      {
       "output_type": "stream",
       "stream": "stderr",
       "text": [
        "DEBUG:paramiko.transport.sftp:[chan 0] open('smartdays/server/uploads/a8e4aa083f07b360/phoneAccel_a8e4aa083f07b360_20150320104716.bin', 'rb') -> 00000000\n"
       ]
      },
      {
       "output_type": "stream",
       "stream": "stderr",
       "text": [
        "DEBUG:paramiko.transport.sftp:[chan 0] stat('smartdays/server/uploads/a8e4aa083f07b360/phoneAccel_a8e4aa083f07b360_20150320104716.bin')\n"
       ]
      },
      {
       "output_type": "stream",
       "stream": "stderr",
       "text": [
        "DEBUG:paramiko.transport.sftp:[chan 0] close(00000000)\n"
       ]
      },
      {
       "output_type": "stream",
       "stream": "stderr",
       "text": [
        "DEBUG:paramiko.transport.sftp:[chan 0] stat('smartdays/server/uploads/a8e4aa083f07b360/phoneAccel_a8e4aa083f07b360_20150320105017.bin')\n"
       ]
      },
      {
       "output_type": "stream",
       "stream": "stderr",
       "text": [
        "DEBUG:paramiko.transport.sftp:[chan 0] open('smartdays/server/uploads/a8e4aa083f07b360/phoneAccel_a8e4aa083f07b360_20150320105017.bin', 'rb')\n"
       ]
      },
      {
       "output_type": "stream",
       "stream": "stderr",
       "text": [
        "DEBUG:paramiko.transport.sftp:[chan 0] open('smartdays/server/uploads/a8e4aa083f07b360/phoneAccel_a8e4aa083f07b360_20150320105017.bin', 'rb') -> 00000000\n"
       ]
      },
      {
       "output_type": "stream",
       "stream": "stderr",
       "text": [
        "DEBUG:paramiko.transport.sftp:[chan 0] stat('smartdays/server/uploads/a8e4aa083f07b360/phoneAccel_a8e4aa083f07b360_20150320105017.bin')\n"
       ]
      },
      {
       "output_type": "stream",
       "stream": "stderr",
       "text": [
        "DEBUG:paramiko.transport.sftp:[chan 0] close(00000000)\n"
       ]
      },
      {
       "output_type": "stream",
       "stream": "stderr",
       "text": [
        "DEBUG:paramiko.transport.sftp:[chan 0] stat('smartdays/server/uploads/a8e4aa083f07b360/phoneAccel_a8e4aa083f07b360_20150320110319.bin')\n"
       ]
      },
      {
       "output_type": "stream",
       "stream": "stderr",
       "text": [
        "DEBUG:paramiko.transport.sftp:[chan 0] open('smartdays/server/uploads/a8e4aa083f07b360/phoneAccel_a8e4aa083f07b360_20150320110319.bin', 'rb')\n"
       ]
      },
      {
       "output_type": "stream",
       "stream": "stderr",
       "text": [
        "DEBUG:paramiko.transport.sftp:[chan 0] open('smartdays/server/uploads/a8e4aa083f07b360/phoneAccel_a8e4aa083f07b360_20150320110319.bin', 'rb') -> 00000000\n"
       ]
      },
      {
       "output_type": "stream",
       "stream": "stderr",
       "text": [
        "DEBUG:paramiko.transport.sftp:[chan 0] stat('smartdays/server/uploads/a8e4aa083f07b360/phoneAccel_a8e4aa083f07b360_20150320110319.bin')\n"
       ]
      },
      {
       "output_type": "stream",
       "stream": "stderr",
       "text": [
        "DEBUG:paramiko.transport.sftp:[chan 0] close(00000000)\n"
       ]
      },
      {
       "output_type": "stream",
       "stream": "stderr",
       "text": [
        "DEBUG:paramiko.transport.sftp:[chan 0] stat('smartdays/server/uploads/a8e4aa083f07b360/phoneAccel_a8e4aa083f07b360_20150320111439.bin')\n"
       ]
      },
      {
       "output_type": "stream",
       "stream": "stderr",
       "text": [
        "DEBUG:paramiko.transport.sftp:[chan 0] open('smartdays/server/uploads/a8e4aa083f07b360/phoneAccel_a8e4aa083f07b360_20150320111439.bin', 'rb')\n"
       ]
      },
      {
       "output_type": "stream",
       "stream": "stderr",
       "text": [
        "DEBUG:paramiko.transport.sftp:[chan 0] open('smartdays/server/uploads/a8e4aa083f07b360/phoneAccel_a8e4aa083f07b360_20150320111439.bin', 'rb') -> 00000000\n"
       ]
      },
      {
       "output_type": "stream",
       "stream": "stderr",
       "text": [
        "DEBUG:paramiko.transport.sftp:[chan 0] stat('smartdays/server/uploads/a8e4aa083f07b360/phoneAccel_a8e4aa083f07b360_20150320111439.bin')\n"
       ]
      },
      {
       "output_type": "stream",
       "stream": "stderr",
       "text": [
        "DEBUG:paramiko.transport.sftp:[chan 0] close(00000000)\n"
       ]
      },
      {
       "output_type": "stream",
       "stream": "stderr",
       "text": [
        "INFO:paramiko.transport.sftp:[chan 0] sftp session closed.\n"
       ]
      },
      {
       "output_type": "stream",
       "stream": "stderr",
       "text": [
        "DEBUG:paramiko.transport:[chan 0] EOF sent (0)\n"
       ]
      },
      {
       "output_type": "stream",
       "stream": "stderr",
       "text": [
        "DEBUG:paramiko.transport:EOF in transport thread\n"
       ]
      }
     ],
     "prompt_number": 3
    },
    {
     "cell_type": "code",
     "collapsed": false,
     "input": [],
     "language": "python",
     "metadata": {},
     "outputs": []
    }
   ],
   "metadata": {}
  }
 ]
}