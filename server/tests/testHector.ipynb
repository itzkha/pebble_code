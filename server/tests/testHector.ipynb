{
 "metadata": {
  "name": "",
  "signature": "sha256:246d43d6955283492712b101b60fb52c4720cec78ba9720be7e2a04fa742bc46"
 },
 "nbformat": 3,
 "nbformat_minor": 0,
 "worksheets": [
  {
   "cells": [
    {
     "cell_type": "code",
     "collapsed": false,
     "input": [
      "%matplotlib inline\n",
      "import matplotlib.pyplot as plt\n",
      "import matplotlib.cm as cm\n",
      "import numpy as np\n",
      "import normalizing_tools as tools\n",
      "\n",
      "this_user = '5dcdd302b589c29f'"
     ],
     "language": "python",
     "metadata": {},
     "outputs": [],
     "prompt_number": 1
    },
    {
     "cell_type": "code",
     "collapsed": false,
     "input": [
      "#tools.download_files(this_user)"
     ],
     "language": "python",
     "metadata": {},
     "outputs": [],
     "prompt_number": 2
    },
    {
     "cell_type": "code",
     "collapsed": false,
     "input": [
      "activities_all = tools.read_user_data(this_user)"
     ],
     "language": "python",
     "metadata": {},
     "outputs": [
      {
       "output_type": "stream",
       "stream": "stdout",
       "text": [
        "---> reading  activity_5dcdd302b589c29f_20150202151336.csv\n",
        "ignoring activity_5dcdd302b589c29f_20150202151336.csv (single)"
       ]
      },
      {
       "output_type": "stream",
       "stream": "stdout",
       "text": [
        "\n",
        "---> reading  activity_5dcdd302b589c29f_20150202151532.csv\n",
        "ignoring activity_5dcdd302b589c29f_20150202151532.csv (single)\n",
        "---> reading  activity_5dcdd302b589c29f_20150202153051.csv\n",
        "ignoring activity_5dcdd302b589c29f_20150202153051.csv (single)\n",
        "---> reading  activity_5dcdd302b589c29f_20150202182643.csv\n",
        "ignoring activity_5dcdd302b589c29f_20150202182643.csv (empty)\n",
        "---> reading  activity_5dcdd302b589c29f_20150202182648.csv\n",
        "ignoring activity_5dcdd302b589c29f_20150202182648.csv (empty)\n",
        "---> reading  activity_5dcdd302b589c29f_20150202183102.csv\n",
        "ignoring activity_5dcdd302b589c29f_20150202183102.csv (empty)\n",
        "---> reading  activity_5dcdd302b589c29f_20150202183225.csv\n",
        "ignoring activity_5dcdd302b589c29f_20150202183225.csv (single)\n",
        "---> reading  activity_5dcdd302b589c29f_20150202183934.csv\n",
        "ignoring activity_5dcdd302b589c29f_20150202183934.csv (single)\n",
        "---> reading  activity_5dcdd302b589c29f_20150204124926.csv\n",
        "appending activity_5dcdd302b589c29f_20150204124926.csv"
       ]
      },
      {
       "output_type": "stream",
       "stream": "stdout",
       "text": [
        "\n",
        "---> reading  activity_5dcdd302b589c29f_20150205101238.csv\n",
        "ignoring activity_5dcdd302b589c29f_20150205101238.csv (too long)\n",
        "---> reading  activity_5dcdd302b589c29f_20150205111213.csv\n",
        "appending activity_5dcdd302b589c29f_20150205111213.csv\n",
        "---> reading  activity_5dcdd302b589c29f_20150209151601.csv\n",
        "appending activity_5dcdd302b589c29f_20150209151601.csv"
       ]
      },
      {
       "output_type": "stream",
       "stream": "stdout",
       "text": [
        "\n",
        "---> reading  activity_5dcdd302b589c29f_20150209153555.csv\n",
        "appending activity_5dcdd302b589c29f_20150209153555.csv\n",
        "---> reading  activity_5dcdd302b589c29f_20150210082717.csv\n",
        "appending activity_5dcdd302b589c29f_20150210082717.csv\n",
        "---> reading  activity_5dcdd302b589c29f_20150211090427.csv\n",
        "ignoring activity_5dcdd302b589c29f_20150211090427.csv (empty)\n",
        "---> reading  activity_5dcdd302b589c29f_20150211090447.csv\n",
        "appending activity_5dcdd302b589c29f_20150211090447.csv"
       ]
      },
      {
       "output_type": "stream",
       "stream": "stdout",
       "text": [
        "\n",
        "---> reading  activity_5dcdd302b589c29f_20150212091715.csv\n",
        "appending activity_5dcdd302b589c29f_20150212091715.csv\n",
        "---> reading  activity_5dcdd302b589c29f_20150213080331.csv\n",
        "appending activity_5dcdd302b589c29f_20150213080331.csv\n",
        "---> reading  activity_5dcdd302b589c29f_20150223095537.csv\n",
        "ignoring activity_5dcdd302b589c29f_20150223095537.csv (too long)"
       ]
      },
      {
       "output_type": "stream",
       "stream": "stdout",
       "text": [
        "\n",
        "---> reading  activity_5dcdd302b589c29f_20150223105221.csv\n",
        "ignoring activity_5dcdd302b589c29f_20150223105221.csv (empty)\n",
        "---> reading  activity_5dcdd302b589c29f_20150223105239.csv\n",
        "ignoring activity_5dcdd302b589c29f_20150223105239.csv (empty)\n",
        "---> reading  activity_5dcdd302b589c29f_20150223110422.csv\n",
        "ignoring activity_5dcdd302b589c29f_20150223110422.csv (empty)\n",
        "---> reading  activity_5dcdd302b589c29f_20150223111437.csv\n",
        "appending activity_5dcdd302b589c29f_20150223111437.csv\n",
        "---> reading  activity_5dcdd302b589c29f_20150224131419.csv\n",
        "appending activity_5dcdd302b589c29f_20150224131419.csv\n",
        "---> reading  activity_5dcdd302b589c29f_20150225230044.csv\n",
        "ignoring activity_5dcdd302b589c29f_20150225230044.csv (too long)\n",
        "---> reading  activity_5dcdd302b589c29f_20150225230833.csv\n",
        "ignoring activity_5dcdd302b589c29f_20150225230833.csv (too long)"
       ]
      },
      {
       "output_type": "stream",
       "stream": "stdout",
       "text": [
        "\n",
        "---> reading  activity_5dcdd302b589c29f_20150225234043.csv\n",
        "ignoring activity_5dcdd302b589c29f_20150225234043.csv (too long)\n",
        "---> reading  activity_5dcdd302b589c29f_20150226112643.csv\n",
        "appending activity_5dcdd302b589c29f_20150226112643.csv\n",
        "---> reading  activity_5dcdd302b589c29f_20150226114016.csv\n",
        "appending activity_5dcdd302b589c29f_20150226114016.csv\n",
        "---> reading  activity_5dcdd302b589c29f_20150226141311.csv\n",
        "appending activity_5dcdd302b589c29f_20150226141311.csv\n",
        "---> reading  activity_5dcdd302b589c29f_20150226143753.csv\n",
        "appending activity_5dcdd302b589c29f_20150226143753.csv"
       ]
      },
      {
       "output_type": "stream",
       "stream": "stdout",
       "text": [
        "\n",
        "---> reading  activity_5dcdd302b589c29f_20150226150906.csv\n",
        "ignoring activity_5dcdd302b589c29f_20150226150906.csv (empty)\n",
        "---> reading  activity_5dcdd302b589c29f_20150226150938.csv\n",
        "appending activity_5dcdd302b589c29f_20150226150938.csv\n",
        "---> reading  activity_5dcdd302b589c29f_20150206075636.csv\n",
        "ignoring activity_5dcdd302b589c29f_20150206075636.csv (empty)\n",
        "---> reading  activity_5dcdd302b589c29f_20150223110455.csv\n",
        "ignoring activity_5dcdd302b589c29f_20150223110455.csv (single)\n",
        "---> reading  activity_5dcdd302b589c29f_20150226151357.csv\n",
        "appending activity_5dcdd302b589c29f_20150226151357.csv\n",
        "---> reading  activity_5dcdd302b589c29f_20150227204343.csv\n",
        "ignoring activity_5dcdd302b589c29f_20150227204343.csv (too long)\n",
        "---> reading  activity_5dcdd302b589c29f_20150305190806.csv\n",
        "ignoring activity_5dcdd302b589c29f_20150305190806.csv (too long)\n",
        "---> reading  activity_5dcdd302b589c29f_20150306134900.csv\n",
        "ignoring activity_5dcdd302b589c29f_20150306134900.csv (empty)\n",
        "---> reading  activity_5dcdd302b589c29f_20150306195251.csv\n",
        "ignoring activity_5dcdd302b589c29f_20150306195251.csv (too long)\n",
        "---> reading  activity_5dcdd302b589c29f_20150309094332.csv\n",
        "ignoring activity_5dcdd302b589c29f_20150309094332.csv (too long)"
       ]
      },
      {
       "output_type": "stream",
       "stream": "stdout",
       "text": [
        "\n",
        "---> reading  activity_5dcdd302b589c29f_20150309183829.csv\n",
        "ignoring activity_5dcdd302b589c29f_20150309183829.csv (too long)\n",
        "---> reading  activity_5dcdd302b589c29f_20150310100654.csv\n",
        "appending activity_5dcdd302b589c29f_20150310100654.csv\n",
        "---> reading  activity_5dcdd302b589c29f_20150226151745.csv\n",
        "appending activity_5dcdd302b589c29f_20150226151745.csv\n",
        "---> reading  activity_5dcdd302b589c29f_20150226152224.csv\n",
        "appending activity_5dcdd302b589c29f_20150226152224.csv\n",
        "---> reading  activity_5dcdd302b589c29f_20150226155758.csv\n",
        "appending activity_5dcdd302b589c29f_20150226155758.csv\n",
        "---> reading  activity_5dcdd302b589c29f_20150227071046.csv\n",
        "ignoring activity_5dcdd302b589c29f_20150227071046.csv (single)\n",
        "---> reading  activity_5dcdd302b589c29f_20150227080302.csv\n",
        "ignoring activity_5dcdd302b589c29f_20150227080302.csv (too long)"
       ]
      },
      {
       "output_type": "stream",
       "stream": "stdout",
       "text": [
        "\n",
        "---> reading  activity_5dcdd302b589c29f_20150227101925.csv\n",
        "appending activity_5dcdd302b589c29f_20150227101925.csv\n",
        "---> reading  activity_5dcdd302b589c29f_20150227102556.csv\n",
        "appending activity_5dcdd302b589c29f_20150227102556.csv\n",
        "---> reading  activity_5dcdd302b589c29f_20150227125757.csv\n",
        "ignoring activity_5dcdd302b589c29f_20150227125757.csv (too long)\n",
        "---> reading  activity_5dcdd302b589c29f_20150227130825.csv\n",
        "ignoring activity_5dcdd302b589c29f_20150227130825.csv (single)\n",
        "---> reading  activity_5dcdd302b589c29f_20150227203619.csv\n",
        "ignoring activity_5dcdd302b589c29f_20150227203619.csv (single)\n",
        "---> reading  activity_5dcdd302b589c29f_20150227203906.csv\n",
        "ignoring activity_5dcdd302b589c29f_20150227203906.csv (single)\n",
        "---> reading  activity_5dcdd302b589c29f_20150302104442.csv\n",
        "appending activity_5dcdd302b589c29f_20150302104442.csv\n",
        "---> reading  activity_5dcdd302b589c29f_20150305092602.csv\n",
        "ignoring activity_5dcdd302b589c29f_20150305092602.csv (too long)\n",
        "---> reading  activity_5dcdd302b589c29f_20150305093908.csv\n",
        "ignoring activity_5dcdd302b589c29f_20150305093908.csv (too long)"
       ]
      },
      {
       "output_type": "stream",
       "stream": "stdout",
       "text": [
        "\n",
        "---> reading  activity_5dcdd302b589c29f_20150305154118.csv\n",
        "ignoring activity_5dcdd302b589c29f_20150305154118.csv (too long)\n",
        "---> reading  activity_5dcdd302b589c29f_20150305154200.csv\n",
        "ignoring activity_5dcdd302b589c29f_20150305154200.csv (too long)\n",
        "---> reading  activity_5dcdd302b589c29f_20150305154713.csv\n",
        "appending activity_5dcdd302b589c29f_20150305154713.csv\n",
        "---> reading  activity_5dcdd302b589c29f_20150305181253.csv\n",
        "appending activity_5dcdd302b589c29f_20150305181253.csv\n",
        "---> reading  activity_5dcdd302b589c29f_20150305184752.csv\n",
        "ignoring activity_5dcdd302b589c29f_20150305184752.csv (single)\n",
        "---> reading  activity_5dcdd302b589c29f_20150305185316.csv\n",
        "ignoring activity_5dcdd302b589c29f_20150305185316.csv (single)\n",
        "---> reading  activity_5dcdd302b589c29f_20150305190223.csv\n",
        "ignoring activity_5dcdd302b589c29f_20150305190223.csv (single)\n",
        "---> reading  activity_5dcdd302b589c29f_20150305190529.csv\n",
        "ignoring activity_5dcdd302b589c29f_20150305190529.csv (single)\n",
        "---> reading  activity_5dcdd302b589c29f_20150306113218.csv\n",
        "ignoring activity_5dcdd302b589c29f_20150306113218.csv (too long)\n",
        "---> reading  activity_5dcdd302b589c29f_20150306113951.csv\n",
        "ignoring activity_5dcdd302b589c29f_20150306113951.csv (too long)"
       ]
      },
      {
       "output_type": "stream",
       "stream": "stdout",
       "text": [
        "\n",
        "---> reading  activity_5dcdd302b589c29f_20150306114319.csv\n",
        "ignoring activity_5dcdd302b589c29f_20150306114319.csv (too long)\n",
        "---> reading  activity_5dcdd302b589c29f_20150306125725.csv\n",
        "ignoring activity_5dcdd302b589c29f_20150306125725.csv (single)\n",
        "---> reading  activity_5dcdd302b589c29f_20150306125909.csv\n",
        "ignoring activity_5dcdd302b589c29f_20150306125909.csv (single)\n",
        "---> reading  activity_5dcdd302b589c29f_20150306130156.csv\n",
        "ignoring activity_5dcdd302b589c29f_20150306130156.csv (empty)\n",
        "---> reading  activity_5dcdd302b589c29f_20150306132211.csv\n",
        "ignoring activity_5dcdd302b589c29f_20150306132211.csv (empty)\n",
        "---> reading  activity_5dcdd302b589c29f_20150306132416.csv\n",
        "ignoring activity_5dcdd302b589c29f_20150306132416.csv (empty)\n",
        "---> reading  activity_5dcdd302b589c29f_20150306132951.csv\n",
        "ignoring activity_5dcdd302b589c29f_20150306132951.csv (empty)\n",
        "---> reading  activity_5dcdd302b589c29f_20150306133340.csv\n",
        "ignoring activity_5dcdd302b589c29f_20150306133340.csv (empty)\n",
        "---> reading  activity_5dcdd302b589c29f_20150306134039.csv\n",
        "ignoring activity_5dcdd302b589c29f_20150306134039.csv (empty)\n",
        "---> reading  activity_5dcdd302b589c29f_20150306135032.csv\n",
        "ignoring activity_5dcdd302b589c29f_20150306135032.csv (empty)\n",
        "---> reading  activity_5dcdd302b589c29f_20150306135131.csv\n",
        "ignoring activity_5dcdd302b589c29f_20150306135131.csv (empty)\n",
        "---> reading  activity_5dcdd302b589c29f_20150306135504.csv\n",
        "ignoring activity_5dcdd302b589c29f_20150306135504.csv (empty)\n",
        "---> reading  activity_5dcdd302b589c29f_20150306135632.csv\n",
        "ignoring activity_5dcdd302b589c29f_20150306135632.csv (empty)\n",
        "---> reading  activity_5dcdd302b589c29f_20150306135654.csv\n",
        "ignoring activity_5dcdd302b589c29f_20150306135654.csv (empty)\n",
        "---> reading  activity_5dcdd302b589c29f_20150306135906.csv\n",
        "ignoring activity_5dcdd302b589c29f_20150306135906.csv (too long)\n",
        "---> reading  activity_5dcdd302b589c29f_20150306185637.csv\n",
        "ignoring activity_5dcdd302b589c29f_20150306185637.csv (too long)\n",
        "---> reading  activity_5dcdd302b589c29f_20150306193227.csv\n",
        "appending activity_5dcdd302b589c29f_20150306193227.csv\n",
        "---> reading  activity_5dcdd302b589c29f_20150306193626.csv\n",
        "appending activity_5dcdd302b589c29f_20150306193626.csv\n",
        "---> reading  activity_5dcdd302b589c29f_20150306194328.csv\n",
        "appending activity_5dcdd302b589c29f_20150306194328.csv"
       ]
      },
      {
       "output_type": "stream",
       "stream": "stdout",
       "text": [
        "\n",
        "---> reading  activity_5dcdd302b589c29f_20150306194855.csv\n",
        "ignoring activity_5dcdd302b589c29f_20150306194855.csv (too long)\n",
        "---> reading  activity_5dcdd302b589c29f_20150306235804.csv\n",
        "ignoring activity_5dcdd302b589c29f_20150306235804.csv (too long)\n",
        "---> reading  activity_5dcdd302b589c29f_20150306235959.csv\n",
        "ignoring activity_5dcdd302b589c29f_20150306235959.csv (single)\n",
        "---> reading  activity_5dcdd302b589c29f_20150307000005.csv\n",
        "ignoring activity_5dcdd302b589c29f_20150307000005.csv (single)\n",
        "---> reading  activity_5dcdd302b589c29f_20150307235845.csv\n",
        "ignoring activity_5dcdd302b589c29f_20150307235845.csv (too long)\n",
        "---> reading  activity_5dcdd302b589c29f_20150308000037.csv\n",
        "ignoring activity_5dcdd302b589c29f_20150308000037.csv (single)\n",
        "---> reading  activity_5dcdd302b589c29f_20150308000040.csv\n",
        "ignoring activity_5dcdd302b589c29f_20150308000040.csv (empty)\n",
        "---> reading  activity_5dcdd302b589c29f_20150308235804.csv\n",
        "ignoring activity_5dcdd302b589c29f_20150308235804.csv (too long)\n",
        "---> reading  activity_5dcdd302b589c29f_20150309000001.csv\n",
        "ignoring activity_5dcdd302b589c29f_20150309000001.csv (single)\n",
        "---> reading  activity_5dcdd302b589c29f_20150309000007.csv\n",
        "ignoring activity_5dcdd302b589c29f_20150309000007.csv (single)\n",
        "---> reading  activity_5dcdd302b589c29f_20150309091412.csv\n",
        "appending activity_5dcdd302b589c29f_20150309091412.csv"
       ]
      },
      {
       "output_type": "stream",
       "stream": "stdout",
       "text": [
        "\n",
        "---> reading  activity_5dcdd302b589c29f_20150309092937.csv\n",
        "appending activity_5dcdd302b589c29f_20150309092937.csv\n",
        "---> reading  activity_5dcdd302b589c29f_20150309094409.csv\n",
        "appending activity_5dcdd302b589c29f_20150309094409.csv\n",
        "---> reading  activity_5dcdd302b589c29f_20150309101627.csv\n",
        "ignoring activity_5dcdd302b589c29f_20150309101627.csv (too long)\n",
        "---> reading  activity_5dcdd302b589c29f_20150309102422.csv\n",
        "ignoring activity_5dcdd302b589c29f_20150309102422.csv (too long)\n",
        "---> reading  activity_5dcdd302b589c29f_20150309104755.csv\n",
        "appending activity_5dcdd302b589c29f_20150309104755.csv\n",
        "---> reading  activity_5dcdd302b589c29f_20150309121211.csv\n",
        "ignoring activity_5dcdd302b589c29f_20150309121211.csv (too long)"
       ]
      },
      {
       "output_type": "stream",
       "stream": "stdout",
       "text": [
        "\n",
        "---> reading  activity_5dcdd302b589c29f_20150309140103.csv\n",
        "ignoring activity_5dcdd302b589c29f_20150309140103.csv (too long)\n",
        "---> reading  activity_5dcdd302b589c29f_20150309141050.csv\n",
        "ignoring activity_5dcdd302b589c29f_20150309141050.csv (too long)\n",
        "---> reading  activity_5dcdd302b589c29f_20150309142549.csv\n",
        "ignoring activity_5dcdd302b589c29f_20150309142549.csv (too long)\n",
        "---> reading  activity_5dcdd302b589c29f_20150309180559.csv\n",
        "ignoring activity_5dcdd302b589c29f_20150309180559.csv (too long)\n",
        "---> reading  activity_5dcdd302b589c29f_20150309183519.csv\n",
        "ignoring activity_5dcdd302b589c29f_20150309183519.csv (too long)\n",
        "---> reading  activity_5dcdd302b589c29f_20150309183533.csv\n",
        "ignoring activity_5dcdd302b589c29f_20150309183533.csv (single)\n",
        "---> reading  activity_5dcdd302b589c29f_20150309185039.csv\n",
        "appending activity_5dcdd302b589c29f_20150309185039.csv\n",
        "---> reading  activity_5dcdd302b589c29f_20150309185758.csv\n",
        "ignoring activity_5dcdd302b589c29f_20150309185758.csv (too long)"
       ]
      },
      {
       "output_type": "stream",
       "stream": "stdout",
       "text": [
        "\n",
        "---> reading  activity_5dcdd302b589c29f_20150309190801.csv\n",
        "ignoring activity_5dcdd302b589c29f_20150309190801.csv (empty)\n",
        "---> reading  activity_5dcdd302b589c29f_20150309190805.csv\n",
        "ignoring activity_5dcdd302b589c29f_20150309190805.csv (single)\n",
        "---> reading  activity_5dcdd302b589c29f_20150309190933.csv\n",
        "ignoring activity_5dcdd302b589c29f_20150309190933.csv (single)\n",
        "---> reading  activity_5dcdd302b589c29f_20150309191314.csv\n",
        "ignoring activity_5dcdd302b589c29f_20150309191314.csv (single)\n",
        "---> reading  activity_5dcdd302b589c29f_20150309191407.csv\n",
        "ignoring activity_5dcdd302b589c29f_20150309191407.csv (too long)\n",
        "---> reading  activity_5dcdd302b589c29f_20150309191915.csv\n",
        "ignoring activity_5dcdd302b589c29f_20150309191915.csv (too long)\n",
        "---> reading  activity_5dcdd302b589c29f_20150309235828.csv\n",
        "ignoring activity_5dcdd302b589c29f_20150309235828.csv (too long)\n",
        "---> reading  activity_5dcdd302b589c29f_20150310000001.csv\n",
        "ignoring activity_5dcdd302b589c29f_20150310000001.csv (single)\n",
        "---> reading  activity_5dcdd302b589c29f_20150310000005.csv\n",
        "ignoring activity_5dcdd302b589c29f_20150310000005.csv (single)\n",
        "---> reading  activity_5dcdd302b589c29f_20150310134500.csv\n",
        "appending activity_5dcdd302b589c29f_20150310134500.csv\n",
        "---> reading  activity_5dcdd302b589c29f_20150311095316.csv\n",
        "ignoring activity_5dcdd302b589c29f_20150311095316.csv (too long)"
       ]
      },
      {
       "output_type": "stream",
       "stream": "stdout",
       "text": [
        "\n",
        "---> reading  activity_5dcdd302b589c29f_20150311101825.csv\n",
        "appending activity_5dcdd302b589c29f_20150311101825.csv\n",
        "---> reading  activity_5dcdd302b589c29f_20150311235929.csv\n",
        "ignoring activity_5dcdd302b589c29f_20150311235929.csv (empty)\n",
        "---> reading  activity_5dcdd302b589c29f_20150311235936.csv\n",
        "ignoring activity_5dcdd302b589c29f_20150311235936.csv (single)\n",
        "---> reading  activity_5dcdd302b589c29f_20150312000001.csv\n",
        "appending activity_5dcdd302b589c29f_20150312000001.csv\n",
        "---> reading  activity_5dcdd302b589c29f_20150312235803.csv\n",
        "ignoring activity_5dcdd302b589c29f_20150312235803.csv (single)\n",
        "---> reading  activity_5dcdd302b589c29f_20150313000001.csv\n",
        "appending activity_5dcdd302b589c29f_20150313000001.csv\n",
        "---> reading  activity_5dcdd302b589c29f_20150313143209.csv\n",
        "appending activity_5dcdd302b589c29f_20150313143209.csv"
       ]
      },
      {
       "output_type": "stream",
       "stream": "stdout",
       "text": [
        "\n",
        "---> reading  activity_5dcdd302b589c29f_20150313235902.csv\n",
        "ignoring activity_5dcdd302b589c29f_20150313235902.csv (empty)\n",
        "---> reading  activity_5dcdd302b589c29f_20150313235909.csv\n",
        "ignoring activity_5dcdd302b589c29f_20150313235909.csv (single)\n",
        "---> reading  activity_5dcdd302b589c29f_20150314110123.csv\n",
        "appending activity_5dcdd302b589c29f_20150314110123.csv\n",
        "---> reading  activity_5dcdd302b589c29f_20150314235829.csv\n",
        "appending activity_5dcdd302b589c29f_20150314235829.csv\n",
        "---> reading  activity_5dcdd302b589c29f_20150315000001.csv\n",
        "appending activity_5dcdd302b589c29f_20150315000001.csv\n",
        "---> reading  activity_5dcdd302b589c29f_20150315085956.csv\n",
        "appending activity_5dcdd302b589c29f_20150315085956.csv\n",
        "---> reading  activity_5dcdd302b589c29f_20150316000001.csv\n",
        "appending activity_5dcdd302b589c29f_20150316000001.csv"
       ]
      },
      {
       "output_type": "stream",
       "stream": "stdout",
       "text": [
        "\n",
        "---> reading  activity_5dcdd302b589c29f_20150317000001.csv\n",
        "appending activity_5dcdd302b589c29f_20150317000001.csv\n",
        "---> reading  activity_5dcdd302b589c29f_20150317121556.csv\n",
        "appending activity_5dcdd302b589c29f_20150317121556.csv\n",
        "---> reading  activity_5dcdd302b589c29f_20150318000001.csv\n",
        "appending activity_5dcdd302b589c29f_20150318000001.csv\n",
        "---> reading  activity_5dcdd302b589c29f_20150319000002.csv\n",
        "appending activity_5dcdd302b589c29f_20150319000002.csv\n",
        "---> reading  activity_5dcdd302b589c29f_20150320075316.csv\n",
        "appending activity_5dcdd302b589c29f_20150320075316.csv"
       ]
      },
      {
       "output_type": "stream",
       "stream": "stdout",
       "text": [
        "\n",
        "---> reading  activity_5dcdd302b589c29f_20150320192632.csv\n",
        "appending activity_5dcdd302b589c29f_20150320192632.csv\n",
        "---> reading  activity_5dcdd302b589c29f_20150323145333.csv\n",
        "appending activity_5dcdd302b589c29f_20150323145333.csv\n",
        "---> reading  activity_5dcdd302b589c29f_20150323145736.csv\n",
        "appending activity_5dcdd302b589c29f_20150323145736.csv\n",
        "---> reading  activity_5dcdd302b589c29f_20150320192802.csv\n",
        "appending activity_5dcdd302b589c29f_20150320192802.csv\n",
        "---> reading  activity_5dcdd302b589c29f_20150314000001.csv\n",
        "ignoring activity_5dcdd302b589c29f_20150314000001.csv (single)\n"
       ]
      }
     ],
     "prompt_number": 2
    },
    {
     "cell_type": "code",
     "collapsed": false,
     "input": [
      "activity_matrix, activity_labels = tools.create_activity_matrix(activities_all)"
     ],
     "language": "python",
     "metadata": {},
     "outputs": [],
     "prompt_number": 3
    },
    {
     "cell_type": "code",
     "collapsed": false,
     "input": [
      "plt.matshow(activity_matrix.T, aspect=activity_matrix.shape[0]/60, interpolation='nearest', cmap=cm.binary)\n",
      "plt.yticks(range(len(activity_labels)), activity_labels)\n",
      "days = range(0, activity_matrix.shape[0], 24*60)\n",
      "for d in days:\n",
      "    plt.axvline(d)"
     ],
     "language": "python",
     "metadata": {},
     "outputs": [
      {
       "metadata": {},
       "output_type": "display_data",
       "png": "[encoded data removed]",
       "text": [
        "<matplotlib.figure.Figure at 0x7fcda4c34d50>"
       ]
      }
     ],
     "prompt_number": 4
    },
    {
     "cell_type": "code",
     "collapsed": false,
     "input": [
      "plt.bar(range(activity_matrix.shape[1]), sum(activity_matrix, 0))\n",
      "_ = plt.xticks(np.arange(activity_matrix.shape[1])+0.5, activity_labels, rotation='vertical')"
     ],
     "language": "python",
     "metadata": {},
     "outputs": [
      {
       "metadata": {},
       "output_type": "display_data",
       "png": "[encoded data removed]",
       "text": [
        "<matplotlib.figure.Figure at 0x7fcda45bbc90>"
       ]
      }
     ],
     "prompt_number": 5
    }
   ],
   "metadata": {}
  }
 ]
}