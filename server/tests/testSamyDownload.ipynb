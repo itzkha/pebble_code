{
 "metadata": {
  "name": "",
  "signature": "sha256:b3d766daf87511407a628b66297aee9faec89c4194101b310770e27fdfe2596f"
 },
 "nbformat": 3,
 "nbformat_minor": 0,
 "worksheets": [
  {
   "cells": [
    {
     "cell_type": "code",
     "collapsed": false,
     "input": [
      "%matplotlib inline\n",
      "import paramiko\n",
      "\n",
      "this_user = '7dca35734822aba2'"
     ],
     "language": "python",
     "metadata": {},
     "outputs": [],
     "prompt_number": 1
    },
    {
     "cell_type": "code",
     "collapsed": false,
     "input": [
      "ssh = paramiko.SSHClient()\n",
      "# automatically add keys without requiring human intervention\n",
      "ssh.set_missing_host_key_policy( paramiko.AutoAddPolicy() )\n",
      "ssh.connect('193.134.218.36', username='smartroot', password='dexterDEXTER0')\n",
      "\n",
      "base_command = 'cd smartdays/server/uploads' + '/'+ this_user\n",
      "stdin, stdout, stderr = ssh.exec_command(base_command + '; du *')\n",
      "size_name = stdout.readlines();\n",
      "this_sizes = [f.split('\\t')[0] for f in size_name]\n",
      "this_names = [f.split('\\t')[1][:-1] for f in size_name]\n",
      "this_dates = [name.split('_')[2][0:8] for name in this_names]\n",
      "\n",
      "ssh.close()\n",
      "\n",
      "dates_unique = list(set([item for item in this_dates]))\n",
      "dates_unique.sort()"
     ],
     "language": "python",
     "metadata": {},
     "outputs": [],
     "prompt_number": 2
    },
    {
     "cell_type": "code",
     "collapsed": false,
     "input": [
      "paramiko.util.log_to_file('/home/hector/Desktop/work/SmartDays/pebble_code/server/tests/paramiko.log')\n",
      "\n",
      "# Open a transport\n",
      "transport = paramiko.Transport(('193.134.218.36', 22))\n",
      "# Auth\n",
      "transport.connect(username='smartroot', password='dexterDEXTER0')\n",
      "# Go!\n",
      "sftp = paramiko.SFTPClient.from_transport(transport)\n",
      "\n",
      "# Download\n",
      "base_dir_local = '/home/hector/Desktop/work/SmartDays/pebble_code/server/tests/' + this_user + '/'\n",
      "base_dir_remote = 'smartdays/server/uploads' + '/'+ this_user +'/'\n",
      "for name in this_names:\n",
      "    sftp.get(base_dir_remote + name, base_dir_local + name)\n",
      "\n",
      "# Close\n",
      "sftp.close()\n",
      "transport.close()"
     ],
     "language": "python",
     "metadata": {},
     "outputs": [
      {
       "output_type": "stream",
       "stream": "stderr",
       "text": [
        "DEBUG:paramiko.transport:starting thread (client mode): 0x3271be50L\n",
        "INFO:paramiko.transport:Connected (version 2.0, client OpenSSH_6.6.1p1)\n",
        "DEBUG:paramiko.transport:kex algos:[u'curve25519-sha256@libssh.org', u'ecdh-sha2-nistp256', u'ecdh-sha2-nistp384', u'ecdh-sha2-nistp521', u'diffie-hellman-group-exchange-sha256', u'diffie-hellman-group-exchange-sha1', u'diffie-hellman-group14-sha1', u'diffie-hellman-group1-sha1'] server key:[u'ssh-rsa', u'ssh-dss', u'ecdsa-sha2-nistp256', u'ssh-ed25519'] client encrypt:[u'aes128-ctr', u'aes192-ctr', u'aes256-ctr', u'arcfour256', u'arcfour128', u'aes128-gcm@openssh.com', u'aes256-gcm@openssh.com', u'chacha20-poly1305@openssh.com', u'aes128-cbc', u'3des-cbc', u'blowfish-cbc', u'cast128-cbc', u'aes192-cbc', u'aes256-cbc', u'arcfour', u'rijndael-cbc@lysator.liu.se'] server encrypt:[u'aes128-ctr', u'aes192-ctr', u'aes256-ctr', u'arcfour256', u'arcfour128', u'aes128-gcm@openssh.com', u'aes256-gcm@openssh.com', u'chacha20-poly1305@openssh.com', u'aes128-cbc', u'3des-cbc', u'blowfish-cbc', u'cast128-cbc', u'aes192-cbc', u'aes256-cbc', u'arcfour', u'rijndael-cbc@lysator.liu.se'] client mac:[u'hmac-md5-etm@openssh.com', u'hmac-sha1-etm@openssh.com', u'umac-64-etm@openssh.com', u'umac-128-etm@openssh.com', u'hmac-sha2-256-etm@openssh.com', u'hmac-sha2-512-etm@openssh.com', u'hmac-ripemd160-etm@openssh.com', u'hmac-sha1-96-etm@openssh.com', u'hmac-md5-96-etm@openssh.com', u'hmac-md5', u'hmac-sha1', u'umac-64@openssh.com', u'umac-128@openssh.com', u'hmac-sha2-256', u'hmac-sha2-512', u'hmac-ripemd160', u'hmac-ripemd160@openssh.com', u'hmac-sha1-96', u'hmac-md5-96'] server mac:[u'hmac-md5-etm@openssh.com', u'hmac-sha1-etm@openssh.com', u'umac-64-etm@openssh.com', u'umac-128-etm@openssh.com', u'hmac-sha2-256-etm@openssh.com', u'hmac-sha2-512-etm@openssh.com', u'hmac-ripemd160-etm@openssh.com', u'hmac-sha1-96-etm@openssh.com', u'hmac-md5-96-etm@openssh.com', u'hmac-md5', u'hmac-sha1', u'umac-64@openssh.com', u'umac-128@openssh.com', u'hmac-sha2-256', u'hmac-sha2-512', u'hmac-ripemd160', u'hmac-ripemd160@openssh.com', u'hmac-sha1-96', u'hmac-md5-96'] client compress:[u'none', u'zlib@openssh.com'] server compress:[u'none', u'zlib@openssh.com'] client lang:[u''] server lang:[u''] kex follows?False\n",
        "DEBUG:paramiko.transport:Ciphers agreed: local=aes128-ctr, remote=aes128-ctr\n",
        "DEBUG:paramiko.transport:using kex diffie-hellman-group14-sha1; server key type ssh-rsa; cipher: local aes128-ctr, remote aes128-ctr; mac: local hmac-sha1, remote hmac-sha1; compression: local none, remote none\n",
        "DEBUG:paramiko.transport:Switch to new keys ...\n",
        "DEBUG:paramiko.transport:Attempting password auth...\n"
       ]
      },
      {
       "output_type": "stream",
       "stream": "stderr",
       "text": [
        "DEBUG:paramiko.transport:userauth is OK\n",
        "INFO:paramiko.transport:Authentication (password) successful!\n",
        "DEBUG:paramiko.transport:[chan 0] Max packet in: 32768 bytes\n"
       ]
      },
      {
       "output_type": "stream",
       "stream": "stderr",
       "text": [
        "DEBUG:paramiko.transport:[chan 0] Max packet out: 32768 bytes\n",
        "DEBUG:paramiko.transport:Secsh channel 0 opened.\n",
        "DEBUG:paramiko.transport:[chan 0] Sesch channel 0 request ok\n",
        "INFO:paramiko.transport.sftp:[chan 0] Opened sftp connection (server version 3)\n"
       ]
      },
      {
       "output_type": "stream",
       "stream": "stderr",
       "text": [
        "DEBUG:paramiko.transport.sftp:[chan 0] stat('smartdays/server/uploads/7dca35734822aba2/activity_7dca35734822aba2_20150310153315.csv')\n"
       ]
      },
      {
       "output_type": "stream",
       "stream": "stderr",
       "text": [
        "DEBUG:paramiko.transport.sftp:[chan 0] open('smartdays/server/uploads/7dca35734822aba2/activity_7dca35734822aba2_20150310153315.csv', 'rb')\n"
       ]
      },
      {
       "output_type": "stream",
       "stream": "stderr",
       "text": [
        "DEBUG:paramiko.transport.sftp:[chan 0] open('smartdays/server/uploads/7dca35734822aba2/activity_7dca35734822aba2_20150310153315.csv', 'rb') -> 00000000\n"
       ]
      },
      {
       "output_type": "stream",
       "stream": "stderr",
       "text": [
        "DEBUG:paramiko.transport.sftp:[chan 0] stat('smartdays/server/uploads/7dca35734822aba2/activity_7dca35734822aba2_20150310153315.csv')\n"
       ]
      },
      {
       "output_type": "stream",
       "stream": "stderr",
       "text": [
        "DEBUG:paramiko.transport.sftp:[chan 0] close(00000000)\n"
       ]
      },
      {
       "output_type": "stream",
       "stream": "stderr",
       "text": [
        "DEBUG:paramiko.transport.sftp:[chan 0] stat('smartdays/server/uploads/7dca35734822aba2/activity_7dca35734822aba2_20150310153541.csv')\n"
       ]
      },
      {
       "output_type": "stream",
       "stream": "stderr",
       "text": [
        "DEBUG:paramiko.transport.sftp:[chan 0] open('smartdays/server/uploads/7dca35734822aba2/activity_7dca35734822aba2_20150310153541.csv', 'rb')\n"
       ]
      },
      {
       "output_type": "stream",
       "stream": "stderr",
       "text": [
        "DEBUG:paramiko.transport.sftp:[chan 0] open('smartdays/server/uploads/7dca35734822aba2/activity_7dca35734822aba2_20150310153541.csv', 'rb') -> 00000000\n"
       ]
      },
      {
       "output_type": "stream",
       "stream": "stderr",
       "text": [
        "DEBUG:paramiko.transport.sftp:[chan 0] stat('smartdays/server/uploads/7dca35734822aba2/activity_7dca35734822aba2_20150310153541.csv')\n"
       ]
      },
      {
       "output_type": "stream",
       "stream": "stderr",
       "text": [
        "DEBUG:paramiko.transport.sftp:[chan 0] close(00000000)\n"
       ]
      },
      {
       "output_type": "stream",
       "stream": "stderr",
       "text": [
        "DEBUG:paramiko.transport.sftp:[chan 0] stat('smartdays/server/uploads/7dca35734822aba2/activity_7dca35734822aba2_20150310154034.csv')\n"
       ]
      },
      {
       "output_type": "stream",
       "stream": "stderr",
       "text": [
        "DEBUG:paramiko.transport.sftp:[chan 0] open('smartdays/server/uploads/7dca35734822aba2/activity_7dca35734822aba2_20150310154034.csv', 'rb')\n"
       ]
      },
      {
       "output_type": "stream",
       "stream": "stderr",
       "text": [
        "DEBUG:paramiko.transport.sftp:[chan 0] open('smartdays/server/uploads/7dca35734822aba2/activity_7dca35734822aba2_20150310154034.csv', 'rb') -> 00000000\n"
       ]
      },
      {
       "output_type": "stream",
       "stream": "stderr",
       "text": [
        "DEBUG:paramiko.transport.sftp:[chan 0] stat('smartdays/server/uploads/7dca35734822aba2/activity_7dca35734822aba2_20150310154034.csv')\n"
       ]
      },
      {
       "output_type": "stream",
       "stream": "stderr",
       "text": [
        "DEBUG:paramiko.transport.sftp:[chan 0] close(00000000)\n"
       ]
      },
      {
       "output_type": "stream",
       "stream": "stderr",
       "text": [
        "DEBUG:paramiko.transport.sftp:[chan 0] stat('smartdays/server/uploads/7dca35734822aba2/activity_7dca35734822aba2_20150310155452.csv')\n"
       ]
      },
      {
       "output_type": "stream",
       "stream": "stderr",
       "text": [
        "DEBUG:paramiko.transport.sftp:[chan 0] open('smartdays/server/uploads/7dca35734822aba2/activity_7dca35734822aba2_20150310155452.csv', 'rb')\n"
       ]
      },
      {
       "output_type": "stream",
       "stream": "stderr",
       "text": [
        "DEBUG:paramiko.transport.sftp:[chan 0] open('smartdays/server/uploads/7dca35734822aba2/activity_7dca35734822aba2_20150310155452.csv', 'rb') -> 00000000\n"
       ]
      },
      {
       "output_type": "stream",
       "stream": "stderr",
       "text": [
        "DEBUG:paramiko.transport.sftp:[chan 0] stat('smartdays/server/uploads/7dca35734822aba2/activity_7dca35734822aba2_20150310155452.csv')\n"
       ]
      },
      {
       "output_type": "stream",
       "stream": "stderr",
       "text": [
        "DEBUG:paramiko.transport.sftp:[chan 0] close(00000000)\n"
       ]
      },
      {
       "output_type": "stream",
       "stream": "stderr",
       "text": [
        "DEBUG:paramiko.transport.sftp:[chan 0] stat('smartdays/server/uploads/7dca35734822aba2/activity_7dca35734822aba2_20150311000001.csv')\n"
       ]
      },
      {
       "output_type": "stream",
       "stream": "stderr",
       "text": [
        "DEBUG:paramiko.transport.sftp:[chan 0] open('smartdays/server/uploads/7dca35734822aba2/activity_7dca35734822aba2_20150311000001.csv', 'rb')\n"
       ]
      },
      {
       "output_type": "stream",
       "stream": "stderr",
       "text": [
        "DEBUG:paramiko.transport.sftp:[chan 0] open('smartdays/server/uploads/7dca35734822aba2/activity_7dca35734822aba2_20150311000001.csv', 'rb') -> 00000000\n"
       ]
      },
      {
       "output_type": "stream",
       "stream": "stderr",
       "text": [
        "DEBUG:paramiko.transport.sftp:[chan 0] stat('smartdays/server/uploads/7dca35734822aba2/activity_7dca35734822aba2_20150311000001.csv')\n"
       ]
      },
      {
       "output_type": "stream",
       "stream": "stderr",
       "text": [
        "DEBUG:paramiko.transport.sftp:[chan 0] close(00000000)\n"
       ]
      },
      {
       "output_type": "stream",
       "stream": "stderr",
       "text": [
        "DEBUG:paramiko.transport.sftp:[chan 0] stat('smartdays/server/uploads/7dca35734822aba2/activity_7dca35734822aba2_20150311001138.csv')\n"
       ]
      },
      {
       "output_type": "stream",
       "stream": "stderr",
       "text": [
        "DEBUG:paramiko.transport.sftp:[chan 0] open('smartdays/server/uploads/7dca35734822aba2/activity_7dca35734822aba2_20150311001138.csv', 'rb')\n"
       ]
      },
      {
       "output_type": "stream",
       "stream": "stderr",
       "text": [
        "DEBUG:paramiko.transport.sftp:[chan 0] open('smartdays/server/uploads/7dca35734822aba2/activity_7dca35734822aba2_20150311001138.csv', 'rb') -> 00000000\n"
       ]
      },
      {
       "output_type": "stream",
       "stream": "stderr",
       "text": [
        "DEBUG:paramiko.transport.sftp:[chan 0] stat('smartdays/server/uploads/7dca35734822aba2/activity_7dca35734822aba2_20150311001138.csv')\n"
       ]
      },
      {
       "output_type": "stream",
       "stream": "stderr",
       "text": [
        "DEBUG:paramiko.transport.sftp:[chan 0] close(00000000)\n"
       ]
      },
      {
       "output_type": "stream",
       "stream": "stderr",
       "text": [
        "DEBUG:paramiko.transport.sftp:[chan 0] stat('smartdays/server/uploads/7dca35734822aba2/activity_7dca35734822aba2_20150311103656.csv')\n"
       ]
      },
      {
       "output_type": "stream",
       "stream": "stderr",
       "text": [
        "DEBUG:paramiko.transport.sftp:[chan 0] open('smartdays/server/uploads/7dca35734822aba2/activity_7dca35734822aba2_20150311103656.csv', 'rb')\n"
       ]
      },
      {
       "output_type": "stream",
       "stream": "stderr",
       "text": [
        "DEBUG:paramiko.transport.sftp:[chan 0] open('smartdays/server/uploads/7dca35734822aba2/activity_7dca35734822aba2_20150311103656.csv', 'rb') -> 00000000\n"
       ]
      },
      {
       "output_type": "stream",
       "stream": "stderr",
       "text": [
        "DEBUG:paramiko.transport.sftp:[chan 0] stat('smartdays/server/uploads/7dca35734822aba2/activity_7dca35734822aba2_20150311103656.csv')\n"
       ]
      },
      {
       "output_type": "stream",
       "stream": "stderr",
       "text": [
        "DEBUG:paramiko.transport.sftp:[chan 0] close(00000000)\n"
       ]
      },
      {
       "output_type": "stream",
       "stream": "stderr",
       "text": [
        "DEBUG:paramiko.transport.sftp:[chan 0] stat('smartdays/server/uploads/7dca35734822aba2/activity_7dca35734822aba2_20150312084014.csv')\n"
       ]
      },
      {
       "output_type": "stream",
       "stream": "stderr",
       "text": [
        "DEBUG:paramiko.transport.sftp:[chan 0] open('smartdays/server/uploads/7dca35734822aba2/activity_7dca35734822aba2_20150312084014.csv', 'rb')\n"
       ]
      },
      {
       "output_type": "stream",
       "stream": "stderr",
       "text": [
        "DEBUG:paramiko.transport.sftp:[chan 0] open('smartdays/server/uploads/7dca35734822aba2/activity_7dca35734822aba2_20150312084014.csv', 'rb') -> 00000000\n"
       ]
      },
      {
       "output_type": "stream",
       "stream": "stderr",
       "text": [
        "DEBUG:paramiko.transport.sftp:[chan 0] stat('smartdays/server/uploads/7dca35734822aba2/activity_7dca35734822aba2_20150312084014.csv')\n"
       ]
      },
      {
       "output_type": "stream",
       "stream": "stderr",
       "text": [
        "DEBUG:paramiko.transport.sftp:[chan 0] close(00000000)\n"
       ]
      },
      {
       "output_type": "stream",
       "stream": "stderr",
       "text": [
        "DEBUG:paramiko.transport.sftp:[chan 0] stat('smartdays/server/uploads/7dca35734822aba2/activity_7dca35734822aba2_20150313083343.csv')\n"
       ]
      },
      {
       "output_type": "stream",
       "stream": "stderr",
       "text": [
        "DEBUG:paramiko.transport.sftp:[chan 0] open('smartdays/server/uploads/7dca35734822aba2/activity_7dca35734822aba2_20150313083343.csv', 'rb')\n"
       ]
      },
      {
       "output_type": "stream",
       "stream": "stderr",
       "text": [
        "DEBUG:paramiko.transport.sftp:[chan 0] open('smartdays/server/uploads/7dca35734822aba2/activity_7dca35734822aba2_20150313083343.csv', 'rb') -> 00000000\n"
       ]
      },
      {
       "output_type": "stream",
       "stream": "stderr",
       "text": [
        "DEBUG:paramiko.transport.sftp:[chan 0] stat('smartdays/server/uploads/7dca35734822aba2/activity_7dca35734822aba2_20150313083343.csv')\n"
       ]
      },
      {
       "output_type": "stream",
       "stream": "stderr",
       "text": [
        "DEBUG:paramiko.transport.sftp:[chan 0] close(00000000)\n"
       ]
      },
      {
       "output_type": "stream",
       "stream": "stderr",
       "text": [
        "DEBUG:paramiko.transport.sftp:[chan 0] stat('smartdays/server/uploads/7dca35734822aba2/activity_7dca35734822aba2_20150313095001.csv')\n"
       ]
      },
      {
       "output_type": "stream",
       "stream": "stderr",
       "text": [
        "DEBUG:paramiko.transport.sftp:[chan 0] open('smartdays/server/uploads/7dca35734822aba2/activity_7dca35734822aba2_20150313095001.csv', 'rb')\n"
       ]
      },
      {
       "output_type": "stream",
       "stream": "stderr",
       "text": [
        "DEBUG:paramiko.transport.sftp:[chan 0] open('smartdays/server/uploads/7dca35734822aba2/activity_7dca35734822aba2_20150313095001.csv', 'rb') -> 00000000\n"
       ]
      },
      {
       "output_type": "stream",
       "stream": "stderr",
       "text": [
        "DEBUG:paramiko.transport.sftp:[chan 0] stat('smartdays/server/uploads/7dca35734822aba2/activity_7dca35734822aba2_20150313095001.csv')\n"
       ]
      },
      {
       "output_type": "stream",
       "stream": "stderr",
       "text": [
        "DEBUG:paramiko.transport.sftp:[chan 0] close(00000000)\n"
       ]
      },
      {
       "output_type": "stream",
       "stream": "stderr",
       "text": [
        "DEBUG:paramiko.transport.sftp:[chan 0] stat('smartdays/server/uploads/7dca35734822aba2/activity_7dca35734822aba2_20150314052119.csv')\n"
       ]
      },
      {
       "output_type": "stream",
       "stream": "stderr",
       "text": [
        "DEBUG:paramiko.transport.sftp:[chan 0] open('smartdays/server/uploads/7dca35734822aba2/activity_7dca35734822aba2_20150314052119.csv', 'rb')\n"
       ]
      },
      {
       "output_type": "stream",
       "stream": "stderr",
       "text": [
        "DEBUG:paramiko.transport.sftp:[chan 0] open('smartdays/server/uploads/7dca35734822aba2/activity_7dca35734822aba2_20150314052119.csv', 'rb') -> 00000000\n"
       ]
      },
      {
       "output_type": "stream",
       "stream": "stderr",
       "text": [
        "DEBUG:paramiko.transport.sftp:[chan 0] stat('smartdays/server/uploads/7dca35734822aba2/activity_7dca35734822aba2_20150314052119.csv')\n"
       ]
      },
      {
       "output_type": "stream",
       "stream": "stderr",
       "text": [
        "DEBUG:paramiko.transport.sftp:[chan 0] close(00000000)\n"
       ]
      },
      {
       "output_type": "stream",
       "stream": "stderr",
       "text": [
        "DEBUG:paramiko.transport.sftp:[chan 0] stat('smartdays/server/uploads/7dca35734822aba2/activity_7dca35734822aba2_20150314193037.csv')\n"
       ]
      },
      {
       "output_type": "stream",
       "stream": "stderr",
       "text": [
        "DEBUG:paramiko.transport.sftp:[chan 0] open('smartdays/server/uploads/7dca35734822aba2/activity_7dca35734822aba2_20150314193037.csv', 'rb')\n"
       ]
      },
      {
       "output_type": "stream",
       "stream": "stderr",
       "text": [
        "DEBUG:paramiko.transport.sftp:[chan 0] open('smartdays/server/uploads/7dca35734822aba2/activity_7dca35734822aba2_20150314193037.csv', 'rb') -> 00000000\n"
       ]
      },
      {
       "output_type": "stream",
       "stream": "stderr",
       "text": [
        "DEBUG:paramiko.transport.sftp:[chan 0] stat('smartdays/server/uploads/7dca35734822aba2/activity_7dca35734822aba2_20150314193037.csv')\n"
       ]
      },
      {
       "output_type": "stream",
       "stream": "stderr",
       "text": [
        "DEBUG:paramiko.transport.sftp:[chan 0] close(00000000)\n"
       ]
      },
      {
       "output_type": "stream",
       "stream": "stderr",
       "text": [
        "DEBUG:paramiko.transport.sftp:[chan 0] stat('smartdays/server/uploads/7dca35734822aba2/activity_7dca35734822aba2_20150315000100.csv')\n"
       ]
      },
      {
       "output_type": "stream",
       "stream": "stderr",
       "text": [
        "DEBUG:paramiko.transport.sftp:[chan 0] open('smartdays/server/uploads/7dca35734822aba2/activity_7dca35734822aba2_20150315000100.csv', 'rb')\n"
       ]
      },
      {
       "output_type": "stream",
       "stream": "stderr",
       "text": [
        "DEBUG:paramiko.transport.sftp:[chan 0] open('smartdays/server/uploads/7dca35734822aba2/activity_7dca35734822aba2_20150315000100.csv', 'rb') -> 00000000\n"
       ]
      },
      {
       "output_type": "stream",
       "stream": "stderr",
       "text": [
        "DEBUG:paramiko.transport.sftp:[chan 0] stat('smartdays/server/uploads/7dca35734822aba2/activity_7dca35734822aba2_20150315000100.csv')\n"
       ]
      },
      {
       "output_type": "stream",
       "stream": "stderr",
       "text": [
        "DEBUG:paramiko.transport.sftp:[chan 0] close(00000000)\n"
       ]
      },
      {
       "output_type": "stream",
       "stream": "stderr",
       "text": [
        "DEBUG:paramiko.transport.sftp:[chan 0] stat('smartdays/server/uploads/7dca35734822aba2/activity_7dca35734822aba2_20150315002845.csv')\n"
       ]
      },
      {
       "output_type": "stream",
       "stream": "stderr",
       "text": [
        "DEBUG:paramiko.transport.sftp:[chan 0] open('smartdays/server/uploads/7dca35734822aba2/activity_7dca35734822aba2_20150315002845.csv', 'rb')\n"
       ]
      },
      {
       "output_type": "stream",
       "stream": "stderr",
       "text": [
        "DEBUG:paramiko.transport.sftp:[chan 0] open('smartdays/server/uploads/7dca35734822aba2/activity_7dca35734822aba2_20150315002845.csv', 'rb') -> 00000000\n"
       ]
      },
      {
       "output_type": "stream",
       "stream": "stderr",
       "text": [
        "DEBUG:paramiko.transport.sftp:[chan 0] stat('smartdays/server/uploads/7dca35734822aba2/activity_7dca35734822aba2_20150315002845.csv')\n"
       ]
      },
      {
       "output_type": "stream",
       "stream": "stderr",
       "text": [
        "DEBUG:paramiko.transport.sftp:[chan 0] close(00000000)\n"
       ]
      },
      {
       "output_type": "stream",
       "stream": "stderr",
       "text": [
        "DEBUG:paramiko.transport.sftp:[chan 0] stat('smartdays/server/uploads/7dca35734822aba2/activity_7dca35734822aba2_20150315113443.csv')\n"
       ]
      },
      {
       "output_type": "stream",
       "stream": "stderr",
       "text": [
        "DEBUG:paramiko.transport.sftp:[chan 0] open('smartdays/server/uploads/7dca35734822aba2/activity_7dca35734822aba2_20150315113443.csv', 'rb')\n"
       ]
      },
      {
       "output_type": "stream",
       "stream": "stderr",
       "text": [
        "DEBUG:paramiko.transport.sftp:[chan 0] open('smartdays/server/uploads/7dca35734822aba2/activity_7dca35734822aba2_20150315113443.csv', 'rb') -> 00000000\n"
       ]
      },
      {
       "output_type": "stream",
       "stream": "stderr",
       "text": [
        "DEBUG:paramiko.transport.sftp:[chan 0] stat('smartdays/server/uploads/7dca35734822aba2/activity_7dca35734822aba2_20150315113443.csv')\n"
       ]
      },
      {
       "output_type": "stream",
       "stream": "stderr",
       "text": [
        "DEBUG:paramiko.transport.sftp:[chan 0] close(00000000)\n"
       ]
      },
      {
       "output_type": "stream",
       "stream": "stderr",
       "text": [
        "DEBUG:paramiko.transport.sftp:[chan 0] stat('smartdays/server/uploads/7dca35734822aba2/activity_7dca35734822aba2_20150316000003.csv')\n"
       ]
      },
      {
       "output_type": "stream",
       "stream": "stderr",
       "text": [
        "DEBUG:paramiko.transport.sftp:[chan 0] open('smartdays/server/uploads/7dca35734822aba2/activity_7dca35734822aba2_20150316000003.csv', 'rb')\n"
       ]
      },
      {
       "output_type": "stream",
       "stream": "stderr",
       "text": [
        "DEBUG:paramiko.transport.sftp:[chan 0] open('smartdays/server/uploads/7dca35734822aba2/activity_7dca35734822aba2_20150316000003.csv', 'rb') -> 00000000\n"
       ]
      },
      {
       "output_type": "stream",
       "stream": "stderr",
       "text": [
        "DEBUG:paramiko.transport.sftp:[chan 0] stat('smartdays/server/uploads/7dca35734822aba2/activity_7dca35734822aba2_20150316000003.csv')\n"
       ]
      },
      {
       "output_type": "stream",
       "stream": "stderr",
       "text": [
        "DEBUG:paramiko.transport.sftp:[chan 0] close(00000000)\n"
       ]
      },
      {
       "output_type": "stream",
       "stream": "stderr",
       "text": [
        "DEBUG:paramiko.transport.sftp:[chan 0] stat('smartdays/server/uploads/7dca35734822aba2/activity_7dca35734822aba2_20150316095045.csv')\n"
       ]
      },
      {
       "output_type": "stream",
       "stream": "stderr",
       "text": [
        "DEBUG:paramiko.transport.sftp:[chan 0] open('smartdays/server/uploads/7dca35734822aba2/activity_7dca35734822aba2_20150316095045.csv', 'rb')\n"
       ]
      },
      {
       "output_type": "stream",
       "stream": "stderr",
       "text": [
        "DEBUG:paramiko.transport.sftp:[chan 0] open('smartdays/server/uploads/7dca35734822aba2/activity_7dca35734822aba2_20150316095045.csv', 'rb') -> 00000000\n"
       ]
      },
      {
       "output_type": "stream",
       "stream": "stderr",
       "text": [
        "DEBUG:paramiko.transport.sftp:[chan 0] stat('smartdays/server/uploads/7dca35734822aba2/activity_7dca35734822aba2_20150316095045.csv')\n"
       ]
      },
      {
       "output_type": "stream",
       "stream": "stderr",
       "text": [
        "DEBUG:paramiko.transport.sftp:[chan 0] close(00000000)\n"
       ]
      },
      {
       "output_type": "stream",
       "stream": "stderr",
       "text": [
        "DEBUG:paramiko.transport.sftp:[chan 0] stat('smartdays/server/uploads/7dca35734822aba2/activity_7dca35734822aba2_20150316230850.csv')\n"
       ]
      },
      {
       "output_type": "stream",
       "stream": "stderr",
       "text": [
        "DEBUG:paramiko.transport.sftp:[chan 0] open('smartdays/server/uploads/7dca35734822aba2/activity_7dca35734822aba2_20150316230850.csv', 'rb')\n"
       ]
      },
      {
       "output_type": "stream",
       "stream": "stderr",
       "text": [
        "DEBUG:paramiko.transport.sftp:[chan 0] open('smartdays/server/uploads/7dca35734822aba2/activity_7dca35734822aba2_20150316230850.csv', 'rb') -> 00000000\n"
       ]
      },
      {
       "output_type": "stream",
       "stream": "stderr",
       "text": [
        "DEBUG:paramiko.transport.sftp:[chan 0] stat('smartdays/server/uploads/7dca35734822aba2/activity_7dca35734822aba2_20150316230850.csv')\n"
       ]
      },
      {
       "output_type": "stream",
       "stream": "stderr",
       "text": [
        "DEBUG:paramiko.transport.sftp:[chan 0] close(00000000)\n"
       ]
      },
      {
       "output_type": "stream",
       "stream": "stderr",
       "text": [
        "DEBUG:paramiko.transport.sftp:[chan 0] stat('smartdays/server/uploads/7dca35734822aba2/activity_7dca35734822aba2_20150317094059.csv')\n"
       ]
      },
      {
       "output_type": "stream",
       "stream": "stderr",
       "text": [
        "DEBUG:paramiko.transport.sftp:[chan 0] open('smartdays/server/uploads/7dca35734822aba2/activity_7dca35734822aba2_20150317094059.csv', 'rb')\n"
       ]
      },
      {
       "output_type": "stream",
       "stream": "stderr",
       "text": [
        "DEBUG:paramiko.transport.sftp:[chan 0] open('smartdays/server/uploads/7dca35734822aba2/activity_7dca35734822aba2_20150317094059.csv', 'rb') -> 00000000\n"
       ]
      },
      {
       "output_type": "stream",
       "stream": "stderr",
       "text": [
        "DEBUG:paramiko.transport.sftp:[chan 0] stat('smartdays/server/uploads/7dca35734822aba2/activity_7dca35734822aba2_20150317094059.csv')\n"
       ]
      },
      {
       "output_type": "stream",
       "stream": "stderr",
       "text": [
        "DEBUG:paramiko.transport.sftp:[chan 0] close(00000000)\n"
       ]
      },
      {
       "output_type": "stream",
       "stream": "stderr",
       "text": [
        "DEBUG:paramiko.transport.sftp:[chan 0] stat('smartdays/server/uploads/7dca35734822aba2/activity_7dca35734822aba2_20150318093808.csv')\n"
       ]
      },
      {
       "output_type": "stream",
       "stream": "stderr",
       "text": [
        "DEBUG:paramiko.transport.sftp:[chan 0] open('smartdays/server/uploads/7dca35734822aba2/activity_7dca35734822aba2_20150318093808.csv', 'rb')\n"
       ]
      },
      {
       "output_type": "stream",
       "stream": "stderr",
       "text": [
        "DEBUG:paramiko.transport.sftp:[chan 0] open('smartdays/server/uploads/7dca35734822aba2/activity_7dca35734822aba2_20150318093808.csv', 'rb') -> 00000000\n"
       ]
      },
      {
       "output_type": "stream",
       "stream": "stderr",
       "text": [
        "DEBUG:paramiko.transport.sftp:[chan 0] stat('smartdays/server/uploads/7dca35734822aba2/activity_7dca35734822aba2_20150318093808.csv')\n"
       ]
      },
      {
       "output_type": "stream",
       "stream": "stderr",
       "text": [
        "DEBUG:paramiko.transport.sftp:[chan 0] close(00000000)\n"
       ]
      },
      {
       "output_type": "stream",
       "stream": "stderr",
       "text": [
        "DEBUG:paramiko.transport.sftp:[chan 0] stat('smartdays/server/uploads/7dca35734822aba2/activity_7dca35734822aba2_20150319082720.csv')\n"
       ]
      },
      {
       "output_type": "stream",
       "stream": "stderr",
       "text": [
        "DEBUG:paramiko.transport.sftp:[chan 0] open('smartdays/server/uploads/7dca35734822aba2/activity_7dca35734822aba2_20150319082720.csv', 'rb')\n"
       ]
      },
      {
       "output_type": "stream",
       "stream": "stderr",
       "text": [
        "DEBUG:paramiko.transport.sftp:[chan 0] open('smartdays/server/uploads/7dca35734822aba2/activity_7dca35734822aba2_20150319082720.csv', 'rb') -> 00000000\n"
       ]
      },
      {
       "output_type": "stream",
       "stream": "stderr",
       "text": [
        "DEBUG:paramiko.transport.sftp:[chan 0] stat('smartdays/server/uploads/7dca35734822aba2/activity_7dca35734822aba2_20150319082720.csv')\n"
       ]
      },
      {
       "output_type": "stream",
       "stream": "stderr",
       "text": [
        "DEBUG:paramiko.transport.sftp:[chan 0] close(00000000)\n"
       ]
      },
      {
       "output_type": "stream",
       "stream": "stderr",
       "text": [
        "DEBUG:paramiko.transport.sftp:[chan 0] stat('smartdays/server/uploads/7dca35734822aba2/activity_7dca35734822aba2_20150319091057.csv')\n"
       ]
      },
      {
       "output_type": "stream",
       "stream": "stderr",
       "text": [
        "DEBUG:paramiko.transport.sftp:[chan 0] open('smartdays/server/uploads/7dca35734822aba2/activity_7dca35734822aba2_20150319091057.csv', 'rb')\n"
       ]
      },
      {
       "output_type": "stream",
       "stream": "stderr",
       "text": [
        "DEBUG:paramiko.transport.sftp:[chan 0] open('smartdays/server/uploads/7dca35734822aba2/activity_7dca35734822aba2_20150319091057.csv', 'rb') -> 00000000\n"
       ]
      },
      {
       "output_type": "stream",
       "stream": "stderr",
       "text": [
        "DEBUG:paramiko.transport.sftp:[chan 0] stat('smartdays/server/uploads/7dca35734822aba2/activity_7dca35734822aba2_20150319091057.csv')\n"
       ]
      },
      {
       "output_type": "stream",
       "stream": "stderr",
       "text": [
        "DEBUG:paramiko.transport.sftp:[chan 0] close(00000000)\n"
       ]
      },
      {
       "output_type": "stream",
       "stream": "stderr",
       "text": [
        "DEBUG:paramiko.transport.sftp:[chan 0] stat('smartdays/server/uploads/7dca35734822aba2/activity_7dca35734822aba2_20150319111547.csv')\n"
       ]
      },
      {
       "output_type": "stream",
       "stream": "stderr",
       "text": [
        "DEBUG:paramiko.transport.sftp:[chan 0] open('smartdays/server/uploads/7dca35734822aba2/activity_7dca35734822aba2_20150319111547.csv', 'rb')\n"
       ]
      },
      {
       "output_type": "stream",
       "stream": "stderr",
       "text": [
        "DEBUG:paramiko.transport.sftp:[chan 0] open('smartdays/server/uploads/7dca35734822aba2/activity_7dca35734822aba2_20150319111547.csv', 'rb') -> 00000000\n"
       ]
      },
      {
       "output_type": "stream",
       "stream": "stderr",
       "text": [
        "DEBUG:paramiko.transport.sftp:[chan 0] stat('smartdays/server/uploads/7dca35734822aba2/activity_7dca35734822aba2_20150319111547.csv')\n"
       ]
      },
      {
       "output_type": "stream",
       "stream": "stderr",
       "text": [
        "DEBUG:paramiko.transport.sftp:[chan 0] close(00000000)\n"
       ]
      },
      {
       "output_type": "stream",
       "stream": "stderr",
       "text": [
        "DEBUG:paramiko.transport.sftp:[chan 0] stat('smartdays/server/uploads/7dca35734822aba2/activity_7dca35734822aba2_20150320074607.csv')\n"
       ]
      },
      {
       "output_type": "stream",
       "stream": "stderr",
       "text": [
        "DEBUG:paramiko.transport.sftp:[chan 0] open('smartdays/server/uploads/7dca35734822aba2/activity_7dca35734822aba2_20150320074607.csv', 'rb')\n"
       ]
      },
      {
       "output_type": "stream",
       "stream": "stderr",
       "text": [
        "DEBUG:paramiko.transport.sftp:[chan 0] open('smartdays/server/uploads/7dca35734822aba2/activity_7dca35734822aba2_20150320074607.csv', 'rb') -> 00000000\n"
       ]
      },
      {
       "output_type": "stream",
       "stream": "stderr",
       "text": [
        "DEBUG:paramiko.transport.sftp:[chan 0] stat('smartdays/server/uploads/7dca35734822aba2/activity_7dca35734822aba2_20150320074607.csv')\n"
       ]
      },
      {
       "output_type": "stream",
       "stream": "stderr",
       "text": [
        "DEBUG:paramiko.transport.sftp:[chan 0] close(00000000)\n"
       ]
      },
      {
       "output_type": "stream",
       "stream": "stderr",
       "text": [
        "DEBUG:paramiko.transport.sftp:[chan 0] stat('smartdays/server/uploads/7dca35734822aba2/location_7dca35734822aba2_20150310153315.csv')\n"
       ]
      },
      {
       "output_type": "stream",
       "stream": "stderr",
       "text": [
        "DEBUG:paramiko.transport.sftp:[chan 0] open('smartdays/server/uploads/7dca35734822aba2/location_7dca35734822aba2_20150310153315.csv', 'rb')\n"
       ]
      },
      {
       "output_type": "stream",
       "stream": "stderr",
       "text": [
        "DEBUG:paramiko.transport.sftp:[chan 0] open('smartdays/server/uploads/7dca35734822aba2/location_7dca35734822aba2_20150310153315.csv', 'rb') -> 00000000\n"
       ]
      },
      {
       "output_type": "stream",
       "stream": "stderr",
       "text": [
        "DEBUG:paramiko.transport.sftp:[chan 0] stat('smartdays/server/uploads/7dca35734822aba2/location_7dca35734822aba2_20150310153315.csv')\n"
       ]
      },
      {
       "output_type": "stream",
       "stream": "stderr",
       "text": [
        "DEBUG:paramiko.transport.sftp:[chan 0] close(00000000)\n"
       ]
      },
      {
       "output_type": "stream",
       "stream": "stderr",
       "text": [
        "DEBUG:paramiko.transport.sftp:[chan 0] stat('smartdays/server/uploads/7dca35734822aba2/location_7dca35734822aba2_20150310153541.csv')\n"
       ]
      },
      {
       "output_type": "stream",
       "stream": "stderr",
       "text": [
        "DEBUG:paramiko.transport.sftp:[chan 0] open('smartdays/server/uploads/7dca35734822aba2/location_7dca35734822aba2_20150310153541.csv', 'rb')\n"
       ]
      },
      {
       "output_type": "stream",
       "stream": "stderr",
       "text": [
        "DEBUG:paramiko.transport.sftp:[chan 0] open('smartdays/server/uploads/7dca35734822aba2/location_7dca35734822aba2_20150310153541.csv', 'rb') -> 00000000\n"
       ]
      },
      {
       "output_type": "stream",
       "stream": "stderr",
       "text": [
        "DEBUG:paramiko.transport.sftp:[chan 0] stat('smartdays/server/uploads/7dca35734822aba2/location_7dca35734822aba2_20150310153541.csv')\n"
       ]
      },
      {
       "output_type": "stream",
       "stream": "stderr",
       "text": [
        "DEBUG:paramiko.transport.sftp:[chan 0] close(00000000)\n"
       ]
      },
      {
       "output_type": "stream",
       "stream": "stderr",
       "text": [
        "DEBUG:paramiko.transport.sftp:[chan 0] stat('smartdays/server/uploads/7dca35734822aba2/location_7dca35734822aba2_20150310154034.csv')\n"
       ]
      },
      {
       "output_type": "stream",
       "stream": "stderr",
       "text": [
        "DEBUG:paramiko.transport.sftp:[chan 0] open('smartdays/server/uploads/7dca35734822aba2/location_7dca35734822aba2_20150310154034.csv', 'rb')\n"
       ]
      },
      {
       "output_type": "stream",
       "stream": "stderr",
       "text": [
        "DEBUG:paramiko.transport.sftp:[chan 0] open('smartdays/server/uploads/7dca35734822aba2/location_7dca35734822aba2_20150310154034.csv', 'rb') -> 00000000\n"
       ]
      },
      {
       "output_type": "stream",
       "stream": "stderr",
       "text": [
        "DEBUG:paramiko.transport.sftp:[chan 0] stat('smartdays/server/uploads/7dca35734822aba2/location_7dca35734822aba2_20150310154034.csv')\n"
       ]
      },
      {
       "output_type": "stream",
       "stream": "stderr",
       "text": [
        "DEBUG:paramiko.transport.sftp:[chan 0] close(00000000)\n"
       ]
      },
      {
       "output_type": "stream",
       "stream": "stderr",
       "text": [
        "DEBUG:paramiko.transport.sftp:[chan 0] stat('smartdays/server/uploads/7dca35734822aba2/location_7dca35734822aba2_20150310155452.csv')\n"
       ]
      },
      {
       "output_type": "stream",
       "stream": "stderr",
       "text": [
        "DEBUG:paramiko.transport.sftp:[chan 0] open('smartdays/server/uploads/7dca35734822aba2/location_7dca35734822aba2_20150310155452.csv', 'rb')\n"
       ]
      },
      {
       "output_type": "stream",
       "stream": "stderr",
       "text": [
        "DEBUG:paramiko.transport.sftp:[chan 0] open('smartdays/server/uploads/7dca35734822aba2/location_7dca35734822aba2_20150310155452.csv', 'rb') -> 00000000\n"
       ]
      },
      {
       "output_type": "stream",
       "stream": "stderr",
       "text": [
        "DEBUG:paramiko.transport.sftp:[chan 0] stat('smartdays/server/uploads/7dca35734822aba2/location_7dca35734822aba2_20150310155452.csv')\n"
       ]
      },
      {
       "output_type": "stream",
       "stream": "stderr",
       "text": [
        "DEBUG:paramiko.transport.sftp:[chan 0] close(00000000)\n"
       ]
      },
      {
       "output_type": "stream",
       "stream": "stderr",
       "text": [
        "DEBUG:paramiko.transport.sftp:[chan 0] stat('smartdays/server/uploads/7dca35734822aba2/location_7dca35734822aba2_20150311000001.csv')\n"
       ]
      },
      {
       "output_type": "stream",
       "stream": "stderr",
       "text": [
        "DEBUG:paramiko.transport.sftp:[chan 0] open('smartdays/server/uploads/7dca35734822aba2/location_7dca35734822aba2_20150311000001.csv', 'rb')\n"
       ]
      },
      {
       "output_type": "stream",
       "stream": "stderr",
       "text": [
        "DEBUG:paramiko.transport.sftp:[chan 0] open('smartdays/server/uploads/7dca35734822aba2/location_7dca35734822aba2_20150311000001.csv', 'rb') -> 00000000\n"
       ]
      },
      {
       "output_type": "stream",
       "stream": "stderr",
       "text": [
        "DEBUG:paramiko.transport.sftp:[chan 0] stat('smartdays/server/uploads/7dca35734822aba2/location_7dca35734822aba2_20150311000001.csv')\n"
       ]
      },
      {
       "output_type": "stream",
       "stream": "stderr",
       "text": [
        "DEBUG:paramiko.transport.sftp:[chan 0] close(00000000)\n"
       ]
      },
      {
       "output_type": "stream",
       "stream": "stderr",
       "text": [
        "DEBUG:paramiko.transport.sftp:[chan 0] stat('smartdays/server/uploads/7dca35734822aba2/location_7dca35734822aba2_20150311001138.csv')\n"
       ]
      },
      {
       "output_type": "stream",
       "stream": "stderr",
       "text": [
        "DEBUG:paramiko.transport.sftp:[chan 0] open('smartdays/server/uploads/7dca35734822aba2/location_7dca35734822aba2_20150311001138.csv', 'rb')\n"
       ]
      },
      {
       "output_type": "stream",
       "stream": "stderr",
       "text": [
        "DEBUG:paramiko.transport.sftp:[chan 0] open('smartdays/server/uploads/7dca35734822aba2/location_7dca35734822aba2_20150311001138.csv', 'rb') -> 00000000\n"
       ]
      },
      {
       "output_type": "stream",
       "stream": "stderr",
       "text": [
        "DEBUG:paramiko.transport.sftp:[chan 0] stat('smartdays/server/uploads/7dca35734822aba2/location_7dca35734822aba2_20150311001138.csv')\n"
       ]
      },
      {
       "output_type": "stream",
       "stream": "stderr",
       "text": [
        "DEBUG:paramiko.transport.sftp:[chan 0] close(00000000)\n"
       ]
      },
      {
       "output_type": "stream",
       "stream": "stderr",
       "text": [
        "DEBUG:paramiko.transport.sftp:[chan 0] stat('smartdays/server/uploads/7dca35734822aba2/location_7dca35734822aba2_20150311103656.csv')\n"
       ]
      },
      {
       "output_type": "stream",
       "stream": "stderr",
       "text": [
        "DEBUG:paramiko.transport.sftp:[chan 0] open('smartdays/server/uploads/7dca35734822aba2/location_7dca35734822aba2_20150311103656.csv', 'rb')\n"
       ]
      },
      {
       "output_type": "stream",
       "stream": "stderr",
       "text": [
        "DEBUG:paramiko.transport.sftp:[chan 0] open('smartdays/server/uploads/7dca35734822aba2/location_7dca35734822aba2_20150311103656.csv', 'rb') -> 00000000\n"
       ]
      },
      {
       "output_type": "stream",
       "stream": "stderr",
       "text": [
        "DEBUG:paramiko.transport.sftp:[chan 0] stat('smartdays/server/uploads/7dca35734822aba2/location_7dca35734822aba2_20150311103656.csv')\n"
       ]
      },
      {
       "output_type": "stream",
       "stream": "stderr",
       "text": [
        "DEBUG:paramiko.transport.sftp:[chan 0] close(00000000)\n"
       ]
      },
      {
       "output_type": "stream",
       "stream": "stderr",
       "text": [
        "DEBUG:paramiko.transport.sftp:[chan 0] stat('smartdays/server/uploads/7dca35734822aba2/location_7dca35734822aba2_20150312084014.csv')\n"
       ]
      },
      {
       "output_type": "stream",
       "stream": "stderr",
       "text": [
        "DEBUG:paramiko.transport.sftp:[chan 0] open('smartdays/server/uploads/7dca35734822aba2/location_7dca35734822aba2_20150312084014.csv', 'rb')\n"
       ]
      },
      {
       "output_type": "stream",
       "stream": "stderr",
       "text": [
        "DEBUG:paramiko.transport.sftp:[chan 0] open('smartdays/server/uploads/7dca35734822aba2/location_7dca35734822aba2_20150312084014.csv', 'rb') -> 00000000\n"
       ]
      },
      {
       "output_type": "stream",
       "stream": "stderr",
       "text": [
        "DEBUG:paramiko.transport.sftp:[chan 0] stat('smartdays/server/uploads/7dca35734822aba2/location_7dca35734822aba2_20150312084014.csv')\n"
       ]
      },
      {
       "output_type": "stream",
       "stream": "stderr",
       "text": [
        "DEBUG:paramiko.transport.sftp:[chan 0] close(00000000)\n"
       ]
      },
      {
       "output_type": "stream",
       "stream": "stderr",
       "text": [
        "DEBUG:paramiko.transport.sftp:[chan 0] stat('smartdays/server/uploads/7dca35734822aba2/location_7dca35734822aba2_20150313083343.csv')\n"
       ]
      },
      {
       "output_type": "stream",
       "stream": "stderr",
       "text": [
        "DEBUG:paramiko.transport.sftp:[chan 0] open('smartdays/server/uploads/7dca35734822aba2/location_7dca35734822aba2_20150313083343.csv', 'rb')\n"
       ]
      },
      {
       "output_type": "stream",
       "stream": "stderr",
       "text": [
        "DEBUG:paramiko.transport.sftp:[chan 0] open('smartdays/server/uploads/7dca35734822aba2/location_7dca35734822aba2_20150313083343.csv', 'rb') -> 00000000\n"
       ]
      },
      {
       "output_type": "stream",
       "stream": "stderr",
       "text": [
        "DEBUG:paramiko.transport.sftp:[chan 0] stat('smartdays/server/uploads/7dca35734822aba2/location_7dca35734822aba2_20150313083343.csv')\n"
       ]
      },
      {
       "output_type": "stream",
       "stream": "stderr",
       "text": [
        "DEBUG:paramiko.transport.sftp:[chan 0] close(00000000)\n"
       ]
      },
      {
       "output_type": "stream",
       "stream": "stderr",
       "text": [
        "DEBUG:paramiko.transport.sftp:[chan 0] stat('smartdays/server/uploads/7dca35734822aba2/location_7dca35734822aba2_20150313095001.csv')\n"
       ]
      },
      {
       "output_type": "stream",
       "stream": "stderr",
       "text": [
        "DEBUG:paramiko.transport.sftp:[chan 0] open('smartdays/server/uploads/7dca35734822aba2/location_7dca35734822aba2_20150313095001.csv', 'rb')\n"
       ]
      },
      {
       "output_type": "stream",
       "stream": "stderr",
       "text": [
        "DEBUG:paramiko.transport.sftp:[chan 0] open('smartdays/server/uploads/7dca35734822aba2/location_7dca35734822aba2_20150313095001.csv', 'rb') -> 00000000\n"
       ]
      },
      {
       "output_type": "stream",
       "stream": "stderr",
       "text": [
        "DEBUG:paramiko.transport.sftp:[chan 0] stat('smartdays/server/uploads/7dca35734822aba2/location_7dca35734822aba2_20150313095001.csv')\n"
       ]
      },
      {
       "output_type": "stream",
       "stream": "stderr",
       "text": [
        "DEBUG:paramiko.transport.sftp:[chan 0] close(00000000)\n"
       ]
      },
      {
       "output_type": "stream",
       "stream": "stderr",
       "text": [
        "DEBUG:paramiko.transport.sftp:[chan 0] stat('smartdays/server/uploads/7dca35734822aba2/location_7dca35734822aba2_20150314052119.csv')\n"
       ]
      },
      {
       "output_type": "stream",
       "stream": "stderr",
       "text": [
        "DEBUG:paramiko.transport.sftp:[chan 0] open('smartdays/server/uploads/7dca35734822aba2/location_7dca35734822aba2_20150314052119.csv', 'rb')\n"
       ]
      },
      {
       "output_type": "stream",
       "stream": "stderr",
       "text": [
        "DEBUG:paramiko.transport.sftp:[chan 0] open('smartdays/server/uploads/7dca35734822aba2/location_7dca35734822aba2_20150314052119.csv', 'rb') -> 00000000\n"
       ]
      },
      {
       "output_type": "stream",
       "stream": "stderr",
       "text": [
        "DEBUG:paramiko.transport.sftp:[chan 0] stat('smartdays/server/uploads/7dca35734822aba2/location_7dca35734822aba2_20150314052119.csv')\n"
       ]
      },
      {
       "output_type": "stream",
       "stream": "stderr",
       "text": [
        "DEBUG:paramiko.transport.sftp:[chan 0] close(00000000)\n"
       ]
      },
      {
       "output_type": "stream",
       "stream": "stderr",
       "text": [
        "DEBUG:paramiko.transport.sftp:[chan 0] stat('smartdays/server/uploads/7dca35734822aba2/location_7dca35734822aba2_20150314193037.csv')\n"
       ]
      },
      {
       "output_type": "stream",
       "stream": "stderr",
       "text": [
        "DEBUG:paramiko.transport.sftp:[chan 0] open('smartdays/server/uploads/7dca35734822aba2/location_7dca35734822aba2_20150314193037.csv', 'rb')\n"
       ]
      },
      {
       "output_type": "stream",
       "stream": "stderr",
       "text": [
        "DEBUG:paramiko.transport.sftp:[chan 0] open('smartdays/server/uploads/7dca35734822aba2/location_7dca35734822aba2_20150314193037.csv', 'rb') -> 00000000\n"
       ]
      },
      {
       "output_type": "stream",
       "stream": "stderr",
       "text": [
        "DEBUG:paramiko.transport.sftp:[chan 0] stat('smartdays/server/uploads/7dca35734822aba2/location_7dca35734822aba2_20150314193037.csv')\n"
       ]
      },
      {
       "output_type": "stream",
       "stream": "stderr",
       "text": [
        "DEBUG:paramiko.transport.sftp:[chan 0] close(00000000)\n"
       ]
      },
      {
       "output_type": "stream",
       "stream": "stderr",
       "text": [
        "DEBUG:paramiko.transport.sftp:[chan 0] stat('smartdays/server/uploads/7dca35734822aba2/location_7dca35734822aba2_20150315000100.csv')\n"
       ]
      },
      {
       "output_type": "stream",
       "stream": "stderr",
       "text": [
        "DEBUG:paramiko.transport.sftp:[chan 0] open('smartdays/server/uploads/7dca35734822aba2/location_7dca35734822aba2_20150315000100.csv', 'rb')\n"
       ]
      },
      {
       "output_type": "stream",
       "stream": "stderr",
       "text": [
        "DEBUG:paramiko.transport.sftp:[chan 0] open('smartdays/server/uploads/7dca35734822aba2/location_7dca35734822aba2_20150315000100.csv', 'rb') -> 00000000\n"
       ]
      },
      {
       "output_type": "stream",
       "stream": "stderr",
       "text": [
        "DEBUG:paramiko.transport.sftp:[chan 0] stat('smartdays/server/uploads/7dca35734822aba2/location_7dca35734822aba2_20150315000100.csv')\n"
       ]
      },
      {
       "output_type": "stream",
       "stream": "stderr",
       "text": [
        "DEBUG:paramiko.transport.sftp:[chan 0] close(00000000)\n"
       ]
      },
      {
       "output_type": "stream",
       "stream": "stderr",
       "text": [
        "DEBUG:paramiko.transport.sftp:[chan 0] stat('smartdays/server/uploads/7dca35734822aba2/location_7dca35734822aba2_20150315002845.csv')\n"
       ]
      },
      {
       "output_type": "stream",
       "stream": "stderr",
       "text": [
        "DEBUG:paramiko.transport.sftp:[chan 0] open('smartdays/server/uploads/7dca35734822aba2/location_7dca35734822aba2_20150315002845.csv', 'rb')\n"
       ]
      },
      {
       "output_type": "stream",
       "stream": "stderr",
       "text": [
        "DEBUG:paramiko.transport.sftp:[chan 0] open('smartdays/server/uploads/7dca35734822aba2/location_7dca35734822aba2_20150315002845.csv', 'rb') -> 00000000\n"
       ]
      },
      {
       "output_type": "stream",
       "stream": "stderr",
       "text": [
        "DEBUG:paramiko.transport.sftp:[chan 0] stat('smartdays/server/uploads/7dca35734822aba2/location_7dca35734822aba2_20150315002845.csv')\n"
       ]
      },
      {
       "output_type": "stream",
       "stream": "stderr",
       "text": [
        "DEBUG:paramiko.transport.sftp:[chan 0] close(00000000)\n"
       ]
      },
      {
       "output_type": "stream",
       "stream": "stderr",
       "text": [
        "DEBUG:paramiko.transport.sftp:[chan 0] stat('smartdays/server/uploads/7dca35734822aba2/location_7dca35734822aba2_20150315113443.csv')\n"
       ]
      },
      {
       "output_type": "stream",
       "stream": "stderr",
       "text": [
        "DEBUG:paramiko.transport.sftp:[chan 0] open('smartdays/server/uploads/7dca35734822aba2/location_7dca35734822aba2_20150315113443.csv', 'rb')\n"
       ]
      },
      {
       "output_type": "stream",
       "stream": "stderr",
       "text": [
        "DEBUG:paramiko.transport.sftp:[chan 0] open('smartdays/server/uploads/7dca35734822aba2/location_7dca35734822aba2_20150315113443.csv', 'rb') -> 00000000\n"
       ]
      },
      {
       "output_type": "stream",
       "stream": "stderr",
       "text": [
        "DEBUG:paramiko.transport.sftp:[chan 0] stat('smartdays/server/uploads/7dca35734822aba2/location_7dca35734822aba2_20150315113443.csv')\n"
       ]
      },
      {
       "output_type": "stream",
       "stream": "stderr",
       "text": [
        "DEBUG:paramiko.transport.sftp:[chan 0] close(00000000)\n"
       ]
      },
      {
       "output_type": "stream",
       "stream": "stderr",
       "text": [
        "DEBUG:paramiko.transport.sftp:[chan 0] stat('smartdays/server/uploads/7dca35734822aba2/location_7dca35734822aba2_20150316000003.csv')\n"
       ]
      },
      {
       "output_type": "stream",
       "stream": "stderr",
       "text": [
        "DEBUG:paramiko.transport.sftp:[chan 0] open('smartdays/server/uploads/7dca35734822aba2/location_7dca35734822aba2_20150316000003.csv', 'rb')\n"
       ]
      },
      {
       "output_type": "stream",
       "stream": "stderr",
       "text": [
        "DEBUG:paramiko.transport.sftp:[chan 0] open('smartdays/server/uploads/7dca35734822aba2/location_7dca35734822aba2_20150316000003.csv', 'rb') -> 00000000\n"
       ]
      },
      {
       "output_type": "stream",
       "stream": "stderr",
       "text": [
        "DEBUG:paramiko.transport.sftp:[chan 0] stat('smartdays/server/uploads/7dca35734822aba2/location_7dca35734822aba2_20150316000003.csv')\n"
       ]
      },
      {
       "output_type": "stream",
       "stream": "stderr",
       "text": [
        "DEBUG:paramiko.transport.sftp:[chan 0] close(00000000)\n"
       ]
      },
      {
       "output_type": "stream",
       "stream": "stderr",
       "text": [
        "DEBUG:paramiko.transport.sftp:[chan 0] stat('smartdays/server/uploads/7dca35734822aba2/location_7dca35734822aba2_20150316095045.csv')\n"
       ]
      },
      {
       "output_type": "stream",
       "stream": "stderr",
       "text": [
        "DEBUG:paramiko.transport.sftp:[chan 0] open('smartdays/server/uploads/7dca35734822aba2/location_7dca35734822aba2_20150316095045.csv', 'rb')\n"
       ]
      },
      {
       "output_type": "stream",
       "stream": "stderr",
       "text": [
        "DEBUG:paramiko.transport.sftp:[chan 0] open('smartdays/server/uploads/7dca35734822aba2/location_7dca35734822aba2_20150316095045.csv', 'rb') -> 00000000\n"
       ]
      },
      {
       "output_type": "stream",
       "stream": "stderr",
       "text": [
        "DEBUG:paramiko.transport.sftp:[chan 0] stat('smartdays/server/uploads/7dca35734822aba2/location_7dca35734822aba2_20150316095045.csv')\n"
       ]
      },
      {
       "output_type": "stream",
       "stream": "stderr",
       "text": [
        "DEBUG:paramiko.transport.sftp:[chan 0] close(00000000)\n"
       ]
      },
      {
       "output_type": "stream",
       "stream": "stderr",
       "text": [
        "DEBUG:paramiko.transport.sftp:[chan 0] stat('smartdays/server/uploads/7dca35734822aba2/location_7dca35734822aba2_20150316230850.csv')\n"
       ]
      },
      {
       "output_type": "stream",
       "stream": "stderr",
       "text": [
        "DEBUG:paramiko.transport.sftp:[chan 0] open('smartdays/server/uploads/7dca35734822aba2/location_7dca35734822aba2_20150316230850.csv', 'rb')\n"
       ]
      },
      {
       "output_type": "stream",
       "stream": "stderr",
       "text": [
        "DEBUG:paramiko.transport.sftp:[chan 0] open('smartdays/server/uploads/7dca35734822aba2/location_7dca35734822aba2_20150316230850.csv', 'rb') -> 00000000\n"
       ]
      },
      {
       "output_type": "stream",
       "stream": "stderr",
       "text": [
        "DEBUG:paramiko.transport.sftp:[chan 0] stat('smartdays/server/uploads/7dca35734822aba2/location_7dca35734822aba2_20150316230850.csv')\n"
       ]
      },
      {
       "output_type": "stream",
       "stream": "stderr",
       "text": [
        "DEBUG:paramiko.transport.sftp:[chan 0] close(00000000)\n"
       ]
      },
      {
       "output_type": "stream",
       "stream": "stderr",
       "text": [
        "DEBUG:paramiko.transport.sftp:[chan 0] stat('smartdays/server/uploads/7dca35734822aba2/location_7dca35734822aba2_20150317094059.csv')\n"
       ]
      },
      {
       "output_type": "stream",
       "stream": "stderr",
       "text": [
        "DEBUG:paramiko.transport.sftp:[chan 0] open('smartdays/server/uploads/7dca35734822aba2/location_7dca35734822aba2_20150317094059.csv', 'rb')\n"
       ]
      },
      {
       "output_type": "stream",
       "stream": "stderr",
       "text": [
        "DEBUG:paramiko.transport.sftp:[chan 0] open('smartdays/server/uploads/7dca35734822aba2/location_7dca35734822aba2_20150317094059.csv', 'rb') -> 00000000\n"
       ]
      },
      {
       "output_type": "stream",
       "stream": "stderr",
       "text": [
        "DEBUG:paramiko.transport.sftp:[chan 0] stat('smartdays/server/uploads/7dca35734822aba2/location_7dca35734822aba2_20150317094059.csv')\n"
       ]
      },
      {
       "output_type": "stream",
       "stream": "stderr",
       "text": [
        "DEBUG:paramiko.transport.sftp:[chan 0] close(00000000)\n"
       ]
      },
      {
       "output_type": "stream",
       "stream": "stderr",
       "text": [
        "DEBUG:paramiko.transport.sftp:[chan 0] stat('smartdays/server/uploads/7dca35734822aba2/location_7dca35734822aba2_20150318093808.csv')\n"
       ]
      },
      {
       "output_type": "stream",
       "stream": "stderr",
       "text": [
        "DEBUG:paramiko.transport.sftp:[chan 0] open('smartdays/server/uploads/7dca35734822aba2/location_7dca35734822aba2_20150318093808.csv', 'rb')\n"
       ]
      },
      {
       "output_type": "stream",
       "stream": "stderr",
       "text": [
        "DEBUG:paramiko.transport.sftp:[chan 0] open('smartdays/server/uploads/7dca35734822aba2/location_7dca35734822aba2_20150318093808.csv', 'rb') -> 00000000\n"
       ]
      },
      {
       "output_type": "stream",
       "stream": "stderr",
       "text": [
        "DEBUG:paramiko.transport.sftp:[chan 0] stat('smartdays/server/uploads/7dca35734822aba2/location_7dca35734822aba2_20150318093808.csv')\n"
       ]
      },
      {
       "output_type": "stream",
       "stream": "stderr",
       "text": [
        "DEBUG:paramiko.transport.sftp:[chan 0] close(00000000)\n"
       ]
      },
      {
       "output_type": "stream",
       "stream": "stderr",
       "text": [
        "DEBUG:paramiko.transport.sftp:[chan 0] stat('smartdays/server/uploads/7dca35734822aba2/location_7dca35734822aba2_20150319082720.csv')\n"
       ]
      },
      {
       "output_type": "stream",
       "stream": "stderr",
       "text": [
        "DEBUG:paramiko.transport.sftp:[chan 0] open('smartdays/server/uploads/7dca35734822aba2/location_7dca35734822aba2_20150319082720.csv', 'rb')\n"
       ]
      },
      {
       "output_type": "stream",
       "stream": "stderr",
       "text": [
        "DEBUG:paramiko.transport.sftp:[chan 0] open('smartdays/server/uploads/7dca35734822aba2/location_7dca35734822aba2_20150319082720.csv', 'rb') -> 00000000\n"
       ]
      },
      {
       "output_type": "stream",
       "stream": "stderr",
       "text": [
        "DEBUG:paramiko.transport.sftp:[chan 0] stat('smartdays/server/uploads/7dca35734822aba2/location_7dca35734822aba2_20150319082720.csv')\n"
       ]
      },
      {
       "output_type": "stream",
       "stream": "stderr",
       "text": [
        "DEBUG:paramiko.transport.sftp:[chan 0] close(00000000)\n"
       ]
      },
      {
       "output_type": "stream",
       "stream": "stderr",
       "text": [
        "DEBUG:paramiko.transport.sftp:[chan 0] stat('smartdays/server/uploads/7dca35734822aba2/location_7dca35734822aba2_20150319091057.csv')\n"
       ]
      },
      {
       "output_type": "stream",
       "stream": "stderr",
       "text": [
        "DEBUG:paramiko.transport.sftp:[chan 0] open('smartdays/server/uploads/7dca35734822aba2/location_7dca35734822aba2_20150319091057.csv', 'rb')\n"
       ]
      },
      {
       "output_type": "stream",
       "stream": "stderr",
       "text": [
        "DEBUG:paramiko.transport.sftp:[chan 0] open('smartdays/server/uploads/7dca35734822aba2/location_7dca35734822aba2_20150319091057.csv', 'rb') -> 00000000\n"
       ]
      },
      {
       "output_type": "stream",
       "stream": "stderr",
       "text": [
        "DEBUG:paramiko.transport.sftp:[chan 0] stat('smartdays/server/uploads/7dca35734822aba2/location_7dca35734822aba2_20150319091057.csv')\n"
       ]
      },
      {
       "output_type": "stream",
       "stream": "stderr",
       "text": [
        "DEBUG:paramiko.transport.sftp:[chan 0] close(00000000)\n"
       ]
      },
      {
       "output_type": "stream",
       "stream": "stderr",
       "text": [
        "DEBUG:paramiko.transport.sftp:[chan 0] stat('smartdays/server/uploads/7dca35734822aba2/location_7dca35734822aba2_20150319111547.csv')\n"
       ]
      },
      {
       "output_type": "stream",
       "stream": "stderr",
       "text": [
        "DEBUG:paramiko.transport.sftp:[chan 0] open('smartdays/server/uploads/7dca35734822aba2/location_7dca35734822aba2_20150319111547.csv', 'rb')\n"
       ]
      },
      {
       "output_type": "stream",
       "stream": "stderr",
       "text": [
        "DEBUG:paramiko.transport.sftp:[chan 0] open('smartdays/server/uploads/7dca35734822aba2/location_7dca35734822aba2_20150319111547.csv', 'rb') -> 00000000\n"
       ]
      },
      {
       "output_type": "stream",
       "stream": "stderr",
       "text": [
        "DEBUG:paramiko.transport.sftp:[chan 0] stat('smartdays/server/uploads/7dca35734822aba2/location_7dca35734822aba2_20150319111547.csv')\n"
       ]
      },
      {
       "output_type": "stream",
       "stream": "stderr",
       "text": [
        "DEBUG:paramiko.transport.sftp:[chan 0] close(00000000)\n"
       ]
      },
      {
       "output_type": "stream",
       "stream": "stderr",
       "text": [
        "DEBUG:paramiko.transport.sftp:[chan 0] stat('smartdays/server/uploads/7dca35734822aba2/location_7dca35734822aba2_20150320074607.csv')\n"
       ]
      },
      {
       "output_type": "stream",
       "stream": "stderr",
       "text": [
        "DEBUG:paramiko.transport.sftp:[chan 0] open('smartdays/server/uploads/7dca35734822aba2/location_7dca35734822aba2_20150320074607.csv', 'rb')\n"
       ]
      },
      {
       "output_type": "stream",
       "stream": "stderr",
       "text": [
        "DEBUG:paramiko.transport.sftp:[chan 0] open('smartdays/server/uploads/7dca35734822aba2/location_7dca35734822aba2_20150320074607.csv', 'rb') -> 00000000\n"
       ]
      },
      {
       "output_type": "stream",
       "stream": "stderr",
       "text": [
        "DEBUG:paramiko.transport.sftp:[chan 0] stat('smartdays/server/uploads/7dca35734822aba2/location_7dca35734822aba2_20150320074607.csv')\n"
       ]
      },
      {
       "output_type": "stream",
       "stream": "stderr",
       "text": [
        "DEBUG:paramiko.transport.sftp:[chan 0] close(00000000)\n"
       ]
      },
      {
       "output_type": "stream",
       "stream": "stderr",
       "text": [
        "DEBUG:paramiko.transport.sftp:[chan 0] stat('smartdays/server/uploads/7dca35734822aba2/location_7dca35734822aba2_20150320084206.csv')\n"
       ]
      },
      {
       "output_type": "stream",
       "stream": "stderr",
       "text": [
        "DEBUG:paramiko.transport.sftp:[chan 0] open('smartdays/server/uploads/7dca35734822aba2/location_7dca35734822aba2_20150320084206.csv', 'rb')\n"
       ]
      },
      {
       "output_type": "stream",
       "stream": "stderr",
       "text": [
        "DEBUG:paramiko.transport.sftp:[chan 0] open('smartdays/server/uploads/7dca35734822aba2/location_7dca35734822aba2_20150320084206.csv', 'rb') -> 00000000\n"
       ]
      },
      {
       "output_type": "stream",
       "stream": "stderr",
       "text": [
        "DEBUG:paramiko.transport.sftp:[chan 0] stat('smartdays/server/uploads/7dca35734822aba2/location_7dca35734822aba2_20150320084206.csv')\n"
       ]
      },
      {
       "output_type": "stream",
       "stream": "stderr",
       "text": [
        "DEBUG:paramiko.transport.sftp:[chan 0] close(00000000)\n"
       ]
      },
      {
       "output_type": "stream",
       "stream": "stderr",
       "text": [
        "DEBUG:paramiko.transport.sftp:[chan 0] stat('smartdays/server/uploads/7dca35734822aba2/mood_7dca35734822aba2_20150310153315.csv')\n"
       ]
      },
      {
       "output_type": "stream",
       "stream": "stderr",
       "text": [
        "DEBUG:paramiko.transport.sftp:[chan 0] open('smartdays/server/uploads/7dca35734822aba2/mood_7dca35734822aba2_20150310153315.csv', 'rb')\n"
       ]
      },
      {
       "output_type": "stream",
       "stream": "stderr",
       "text": [
        "DEBUG:paramiko.transport.sftp:[chan 0] open('smartdays/server/uploads/7dca35734822aba2/mood_7dca35734822aba2_20150310153315.csv', 'rb') -> 00000000\n"
       ]
      },
      {
       "output_type": "stream",
       "stream": "stderr",
       "text": [
        "DEBUG:paramiko.transport.sftp:[chan 0] stat('smartdays/server/uploads/7dca35734822aba2/mood_7dca35734822aba2_20150310153315.csv')\n"
       ]
      },
      {
       "output_type": "stream",
       "stream": "stderr",
       "text": [
        "DEBUG:paramiko.transport.sftp:[chan 0] close(00000000)\n"
       ]
      },
      {
       "output_type": "stream",
       "stream": "stderr",
       "text": [
        "DEBUG:paramiko.transport.sftp:[chan 0] stat('smartdays/server/uploads/7dca35734822aba2/mood_7dca35734822aba2_20150310153541.csv')\n"
       ]
      },
      {
       "output_type": "stream",
       "stream": "stderr",
       "text": [
        "DEBUG:paramiko.transport.sftp:[chan 0] open('smartdays/server/uploads/7dca35734822aba2/mood_7dca35734822aba2_20150310153541.csv', 'rb')\n"
       ]
      },
      {
       "output_type": "stream",
       "stream": "stderr",
       "text": [
        "DEBUG:paramiko.transport.sftp:[chan 0] open('smartdays/server/uploads/7dca35734822aba2/mood_7dca35734822aba2_20150310153541.csv', 'rb') -> 00000000\n"
       ]
      },
      {
       "output_type": "stream",
       "stream": "stderr",
       "text": [
        "DEBUG:paramiko.transport.sftp:[chan 0] stat('smartdays/server/uploads/7dca35734822aba2/mood_7dca35734822aba2_20150310153541.csv')\n"
       ]
      },
      {
       "output_type": "stream",
       "stream": "stderr",
       "text": [
        "DEBUG:paramiko.transport.sftp:[chan 0] close(00000000)\n"
       ]
      },
      {
       "output_type": "stream",
       "stream": "stderr",
       "text": [
        "DEBUG:paramiko.transport.sftp:[chan 0] stat('smartdays/server/uploads/7dca35734822aba2/mood_7dca35734822aba2_20150310154034.csv')\n"
       ]
      },
      {
       "output_type": "stream",
       "stream": "stderr",
       "text": [
        "DEBUG:paramiko.transport.sftp:[chan 0] open('smartdays/server/uploads/7dca35734822aba2/mood_7dca35734822aba2_20150310154034.csv', 'rb')\n"
       ]
      },
      {
       "output_type": "stream",
       "stream": "stderr",
       "text": [
        "DEBUG:paramiko.transport.sftp:[chan 0] open('smartdays/server/uploads/7dca35734822aba2/mood_7dca35734822aba2_20150310154034.csv', 'rb') -> 00000000\n"
       ]
      },
      {
       "output_type": "stream",
       "stream": "stderr",
       "text": [
        "DEBUG:paramiko.transport.sftp:[chan 0] stat('smartdays/server/uploads/7dca35734822aba2/mood_7dca35734822aba2_20150310154034.csv')\n"
       ]
      },
      {
       "output_type": "stream",
       "stream": "stderr",
       "text": [
        "DEBUG:paramiko.transport.sftp:[chan 0] close(00000000)\n"
       ]
      },
      {
       "output_type": "stream",
       "stream": "stderr",
       "text": [
        "DEBUG:paramiko.transport.sftp:[chan 0] stat('smartdays/server/uploads/7dca35734822aba2/mood_7dca35734822aba2_20150310155452.csv')\n"
       ]
      },
      {
       "output_type": "stream",
       "stream": "stderr",
       "text": [
        "DEBUG:paramiko.transport.sftp:[chan 0] open('smartdays/server/uploads/7dca35734822aba2/mood_7dca35734822aba2_20150310155452.csv', 'rb')\n"
       ]
      },
      {
       "output_type": "stream",
       "stream": "stderr",
       "text": [
        "DEBUG:paramiko.transport.sftp:[chan 0] open('smartdays/server/uploads/7dca35734822aba2/mood_7dca35734822aba2_20150310155452.csv', 'rb') -> 00000000\n"
       ]
      },
      {
       "output_type": "stream",
       "stream": "stderr",
       "text": [
        "DEBUG:paramiko.transport.sftp:[chan 0] stat('smartdays/server/uploads/7dca35734822aba2/mood_7dca35734822aba2_20150310155452.csv')\n"
       ]
      },
      {
       "output_type": "stream",
       "stream": "stderr",
       "text": [
        "DEBUG:paramiko.transport.sftp:[chan 0] close(00000000)\n"
       ]
      },
      {
       "output_type": "stream",
       "stream": "stderr",
       "text": [
        "DEBUG:paramiko.transport.sftp:[chan 0] stat('smartdays/server/uploads/7dca35734822aba2/mood_7dca35734822aba2_20150311000001.csv')\n"
       ]
      },
      {
       "output_type": "stream",
       "stream": "stderr",
       "text": [
        "DEBUG:paramiko.transport.sftp:[chan 0] open('smartdays/server/uploads/7dca35734822aba2/mood_7dca35734822aba2_20150311000001.csv', 'rb')\n"
       ]
      },
      {
       "output_type": "stream",
       "stream": "stderr",
       "text": [
        "DEBUG:paramiko.transport.sftp:[chan 0] open('smartdays/server/uploads/7dca35734822aba2/mood_7dca35734822aba2_20150311000001.csv', 'rb') -> 00000000\n"
       ]
      },
      {
       "output_type": "stream",
       "stream": "stderr",
       "text": [
        "DEBUG:paramiko.transport.sftp:[chan 0] stat('smartdays/server/uploads/7dca35734822aba2/mood_7dca35734822aba2_20150311000001.csv')\n"
       ]
      },
      {
       "output_type": "stream",
       "stream": "stderr",
       "text": [
        "DEBUG:paramiko.transport.sftp:[chan 0] close(00000000)\n"
       ]
      },
      {
       "output_type": "stream",
       "stream": "stderr",
       "text": [
        "DEBUG:paramiko.transport.sftp:[chan 0] stat('smartdays/server/uploads/7dca35734822aba2/mood_7dca35734822aba2_20150311001138.csv')\n"
       ]
      },
      {
       "output_type": "stream",
       "stream": "stderr",
       "text": [
        "DEBUG:paramiko.transport.sftp:[chan 0] open('smartdays/server/uploads/7dca35734822aba2/mood_7dca35734822aba2_20150311001138.csv', 'rb')\n"
       ]
      },
      {
       "output_type": "stream",
       "stream": "stderr",
       "text": [
        "DEBUG:paramiko.transport.sftp:[chan 0] open('smartdays/server/uploads/7dca35734822aba2/mood_7dca35734822aba2_20150311001138.csv', 'rb') -> 00000000\n"
       ]
      },
      {
       "output_type": "stream",
       "stream": "stderr",
       "text": [
        "DEBUG:paramiko.transport.sftp:[chan 0] stat('smartdays/server/uploads/7dca35734822aba2/mood_7dca35734822aba2_20150311001138.csv')\n"
       ]
      },
      {
       "output_type": "stream",
       "stream": "stderr",
       "text": [
        "DEBUG:paramiko.transport.sftp:[chan 0] close(00000000)\n"
       ]
      },
      {
       "output_type": "stream",
       "stream": "stderr",
       "text": [
        "DEBUG:paramiko.transport.sftp:[chan 0] stat('smartdays/server/uploads/7dca35734822aba2/mood_7dca35734822aba2_20150311103656.csv')\n"
       ]
      },
      {
       "output_type": "stream",
       "stream": "stderr",
       "text": [
        "DEBUG:paramiko.transport.sftp:[chan 0] open('smartdays/server/uploads/7dca35734822aba2/mood_7dca35734822aba2_20150311103656.csv', 'rb')\n"
       ]
      },
      {
       "output_type": "stream",
       "stream": "stderr",
       "text": [
        "DEBUG:paramiko.transport.sftp:[chan 0] open('smartdays/server/uploads/7dca35734822aba2/mood_7dca35734822aba2_20150311103656.csv', 'rb') -> 00000000\n"
       ]
      },
      {
       "output_type": "stream",
       "stream": "stderr",
       "text": [
        "DEBUG:paramiko.transport.sftp:[chan 0] stat('smartdays/server/uploads/7dca35734822aba2/mood_7dca35734822aba2_20150311103656.csv')\n"
       ]
      },
      {
       "output_type": "stream",
       "stream": "stderr",
       "text": [
        "DEBUG:paramiko.transport.sftp:[chan 0] close(00000000)\n"
       ]
      },
      {
       "output_type": "stream",
       "stream": "stderr",
       "text": [
        "DEBUG:paramiko.transport.sftp:[chan 0] stat('smartdays/server/uploads/7dca35734822aba2/mood_7dca35734822aba2_20150312084014.csv')\n"
       ]
      },
      {
       "output_type": "stream",
       "stream": "stderr",
       "text": [
        "DEBUG:paramiko.transport.sftp:[chan 0] open('smartdays/server/uploads/7dca35734822aba2/mood_7dca35734822aba2_20150312084014.csv', 'rb')\n"
       ]
      },
      {
       "output_type": "stream",
       "stream": "stderr",
       "text": [
        "DEBUG:paramiko.transport.sftp:[chan 0] open('smartdays/server/uploads/7dca35734822aba2/mood_7dca35734822aba2_20150312084014.csv', 'rb') -> 00000000\n"
       ]
      },
      {
       "output_type": "stream",
       "stream": "stderr",
       "text": [
        "DEBUG:paramiko.transport.sftp:[chan 0] stat('smartdays/server/uploads/7dca35734822aba2/mood_7dca35734822aba2_20150312084014.csv')\n"
       ]
      },
      {
       "output_type": "stream",
       "stream": "stderr",
       "text": [
        "DEBUG:paramiko.transport.sftp:[chan 0] close(00000000)\n"
       ]
      },
      {
       "output_type": "stream",
       "stream": "stderr",
       "text": [
        "DEBUG:paramiko.transport.sftp:[chan 0] stat('smartdays/server/uploads/7dca35734822aba2/mood_7dca35734822aba2_20150313083343.csv')\n"
       ]
      },
      {
       "output_type": "stream",
       "stream": "stderr",
       "text": [
        "DEBUG:paramiko.transport.sftp:[chan 0] open('smartdays/server/uploads/7dca35734822aba2/mood_7dca35734822aba2_20150313083343.csv', 'rb')\n"
       ]
      },
      {
       "output_type": "stream",
       "stream": "stderr",
       "text": [
        "DEBUG:paramiko.transport.sftp:[chan 0] open('smartdays/server/uploads/7dca35734822aba2/mood_7dca35734822aba2_20150313083343.csv', 'rb') -> 00000000\n"
       ]
      },
      {
       "output_type": "stream",
       "stream": "stderr",
       "text": [
        "DEBUG:paramiko.transport.sftp:[chan 0] stat('smartdays/server/uploads/7dca35734822aba2/mood_7dca35734822aba2_20150313083343.csv')\n"
       ]
      },
      {
       "output_type": "stream",
       "stream": "stderr",
       "text": [
        "DEBUG:paramiko.transport.sftp:[chan 0] close(00000000)\n"
       ]
      },
      {
       "output_type": "stream",
       "stream": "stderr",
       "text": [
        "DEBUG:paramiko.transport.sftp:[chan 0] stat('smartdays/server/uploads/7dca35734822aba2/mood_7dca35734822aba2_20150313095001.csv')\n"
       ]
      },
      {
       "output_type": "stream",
       "stream": "stderr",
       "text": [
        "DEBUG:paramiko.transport.sftp:[chan 0] open('smartdays/server/uploads/7dca35734822aba2/mood_7dca35734822aba2_20150313095001.csv', 'rb')\n"
       ]
      },
      {
       "output_type": "stream",
       "stream": "stderr",
       "text": [
        "DEBUG:paramiko.transport.sftp:[chan 0] open('smartdays/server/uploads/7dca35734822aba2/mood_7dca35734822aba2_20150313095001.csv', 'rb') -> 00000000\n"
       ]
      },
      {
       "output_type": "stream",
       "stream": "stderr",
       "text": [
        "DEBUG:paramiko.transport.sftp:[chan 0] stat('smartdays/server/uploads/7dca35734822aba2/mood_7dca35734822aba2_20150313095001.csv')\n"
       ]
      },
      {
       "output_type": "stream",
       "stream": "stderr",
       "text": [
        "DEBUG:paramiko.transport.sftp:[chan 0] close(00000000)\n"
       ]
      },
      {
       "output_type": "stream",
       "stream": "stderr",
       "text": [
        "DEBUG:paramiko.transport.sftp:[chan 0] stat('smartdays/server/uploads/7dca35734822aba2/mood_7dca35734822aba2_20150314052119.csv')\n"
       ]
      },
      {
       "output_type": "stream",
       "stream": "stderr",
       "text": [
        "DEBUG:paramiko.transport.sftp:[chan 0] open('smartdays/server/uploads/7dca35734822aba2/mood_7dca35734822aba2_20150314052119.csv', 'rb')\n"
       ]
      },
      {
       "output_type": "stream",
       "stream": "stderr",
       "text": [
        "DEBUG:paramiko.transport.sftp:[chan 0] open('smartdays/server/uploads/7dca35734822aba2/mood_7dca35734822aba2_20150314052119.csv', 'rb') -> 00000000\n"
       ]
      },
      {
       "output_type": "stream",
       "stream": "stderr",
       "text": [
        "DEBUG:paramiko.transport.sftp:[chan 0] stat('smartdays/server/uploads/7dca35734822aba2/mood_7dca35734822aba2_20150314052119.csv')\n"
       ]
      },
      {
       "output_type": "stream",
       "stream": "stderr",
       "text": [
        "DEBUG:paramiko.transport.sftp:[chan 0] close(00000000)\n"
       ]
      },
      {
       "output_type": "stream",
       "stream": "stderr",
       "text": [
        "DEBUG:paramiko.transport.sftp:[chan 0] stat('smartdays/server/uploads/7dca35734822aba2/mood_7dca35734822aba2_20150314193037.csv')\n"
       ]
      },
      {
       "output_type": "stream",
       "stream": "stderr",
       "text": [
        "DEBUG:paramiko.transport.sftp:[chan 0] open('smartdays/server/uploads/7dca35734822aba2/mood_7dca35734822aba2_20150314193037.csv', 'rb')\n"
       ]
      },
      {
       "output_type": "stream",
       "stream": "stderr",
       "text": [
        "DEBUG:paramiko.transport.sftp:[chan 0] open('smartdays/server/uploads/7dca35734822aba2/mood_7dca35734822aba2_20150314193037.csv', 'rb') -> 00000000\n"
       ]
      },
      {
       "output_type": "stream",
       "stream": "stderr",
       "text": [
        "DEBUG:paramiko.transport.sftp:[chan 0] stat('smartdays/server/uploads/7dca35734822aba2/mood_7dca35734822aba2_20150314193037.csv')\n"
       ]
      },
      {
       "output_type": "stream",
       "stream": "stderr",
       "text": [
        "DEBUG:paramiko.transport.sftp:[chan 0] close(00000000)\n"
       ]
      },
      {
       "output_type": "stream",
       "stream": "stderr",
       "text": [
        "DEBUG:paramiko.transport.sftp:[chan 0] stat('smartdays/server/uploads/7dca35734822aba2/mood_7dca35734822aba2_20150315000100.csv')\n"
       ]
      },
      {
       "output_type": "stream",
       "stream": "stderr",
       "text": [
        "DEBUG:paramiko.transport.sftp:[chan 0] open('smartdays/server/uploads/7dca35734822aba2/mood_7dca35734822aba2_20150315000100.csv', 'rb')\n"
       ]
      },
      {
       "output_type": "stream",
       "stream": "stderr",
       "text": [
        "DEBUG:paramiko.transport.sftp:[chan 0] open('smartdays/server/uploads/7dca35734822aba2/mood_7dca35734822aba2_20150315000100.csv', 'rb') -> 00000000\n"
       ]
      },
      {
       "output_type": "stream",
       "stream": "stderr",
       "text": [
        "DEBUG:paramiko.transport.sftp:[chan 0] stat('smartdays/server/uploads/7dca35734822aba2/mood_7dca35734822aba2_20150315000100.csv')\n"
       ]
      },
      {
       "output_type": "stream",
       "stream": "stderr",
       "text": [
        "DEBUG:paramiko.transport.sftp:[chan 0] close(00000000)\n"
       ]
      },
      {
       "output_type": "stream",
       "stream": "stderr",
       "text": [
        "DEBUG:paramiko.transport.sftp:[chan 0] stat('smartdays/server/uploads/7dca35734822aba2/mood_7dca35734822aba2_20150315002845.csv')\n"
       ]
      },
      {
       "output_type": "stream",
       "stream": "stderr",
       "text": [
        "DEBUG:paramiko.transport.sftp:[chan 0] open('smartdays/server/uploads/7dca35734822aba2/mood_7dca35734822aba2_20150315002845.csv', 'rb')\n"
       ]
      },
      {
       "output_type": "stream",
       "stream": "stderr",
       "text": [
        "DEBUG:paramiko.transport.sftp:[chan 0] open('smartdays/server/uploads/7dca35734822aba2/mood_7dca35734822aba2_20150315002845.csv', 'rb') -> 00000000\n"
       ]
      },
      {
       "output_type": "stream",
       "stream": "stderr",
       "text": [
        "DEBUG:paramiko.transport.sftp:[chan 0] stat('smartdays/server/uploads/7dca35734822aba2/mood_7dca35734822aba2_20150315002845.csv')\n"
       ]
      },
      {
       "output_type": "stream",
       "stream": "stderr",
       "text": [
        "DEBUG:paramiko.transport.sftp:[chan 0] close(00000000)\n"
       ]
      },
      {
       "output_type": "stream",
       "stream": "stderr",
       "text": [
        "DEBUG:paramiko.transport.sftp:[chan 0] stat('smartdays/server/uploads/7dca35734822aba2/mood_7dca35734822aba2_20150315113443.csv')\n"
       ]
      },
      {
       "output_type": "stream",
       "stream": "stderr",
       "text": [
        "DEBUG:paramiko.transport.sftp:[chan 0] open('smartdays/server/uploads/7dca35734822aba2/mood_7dca35734822aba2_20150315113443.csv', 'rb')\n"
       ]
      },
      {
       "output_type": "stream",
       "stream": "stderr",
       "text": [
        "DEBUG:paramiko.transport.sftp:[chan 0] open('smartdays/server/uploads/7dca35734822aba2/mood_7dca35734822aba2_20150315113443.csv', 'rb') -> 00000000\n"
       ]
      },
      {
       "output_type": "stream",
       "stream": "stderr",
       "text": [
        "DEBUG:paramiko.transport.sftp:[chan 0] stat('smartdays/server/uploads/7dca35734822aba2/mood_7dca35734822aba2_20150315113443.csv')\n"
       ]
      },
      {
       "output_type": "stream",
       "stream": "stderr",
       "text": [
        "DEBUG:paramiko.transport.sftp:[chan 0] close(00000000)\n"
       ]
      },
      {
       "output_type": "stream",
       "stream": "stderr",
       "text": [
        "DEBUG:paramiko.transport.sftp:[chan 0] stat('smartdays/server/uploads/7dca35734822aba2/mood_7dca35734822aba2_20150316000003.csv')\n"
       ]
      },
      {
       "output_type": "stream",
       "stream": "stderr",
       "text": [
        "DEBUG:paramiko.transport.sftp:[chan 0] open('smartdays/server/uploads/7dca35734822aba2/mood_7dca35734822aba2_20150316000003.csv', 'rb')\n"
       ]
      },
      {
       "output_type": "stream",
       "stream": "stderr",
       "text": [
        "DEBUG:paramiko.transport.sftp:[chan 0] open('smartdays/server/uploads/7dca35734822aba2/mood_7dca35734822aba2_20150316000003.csv', 'rb') -> 00000000\n"
       ]
      },
      {
       "output_type": "stream",
       "stream": "stderr",
       "text": [
        "DEBUG:paramiko.transport.sftp:[chan 0] stat('smartdays/server/uploads/7dca35734822aba2/mood_7dca35734822aba2_20150316000003.csv')\n"
       ]
      },
      {
       "output_type": "stream",
       "stream": "stderr",
       "text": [
        "DEBUG:paramiko.transport.sftp:[chan 0] close(00000000)\n"
       ]
      },
      {
       "output_type": "stream",
       "stream": "stderr",
       "text": [
        "DEBUG:paramiko.transport.sftp:[chan 0] stat('smartdays/server/uploads/7dca35734822aba2/mood_7dca35734822aba2_20150316095045.csv')\n"
       ]
      },
      {
       "output_type": "stream",
       "stream": "stderr",
       "text": [
        "DEBUG:paramiko.transport.sftp:[chan 0] open('smartdays/server/uploads/7dca35734822aba2/mood_7dca35734822aba2_20150316095045.csv', 'rb')\n"
       ]
      },
      {
       "output_type": "stream",
       "stream": "stderr",
       "text": [
        "DEBUG:paramiko.transport.sftp:[chan 0] open('smartdays/server/uploads/7dca35734822aba2/mood_7dca35734822aba2_20150316095045.csv', 'rb') -> 00000000\n"
       ]
      },
      {
       "output_type": "stream",
       "stream": "stderr",
       "text": [
        "DEBUG:paramiko.transport.sftp:[chan 0] stat('smartdays/server/uploads/7dca35734822aba2/mood_7dca35734822aba2_20150316095045.csv')\n"
       ]
      },
      {
       "output_type": "stream",
       "stream": "stderr",
       "text": [
        "DEBUG:paramiko.transport.sftp:[chan 0] close(00000000)\n"
       ]
      },
      {
       "output_type": "stream",
       "stream": "stderr",
       "text": [
        "DEBUG:paramiko.transport.sftp:[chan 0] stat('smartdays/server/uploads/7dca35734822aba2/mood_7dca35734822aba2_20150316230850.csv')\n"
       ]
      },
      {
       "output_type": "stream",
       "stream": "stderr",
       "text": [
        "DEBUG:paramiko.transport.sftp:[chan 0] open('smartdays/server/uploads/7dca35734822aba2/mood_7dca35734822aba2_20150316230850.csv', 'rb')\n"
       ]
      },
      {
       "output_type": "stream",
       "stream": "stderr",
       "text": [
        "DEBUG:paramiko.transport.sftp:[chan 0] open('smartdays/server/uploads/7dca35734822aba2/mood_7dca35734822aba2_20150316230850.csv', 'rb') -> 00000000\n"
       ]
      },
      {
       "output_type": "stream",
       "stream": "stderr",
       "text": [
        "DEBUG:paramiko.transport.sftp:[chan 0] stat('smartdays/server/uploads/7dca35734822aba2/mood_7dca35734822aba2_20150316230850.csv')\n"
       ]
      },
      {
       "output_type": "stream",
       "stream": "stderr",
       "text": [
        "DEBUG:paramiko.transport.sftp:[chan 0] close(00000000)\n"
       ]
      },
      {
       "output_type": "stream",
       "stream": "stderr",
       "text": [
        "DEBUG:paramiko.transport.sftp:[chan 0] stat('smartdays/server/uploads/7dca35734822aba2/mood_7dca35734822aba2_20150317094059.csv')\n"
       ]
      },
      {
       "output_type": "stream",
       "stream": "stderr",
       "text": [
        "DEBUG:paramiko.transport.sftp:[chan 0] open('smartdays/server/uploads/7dca35734822aba2/mood_7dca35734822aba2_20150317094059.csv', 'rb')\n"
       ]
      },
      {
       "output_type": "stream",
       "stream": "stderr",
       "text": [
        "DEBUG:paramiko.transport.sftp:[chan 0] open('smartdays/server/uploads/7dca35734822aba2/mood_7dca35734822aba2_20150317094059.csv', 'rb') -> 00000000\n"
       ]
      },
      {
       "output_type": "stream",
       "stream": "stderr",
       "text": [
        "DEBUG:paramiko.transport.sftp:[chan 0] stat('smartdays/server/uploads/7dca35734822aba2/mood_7dca35734822aba2_20150317094059.csv')\n"
       ]
      },
      {
       "output_type": "stream",
       "stream": "stderr",
       "text": [
        "DEBUG:paramiko.transport.sftp:[chan 0] close(00000000)\n"
       ]
      },
      {
       "output_type": "stream",
       "stream": "stderr",
       "text": [
        "DEBUG:paramiko.transport.sftp:[chan 0] stat('smartdays/server/uploads/7dca35734822aba2/mood_7dca35734822aba2_20150318093808.csv')\n"
       ]
      },
      {
       "output_type": "stream",
       "stream": "stderr",
       "text": [
        "DEBUG:paramiko.transport.sftp:[chan 0] open('smartdays/server/uploads/7dca35734822aba2/mood_7dca35734822aba2_20150318093808.csv', 'rb')\n"
       ]
      },
      {
       "output_type": "stream",
       "stream": "stderr",
       "text": [
        "DEBUG:paramiko.transport.sftp:[chan 0] open('smartdays/server/uploads/7dca35734822aba2/mood_7dca35734822aba2_20150318093808.csv', 'rb') -> 00000000\n"
       ]
      },
      {
       "output_type": "stream",
       "stream": "stderr",
       "text": [
        "DEBUG:paramiko.transport.sftp:[chan 0] stat('smartdays/server/uploads/7dca35734822aba2/mood_7dca35734822aba2_20150318093808.csv')\n"
       ]
      },
      {
       "output_type": "stream",
       "stream": "stderr",
       "text": [
        "DEBUG:paramiko.transport.sftp:[chan 0] close(00000000)\n"
       ]
      },
      {
       "output_type": "stream",
       "stream": "stderr",
       "text": [
        "DEBUG:paramiko.transport.sftp:[chan 0] stat('smartdays/server/uploads/7dca35734822aba2/mood_7dca35734822aba2_20150319082720.csv')\n"
       ]
      },
      {
       "output_type": "stream",
       "stream": "stderr",
       "text": [
        "DEBUG:paramiko.transport.sftp:[chan 0] open('smartdays/server/uploads/7dca35734822aba2/mood_7dca35734822aba2_20150319082720.csv', 'rb')\n"
       ]
      },
      {
       "output_type": "stream",
       "stream": "stderr",
       "text": [
        "DEBUG:paramiko.transport.sftp:[chan 0] open('smartdays/server/uploads/7dca35734822aba2/mood_7dca35734822aba2_20150319082720.csv', 'rb') -> 00000000\n"
       ]
      },
      {
       "output_type": "stream",
       "stream": "stderr",
       "text": [
        "DEBUG:paramiko.transport.sftp:[chan 0] stat('smartdays/server/uploads/7dca35734822aba2/mood_7dca35734822aba2_20150319082720.csv')\n"
       ]
      },
      {
       "output_type": "stream",
       "stream": "stderr",
       "text": [
        "DEBUG:paramiko.transport.sftp:[chan 0] close(00000000)\n"
       ]
      },
      {
       "output_type": "stream",
       "stream": "stderr",
       "text": [
        "DEBUG:paramiko.transport.sftp:[chan 0] stat('smartdays/server/uploads/7dca35734822aba2/mood_7dca35734822aba2_20150319091057.csv')\n"
       ]
      },
      {
       "output_type": "stream",
       "stream": "stderr",
       "text": [
        "DEBUG:paramiko.transport.sftp:[chan 0] open('smartdays/server/uploads/7dca35734822aba2/mood_7dca35734822aba2_20150319091057.csv', 'rb')\n"
       ]
      },
      {
       "output_type": "stream",
       "stream": "stderr",
       "text": [
        "DEBUG:paramiko.transport.sftp:[chan 0] open('smartdays/server/uploads/7dca35734822aba2/mood_7dca35734822aba2_20150319091057.csv', 'rb') -> 00000000\n"
       ]
      },
      {
       "output_type": "stream",
       "stream": "stderr",
       "text": [
        "DEBUG:paramiko.transport.sftp:[chan 0] stat('smartdays/server/uploads/7dca35734822aba2/mood_7dca35734822aba2_20150319091057.csv')\n"
       ]
      },
      {
       "output_type": "stream",
       "stream": "stderr",
       "text": [
        "DEBUG:paramiko.transport.sftp:[chan 0] close(00000000)\n"
       ]
      },
      {
       "output_type": "stream",
       "stream": "stderr",
       "text": [
        "DEBUG:paramiko.transport.sftp:[chan 0] stat('smartdays/server/uploads/7dca35734822aba2/mood_7dca35734822aba2_20150319111547.csv')\n"
       ]
      },
      {
       "output_type": "stream",
       "stream": "stderr",
       "text": [
        "DEBUG:paramiko.transport.sftp:[chan 0] open('smartdays/server/uploads/7dca35734822aba2/mood_7dca35734822aba2_20150319111547.csv', 'rb')\n"
       ]
      },
      {
       "output_type": "stream",
       "stream": "stderr",
       "text": [
        "DEBUG:paramiko.transport.sftp:[chan 0] open('smartdays/server/uploads/7dca35734822aba2/mood_7dca35734822aba2_20150319111547.csv', 'rb') -> 00000000\n"
       ]
      },
      {
       "output_type": "stream",
       "stream": "stderr",
       "text": [
        "DEBUG:paramiko.transport.sftp:[chan 0] stat('smartdays/server/uploads/7dca35734822aba2/mood_7dca35734822aba2_20150319111547.csv')\n"
       ]
      },
      {
       "output_type": "stream",
       "stream": "stderr",
       "text": [
        "DEBUG:paramiko.transport.sftp:[chan 0] close(00000000)\n"
       ]
      },
      {
       "output_type": "stream",
       "stream": "stderr",
       "text": [
        "DEBUG:paramiko.transport.sftp:[chan 0] stat('smartdays/server/uploads/7dca35734822aba2/mood_7dca35734822aba2_20150320074607.csv')\n"
       ]
      },
      {
       "output_type": "stream",
       "stream": "stderr",
       "text": [
        "DEBUG:paramiko.transport.sftp:[chan 0] open('smartdays/server/uploads/7dca35734822aba2/mood_7dca35734822aba2_20150320074607.csv', 'rb')\n"
       ]
      },
      {
       "output_type": "stream",
       "stream": "stderr",
       "text": [
        "DEBUG:paramiko.transport.sftp:[chan 0] open('smartdays/server/uploads/7dca35734822aba2/mood_7dca35734822aba2_20150320074607.csv', 'rb') -> 00000000\n"
       ]
      },
      {
       "output_type": "stream",
       "stream": "stderr",
       "text": [
        "DEBUG:paramiko.transport.sftp:[chan 0] stat('smartdays/server/uploads/7dca35734822aba2/mood_7dca35734822aba2_20150320074607.csv')\n"
       ]
      },
      {
       "output_type": "stream",
       "stream": "stderr",
       "text": [
        "DEBUG:paramiko.transport.sftp:[chan 0] close(00000000)\n"
       ]
      },
      {
       "output_type": "stream",
       "stream": "stderr",
       "text": [
        "DEBUG:paramiko.transport.sftp:[chan 0] stat('smartdays/server/uploads/7dca35734822aba2/pebbleAccel_7dca35734822aba2_20150310153315.bin')\n"
       ]
      },
      {
       "output_type": "stream",
       "stream": "stderr",
       "text": [
        "DEBUG:paramiko.transport.sftp:[chan 0] open('smartdays/server/uploads/7dca35734822aba2/pebbleAccel_7dca35734822aba2_20150310153315.bin', 'rb')\n"
       ]
      },
      {
       "output_type": "stream",
       "stream": "stderr",
       "text": [
        "DEBUG:paramiko.transport.sftp:[chan 0] open('smartdays/server/uploads/7dca35734822aba2/pebbleAccel_7dca35734822aba2_20150310153315.bin', 'rb') -> 00000000\n"
       ]
      },
      {
       "output_type": "stream",
       "stream": "stderr",
       "text": [
        "DEBUG:paramiko.transport.sftp:[chan 0] stat('smartdays/server/uploads/7dca35734822aba2/pebbleAccel_7dca35734822aba2_20150310153315.bin')\n"
       ]
      },
      {
       "output_type": "stream",
       "stream": "stderr",
       "text": [
        "DEBUG:paramiko.transport.sftp:[chan 0] close(00000000)\n"
       ]
      },
      {
       "output_type": "stream",
       "stream": "stderr",
       "text": [
        "DEBUG:paramiko.transport.sftp:[chan 0] stat('smartdays/server/uploads/7dca35734822aba2/pebbleAccel_7dca35734822aba2_20150310153541.bin')\n"
       ]
      },
      {
       "output_type": "stream",
       "stream": "stderr",
       "text": [
        "DEBUG:paramiko.transport.sftp:[chan 0] open('smartdays/server/uploads/7dca35734822aba2/pebbleAccel_7dca35734822aba2_20150310153541.bin', 'rb')\n"
       ]
      },
      {
       "output_type": "stream",
       "stream": "stderr",
       "text": [
        "DEBUG:paramiko.transport.sftp:[chan 0] open('smartdays/server/uploads/7dca35734822aba2/pebbleAccel_7dca35734822aba2_20150310153541.bin', 'rb') -> 00000000\n"
       ]
      },
      {
       "output_type": "stream",
       "stream": "stderr",
       "text": [
        "DEBUG:paramiko.transport.sftp:[chan 0] stat('smartdays/server/uploads/7dca35734822aba2/pebbleAccel_7dca35734822aba2_20150310153541.bin')\n"
       ]
      },
      {
       "output_type": "stream",
       "stream": "stderr",
       "text": [
        "DEBUG:paramiko.transport.sftp:[chan 0] close(00000000)\n"
       ]
      },
      {
       "output_type": "stream",
       "stream": "stderr",
       "text": [
        "DEBUG:paramiko.transport.sftp:[chan 0] stat('smartdays/server/uploads/7dca35734822aba2/pebbleAccel_7dca35734822aba2_20150310154034.bin')\n"
       ]
      },
      {
       "output_type": "stream",
       "stream": "stderr",
       "text": [
        "DEBUG:paramiko.transport.sftp:[chan 0] open('smartdays/server/uploads/7dca35734822aba2/pebbleAccel_7dca35734822aba2_20150310154034.bin', 'rb')\n"
       ]
      },
      {
       "output_type": "stream",
       "stream": "stderr",
       "text": [
        "DEBUG:paramiko.transport.sftp:[chan 0] open('smartdays/server/uploads/7dca35734822aba2/pebbleAccel_7dca35734822aba2_20150310154034.bin', 'rb') -> 00000000\n"
       ]
      },
      {
       "output_type": "stream",
       "stream": "stderr",
       "text": [
        "DEBUG:paramiko.transport.sftp:[chan 0] stat('smartdays/server/uploads/7dca35734822aba2/pebbleAccel_7dca35734822aba2_20150310154034.bin')\n"
       ]
      },
      {
       "output_type": "stream",
       "stream": "stderr",
       "text": [
        "DEBUG:paramiko.transport.sftp:[chan 0] close(00000000)\n"
       ]
      },
      {
       "output_type": "stream",
       "stream": "stderr",
       "text": [
        "DEBUG:paramiko.transport.sftp:[chan 0] stat('smartdays/server/uploads/7dca35734822aba2/pebbleAccel_7dca35734822aba2_20150310155452.bin')\n"
       ]
      },
      {
       "output_type": "stream",
       "stream": "stderr",
       "text": [
        "DEBUG:paramiko.transport.sftp:[chan 0] open('smartdays/server/uploads/7dca35734822aba2/pebbleAccel_7dca35734822aba2_20150310155452.bin', 'rb')\n"
       ]
      },
      {
       "output_type": "stream",
       "stream": "stderr",
       "text": [
        "DEBUG:paramiko.transport.sftp:[chan 0] open('smartdays/server/uploads/7dca35734822aba2/pebbleAccel_7dca35734822aba2_20150310155452.bin', 'rb') -> 00000000\n"
       ]
      },
      {
       "output_type": "stream",
       "stream": "stderr",
       "text": [
        "DEBUG:paramiko.transport.sftp:[chan 0] stat('smartdays/server/uploads/7dca35734822aba2/pebbleAccel_7dca35734822aba2_20150310155452.bin')\n"
       ]
      },
      {
       "output_type": "stream",
       "stream": "stderr",
       "text": [
        "DEBUG:paramiko.transport.sftp:[chan 0] close(00000000)\n"
       ]
      },
      {
       "output_type": "stream",
       "stream": "stderr",
       "text": [
        "DEBUG:paramiko.transport.sftp:[chan 0] stat('smartdays/server/uploads/7dca35734822aba2/pebbleAccel_7dca35734822aba2_20150311000001.bin')\n"
       ]
      },
      {
       "output_type": "stream",
       "stream": "stderr",
       "text": [
        "DEBUG:paramiko.transport.sftp:[chan 0] open('smartdays/server/uploads/7dca35734822aba2/pebbleAccel_7dca35734822aba2_20150311000001.bin', 'rb')\n"
       ]
      },
      {
       "output_type": "stream",
       "stream": "stderr",
       "text": [
        "DEBUG:paramiko.transport.sftp:[chan 0] open('smartdays/server/uploads/7dca35734822aba2/pebbleAccel_7dca35734822aba2_20150311000001.bin', 'rb') -> 00000000\n"
       ]
      },
      {
       "output_type": "stream",
       "stream": "stderr",
       "text": [
        "DEBUG:paramiko.transport.sftp:[chan 0] stat('smartdays/server/uploads/7dca35734822aba2/pebbleAccel_7dca35734822aba2_20150311000001.bin')\n"
       ]
      },
      {
       "output_type": "stream",
       "stream": "stderr",
       "text": [
        "DEBUG:paramiko.transport.sftp:[chan 0] close(00000000)\n"
       ]
      },
      {
       "output_type": "stream",
       "stream": "stderr",
       "text": [
        "DEBUG:paramiko.transport.sftp:[chan 0] stat('smartdays/server/uploads/7dca35734822aba2/pebbleAccel_7dca35734822aba2_20150311001138.bin')\n"
       ]
      },
      {
       "output_type": "stream",
       "stream": "stderr",
       "text": [
        "DEBUG:paramiko.transport.sftp:[chan 0] open('smartdays/server/uploads/7dca35734822aba2/pebbleAccel_7dca35734822aba2_20150311001138.bin', 'rb')\n"
       ]
      },
      {
       "output_type": "stream",
       "stream": "stderr",
       "text": [
        "DEBUG:paramiko.transport.sftp:[chan 0] open('smartdays/server/uploads/7dca35734822aba2/pebbleAccel_7dca35734822aba2_20150311001138.bin', 'rb') -> 00000000\n"
       ]
      },
      {
       "output_type": "stream",
       "stream": "stderr",
       "text": [
        "DEBUG:paramiko.transport.sftp:[chan 0] stat('smartdays/server/uploads/7dca35734822aba2/pebbleAccel_7dca35734822aba2_20150311001138.bin')\n"
       ]
      },
      {
       "output_type": "stream",
       "stream": "stderr",
       "text": [
        "DEBUG:paramiko.transport.sftp:[chan 0] close(00000000)\n"
       ]
      },
      {
       "output_type": "stream",
       "stream": "stderr",
       "text": [
        "DEBUG:paramiko.transport.sftp:[chan 0] stat('smartdays/server/uploads/7dca35734822aba2/pebbleAccel_7dca35734822aba2_20150311103656.bin')\n"
       ]
      },
      {
       "output_type": "stream",
       "stream": "stderr",
       "text": [
        "DEBUG:paramiko.transport.sftp:[chan 0] open('smartdays/server/uploads/7dca35734822aba2/pebbleAccel_7dca35734822aba2_20150311103656.bin', 'rb')\n"
       ]
      },
      {
       "output_type": "stream",
       "stream": "stderr",
       "text": [
        "DEBUG:paramiko.transport.sftp:[chan 0] open('smartdays/server/uploads/7dca35734822aba2/pebbleAccel_7dca35734822aba2_20150311103656.bin', 'rb') -> 00000000\n"
       ]
      },
      {
       "output_type": "stream",
       "stream": "stderr",
       "text": [
        "DEBUG:paramiko.transport.sftp:[chan 0] stat('smartdays/server/uploads/7dca35734822aba2/pebbleAccel_7dca35734822aba2_20150311103656.bin')\n"
       ]
      },
      {
       "output_type": "stream",
       "stream": "stderr",
       "text": [
        "DEBUG:paramiko.transport.sftp:[chan 0] close(00000000)\n"
       ]
      },
      {
       "output_type": "stream",
       "stream": "stderr",
       "text": [
        "DEBUG:paramiko.transport.sftp:[chan 0] stat('smartdays/server/uploads/7dca35734822aba2/pebbleAccel_7dca35734822aba2_20150312084014.bin')\n"
       ]
      },
      {
       "output_type": "stream",
       "stream": "stderr",
       "text": [
        "DEBUG:paramiko.transport.sftp:[chan 0] open('smartdays/server/uploads/7dca35734822aba2/pebbleAccel_7dca35734822aba2_20150312084014.bin', 'rb')\n"
       ]
      },
      {
       "output_type": "stream",
       "stream": "stderr",
       "text": [
        "DEBUG:paramiko.transport.sftp:[chan 0] open('smartdays/server/uploads/7dca35734822aba2/pebbleAccel_7dca35734822aba2_20150312084014.bin', 'rb') -> 00000000\n"
       ]
      },
      {
       "output_type": "stream",
       "stream": "stderr",
       "text": [
        "DEBUG:paramiko.transport.sftp:[chan 0] stat('smartdays/server/uploads/7dca35734822aba2/pebbleAccel_7dca35734822aba2_20150312084014.bin')\n"
       ]
      },
      {
       "output_type": "stream",
       "stream": "stderr",
       "text": [
        "DEBUG:paramiko.transport.sftp:[chan 0] close(00000000)\n"
       ]
      },
      {
       "output_type": "stream",
       "stream": "stderr",
       "text": [
        "DEBUG:paramiko.transport.sftp:[chan 0] stat('smartdays/server/uploads/7dca35734822aba2/pebbleAccel_7dca35734822aba2_20150313083343.bin')\n"
       ]
      },
      {
       "output_type": "stream",
       "stream": "stderr",
       "text": [
        "DEBUG:paramiko.transport.sftp:[chan 0] open('smartdays/server/uploads/7dca35734822aba2/pebbleAccel_7dca35734822aba2_20150313083343.bin', 'rb')\n"
       ]
      },
      {
       "output_type": "stream",
       "stream": "stderr",
       "text": [
        "DEBUG:paramiko.transport.sftp:[chan 0] open('smartdays/server/uploads/7dca35734822aba2/pebbleAccel_7dca35734822aba2_20150313083343.bin', 'rb') -> 00000000\n"
       ]
      },
      {
       "output_type": "stream",
       "stream": "stderr",
       "text": [
        "DEBUG:paramiko.transport.sftp:[chan 0] stat('smartdays/server/uploads/7dca35734822aba2/pebbleAccel_7dca35734822aba2_20150313083343.bin')\n"
       ]
      },
      {
       "output_type": "stream",
       "stream": "stderr",
       "text": [
        "DEBUG:paramiko.transport.sftp:[chan 0] close(00000000)\n"
       ]
      },
      {
       "output_type": "stream",
       "stream": "stderr",
       "text": [
        "DEBUG:paramiko.transport.sftp:[chan 0] stat('smartdays/server/uploads/7dca35734822aba2/pebbleAccel_7dca35734822aba2_20150313095001.bin')\n"
       ]
      },
      {
       "output_type": "stream",
       "stream": "stderr",
       "text": [
        "DEBUG:paramiko.transport.sftp:[chan 0] open('smartdays/server/uploads/7dca35734822aba2/pebbleAccel_7dca35734822aba2_20150313095001.bin', 'rb')\n"
       ]
      },
      {
       "output_type": "stream",
       "stream": "stderr",
       "text": [
        "DEBUG:paramiko.transport.sftp:[chan 0] open('smartdays/server/uploads/7dca35734822aba2/pebbleAccel_7dca35734822aba2_20150313095001.bin', 'rb') -> 00000000\n"
       ]
      },
      {
       "output_type": "stream",
       "stream": "stderr",
       "text": [
        "DEBUG:paramiko.transport.sftp:[chan 0] stat('smartdays/server/uploads/7dca35734822aba2/pebbleAccel_7dca35734822aba2_20150313095001.bin')\n"
       ]
      },
      {
       "output_type": "stream",
       "stream": "stderr",
       "text": [
        "DEBUG:paramiko.transport.sftp:[chan 0] close(00000000)\n"
       ]
      },
      {
       "output_type": "stream",
       "stream": "stderr",
       "text": [
        "DEBUG:paramiko.transport.sftp:[chan 0] stat('smartdays/server/uploads/7dca35734822aba2/pebbleAccel_7dca35734822aba2_20150314052119.bin')\n"
       ]
      },
      {
       "output_type": "stream",
       "stream": "stderr",
       "text": [
        "DEBUG:paramiko.transport.sftp:[chan 0] open('smartdays/server/uploads/7dca35734822aba2/pebbleAccel_7dca35734822aba2_20150314052119.bin', 'rb')\n"
       ]
      },
      {
       "output_type": "stream",
       "stream": "stderr",
       "text": [
        "DEBUG:paramiko.transport.sftp:[chan 0] open('smartdays/server/uploads/7dca35734822aba2/pebbleAccel_7dca35734822aba2_20150314052119.bin', 'rb') -> 00000000\n"
       ]
      },
      {
       "output_type": "stream",
       "stream": "stderr",
       "text": [
        "DEBUG:paramiko.transport.sftp:[chan 0] stat('smartdays/server/uploads/7dca35734822aba2/pebbleAccel_7dca35734822aba2_20150314052119.bin')\n"
       ]
      },
      {
       "output_type": "stream",
       "stream": "stderr",
       "text": [
        "DEBUG:paramiko.transport.sftp:[chan 0] close(00000000)\n"
       ]
      },
      {
       "output_type": "stream",
       "stream": "stderr",
       "text": [
        "DEBUG:paramiko.transport.sftp:[chan 0] stat('smartdays/server/uploads/7dca35734822aba2/pebbleAccel_7dca35734822aba2_20150314193037.bin')\n"
       ]
      },
      {
       "output_type": "stream",
       "stream": "stderr",
       "text": [
        "DEBUG:paramiko.transport.sftp:[chan 0] open('smartdays/server/uploads/7dca35734822aba2/pebbleAccel_7dca35734822aba2_20150314193037.bin', 'rb')\n"
       ]
      },
      {
       "output_type": "stream",
       "stream": "stderr",
       "text": [
        "DEBUG:paramiko.transport.sftp:[chan 0] open('smartdays/server/uploads/7dca35734822aba2/pebbleAccel_7dca35734822aba2_20150314193037.bin', 'rb') -> 00000000\n"
       ]
      },
      {
       "output_type": "stream",
       "stream": "stderr",
       "text": [
        "DEBUG:paramiko.transport.sftp:[chan 0] stat('smartdays/server/uploads/7dca35734822aba2/pebbleAccel_7dca35734822aba2_20150314193037.bin')\n"
       ]
      },
      {
       "output_type": "stream",
       "stream": "stderr",
       "text": [
        "DEBUG:paramiko.transport.sftp:[chan 0] close(00000000)\n"
       ]
      },
      {
       "output_type": "stream",
       "stream": "stderr",
       "text": [
        "DEBUG:paramiko.transport.sftp:[chan 0] stat('smartdays/server/uploads/7dca35734822aba2/pebbleAccel_7dca35734822aba2_20150315000100.bin')\n"
       ]
      },
      {
       "output_type": "stream",
       "stream": "stderr",
       "text": [
        "DEBUG:paramiko.transport.sftp:[chan 0] open('smartdays/server/uploads/7dca35734822aba2/pebbleAccel_7dca35734822aba2_20150315000100.bin', 'rb')\n"
       ]
      },
      {
       "output_type": "stream",
       "stream": "stderr",
       "text": [
        "DEBUG:paramiko.transport.sftp:[chan 0] open('smartdays/server/uploads/7dca35734822aba2/pebbleAccel_7dca35734822aba2_20150315000100.bin', 'rb') -> 00000000\n"
       ]
      },
      {
       "output_type": "stream",
       "stream": "stderr",
       "text": [
        "DEBUG:paramiko.transport.sftp:[chan 0] stat('smartdays/server/uploads/7dca35734822aba2/pebbleAccel_7dca35734822aba2_20150315000100.bin')\n"
       ]
      },
      {
       "output_type": "stream",
       "stream": "stderr",
       "text": [
        "DEBUG:paramiko.transport.sftp:[chan 0] close(00000000)\n"
       ]
      },
      {
       "output_type": "stream",
       "stream": "stderr",
       "text": [
        "DEBUG:paramiko.transport.sftp:[chan 0] stat('smartdays/server/uploads/7dca35734822aba2/pebbleAccel_7dca35734822aba2_20150315002845.bin')\n"
       ]
      },
      {
       "output_type": "stream",
       "stream": "stderr",
       "text": [
        "DEBUG:paramiko.transport.sftp:[chan 0] open('smartdays/server/uploads/7dca35734822aba2/pebbleAccel_7dca35734822aba2_20150315002845.bin', 'rb')\n"
       ]
      },
      {
       "output_type": "stream",
       "stream": "stderr",
       "text": [
        "DEBUG:paramiko.transport.sftp:[chan 0] open('smartdays/server/uploads/7dca35734822aba2/pebbleAccel_7dca35734822aba2_20150315002845.bin', 'rb') -> 00000000\n"
       ]
      },
      {
       "output_type": "stream",
       "stream": "stderr",
       "text": [
        "DEBUG:paramiko.transport.sftp:[chan 0] stat('smartdays/server/uploads/7dca35734822aba2/pebbleAccel_7dca35734822aba2_20150315002845.bin')\n"
       ]
      },
      {
       "output_type": "stream",
       "stream": "stderr",
       "text": [
        "DEBUG:paramiko.transport.sftp:[chan 0] close(00000000)\n"
       ]
      },
      {
       "output_type": "stream",
       "stream": "stderr",
       "text": [
        "DEBUG:paramiko.transport.sftp:[chan 0] stat('smartdays/server/uploads/7dca35734822aba2/pebbleAccel_7dca35734822aba2_20150315113443.bin')\n"
       ]
      },
      {
       "output_type": "stream",
       "stream": "stderr",
       "text": [
        "DEBUG:paramiko.transport.sftp:[chan 0] open('smartdays/server/uploads/7dca35734822aba2/pebbleAccel_7dca35734822aba2_20150315113443.bin', 'rb')\n"
       ]
      },
      {
       "output_type": "stream",
       "stream": "stderr",
       "text": [
        "DEBUG:paramiko.transport.sftp:[chan 0] open('smartdays/server/uploads/7dca35734822aba2/pebbleAccel_7dca35734822aba2_20150315113443.bin', 'rb') -> 00000000\n"
       ]
      },
      {
       "output_type": "stream",
       "stream": "stderr",
       "text": [
        "DEBUG:paramiko.transport.sftp:[chan 0] stat('smartdays/server/uploads/7dca35734822aba2/pebbleAccel_7dca35734822aba2_20150315113443.bin')\n"
       ]
      },
      {
       "output_type": "stream",
       "stream": "stderr",
       "text": [
        "DEBUG:paramiko.transport.sftp:[chan 0] close(00000000)\n"
       ]
      },
      {
       "output_type": "stream",
       "stream": "stderr",
       "text": [
        "DEBUG:paramiko.transport.sftp:[chan 0] stat('smartdays/server/uploads/7dca35734822aba2/pebbleAccel_7dca35734822aba2_20150316000003.bin')\n"
       ]
      },
      {
       "output_type": "stream",
       "stream": "stderr",
       "text": [
        "DEBUG:paramiko.transport.sftp:[chan 0] open('smartdays/server/uploads/7dca35734822aba2/pebbleAccel_7dca35734822aba2_20150316000003.bin', 'rb')\n"
       ]
      },
      {
       "output_type": "stream",
       "stream": "stderr",
       "text": [
        "DEBUG:paramiko.transport.sftp:[chan 0] open('smartdays/server/uploads/7dca35734822aba2/pebbleAccel_7dca35734822aba2_20150316000003.bin', 'rb') -> 00000000\n"
       ]
      },
      {
       "output_type": "stream",
       "stream": "stderr",
       "text": [
        "DEBUG:paramiko.transport.sftp:[chan 0] stat('smartdays/server/uploads/7dca35734822aba2/pebbleAccel_7dca35734822aba2_20150316000003.bin')\n"
       ]
      },
      {
       "output_type": "stream",
       "stream": "stderr",
       "text": [
        "DEBUG:paramiko.transport.sftp:[chan 0] close(00000000)\n"
       ]
      },
      {
       "output_type": "stream",
       "stream": "stderr",
       "text": [
        "DEBUG:paramiko.transport.sftp:[chan 0] stat('smartdays/server/uploads/7dca35734822aba2/pebbleAccel_7dca35734822aba2_20150316095045.bin')\n"
       ]
      },
      {
       "output_type": "stream",
       "stream": "stderr",
       "text": [
        "DEBUG:paramiko.transport.sftp:[chan 0] open('smartdays/server/uploads/7dca35734822aba2/pebbleAccel_7dca35734822aba2_20150316095045.bin', 'rb')\n"
       ]
      },
      {
       "output_type": "stream",
       "stream": "stderr",
       "text": [
        "DEBUG:paramiko.transport.sftp:[chan 0] open('smartdays/server/uploads/7dca35734822aba2/pebbleAccel_7dca35734822aba2_20150316095045.bin', 'rb') -> 00000000\n"
       ]
      },
      {
       "output_type": "stream",
       "stream": "stderr",
       "text": [
        "DEBUG:paramiko.transport.sftp:[chan 0] stat('smartdays/server/uploads/7dca35734822aba2/pebbleAccel_7dca35734822aba2_20150316095045.bin')\n"
       ]
      },
      {
       "output_type": "stream",
       "stream": "stderr",
       "text": [
        "DEBUG:paramiko.transport.sftp:[chan 0] close(00000000)\n"
       ]
      },
      {
       "output_type": "stream",
       "stream": "stderr",
       "text": [
        "DEBUG:paramiko.transport.sftp:[chan 0] stat('smartdays/server/uploads/7dca35734822aba2/pebbleAccel_7dca35734822aba2_20150316230850.bin')\n"
       ]
      },
      {
       "output_type": "stream",
       "stream": "stderr",
       "text": [
        "DEBUG:paramiko.transport.sftp:[chan 0] open('smartdays/server/uploads/7dca35734822aba2/pebbleAccel_7dca35734822aba2_20150316230850.bin', 'rb')\n"
       ]
      },
      {
       "output_type": "stream",
       "stream": "stderr",
       "text": [
        "DEBUG:paramiko.transport.sftp:[chan 0] open('smartdays/server/uploads/7dca35734822aba2/pebbleAccel_7dca35734822aba2_20150316230850.bin', 'rb') -> 00000000\n"
       ]
      },
      {
       "output_type": "stream",
       "stream": "stderr",
       "text": [
        "DEBUG:paramiko.transport.sftp:[chan 0] stat('smartdays/server/uploads/7dca35734822aba2/pebbleAccel_7dca35734822aba2_20150316230850.bin')\n"
       ]
      },
      {
       "output_type": "stream",
       "stream": "stderr",
       "text": [
        "DEBUG:paramiko.transport.sftp:[chan 0] close(00000000)\n"
       ]
      },
      {
       "output_type": "stream",
       "stream": "stderr",
       "text": [
        "DEBUG:paramiko.transport.sftp:[chan 0] stat('smartdays/server/uploads/7dca35734822aba2/pebbleAccel_7dca35734822aba2_20150317094059.bin')\n"
       ]
      },
      {
       "output_type": "stream",
       "stream": "stderr",
       "text": [
        "DEBUG:paramiko.transport.sftp:[chan 0] open('smartdays/server/uploads/7dca35734822aba2/pebbleAccel_7dca35734822aba2_20150317094059.bin', 'rb')\n"
       ]
      },
      {
       "output_type": "stream",
       "stream": "stderr",
       "text": [
        "DEBUG:paramiko.transport.sftp:[chan 0] open('smartdays/server/uploads/7dca35734822aba2/pebbleAccel_7dca35734822aba2_20150317094059.bin', 'rb') -> 00000000\n"
       ]
      },
      {
       "output_type": "stream",
       "stream": "stderr",
       "text": [
        "DEBUG:paramiko.transport.sftp:[chan 0] stat('smartdays/server/uploads/7dca35734822aba2/pebbleAccel_7dca35734822aba2_20150317094059.bin')\n"
       ]
      },
      {
       "output_type": "stream",
       "stream": "stderr",
       "text": [
        "DEBUG:paramiko.transport.sftp:[chan 0] close(00000000)\n"
       ]
      },
      {
       "output_type": "stream",
       "stream": "stderr",
       "text": [
        "DEBUG:paramiko.transport.sftp:[chan 0] stat('smartdays/server/uploads/7dca35734822aba2/pebbleAccel_7dca35734822aba2_20150318093808.bin')\n"
       ]
      },
      {
       "output_type": "stream",
       "stream": "stderr",
       "text": [
        "DEBUG:paramiko.transport.sftp:[chan 0] open('smartdays/server/uploads/7dca35734822aba2/pebbleAccel_7dca35734822aba2_20150318093808.bin', 'rb')\n"
       ]
      },
      {
       "output_type": "stream",
       "stream": "stderr",
       "text": [
        "DEBUG:paramiko.transport.sftp:[chan 0] open('smartdays/server/uploads/7dca35734822aba2/pebbleAccel_7dca35734822aba2_20150318093808.bin', 'rb') -> 00000000\n"
       ]
      },
      {
       "output_type": "stream",
       "stream": "stderr",
       "text": [
        "DEBUG:paramiko.transport.sftp:[chan 0] stat('smartdays/server/uploads/7dca35734822aba2/pebbleAccel_7dca35734822aba2_20150318093808.bin')\n"
       ]
      },
      {
       "output_type": "stream",
       "stream": "stderr",
       "text": [
        "DEBUG:paramiko.transport.sftp:[chan 0] close(00000000)\n"
       ]
      },
      {
       "output_type": "stream",
       "stream": "stderr",
       "text": [
        "DEBUG:paramiko.transport.sftp:[chan 0] stat('smartdays/server/uploads/7dca35734822aba2/pebbleAccel_7dca35734822aba2_20150319082720.bin')\n"
       ]
      },
      {
       "output_type": "stream",
       "stream": "stderr",
       "text": [
        "DEBUG:paramiko.transport.sftp:[chan 0] open('smartdays/server/uploads/7dca35734822aba2/pebbleAccel_7dca35734822aba2_20150319082720.bin', 'rb')\n"
       ]
      },
      {
       "output_type": "stream",
       "stream": "stderr",
       "text": [
        "DEBUG:paramiko.transport.sftp:[chan 0] open('smartdays/server/uploads/7dca35734822aba2/pebbleAccel_7dca35734822aba2_20150319082720.bin', 'rb') -> 00000000\n"
       ]
      },
      {
       "output_type": "stream",
       "stream": "stderr",
       "text": [
        "DEBUG:paramiko.transport.sftp:[chan 0] stat('smartdays/server/uploads/7dca35734822aba2/pebbleAccel_7dca35734822aba2_20150319082720.bin')\n"
       ]
      },
      {
       "output_type": "stream",
       "stream": "stderr",
       "text": [
        "DEBUG:paramiko.transport.sftp:[chan 0] close(00000000)\n"
       ]
      },
      {
       "output_type": "stream",
       "stream": "stderr",
       "text": [
        "DEBUG:paramiko.transport.sftp:[chan 0] stat('smartdays/server/uploads/7dca35734822aba2/pebbleAccel_7dca35734822aba2_20150319091057.bin')\n"
       ]
      },
      {
       "output_type": "stream",
       "stream": "stderr",
       "text": [
        "DEBUG:paramiko.transport.sftp:[chan 0] open('smartdays/server/uploads/7dca35734822aba2/pebbleAccel_7dca35734822aba2_20150319091057.bin', 'rb')\n"
       ]
      },
      {
       "output_type": "stream",
       "stream": "stderr",
       "text": [
        "DEBUG:paramiko.transport.sftp:[chan 0] open('smartdays/server/uploads/7dca35734822aba2/pebbleAccel_7dca35734822aba2_20150319091057.bin', 'rb') -> 00000000\n"
       ]
      },
      {
       "output_type": "stream",
       "stream": "stderr",
       "text": [
        "DEBUG:paramiko.transport.sftp:[chan 0] stat('smartdays/server/uploads/7dca35734822aba2/pebbleAccel_7dca35734822aba2_20150319091057.bin')\n"
       ]
      },
      {
       "output_type": "stream",
       "stream": "stderr",
       "text": [
        "DEBUG:paramiko.transport.sftp:[chan 0] close(00000000)\n"
       ]
      },
      {
       "output_type": "stream",
       "stream": "stderr",
       "text": [
        "DEBUG:paramiko.transport.sftp:[chan 0] stat('smartdays/server/uploads/7dca35734822aba2/pebbleAccel_7dca35734822aba2_20150319111547.bin')\n"
       ]
      },
      {
       "output_type": "stream",
       "stream": "stderr",
       "text": [
        "DEBUG:paramiko.transport.sftp:[chan 0] open('smartdays/server/uploads/7dca35734822aba2/pebbleAccel_7dca35734822aba2_20150319111547.bin', 'rb')\n"
       ]
      },
      {
       "output_type": "stream",
       "stream": "stderr",
       "text": [
        "DEBUG:paramiko.transport.sftp:[chan 0] open('smartdays/server/uploads/7dca35734822aba2/pebbleAccel_7dca35734822aba2_20150319111547.bin', 'rb') -> 00000000\n"
       ]
      },
      {
       "output_type": "stream",
       "stream": "stderr",
       "text": [
        "DEBUG:paramiko.transport.sftp:[chan 0] stat('smartdays/server/uploads/7dca35734822aba2/pebbleAccel_7dca35734822aba2_20150319111547.bin')\n"
       ]
      },
      {
       "output_type": "stream",
       "stream": "stderr",
       "text": [
        "DEBUG:paramiko.transport.sftp:[chan 0] close(00000000)\n"
       ]
      },
      {
       "output_type": "stream",
       "stream": "stderr",
       "text": [
        "DEBUG:paramiko.transport.sftp:[chan 0] stat('smartdays/server/uploads/7dca35734822aba2/pebbleAccel_7dca35734822aba2_20150320074607.bin')\n"
       ]
      },
      {
       "output_type": "stream",
       "stream": "stderr",
       "text": [
        "DEBUG:paramiko.transport.sftp:[chan 0] open('smartdays/server/uploads/7dca35734822aba2/pebbleAccel_7dca35734822aba2_20150320074607.bin', 'rb')\n"
       ]
      },
      {
       "output_type": "stream",
       "stream": "stderr",
       "text": [
        "DEBUG:paramiko.transport.sftp:[chan 0] open('smartdays/server/uploads/7dca35734822aba2/pebbleAccel_7dca35734822aba2_20150320074607.bin', 'rb') -> 00000000\n"
       ]
      },
      {
       "output_type": "stream",
       "stream": "stderr",
       "text": [
        "DEBUG:paramiko.transport.sftp:[chan 0] stat('smartdays/server/uploads/7dca35734822aba2/pebbleAccel_7dca35734822aba2_20150320074607.bin')\n"
       ]
      },
      {
       "output_type": "stream",
       "stream": "stderr",
       "text": [
        "DEBUG:paramiko.transport.sftp:[chan 0] close(00000000)\n"
       ]
      },
      {
       "output_type": "stream",
       "stream": "stderr",
       "text": [
        "DEBUG:paramiko.transport.sftp:[chan 0] stat('smartdays/server/uploads/7dca35734822aba2/phoneAccel_7dca35734822aba2_20150310153315.bin')\n"
       ]
      },
      {
       "output_type": "stream",
       "stream": "stderr",
       "text": [
        "DEBUG:paramiko.transport.sftp:[chan 0] open('smartdays/server/uploads/7dca35734822aba2/phoneAccel_7dca35734822aba2_20150310153315.bin', 'rb')\n"
       ]
      },
      {
       "output_type": "stream",
       "stream": "stderr",
       "text": [
        "DEBUG:paramiko.transport.sftp:[chan 0] open('smartdays/server/uploads/7dca35734822aba2/phoneAccel_7dca35734822aba2_20150310153315.bin', 'rb') -> 00000000\n"
       ]
      },
      {
       "output_type": "stream",
       "stream": "stderr",
       "text": [
        "DEBUG:paramiko.transport.sftp:[chan 0] stat('smartdays/server/uploads/7dca35734822aba2/phoneAccel_7dca35734822aba2_20150310153315.bin')\n"
       ]
      },
      {
       "output_type": "stream",
       "stream": "stderr",
       "text": [
        "DEBUG:paramiko.transport.sftp:[chan 0] close(00000000)\n"
       ]
      },
      {
       "output_type": "stream",
       "stream": "stderr",
       "text": [
        "DEBUG:paramiko.transport.sftp:[chan 0] stat('smartdays/server/uploads/7dca35734822aba2/phoneAccel_7dca35734822aba2_20150310153541.bin')\n"
       ]
      },
      {
       "output_type": "stream",
       "stream": "stderr",
       "text": [
        "DEBUG:paramiko.transport.sftp:[chan 0] open('smartdays/server/uploads/7dca35734822aba2/phoneAccel_7dca35734822aba2_20150310153541.bin', 'rb')\n"
       ]
      },
      {
       "output_type": "stream",
       "stream": "stderr",
       "text": [
        "DEBUG:paramiko.transport.sftp:[chan 0] open('smartdays/server/uploads/7dca35734822aba2/phoneAccel_7dca35734822aba2_20150310153541.bin', 'rb') -> 00000000\n"
       ]
      },
      {
       "output_type": "stream",
       "stream": "stderr",
       "text": [
        "DEBUG:paramiko.transport.sftp:[chan 0] stat('smartdays/server/uploads/7dca35734822aba2/phoneAccel_7dca35734822aba2_20150310153541.bin')\n"
       ]
      },
      {
       "output_type": "stream",
       "stream": "stderr",
       "text": [
        "DEBUG:paramiko.transport.sftp:[chan 0] close(00000000)\n"
       ]
      },
      {
       "output_type": "stream",
       "stream": "stderr",
       "text": [
        "DEBUG:paramiko.transport.sftp:[chan 0] stat('smartdays/server/uploads/7dca35734822aba2/phoneAccel_7dca35734822aba2_20150310154034.bin')\n"
       ]
      },
      {
       "output_type": "stream",
       "stream": "stderr",
       "text": [
        "DEBUG:paramiko.transport.sftp:[chan 0] open('smartdays/server/uploads/7dca35734822aba2/phoneAccel_7dca35734822aba2_20150310154034.bin', 'rb')\n"
       ]
      },
      {
       "output_type": "stream",
       "stream": "stderr",
       "text": [
        "DEBUG:paramiko.transport.sftp:[chan 0] open('smartdays/server/uploads/7dca35734822aba2/phoneAccel_7dca35734822aba2_20150310154034.bin', 'rb') -> 00000000\n"
       ]
      },
      {
       "output_type": "stream",
       "stream": "stderr",
       "text": [
        "DEBUG:paramiko.transport.sftp:[chan 0] stat('smartdays/server/uploads/7dca35734822aba2/phoneAccel_7dca35734822aba2_20150310154034.bin')\n"
       ]
      },
      {
       "output_type": "stream",
       "stream": "stderr",
       "text": [
        "DEBUG:paramiko.transport.sftp:[chan 0] close(00000000)\n"
       ]
      },
      {
       "output_type": "stream",
       "stream": "stderr",
       "text": [
        "DEBUG:paramiko.transport.sftp:[chan 0] stat('smartdays/server/uploads/7dca35734822aba2/phoneAccel_7dca35734822aba2_20150310155452.bin')\n"
       ]
      },
      {
       "output_type": "stream",
       "stream": "stderr",
       "text": [
        "DEBUG:paramiko.transport.sftp:[chan 0] open('smartdays/server/uploads/7dca35734822aba2/phoneAccel_7dca35734822aba2_20150310155452.bin', 'rb')\n"
       ]
      },
      {
       "output_type": "stream",
       "stream": "stderr",
       "text": [
        "DEBUG:paramiko.transport.sftp:[chan 0] open('smartdays/server/uploads/7dca35734822aba2/phoneAccel_7dca35734822aba2_20150310155452.bin', 'rb') -> 00000000\n"
       ]
      },
      {
       "output_type": "stream",
       "stream": "stderr",
       "text": [
        "DEBUG:paramiko.transport.sftp:[chan 0] stat('smartdays/server/uploads/7dca35734822aba2/phoneAccel_7dca35734822aba2_20150310155452.bin')\n"
       ]
      },
      {
       "output_type": "stream",
       "stream": "stderr",
       "text": [
        "DEBUG:paramiko.transport.sftp:[chan 0] close(00000000)\n"
       ]
      },
      {
       "output_type": "stream",
       "stream": "stderr",
       "text": [
        "DEBUG:paramiko.transport.sftp:[chan 0] stat('smartdays/server/uploads/7dca35734822aba2/phoneAccel_7dca35734822aba2_20150311000001.bin')\n"
       ]
      },
      {
       "output_type": "stream",
       "stream": "stderr",
       "text": [
        "DEBUG:paramiko.transport.sftp:[chan 0] open('smartdays/server/uploads/7dca35734822aba2/phoneAccel_7dca35734822aba2_20150311000001.bin', 'rb')\n"
       ]
      },
      {
       "output_type": "stream",
       "stream": "stderr",
       "text": [
        "DEBUG:paramiko.transport.sftp:[chan 0] open('smartdays/server/uploads/7dca35734822aba2/phoneAccel_7dca35734822aba2_20150311000001.bin', 'rb') -> 00000000\n"
       ]
      },
      {
       "output_type": "stream",
       "stream": "stderr",
       "text": [
        "DEBUG:paramiko.transport.sftp:[chan 0] stat('smartdays/server/uploads/7dca35734822aba2/phoneAccel_7dca35734822aba2_20150311000001.bin')\n"
       ]
      },
      {
       "output_type": "stream",
       "stream": "stderr",
       "text": [
        "DEBUG:paramiko.transport.sftp:[chan 0] close(00000000)\n"
       ]
      },
      {
       "output_type": "stream",
       "stream": "stderr",
       "text": [
        "DEBUG:paramiko.transport.sftp:[chan 0] stat('smartdays/server/uploads/7dca35734822aba2/phoneAccel_7dca35734822aba2_20150311001138.bin')\n"
       ]
      },
      {
       "output_type": "stream",
       "stream": "stderr",
       "text": [
        "DEBUG:paramiko.transport.sftp:[chan 0] open('smartdays/server/uploads/7dca35734822aba2/phoneAccel_7dca35734822aba2_20150311001138.bin', 'rb')\n"
       ]
      },
      {
       "output_type": "stream",
       "stream": "stderr",
       "text": [
        "DEBUG:paramiko.transport.sftp:[chan 0] open('smartdays/server/uploads/7dca35734822aba2/phoneAccel_7dca35734822aba2_20150311001138.bin', 'rb') -> 00000000\n"
       ]
      },
      {
       "output_type": "stream",
       "stream": "stderr",
       "text": [
        "DEBUG:paramiko.transport.sftp:[chan 0] stat('smartdays/server/uploads/7dca35734822aba2/phoneAccel_7dca35734822aba2_20150311001138.bin')\n"
       ]
      },
      {
       "output_type": "stream",
       "stream": "stderr",
       "text": [
        "DEBUG:paramiko.transport.sftp:[chan 0] close(00000000)\n"
       ]
      },
      {
       "output_type": "stream",
       "stream": "stderr",
       "text": [
        "DEBUG:paramiko.transport.sftp:[chan 0] stat('smartdays/server/uploads/7dca35734822aba2/phoneAccel_7dca35734822aba2_20150311103656.bin')\n"
       ]
      },
      {
       "output_type": "stream",
       "stream": "stderr",
       "text": [
        "DEBUG:paramiko.transport.sftp:[chan 0] open('smartdays/server/uploads/7dca35734822aba2/phoneAccel_7dca35734822aba2_20150311103656.bin', 'rb')\n"
       ]
      },
      {
       "output_type": "stream",
       "stream": "stderr",
       "text": [
        "DEBUG:paramiko.transport.sftp:[chan 0] open('smartdays/server/uploads/7dca35734822aba2/phoneAccel_7dca35734822aba2_20150311103656.bin', 'rb') -> 00000000\n"
       ]
      },
      {
       "output_type": "stream",
       "stream": "stderr",
       "text": [
        "DEBUG:paramiko.transport.sftp:[chan 0] stat('smartdays/server/uploads/7dca35734822aba2/phoneAccel_7dca35734822aba2_20150311103656.bin')\n"
       ]
      },
      {
       "output_type": "stream",
       "stream": "stderr",
       "text": [
        "DEBUG:paramiko.transport.sftp:[chan 0] close(00000000)\n"
       ]
      },
      {
       "output_type": "stream",
       "stream": "stderr",
       "text": [
        "DEBUG:paramiko.transport.sftp:[chan 0] stat('smartdays/server/uploads/7dca35734822aba2/phoneAccel_7dca35734822aba2_20150312084014.bin')\n"
       ]
      },
      {
       "output_type": "stream",
       "stream": "stderr",
       "text": [
        "DEBUG:paramiko.transport.sftp:[chan 0] open('smartdays/server/uploads/7dca35734822aba2/phoneAccel_7dca35734822aba2_20150312084014.bin', 'rb')\n"
       ]
      },
      {
       "output_type": "stream",
       "stream": "stderr",
       "text": [
        "DEBUG:paramiko.transport.sftp:[chan 0] open('smartdays/server/uploads/7dca35734822aba2/phoneAccel_7dca35734822aba2_20150312084014.bin', 'rb') -> 00000000\n"
       ]
      },
      {
       "output_type": "stream",
       "stream": "stderr",
       "text": [
        "DEBUG:paramiko.transport.sftp:[chan 0] stat('smartdays/server/uploads/7dca35734822aba2/phoneAccel_7dca35734822aba2_20150312084014.bin')\n"
       ]
      },
      {
       "output_type": "stream",
       "stream": "stderr",
       "text": [
        "DEBUG:paramiko.transport.sftp:[chan 0] close(00000000)\n"
       ]
      },
      {
       "output_type": "stream",
       "stream": "stderr",
       "text": [
        "DEBUG:paramiko.transport.sftp:[chan 0] stat('smartdays/server/uploads/7dca35734822aba2/phoneAccel_7dca35734822aba2_20150313083343.bin')\n"
       ]
      },
      {
       "output_type": "stream",
       "stream": "stderr",
       "text": [
        "DEBUG:paramiko.transport.sftp:[chan 0] open('smartdays/server/uploads/7dca35734822aba2/phoneAccel_7dca35734822aba2_20150313083343.bin', 'rb')\n"
       ]
      },
      {
       "output_type": "stream",
       "stream": "stderr",
       "text": [
        "DEBUG:paramiko.transport.sftp:[chan 0] open('smartdays/server/uploads/7dca35734822aba2/phoneAccel_7dca35734822aba2_20150313083343.bin', 'rb') -> 00000000\n"
       ]
      },
      {
       "output_type": "stream",
       "stream": "stderr",
       "text": [
        "DEBUG:paramiko.transport.sftp:[chan 0] stat('smartdays/server/uploads/7dca35734822aba2/phoneAccel_7dca35734822aba2_20150313083343.bin')\n"
       ]
      },
      {
       "output_type": "stream",
       "stream": "stderr",
       "text": [
        "DEBUG:paramiko.transport.sftp:[chan 0] close(00000000)\n"
       ]
      },
      {
       "output_type": "stream",
       "stream": "stderr",
       "text": [
        "DEBUG:paramiko.transport.sftp:[chan 0] stat('smartdays/server/uploads/7dca35734822aba2/phoneAccel_7dca35734822aba2_20150313095001.bin')\n"
       ]
      },
      {
       "output_type": "stream",
       "stream": "stderr",
       "text": [
        "DEBUG:paramiko.transport.sftp:[chan 0] open('smartdays/server/uploads/7dca35734822aba2/phoneAccel_7dca35734822aba2_20150313095001.bin', 'rb')\n"
       ]
      },
      {
       "output_type": "stream",
       "stream": "stderr",
       "text": [
        "DEBUG:paramiko.transport.sftp:[chan 0] open('smartdays/server/uploads/7dca35734822aba2/phoneAccel_7dca35734822aba2_20150313095001.bin', 'rb') -> 00000000\n"
       ]
      },
      {
       "output_type": "stream",
       "stream": "stderr",
       "text": [
        "DEBUG:paramiko.transport.sftp:[chan 0] stat('smartdays/server/uploads/7dca35734822aba2/phoneAccel_7dca35734822aba2_20150313095001.bin')\n"
       ]
      },
      {
       "output_type": "stream",
       "stream": "stderr",
       "text": [
        "DEBUG:paramiko.transport.sftp:[chan 0] close(00000000)\n"
       ]
      },
      {
       "output_type": "stream",
       "stream": "stderr",
       "text": [
        "DEBUG:paramiko.transport.sftp:[chan 0] stat('smartdays/server/uploads/7dca35734822aba2/phoneAccel_7dca35734822aba2_20150314052119.bin')\n"
       ]
      },
      {
       "output_type": "stream",
       "stream": "stderr",
       "text": [
        "DEBUG:paramiko.transport.sftp:[chan 0] open('smartdays/server/uploads/7dca35734822aba2/phoneAccel_7dca35734822aba2_20150314052119.bin', 'rb')\n"
       ]
      },
      {
       "output_type": "stream",
       "stream": "stderr",
       "text": [
        "DEBUG:paramiko.transport.sftp:[chan 0] open('smartdays/server/uploads/7dca35734822aba2/phoneAccel_7dca35734822aba2_20150314052119.bin', 'rb') -> 00000000\n"
       ]
      },
      {
       "output_type": "stream",
       "stream": "stderr",
       "text": [
        "DEBUG:paramiko.transport.sftp:[chan 0] stat('smartdays/server/uploads/7dca35734822aba2/phoneAccel_7dca35734822aba2_20150314052119.bin')\n"
       ]
      },
      {
       "output_type": "stream",
       "stream": "stderr",
       "text": [
        "DEBUG:paramiko.transport.sftp:[chan 0] close(00000000)\n"
       ]
      },
      {
       "output_type": "stream",
       "stream": "stderr",
       "text": [
        "DEBUG:paramiko.transport.sftp:[chan 0] stat('smartdays/server/uploads/7dca35734822aba2/phoneAccel_7dca35734822aba2_20150314193037.bin')\n"
       ]
      },
      {
       "output_type": "stream",
       "stream": "stderr",
       "text": [
        "DEBUG:paramiko.transport.sftp:[chan 0] open('smartdays/server/uploads/7dca35734822aba2/phoneAccel_7dca35734822aba2_20150314193037.bin', 'rb')\n"
       ]
      },
      {
       "output_type": "stream",
       "stream": "stderr",
       "text": [
        "DEBUG:paramiko.transport.sftp:[chan 0] open('smartdays/server/uploads/7dca35734822aba2/phoneAccel_7dca35734822aba2_20150314193037.bin', 'rb') -> 00000000\n"
       ]
      },
      {
       "output_type": "stream",
       "stream": "stderr",
       "text": [
        "DEBUG:paramiko.transport.sftp:[chan 0] stat('smartdays/server/uploads/7dca35734822aba2/phoneAccel_7dca35734822aba2_20150314193037.bin')\n"
       ]
      },
      {
       "output_type": "stream",
       "stream": "stderr",
       "text": [
        "DEBUG:paramiko.transport.sftp:[chan 0] close(00000000)\n"
       ]
      },
      {
       "output_type": "stream",
       "stream": "stderr",
       "text": [
        "DEBUG:paramiko.transport.sftp:[chan 0] stat('smartdays/server/uploads/7dca35734822aba2/phoneAccel_7dca35734822aba2_20150315000100.bin')\n"
       ]
      },
      {
       "output_type": "stream",
       "stream": "stderr",
       "text": [
        "DEBUG:paramiko.transport.sftp:[chan 0] open('smartdays/server/uploads/7dca35734822aba2/phoneAccel_7dca35734822aba2_20150315000100.bin', 'rb')\n"
       ]
      },
      {
       "output_type": "stream",
       "stream": "stderr",
       "text": [
        "DEBUG:paramiko.transport.sftp:[chan 0] open('smartdays/server/uploads/7dca35734822aba2/phoneAccel_7dca35734822aba2_20150315000100.bin', 'rb') -> 00000000\n"
       ]
      },
      {
       "output_type": "stream",
       "stream": "stderr",
       "text": [
        "DEBUG:paramiko.transport.sftp:[chan 0] stat('smartdays/server/uploads/7dca35734822aba2/phoneAccel_7dca35734822aba2_20150315000100.bin')\n"
       ]
      },
      {
       "output_type": "stream",
       "stream": "stderr",
       "text": [
        "DEBUG:paramiko.transport.sftp:[chan 0] close(00000000)\n"
       ]
      },
      {
       "output_type": "stream",
       "stream": "stderr",
       "text": [
        "DEBUG:paramiko.transport.sftp:[chan 0] stat('smartdays/server/uploads/7dca35734822aba2/phoneAccel_7dca35734822aba2_20150315002845.bin')\n"
       ]
      },
      {
       "output_type": "stream",
       "stream": "stderr",
       "text": [
        "DEBUG:paramiko.transport.sftp:[chan 0] open('smartdays/server/uploads/7dca35734822aba2/phoneAccel_7dca35734822aba2_20150315002845.bin', 'rb')\n"
       ]
      },
      {
       "output_type": "stream",
       "stream": "stderr",
       "text": [
        "DEBUG:paramiko.transport.sftp:[chan 0] open('smartdays/server/uploads/7dca35734822aba2/phoneAccel_7dca35734822aba2_20150315002845.bin', 'rb') -> 00000000\n"
       ]
      },
      {
       "output_type": "stream",
       "stream": "stderr",
       "text": [
        "DEBUG:paramiko.transport.sftp:[chan 0] stat('smartdays/server/uploads/7dca35734822aba2/phoneAccel_7dca35734822aba2_20150315002845.bin')\n"
       ]
      },
      {
       "output_type": "stream",
       "stream": "stderr",
       "text": [
        "DEBUG:paramiko.transport.sftp:[chan 0] close(00000000)\n"
       ]
      },
      {
       "output_type": "stream",
       "stream": "stderr",
       "text": [
        "DEBUG:paramiko.transport.sftp:[chan 0] stat('smartdays/server/uploads/7dca35734822aba2/phoneAccel_7dca35734822aba2_20150315113443.bin')\n"
       ]
      },
      {
       "output_type": "stream",
       "stream": "stderr",
       "text": [
        "DEBUG:paramiko.transport.sftp:[chan 0] open('smartdays/server/uploads/7dca35734822aba2/phoneAccel_7dca35734822aba2_20150315113443.bin', 'rb')\n"
       ]
      },
      {
       "output_type": "stream",
       "stream": "stderr",
       "text": [
        "DEBUG:paramiko.transport.sftp:[chan 0] open('smartdays/server/uploads/7dca35734822aba2/phoneAccel_7dca35734822aba2_20150315113443.bin', 'rb') -> 00000000\n"
       ]
      },
      {
       "output_type": "stream",
       "stream": "stderr",
       "text": [
        "DEBUG:paramiko.transport.sftp:[chan 0] stat('smartdays/server/uploads/7dca35734822aba2/phoneAccel_7dca35734822aba2_20150315113443.bin')\n"
       ]
      },
      {
       "output_type": "stream",
       "stream": "stderr",
       "text": [
        "DEBUG:paramiko.transport.sftp:[chan 0] close(00000000)\n"
       ]
      },
      {
       "output_type": "stream",
       "stream": "stderr",
       "text": [
        "DEBUG:paramiko.transport.sftp:[chan 0] stat('smartdays/server/uploads/7dca35734822aba2/phoneAccel_7dca35734822aba2_20150316000003.bin')\n"
       ]
      },
      {
       "output_type": "stream",
       "stream": "stderr",
       "text": [
        "DEBUG:paramiko.transport.sftp:[chan 0] open('smartdays/server/uploads/7dca35734822aba2/phoneAccel_7dca35734822aba2_20150316000003.bin', 'rb')\n"
       ]
      },
      {
       "output_type": "stream",
       "stream": "stderr",
       "text": [
        "DEBUG:paramiko.transport.sftp:[chan 0] open('smartdays/server/uploads/7dca35734822aba2/phoneAccel_7dca35734822aba2_20150316000003.bin', 'rb') -> 00000000\n"
       ]
      },
      {
       "output_type": "stream",
       "stream": "stderr",
       "text": [
        "DEBUG:paramiko.transport.sftp:[chan 0] stat('smartdays/server/uploads/7dca35734822aba2/phoneAccel_7dca35734822aba2_20150316000003.bin')\n"
       ]
      },
      {
       "output_type": "stream",
       "stream": "stderr",
       "text": [
        "DEBUG:paramiko.transport.sftp:[chan 0] close(00000000)\n"
       ]
      },
      {
       "output_type": "stream",
       "stream": "stderr",
       "text": [
        "DEBUG:paramiko.transport.sftp:[chan 0] stat('smartdays/server/uploads/7dca35734822aba2/phoneAccel_7dca35734822aba2_20150316095045.bin')\n"
       ]
      },
      {
       "output_type": "stream",
       "stream": "stderr",
       "text": [
        "DEBUG:paramiko.transport.sftp:[chan 0] open('smartdays/server/uploads/7dca35734822aba2/phoneAccel_7dca35734822aba2_20150316095045.bin', 'rb')\n"
       ]
      },
      {
       "output_type": "stream",
       "stream": "stderr",
       "text": [
        "DEBUG:paramiko.transport.sftp:[chan 0] open('smartdays/server/uploads/7dca35734822aba2/phoneAccel_7dca35734822aba2_20150316095045.bin', 'rb') -> 00000000\n"
       ]
      },
      {
       "output_type": "stream",
       "stream": "stderr",
       "text": [
        "DEBUG:paramiko.transport.sftp:[chan 0] stat('smartdays/server/uploads/7dca35734822aba2/phoneAccel_7dca35734822aba2_20150316095045.bin')\n"
       ]
      },
      {
       "output_type": "stream",
       "stream": "stderr",
       "text": [
        "DEBUG:paramiko.transport.sftp:[chan 0] close(00000000)\n"
       ]
      },
      {
       "output_type": "stream",
       "stream": "stderr",
       "text": [
        "DEBUG:paramiko.transport.sftp:[chan 0] stat('smartdays/server/uploads/7dca35734822aba2/phoneAccel_7dca35734822aba2_20150316230850.bin')\n"
       ]
      },
      {
       "output_type": "stream",
       "stream": "stderr",
       "text": [
        "DEBUG:paramiko.transport.sftp:[chan 0] open('smartdays/server/uploads/7dca35734822aba2/phoneAccel_7dca35734822aba2_20150316230850.bin', 'rb')\n"
       ]
      },
      {
       "output_type": "stream",
       "stream": "stderr",
       "text": [
        "DEBUG:paramiko.transport.sftp:[chan 0] open('smartdays/server/uploads/7dca35734822aba2/phoneAccel_7dca35734822aba2_20150316230850.bin', 'rb') -> 00000000\n"
       ]
      },
      {
       "output_type": "stream",
       "stream": "stderr",
       "text": [
        "DEBUG:paramiko.transport.sftp:[chan 0] stat('smartdays/server/uploads/7dca35734822aba2/phoneAccel_7dca35734822aba2_20150316230850.bin')\n"
       ]
      },
      {
       "output_type": "stream",
       "stream": "stderr",
       "text": [
        "DEBUG:paramiko.transport.sftp:[chan 0] close(00000000)\n"
       ]
      },
      {
       "output_type": "stream",
       "stream": "stderr",
       "text": [
        "DEBUG:paramiko.transport.sftp:[chan 0] stat('smartdays/server/uploads/7dca35734822aba2/phoneAccel_7dca35734822aba2_20150317094059.bin')\n"
       ]
      },
      {
       "output_type": "stream",
       "stream": "stderr",
       "text": [
        "DEBUG:paramiko.transport.sftp:[chan 0] open('smartdays/server/uploads/7dca35734822aba2/phoneAccel_7dca35734822aba2_20150317094059.bin', 'rb')\n"
       ]
      },
      {
       "output_type": "stream",
       "stream": "stderr",
       "text": [
        "DEBUG:paramiko.transport.sftp:[chan 0] open('smartdays/server/uploads/7dca35734822aba2/phoneAccel_7dca35734822aba2_20150317094059.bin', 'rb') -> 00000000\n"
       ]
      },
      {
       "output_type": "stream",
       "stream": "stderr",
       "text": [
        "DEBUG:paramiko.transport.sftp:[chan 0] stat('smartdays/server/uploads/7dca35734822aba2/phoneAccel_7dca35734822aba2_20150317094059.bin')\n"
       ]
      },
      {
       "output_type": "stream",
       "stream": "stderr",
       "text": [
        "DEBUG:paramiko.transport.sftp:[chan 0] close(00000000)\n"
       ]
      },
      {
       "output_type": "stream",
       "stream": "stderr",
       "text": [
        "DEBUG:paramiko.transport.sftp:[chan 0] stat('smartdays/server/uploads/7dca35734822aba2/phoneAccel_7dca35734822aba2_20150318093808.bin')\n"
       ]
      },
      {
       "output_type": "stream",
       "stream": "stderr",
       "text": [
        "DEBUG:paramiko.transport.sftp:[chan 0] open('smartdays/server/uploads/7dca35734822aba2/phoneAccel_7dca35734822aba2_20150318093808.bin', 'rb')\n"
       ]
      },
      {
       "output_type": "stream",
       "stream": "stderr",
       "text": [
        "DEBUG:paramiko.transport.sftp:[chan 0] open('smartdays/server/uploads/7dca35734822aba2/phoneAccel_7dca35734822aba2_20150318093808.bin', 'rb') -> 00000000\n"
       ]
      },
      {
       "output_type": "stream",
       "stream": "stderr",
       "text": [
        "DEBUG:paramiko.transport.sftp:[chan 0] stat('smartdays/server/uploads/7dca35734822aba2/phoneAccel_7dca35734822aba2_20150318093808.bin')\n"
       ]
      },
      {
       "output_type": "stream",
       "stream": "stderr",
       "text": [
        "DEBUG:paramiko.transport.sftp:[chan 0] close(00000000)\n"
       ]
      },
      {
       "output_type": "stream",
       "stream": "stderr",
       "text": [
        "DEBUG:paramiko.transport.sftp:[chan 0] stat('smartdays/server/uploads/7dca35734822aba2/phoneAccel_7dca35734822aba2_20150319082720.bin')\n"
       ]
      },
      {
       "output_type": "stream",
       "stream": "stderr",
       "text": [
        "DEBUG:paramiko.transport.sftp:[chan 0] open('smartdays/server/uploads/7dca35734822aba2/phoneAccel_7dca35734822aba2_20150319082720.bin', 'rb')\n"
       ]
      },
      {
       "output_type": "stream",
       "stream": "stderr",
       "text": [
        "DEBUG:paramiko.transport.sftp:[chan 0] open('smartdays/server/uploads/7dca35734822aba2/phoneAccel_7dca35734822aba2_20150319082720.bin', 'rb') -> 00000000\n"
       ]
      },
      {
       "output_type": "stream",
       "stream": "stderr",
       "text": [
        "DEBUG:paramiko.transport.sftp:[chan 0] stat('smartdays/server/uploads/7dca35734822aba2/phoneAccel_7dca35734822aba2_20150319082720.bin')\n"
       ]
      },
      {
       "output_type": "stream",
       "stream": "stderr",
       "text": [
        "DEBUG:paramiko.transport.sftp:[chan 0] close(00000000)\n"
       ]
      },
      {
       "output_type": "stream",
       "stream": "stderr",
       "text": [
        "DEBUG:paramiko.transport.sftp:[chan 0] stat('smartdays/server/uploads/7dca35734822aba2/phoneAccel_7dca35734822aba2_20150319091057.bin')\n"
       ]
      },
      {
       "output_type": "stream",
       "stream": "stderr",
       "text": [
        "DEBUG:paramiko.transport.sftp:[chan 0] open('smartdays/server/uploads/7dca35734822aba2/phoneAccel_7dca35734822aba2_20150319091057.bin', 'rb')\n"
       ]
      },
      {
       "output_type": "stream",
       "stream": "stderr",
       "text": [
        "DEBUG:paramiko.transport.sftp:[chan 0] open('smartdays/server/uploads/7dca35734822aba2/phoneAccel_7dca35734822aba2_20150319091057.bin', 'rb') -> 00000000\n"
       ]
      },
      {
       "output_type": "stream",
       "stream": "stderr",
       "text": [
        "DEBUG:paramiko.transport.sftp:[chan 0] stat('smartdays/server/uploads/7dca35734822aba2/phoneAccel_7dca35734822aba2_20150319091057.bin')\n"
       ]
      },
      {
       "output_type": "stream",
       "stream": "stderr",
       "text": [
        "DEBUG:paramiko.transport.sftp:[chan 0] close(00000000)\n"
       ]
      },
      {
       "output_type": "stream",
       "stream": "stderr",
       "text": [
        "DEBUG:paramiko.transport.sftp:[chan 0] stat('smartdays/server/uploads/7dca35734822aba2/phoneAccel_7dca35734822aba2_20150319111547.bin')\n"
       ]
      },
      {
       "output_type": "stream",
       "stream": "stderr",
       "text": [
        "DEBUG:paramiko.transport.sftp:[chan 0] open('smartdays/server/uploads/7dca35734822aba2/phoneAccel_7dca35734822aba2_20150319111547.bin', 'rb')\n"
       ]
      },
      {
       "output_type": "stream",
       "stream": "stderr",
       "text": [
        "DEBUG:paramiko.transport.sftp:[chan 0] open('smartdays/server/uploads/7dca35734822aba2/phoneAccel_7dca35734822aba2_20150319111547.bin', 'rb') -> 00000000\n"
       ]
      },
      {
       "output_type": "stream",
       "stream": "stderr",
       "text": [
        "DEBUG:paramiko.transport.sftp:[chan 0] stat('smartdays/server/uploads/7dca35734822aba2/phoneAccel_7dca35734822aba2_20150319111547.bin')\n"
       ]
      },
      {
       "output_type": "stream",
       "stream": "stderr",
       "text": [
        "DEBUG:paramiko.transport.sftp:[chan 0] close(00000000)\n"
       ]
      },
      {
       "output_type": "stream",
       "stream": "stderr",
       "text": [
        "DEBUG:paramiko.transport.sftp:[chan 0] stat('smartdays/server/uploads/7dca35734822aba2/phoneAccel_7dca35734822aba2_20150320074607.bin')\n"
       ]
      },
      {
       "output_type": "stream",
       "stream": "stderr",
       "text": [
        "DEBUG:paramiko.transport.sftp:[chan 0] open('smartdays/server/uploads/7dca35734822aba2/phoneAccel_7dca35734822aba2_20150320074607.bin', 'rb')\n"
       ]
      },
      {
       "output_type": "stream",
       "stream": "stderr",
       "text": [
        "DEBUG:paramiko.transport.sftp:[chan 0] open('smartdays/server/uploads/7dca35734822aba2/phoneAccel_7dca35734822aba2_20150320074607.bin', 'rb') -> 00000000\n"
       ]
      },
      {
       "output_type": "stream",
       "stream": "stderr",
       "text": [
        "DEBUG:paramiko.transport.sftp:[chan 0] stat('smartdays/server/uploads/7dca35734822aba2/phoneAccel_7dca35734822aba2_20150320074607.bin')\n"
       ]
      },
      {
       "output_type": "stream",
       "stream": "stderr",
       "text": [
        "DEBUG:paramiko.transport.sftp:[chan 0] close(00000000)\n"
       ]
      },
      {
       "output_type": "stream",
       "stream": "stderr",
       "text": [
        "INFO:paramiko.transport.sftp:[chan 0] sftp session closed.\n"
       ]
      },
      {
       "output_type": "stream",
       "stream": "stderr",
       "text": [
        "DEBUG:paramiko.transport:[chan 0] EOF sent (0)\n"
       ]
      },
      {
       "output_type": "stream",
       "stream": "stderr",
       "text": [
        "DEBUG:paramiko.transport:EOF in transport thread\n"
       ]
      }
     ],
     "prompt_number": 3
    },
    {
     "cell_type": "code",
     "collapsed": false,
     "input": [],
     "language": "python",
     "metadata": {},
     "outputs": []
    }
   ],
   "metadata": {}
  }
 ]
}