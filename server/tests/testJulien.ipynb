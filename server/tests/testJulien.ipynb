{
 "metadata": {
  "name": "",
  "signature": "sha256:4e34b10aefd97d41eb3e662ee89ef6667d373bf294dce266017d9ce15cf03abb"
 },
 "nbformat": 3,
 "nbformat_minor": 0,
 "worksheets": [
  {
   "cells": [
    {
     "cell_type": "code",
     "collapsed": false,
     "input": [
      "%matplotlib inline\n",
      "import matplotlib.pyplot as plt\n",
      "import matplotlib.cm as cm\n",
      "import numpy as np\n",
      "import normalizing_tools as tools\n",
      "\n",
      "this_user = 'a8e4aa083f07b360'"
     ],
     "language": "python",
     "metadata": {},
     "outputs": [],
     "prompt_number": 1
    },
    {
     "cell_type": "code",
     "collapsed": false,
     "input": [
      "#tools.download_files(this_user)"
     ],
     "language": "python",
     "metadata": {},
     "outputs": [],
     "prompt_number": 2
    },
    {
     "cell_type": "code",
     "collapsed": false,
     "input": [
      "activities_all = tools.read_user_data(this_user)"
     ],
     "language": "python",
     "metadata": {},
     "outputs": [
      {
       "output_type": "stream",
       "stream": "stdout",
       "text": [
        "---> reading  activity_a8e4aa083f07b360_20150123142424.csv\n",
        "ignoring activity_a8e4aa083f07b360_20150123142424.csv (wrong format)\n",
        "---> reading  activity_a8e4aa083f07b360_20150302170901.csv\n",
        "ignoring activity_a8e4aa083f07b360_20150302170901.csv (empty)\n",
        "---> reading  activity_a8e4aa083f07b360_20150302235226.csv\n",
        "ignoring activity_a8e4aa083f07b360_20150302235226.csv (single)\n",
        "---> reading  activity_a8e4aa083f07b360_20150303091411.csv\n",
        "ignoring activity_a8e4aa083f07b360_20150303091411.csv (empty)\n",
        "---> reading  activity_a8e4aa083f07b360_20150303091421.csv\n",
        "ignoring activity_a8e4aa083f07b360_20150303091421.csv (empty)\n",
        "---> reading  activity_a8e4aa083f07b360_20150303095638.csv\n",
        "appending activity_a8e4aa083f07b360_20150303095638.csv\n",
        "---> reading  activity_a8e4aa083f07b360_20150303115331.csv\n",
        "ignoring activity_a8e4aa083f07b360_20150303115331.csv (single)\n",
        "---> reading  activity_a8e4aa083f07b360_20150303235959.csv\n",
        "ignoring activity_a8e4aa083f07b360_20150303235959.csv (empty)\n",
        "---> reading  activity_a8e4aa083f07b360_20150304000006.csv\n",
        "appending activity_a8e4aa083f07b360_20150304000006.csv"
       ]
      },
      {
       "output_type": "stream",
       "stream": "stdout",
       "text": [
        "\n",
        "---> reading  activity_a8e4aa083f07b360_20150304084648.csv\n",
        "ignoring activity_a8e4aa083f07b360_20150304084648.csv (too long)\n",
        "---> reading  activity_a8e4aa083f07b360_20150304084924.csv\n",
        "ignoring activity_a8e4aa083f07b360_20150304084924.csv (too long)\n",
        "---> reading  activity_a8e4aa083f07b360_20150304094120.csv\n",
        "ignoring activity_a8e4aa083f07b360_20150304094120.csv (empty)\n",
        "---> reading  activity_a8e4aa083f07b360_20150304095102.csv\n",
        "ignoring activity_a8e4aa083f07b360_20150304095102.csv (single)\n",
        "---> reading  activity_a8e4aa083f07b360_20150304095127.csv\n",
        "ignoring activity_a8e4aa083f07b360_20150304095127.csv (too long)\n",
        "---> reading  activity_a8e4aa083f07b360_20150304095148.csv\n",
        "ignoring activity_a8e4aa083f07b360_20150304095148.csv (single)\n",
        "---> reading  activity_a8e4aa083f07b360_20150304095247.csv\n",
        "appending activity_a8e4aa083f07b360_20150304095247.csv"
       ]
      },
      {
       "output_type": "stream",
       "stream": "stdout",
       "text": [
        "\n",
        "---> reading  activity_a8e4aa083f07b360_20150305080642.csv\n",
        "ignoring activity_a8e4aa083f07b360_20150305080642.csv (too long)\n",
        "---> reading  activity_a8e4aa083f07b360_20150305141601.csv\n",
        "appending activity_a8e4aa083f07b360_20150305141601.csv\n",
        "---> reading  activity_a8e4aa083f07b360_20150306084032.csv\n",
        "appending activity_a8e4aa083f07b360_20150306084032.csv\n",
        "---> reading  activity_a8e4aa083f07b360_20150313105235.csv\n",
        "ignoring activity_a8e4aa083f07b360_20150313105235.csv (too long)"
       ]
      },
      {
       "output_type": "stream",
       "stream": "stdout",
       "text": [
        "\n",
        "---> reading  activity_a8e4aa083f07b360_20150313105440.csv\n",
        "appending activity_a8e4aa083f07b360_20150313105440.csv\n",
        "---> reading  activity_a8e4aa083f07b360_20150313185010.csv\n",
        "ignoring activity_a8e4aa083f07b360_20150313185010.csv (too long)\n",
        "---> reading  activity_a8e4aa083f07b360_20150313194915.csv\n",
        "appending activity_a8e4aa083f07b360_20150313194915.csv\n",
        "---> reading  activity_a8e4aa083f07b360_20150314101341.csv\n",
        "appending activity_a8e4aa083f07b360_20150314101341.csv\n",
        "---> reading  activity_a8e4aa083f07b360_20150314232635.csv\n",
        "appending activity_a8e4aa083f07b360_20150314232635.csv\n",
        "---> reading  activity_a8e4aa083f07b360_20150317105529.csv\n",
        "appending activity_a8e4aa083f07b360_20150317105529.csv"
       ]
      },
      {
       "output_type": "stream",
       "stream": "stdout",
       "text": [
        "\n",
        "---> reading  activity_a8e4aa083f07b360_20150317113100.csv\n",
        "ignoring activity_a8e4aa083f07b360_20150317113100.csv (empty)\n",
        "---> reading  activity_a8e4aa083f07b360_20150317113121.csv\n",
        "ignoring activity_a8e4aa083f07b360_20150317113121.csv (too long)\n",
        "---> reading  activity_a8e4aa083f07b360_20150317113123.csv\n",
        "appending activity_a8e4aa083f07b360_20150317113123.csv\n",
        "---> reading  activity_a8e4aa083f07b360_20150317190320.csv\n",
        "appending activity_a8e4aa083f07b360_20150317190320.csv\n",
        "---> reading  activity_a8e4aa083f07b360_20150318084719.csv\n",
        "appending activity_a8e4aa083f07b360_20150318084719.csv\n",
        "---> reading  activity_a8e4aa083f07b360_20150319000001.csv\n",
        "appending activity_a8e4aa083f07b360_20150319000001.csv\n",
        "---> reading  activity_a8e4aa083f07b360_20150319081414.csv\n",
        "appending activity_a8e4aa083f07b360_20150319081414.csv\n",
        "---> reading  activity_a8e4aa083f07b360_20150304085021.csv\n",
        "ignoring activity_a8e4aa083f07b360_20150304085021.csv (too long)"
       ]
      },
      {
       "output_type": "stream",
       "stream": "stdout",
       "text": [
        "\n",
        "---> reading  activity_a8e4aa083f07b360_20150313194456.csv\n",
        "appending activity_a8e4aa083f07b360_20150313194456.csv\n",
        "---> reading  activity_a8e4aa083f07b360_20150320000001.csv\n",
        "appending activity_a8e4aa083f07b360_20150320000001.csv\n",
        "---> reading  activity_a8e4aa083f07b360_20150320104716.csv\n",
        "appending activity_a8e4aa083f07b360_20150320104716.csv\n",
        "---> reading  activity_a8e4aa083f07b360_20150320105017.csv\n",
        "appending activity_a8e4aa083f07b360_20150320105017.csv\n",
        "---> reading  activity_a8e4aa083f07b360_20150320110319.csv\n",
        "appending activity_a8e4aa083f07b360_20150320110319.csv\n",
        "---> reading  activity_a8e4aa083f07b360_20150320111439.csv\n",
        "appending activity_a8e4aa083f07b360_20150320111439.csv\n"
       ]
      }
     ],
     "prompt_number": 2
    },
    {
     "cell_type": "code",
     "collapsed": false,
     "input": [
      "activity_matrix, activity_labels = tools.create_activity_matrix(activities_all)"
     ],
     "language": "python",
     "metadata": {},
     "outputs": [],
     "prompt_number": 3
    },
    {
     "cell_type": "code",
     "collapsed": false,
     "input": [
      "plt.matshow(activity_matrix.T, aspect=activity_matrix.shape[0]/60, interpolation='nearest', cmap=cm.binary)\n",
      "plt.yticks(range(len(activity_labels)), activity_labels)\n",
      "days = range(0, activity_matrix.shape[0], 24*60)\n",
      "for d in days:\n",
      "    plt.axvline(d)"
     ],
     "language": "python",
     "metadata": {},
     "outputs": [
      {
       "metadata": {},
       "output_type": "display_data",
       "png": "[encoded data removed]",
       "text": [
        "<matplotlib.figure.Figure at 0x7f052ed49410>"
       ]
      }
     ],
     "prompt_number": 4
    },
    {
     "cell_type": "code",
     "collapsed": false,
     "input": [
      "plt.bar(range(activity_matrix.shape[1]), sum(activity_matrix, 0))\n",
      "_ = plt.xticks(np.arange(activity_matrix.shape[1])+0.5, activity_labels, rotation='vertical')"
     ],
     "language": "python",
     "metadata": {},
     "outputs": [
      {
       "metadata": {},
       "output_type": "display_data",
       "png": "[encoded data removed]",
       "text": [
        "<matplotlib.figure.Figure at 0x7f052ea2f590>"
       ]
      }
     ],
     "prompt_number": 5
    }
   ],
   "metadata": {}
  }
 ]
}